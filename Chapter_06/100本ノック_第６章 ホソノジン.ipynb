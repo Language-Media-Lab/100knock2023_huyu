{
  "nbformat": 4,
  "nbformat_minor": 0,
  "metadata": {
    "colab": {
      "provenance": []
    },
    "kernelspec": {
      "name": "python3",
      "display_name": "Python 3"
    },
    "language_info": {
      "name": "python"
    }
  },
  "cells": [
    {
      "cell_type": "markdown",
      "source": [
        "# 第6章\n",
        "自然言語100本ノック　https://nlp100.github.io/ja/　\\\n",
        "解答解説　https://kakedashi-engineer.appspot.com/nlp100/"
      ],
      "metadata": {
        "id": "g865PwX__D6m"
      }
    },
    {
      "cell_type": "markdown",
      "source": [
        "# **50. データの入手・整形**\n",
        "News Aggregator Data Setをダウンロードし、以下の要領で学習データ（train.txt），検証データ（valid.txt），評価データ（test.txt）を作成せよ．\n",
        "\n",
        "ダウンロードしたzipファイルを解凍し，readme.txtの説明を読む．\n",
        "情報源（publisher）が”Reuters”, “Huffington Post”, “Businessweek”, “Contactmusic.com”, “Daily Mail”の事例（記事）のみを抽出する．\n",
        "抽出された事例をランダムに並び替える．\n",
        "抽出された事例の80%を学習データ，残りの10%ずつを検証データと評価データに分割し，それぞれtrain.txt，valid.txt，test.txtというファイル名で保存する．ファイルには，１行に１事例を書き出すこととし，カテゴリ名と記事見出しのタブ区切り形式とせよ（このファイルは後に問題70で再利用する）．\n",
        "学習データと評価データを作成したら，各カテゴリの事例数を確認せよ．"
      ],
      "metadata": {
        "id": "pNh56c_xqHSp"
      }
    },
    {
      "cell_type": "code",
      "source": [
        "!wget https://archive.ics.uci.edu/ml/machine-learning-databases/00359/NewsAggregatorDataset.zip\n",
        "!unzip NewsAggregatorDataset.zip"
      ],
      "metadata": {
        "colab": {
          "base_uri": "https://localhost:8080/"
        },
        "id": "V2-hZTJVHhE2",
        "outputId": "c3368218-a9e9-48f7-f135-e83530aa6a74"
      },
      "execution_count": 1,
      "outputs": [
        {
          "output_type": "stream",
          "name": "stdout",
          "text": [
            "--2023-12-15 05:27:08--  https://archive.ics.uci.edu/ml/machine-learning-databases/00359/NewsAggregatorDataset.zip\n",
            "Resolving archive.ics.uci.edu (archive.ics.uci.edu)... 128.195.10.252\n",
            "Connecting to archive.ics.uci.edu (archive.ics.uci.edu)|128.195.10.252|:443... connected.\n",
            "HTTP request sent, awaiting response... 200 OK\n",
            "Length: unspecified\n",
            "Saving to: ‘NewsAggregatorDataset.zip’\n",
            "\n",
            "NewsAggregatorDatas     [     <=>            ]  27.87M  28.0MB/s    in 1.0s    \n",
            "\n",
            "2023-12-15 05:27:10 (28.0 MB/s) - ‘NewsAggregatorDataset.zip’ saved [29224203]\n",
            "\n",
            "Archive:  NewsAggregatorDataset.zip\n",
            "  inflating: 2pageSessions.csv       \n",
            "   creating: __MACOSX/\n",
            "  inflating: __MACOSX/._2pageSessions.csv  \n",
            "  inflating: newsCorpora.csv         \n",
            "  inflating: __MACOSX/._newsCorpora.csv  \n",
            "  inflating: readme.txt              \n",
            "  inflating: __MACOSX/._readme.txt   \n"
          ]
        }
      ]
    },
    {
      "cell_type": "code",
      "source": [
        "# 行数の確認\n",
        "!wc -l ./newsCorpora.csv\n",
        "\n",
        "# 先頭10行の確認\n",
        "!head -10 ./newsCorpora.csv\n",
        "\n",
        "# 読込時のエラー回避のためダブルクォーテーションをシングルクォーテーションに置換\n",
        "!sed -e 's/\"/'\\''/g'"
      ],
      "metadata": {
        "colab": {
          "base_uri": "https://localhost:8080/"
        },
        "id": "scxCmTNfHlw2",
        "outputId": "e9ec127c-249f-47c4-b14e-5efc8441a369"
      },
      "execution_count": 2,
      "outputs": [
        {
          "output_type": "stream",
          "name": "stdout",
          "text": [
            "422937 ./newsCorpora.csv\n",
            "1\tFed official says weak data caused by weather, should not slow taper\thttp://www.latimes.com/business/money/la-fi-mo-federal-reserve-plosser-stimulus-economy-20140310,0,1312750.story\\?track=rss\tLos Angeles Times\tb\tddUyU0VZz0BRneMioxUPQVP6sIxvM\twww.latimes.com\t1394470370698\n",
            "2\tFed's Charles Plosser sees high bar for change in pace of tapering\thttp://www.livemint.com/Politics/H2EvwJSK2VE6OF7iK1g3PP/Feds-Charles-Plosser-sees-high-bar-for-change-in-pace-of-ta.html\tLivemint\tb\tddUyU0VZz0BRneMioxUPQVP6sIxvM\twww.livemint.com\t1394470371207\n",
            "3\tUS open: Stocks fall after Fed official hints at accelerated tapering\thttp://www.ifamagazine.com/news/us-open-stocks-fall-after-fed-official-hints-at-accelerated-tapering-294436\tIFA Magazine\tb\tddUyU0VZz0BRneMioxUPQVP6sIxvM\twww.ifamagazine.com\t1394470371550\n",
            "4\tFed risks falling 'behind the curve', Charles Plosser says\thttp://www.ifamagazine.com/news/fed-risks-falling-behind-the-curve-charles-plosser-says-294430\tIFA Magazine\tb\tddUyU0VZz0BRneMioxUPQVP6sIxvM\twww.ifamagazine.com\t1394470371793\n",
            "5\tFed's Plosser: Nasty Weather Has Curbed Job Growth\thttp://www.moneynews.com/Economy/federal-reserve-charles-plosser-weather-job-growth/2014/03/10/id/557011\tMoneynews\tb\tddUyU0VZz0BRneMioxUPQVP6sIxvM\twww.moneynews.com\t1394470372027\n",
            "6\tPlosser: Fed May Have to Accelerate Tapering Pace\thttp://www.nasdaq.com/article/plosser-fed-may-have-to-accelerate-tapering-pace-20140310-00371\tNASDAQ\tb\tddUyU0VZz0BRneMioxUPQVP6sIxvM\twww.nasdaq.com\t1394470372212\n",
            "7\tFed's Plosser: Taper pace may be too slow\thttp://www.marketwatch.com/story/feds-plosser-taper-pace-may-be-too-slow-2014-03-10\\?reflink=MW_news_stmp\tMarketWatch\tb\tddUyU0VZz0BRneMioxUPQVP6sIxvM\twww.marketwatch.com\t1394470372405\n",
            "8\tFed's Plosser expects US unemployment to fall to 6.2% by the end of 2014\thttp://www.fxstreet.com/news/forex-news/article.aspx\\?storyid=23285020-b1b5-47ed-a8c4-96124bb91a39\tFXstreet.com\tb\tddUyU0VZz0BRneMioxUPQVP6sIxvM\twww.fxstreet.com\t1394470372615\n",
            "9\tUS jobs growth last month hit by weather:Fed President Charles Plosser\thttp://economictimes.indiatimes.com/news/international/business/us-jobs-growth-last-month-hit-by-weatherfed-president-charles-plosser/articleshow/31788000.cms\tEconomic Times\tb\tddUyU0VZz0BRneMioxUPQVP6sIxvM\teconomictimes.indiatimes.com\t1394470372792\n",
            "10\tECB unlikely to end sterilisation of SMP purchases - traders\thttp://www.iii.co.uk/news-opinion/reuters/news/152615\tInteractive Investor\tb\tdPhGU51DcrolUIMxbRm0InaHGA2XM\twww.iii.co.uk\t1394470501265\n",
            "^C\n"
          ]
        }
      ]
    },
    {
      "cell_type": "code",
      "source": [
        "import pandas as pd\n",
        "from sklearn.model_selection import train_test_split\n",
        "\n",
        "# データの読込\n",
        "df = pd.read_csv('./newsCorpora.csv', header=None, sep='\\t', names=['ID', 'TITLE', 'URL', 'PUBLISHER', 'CATEGORY', 'STORY', 'HOSTNAME', 'TIMESTAMP'])\n",
        "\n",
        "# データの抽出\n",
        "df = df.loc[df['PUBLISHER'].isin(['Reuters', 'Huffington Post', 'Businessweek', 'Contactmusic.com', 'Daily Mail']), ['TITLE', 'CATEGORY']]\n",
        "\n",
        "# データの分割(学習(train)、検証(valid)、評価(test))\n",
        "train, valid_test = train_test_split(df, test_size=0.2, shuffle=True, random_state=123, stratify=df['CATEGORY'])\n",
        "valid, test = train_test_split(valid_test, test_size=0.5, shuffle=True, random_state=123, stratify=valid_test['CATEGORY'])\n",
        "\n",
        "# データの保存\n",
        "train.to_csv('./train.txt', sep='\\t', index=False)\n",
        "valid.to_csv('./valid.txt', sep='\\t', index=False)\n",
        "test.to_csv('./test.txt', sep='\\t', index=False)\n",
        "\n",
        "# 事例数の確認\n",
        "print('【学習データ】')\n",
        "print(train['CATEGORY'].value_counts())\n",
        "print('【検証データ】')\n",
        "print(valid['CATEGORY'].value_counts())\n",
        "print('【評価データ】')\n",
        "print(test['CATEGORY'].value_counts())"
      ],
      "metadata": {
        "colab": {
          "base_uri": "https://localhost:8080/"
        },
        "id": "PDrploRqHyA_",
        "outputId": "b4377e27-17ab-49c2-ae99-7b028754fdd0"
      },
      "execution_count": 3,
      "outputs": [
        {
          "output_type": "stream",
          "name": "stdout",
          "text": [
            "【学習データ】\n",
            "b    4502\n",
            "e    4223\n",
            "t    1219\n",
            "m     728\n",
            "Name: CATEGORY, dtype: int64\n",
            "【検証データ】\n",
            "b    562\n",
            "e    528\n",
            "t    153\n",
            "m     91\n",
            "Name: CATEGORY, dtype: int64\n",
            "【評価データ】\n",
            "b    563\n",
            "e    528\n",
            "t    152\n",
            "m     91\n",
            "Name: CATEGORY, dtype: int64\n"
          ]
        }
      ]
    },
    {
      "cell_type": "markdown",
      "source": [
        "# **51. 特徴量抽出**\n",
        "学習データ，検証データ，評価データから特徴量を抽出し，それぞれtrain.feature.txt，valid.feature.txt，test.feature.txtというファイル名で保存せよ． なお，カテゴリ分類に有用そうな特徴量は各自で自由に設計せよ．記事の見出しを単語列に変換したものが最低限のベースラインとなるであろう．"
      ],
      "metadata": {
        "id": "7LzrHMXbIkPE"
      }
    },
    {
      "cell_type": "code",
      "source": [
        "import numpy as np"
      ],
      "metadata": {
        "id": "UPxa4zIoNnCQ"
      },
      "execution_count": 4,
      "outputs": []
    },
    {
      "cell_type": "code",
      "source": [
        "train = np.array(train)\n",
        "valid = np.array(valid)\n",
        "test = np.array(test)\n",
        "print(test)"
      ],
      "metadata": {
        "colab": {
          "base_uri": "https://localhost:8080/"
        },
        "id": "b7SyImUzIE-G",
        "outputId": "34cc446e-33a7-45ab-a7d1-342579e0b817"
      },
      "execution_count": 5,
      "outputs": [
        {
          "output_type": "stream",
          "name": "stdout",
          "text": [
            "[['Google set to open its first flagship store in Manhattan...around the corner from  ...'\n",
            "  't']\n",
            " [\"How fear can be 'programmed' into infants by the smell their parents give off  ...\"\n",
            "  'm']\n",
            " ['US STOCKS-S&P 500 on path to new closing high; homebuilders lead' 'b']\n",
            " ...\n",
            " [\"These Are The Best Parts Of 'X-Men: Days of Future Past'\" 'e']\n",
            " [\"There's More To Newlywed Stacy Keibler Than Being George Clooney's Ex\"\n",
            "  'e']\n",
            " ['Scientists solve the mystery of the shipwreck found under the World Trade  ...'\n",
            "  't']]\n"
          ]
        }
      ]
    },
    {
      "cell_type": "code",
      "source": [
        "import re\n",
        "from sklearn.feature_extraction.text import TfidfVectorizer\n",
        "\n",
        "def preprocessing(data):\n",
        "  x=[]\n",
        "  y=[]\n",
        "  label={\"b\":0, \"e\":1, \"t\":2, \"m\":3} #business, entertainment, technology, medical\n",
        "\n",
        "  for title, category in data:\n",
        "    title = re.sub(\"[0-9]+\", \"0\", title)\n",
        "    x.append(title.lower())\n",
        "    y.append(label[category])\n",
        "\n",
        "  return x,y"
      ],
      "metadata": {
        "id": "aCPFZqF8LvHW"
      },
      "execution_count": 6,
      "outputs": []
    },
    {
      "cell_type": "code",
      "source": [
        "X_train, Y_train = preprocessing(train)\n",
        "X_valid, Y_valid = preprocessing(valid)\n",
        "X_test, Y_test = preprocessing(test)"
      ],
      "metadata": {
        "id": "nVn5It0ONsUy"
      },
      "execution_count": 7,
      "outputs": []
    },
    {
      "cell_type": "code",
      "source": [
        "tfidfvectorizer = TfidfVectorizer(min_df = 0.001)\n",
        "\n",
        "X_train_TFIDF = tfidfvectorizer.fit_transform(X_train).toarray()\n",
        "X_valid_TFIDF = tfidfvectorizer.transform(X_valid).toarray()\n",
        "X_test_TFIDF = tfidfvectorizer.transform(X_test).toarray()"
      ],
      "metadata": {
        "id": "1SFLeBtyNu45"
      },
      "execution_count": 8,
      "outputs": []
    },
    {
      "cell_type": "code",
      "source": [
        "X_train_TFIDF[0]"
      ],
      "metadata": {
        "colab": {
          "base_uri": "https://localhost:8080/"
        },
        "id": "Wxsx9BB_N1Q0",
        "outputId": "d10cf729-85f6-4415-b4fb-91724ba997a6"
      },
      "execution_count": 9,
      "outputs": [
        {
          "output_type": "execute_result",
          "data": {
            "text/plain": [
              "array([0., 0., 0., ..., 0., 0., 0.])"
            ]
          },
          "metadata": {},
          "execution_count": 9
        }
      ]
    },
    {
      "cell_type": "code",
      "source": [
        "X_train_TFIDF_df = pd.DataFrame(X_train_TFIDF, columns = tfidfvectorizer.get_feature_names_out())\n",
        "X_valid_TFIDF_df = pd.DataFrame(X_valid_TFIDF, columns = tfidfvectorizer.get_feature_names_out())\n",
        "X_test_TFIDF_df = pd.DataFrame(X_test_TFIDF, columns = tfidfvectorizer.get_feature_names_out())"
      ],
      "metadata": {
        "id": "Hx_i-lEiN5KO"
      },
      "execution_count": 10,
      "outputs": []
    },
    {
      "cell_type": "code",
      "source": [
        "print(X_train_TFIDF_df)"
      ],
      "metadata": {
        "colab": {
          "base_uri": "https://localhost:8080/"
        },
        "id": "FCX9dbPsN71y",
        "outputId": "ec6f0490-2bc1-425c-e44a-94eac29f5db5"
      },
      "execution_count": 11,
      "outputs": [
        {
          "output_type": "stream",
          "name": "stdout",
          "text": [
            "        0m  0nd   0s  0st  0th  abbvie  abc  about  above  abramson  ...  \\\n",
            "0      0.0  0.0  0.0  0.0  0.0     0.0  0.0    0.0    0.0       0.0  ...   \n",
            "1      0.0  0.0  0.0  0.0  0.0     0.0  0.0    0.0    0.0       0.0  ...   \n",
            "2      0.0  0.0  0.0  0.0  0.0     0.0  0.0    0.0    0.0       0.0  ...   \n",
            "3      0.0  0.0  0.0  0.0  0.0     0.0  0.0    0.0    0.0       0.0  ...   \n",
            "4      0.0  0.0  0.0  0.0  0.0     0.0  0.0    0.0    0.0       0.0  ...   \n",
            "...    ...  ...  ...  ...  ...     ...  ...    ...    ...       ...  ...   \n",
            "10667  0.0  0.0  0.0  0.0  0.0     0.0  0.0    0.0    0.0       0.0  ...   \n",
            "10668  0.0  0.0  0.0  0.0  0.0     0.0  0.0    0.0    0.0       0.0  ...   \n",
            "10669  0.0  0.0  0.0  0.0  0.0     0.0  0.0    0.0    0.0       0.0  ...   \n",
            "10670  0.0  0.0  0.0  0.0  0.0     0.0  0.0    0.0    0.0       0.0  ...   \n",
            "10671  0.0  0.0  0.0  0.0  0.0     0.0  0.0    0.0    0.0       0.0  ...   \n",
            "\n",
            "       yield  yields  york       you  young  your   yr  yuan  zac  zone  \n",
            "0        0.0     0.0   0.0  0.000000    0.0   0.0  0.0   0.0  0.0   0.0  \n",
            "1        0.0     0.0   0.0  0.000000    0.0   0.0  0.0   0.0  0.0   0.0  \n",
            "2        0.0     0.0   0.0  0.000000    0.0   0.0  0.0   0.0  0.0   0.0  \n",
            "3        0.0     0.0   0.0  0.000000    0.0   0.0  0.0   0.0  0.0   0.0  \n",
            "4        0.0     0.0   0.0  0.000000    0.0   0.0  0.0   0.0  0.0   0.0  \n",
            "...      ...     ...   ...       ...    ...   ...  ...   ...  ...   ...  \n",
            "10667    0.0     0.0   0.0  0.000000    0.0   0.0  0.0   0.0  0.0   0.0  \n",
            "10668    0.0     0.0   0.0  0.000000    0.0   0.0  0.0   0.0  0.0   0.0  \n",
            "10669    0.0     0.0   0.0  0.000000    0.0   0.0  0.0   0.0  0.0   0.0  \n",
            "10670    0.0     0.0   0.0  0.000000    0.0   0.0  0.0   0.0  0.0   0.0  \n",
            "10671    0.0     0.0   0.0  0.246933    0.0   0.0  0.0   0.0  0.0   0.0  \n",
            "\n",
            "[10672 rows x 1771 columns]\n"
          ]
        }
      ]
    },
    {
      "cell_type": "markdown",
      "source": [
        "# **52. 学習**\n",
        "51で構築した学習データを用いて，ロジスティック回帰モデルを学習せよ"
      ],
      "metadata": {
        "id": "k6fVcUtjOC1f"
      }
    },
    {
      "cell_type": "code",
      "source": [
        "\n",
        "from sklearn.linear_model import LogisticRegression\n",
        "\n",
        "model = LogisticRegression(max_iter = 200)\n",
        "model.fit(X_train_TFIDF, Y_train)"
      ],
      "metadata": {
        "colab": {
          "base_uri": "https://localhost:8080/",
          "height": 74
        },
        "id": "gmGVflJTOAIx",
        "outputId": "8d6e5a44-db97-47ed-eddd-63c708ecd76e"
      },
      "execution_count": 12,
      "outputs": [
        {
          "output_type": "execute_result",
          "data": {
            "text/plain": [
              "LogisticRegression(max_iter=200)"
            ],
            "text/html": [
              "<style>#sk-container-id-1 {color: black;background-color: white;}#sk-container-id-1 pre{padding: 0;}#sk-container-id-1 div.sk-toggleable {background-color: white;}#sk-container-id-1 label.sk-toggleable__label {cursor: pointer;display: block;width: 100%;margin-bottom: 0;padding: 0.3em;box-sizing: border-box;text-align: center;}#sk-container-id-1 label.sk-toggleable__label-arrow:before {content: \"▸\";float: left;margin-right: 0.25em;color: #696969;}#sk-container-id-1 label.sk-toggleable__label-arrow:hover:before {color: black;}#sk-container-id-1 div.sk-estimator:hover label.sk-toggleable__label-arrow:before {color: black;}#sk-container-id-1 div.sk-toggleable__content {max-height: 0;max-width: 0;overflow: hidden;text-align: left;background-color: #f0f8ff;}#sk-container-id-1 div.sk-toggleable__content pre {margin: 0.2em;color: black;border-radius: 0.25em;background-color: #f0f8ff;}#sk-container-id-1 input.sk-toggleable__control:checked~div.sk-toggleable__content {max-height: 200px;max-width: 100%;overflow: auto;}#sk-container-id-1 input.sk-toggleable__control:checked~label.sk-toggleable__label-arrow:before {content: \"▾\";}#sk-container-id-1 div.sk-estimator input.sk-toggleable__control:checked~label.sk-toggleable__label {background-color: #d4ebff;}#sk-container-id-1 div.sk-label input.sk-toggleable__control:checked~label.sk-toggleable__label {background-color: #d4ebff;}#sk-container-id-1 input.sk-hidden--visually {border: 0;clip: rect(1px 1px 1px 1px);clip: rect(1px, 1px, 1px, 1px);height: 1px;margin: -1px;overflow: hidden;padding: 0;position: absolute;width: 1px;}#sk-container-id-1 div.sk-estimator {font-family: monospace;background-color: #f0f8ff;border: 1px dotted black;border-radius: 0.25em;box-sizing: border-box;margin-bottom: 0.5em;}#sk-container-id-1 div.sk-estimator:hover {background-color: #d4ebff;}#sk-container-id-1 div.sk-parallel-item::after {content: \"\";width: 100%;border-bottom: 1px solid gray;flex-grow: 1;}#sk-container-id-1 div.sk-label:hover label.sk-toggleable__label {background-color: #d4ebff;}#sk-container-id-1 div.sk-serial::before {content: \"\";position: absolute;border-left: 1px solid gray;box-sizing: border-box;top: 0;bottom: 0;left: 50%;z-index: 0;}#sk-container-id-1 div.sk-serial {display: flex;flex-direction: column;align-items: center;background-color: white;padding-right: 0.2em;padding-left: 0.2em;position: relative;}#sk-container-id-1 div.sk-item {position: relative;z-index: 1;}#sk-container-id-1 div.sk-parallel {display: flex;align-items: stretch;justify-content: center;background-color: white;position: relative;}#sk-container-id-1 div.sk-item::before, #sk-container-id-1 div.sk-parallel-item::before {content: \"\";position: absolute;border-left: 1px solid gray;box-sizing: border-box;top: 0;bottom: 0;left: 50%;z-index: -1;}#sk-container-id-1 div.sk-parallel-item {display: flex;flex-direction: column;z-index: 1;position: relative;background-color: white;}#sk-container-id-1 div.sk-parallel-item:first-child::after {align-self: flex-end;width: 50%;}#sk-container-id-1 div.sk-parallel-item:last-child::after {align-self: flex-start;width: 50%;}#sk-container-id-1 div.sk-parallel-item:only-child::after {width: 0;}#sk-container-id-1 div.sk-dashed-wrapped {border: 1px dashed gray;margin: 0 0.4em 0.5em 0.4em;box-sizing: border-box;padding-bottom: 0.4em;background-color: white;}#sk-container-id-1 div.sk-label label {font-family: monospace;font-weight: bold;display: inline-block;line-height: 1.2em;}#sk-container-id-1 div.sk-label-container {text-align: center;}#sk-container-id-1 div.sk-container {/* jupyter's `normalize.less` sets `[hidden] { display: none; }` but bootstrap.min.css set `[hidden] { display: none !important; }` so we also need the `!important` here to be able to override the default hidden behavior on the sphinx rendered scikit-learn.org. See: https://github.com/scikit-learn/scikit-learn/issues/21755 */display: inline-block !important;position: relative;}#sk-container-id-1 div.sk-text-repr-fallback {display: none;}</style><div id=\"sk-container-id-1\" class=\"sk-top-container\"><div class=\"sk-text-repr-fallback\"><pre>LogisticRegression(max_iter=200)</pre><b>In a Jupyter environment, please rerun this cell to show the HTML representation or trust the notebook. <br />On GitHub, the HTML representation is unable to render, please try loading this page with nbviewer.org.</b></div><div class=\"sk-container\" hidden><div class=\"sk-item\"><div class=\"sk-estimator sk-toggleable\"><input class=\"sk-toggleable__control sk-hidden--visually\" id=\"sk-estimator-id-1\" type=\"checkbox\" checked><label for=\"sk-estimator-id-1\" class=\"sk-toggleable__label sk-toggleable__label-arrow\">LogisticRegression</label><div class=\"sk-toggleable__content\"><pre>LogisticRegression(max_iter=200)</pre></div></div></div></div></div>"
            ]
          },
          "metadata": {},
          "execution_count": 12
        }
      ]
    },
    {
      "cell_type": "markdown",
      "source": [
        "# **53. 予測**\n",
        "52で学習したロジスティック回帰モデルを用い，与えられた記事見出しからカテゴリとその予測確率を計算するプログラムを実装せよ．"
      ],
      "metadata": {
        "id": "_GmKZFiCOWMt"
      }
    },
    {
      "cell_type": "code",
      "source": [
        "def score(model, X):\n",
        "  pred = model.predict([X]) #Xから予測\n",
        "  pred_proba = model.predict_proba([X])[[0], pred]\n",
        "  return pred[0], pred_proba[0]\n",
        "\n",
        "\n",
        "for i in range(20):\n",
        "  print(score(model, X_test_TFIDF[i]))"
      ],
      "metadata": {
        "colab": {
          "base_uri": "https://localhost:8080/"
        },
        "id": "DhYfsvj7ONPy",
        "outputId": "64a7463f-89fd-477d-97ac-f2ab060e8901"
      },
      "execution_count": 13,
      "outputs": [
        {
          "output_type": "stream",
          "name": "stdout",
          "text": [
            "(2, 0.8046850892623635)\n",
            "(1, 0.46643475628934017)\n",
            "(0, 0.8828866244340192)\n",
            "(0, 0.902310562019011)\n",
            "(1, 0.5724253001856757)\n",
            "(0, 0.5124987499149724)\n",
            "(0, 0.9623876391785844)\n",
            "(0, 0.8024778543262677)\n",
            "(1, 0.8706410974747331)\n",
            "(0, 0.7851686895917813)\n",
            "(1, 0.9868474778840833)\n",
            "(1, 0.6173638597268721)\n",
            "(1, 0.8822510426778533)\n",
            "(1, 0.9694341595025888)\n",
            "(0, 0.8291377363822986)\n",
            "(1, 0.9512184291551065)\n",
            "(3, 0.7750272285912314)\n",
            "(0, 0.5109662579651497)\n",
            "(1, 0.7067384204521964)\n",
            "(0, 0.9948946733534627)\n"
          ]
        }
      ]
    },
    {
      "cell_type": "code",
      "source": [
        "# for i in range(20):\n",
        "#   print(X_test_TFIDF[i])\n",
        "#   print([X_test_TFIDF[i]])\n",
        "#   print(\"\\n\")"
      ],
      "metadata": {
        "id": "N_sxpxepOfDy"
      },
      "execution_count": 14,
      "outputs": []
    },
    {
      "cell_type": "markdown",
      "source": [
        "# **54. 正解率の計測**\n",
        "52で学習したロジスティック回帰モデルの正解率を，学習データおよび評価データ上で計測せよ"
      ],
      "metadata": {
        "id": "nFYLYC9JOxtA"
      }
    },
    {
      "cell_type": "code",
      "source": [
        "from sklearn.metrics import accuracy_score\n",
        "\n",
        "train_pred =[]\n",
        "test_pred = []\n",
        "\n",
        "for X in X_train_TFIDF:\n",
        "  train_pred.append(score(model, X)[0])\n",
        "\n",
        "for X in X_test_TFIDF:\n",
        "  test_pred.append(score(model, X)[0])\n",
        "\n",
        "train_acc = accuracy_score(Y_train, train_pred)\n",
        "test_acc = accuracy_score(Y_test, test_pred)\n",
        "\n",
        "print(train_acc)\n",
        "print(test_acc)"
      ],
      "metadata": {
        "colab": {
          "base_uri": "https://localhost:8080/"
        },
        "id": "DKbaDIqYOmiS",
        "outputId": "005b40eb-2c05-4d46-bd93-c807a0e49422"
      },
      "execution_count": 15,
      "outputs": [
        {
          "output_type": "stream",
          "name": "stdout",
          "text": [
            "0.9149175412293853\n",
            "0.8823088455772113\n"
          ]
        }
      ]
    },
    {
      "cell_type": "markdown",
      "source": [
        "# **55. 混同行列の作成**\n",
        "52で学習したロジスティック回帰モデルの混同行列（confusion matrix）を，学習データおよび評価データ上で作成せよ．"
      ],
      "metadata": {
        "id": "tvSFxy0dPBng"
      }
    },
    {
      "cell_type": "code",
      "source": [
        "from sklearn.metrics import confusion_matrix\n",
        "import seaborn as sns\n",
        "import matplotlib.pyplot as plt\n",
        "\n",
        "train_matrix = confusion_matrix(Y_train, train_pred)\n",
        "sns.heatmap(train_matrix, annot = True, cmap = \"hot_r\")\n",
        "plt.show()\n",
        "\n",
        "test_matrix = confusion_matrix(Y_test, test_pred)\n",
        "sns.heatmap(test_matrix, annot = True, cmap = \"hot_r\")\n",
        "plt.show()"
      ],
      "metadata": {
        "colab": {
          "base_uri": "https://localhost:8080/",
          "height": 843
        },
        "id": "cFw32GWqO__C",
        "outputId": "60ce0652-614a-4780-bbb4-46158d9cfb3e"
      },
      "execution_count": 29,
      "outputs": [
        {
          "output_type": "display_data",
          "data": {
            "text/plain": [
              "<Figure size 640x480 with 2 Axes>"
            ],
            "image/png": "[encoded data removed]"
          },
          "metadata": {}
        },
        {
          "output_type": "display_data",
          "data": {
            "text/plain": [
              "<Figure size 640x480 with 2 Axes>"
            ],
            "image/png": "[encoded data removed]"
          },
          "metadata": {}
        }
      ]
    },
    {
      "cell_type": "markdown",
      "source": [
        "# **56. 適合率，再現率，F1スコアの計測**\n",
        "52で学習したロジスティック回帰モデルの適合率，再現率，F1スコアを，評価データ上で計測せよ．カテゴリごとに適合率，再現率，F1スコアを求め，カテゴリごとの性能をマイクロ平均（micro-average）とマクロ平均（macro-average）で統合せよ．"
      ],
      "metadata": {
        "id": "7nAw5RpBPap1"
      }
    },
    {
      "cell_type": "code",
      "source": [
        "from sklearn.metrics import precision_score, recall_score, f1_score\n",
        "\n",
        "def calc(Y, pred):\n",
        "  ppv = precision_score(Y, pred, average = None)\n",
        "  ppv_micro = precision_score(Y, pred , average = \"micro\").reshape(1)\n",
        "  ppv_macro = precision_score(Y, pred , average = \"macro\").reshape(1)\n",
        "  ppv = np.concatenate([ppv, ppv_micro, ppv_macro])\n",
        "\n",
        "  recall = recall_score(Y, pred, average = None)\n",
        "  recall_micro = recall_score(Y, pred , average = \"micro\").reshape(1)\n",
        "  recall_macro = recall_score(Y, pred , average = \"macro\").reshape(1)\n",
        "  recall = np.concatenate([recall, recall_micro, recall_macro])\n",
        "\n",
        "  f1 = f1_score(Y, pred, average = None)\n",
        "  f1_micro = f1_score(Y, pred , average = \"micro\").reshape(1)\n",
        "  f1_macro = f1_score(Y, pred , average = \"macro\").reshape(1)\n",
        "  f1 = np.concatenate([f1, f1_micro, f1_macro])\n",
        "\n",
        "  index = [\"0\", \"1\", \"2\", \"3\", \"micro\", \"macro\"]\n",
        "  scores = pd.DataFrame({\"ppv\": ppv, \"recall\":recall, \"f1\":f1}, index =index)\n",
        "\n",
        "  return(scores)\n",
        "\n",
        "\n",
        "print(calc(Y_test, test_pred))"
      ],
      "metadata": {
        "colab": {
          "base_uri": "https://localhost:8080/"
        },
        "id": "i579koCMPWvR",
        "outputId": "496f2814-465b-42d1-afd5-3723f6fe38a9"
      },
      "execution_count": 17,
      "outputs": [
        {
          "output_type": "stream",
          "name": "stdout",
          "text": [
            "            ppv    recall        f1\n",
            "0      0.901024  0.937833  0.919060\n",
            "1      0.866102  0.967803  0.914132\n",
            "2      0.852174  0.644737  0.734082\n",
            "3      0.930233  0.439560  0.597015\n",
            "micro  0.882309  0.882309  0.882309\n",
            "macro  0.887383  0.747483  0.791072\n"
          ]
        }
      ]
    },
    {
      "cell_type": "markdown",
      "source": [
        "# **57. 特徴量の重みの確認**\n",
        "52で学習したロジスティック回帰モデルの中で，重みの高い特徴量トップ10と，重みの低い特徴量トップ10を確認せよ．"
      ],
      "metadata": {
        "id": "STF96Mt5Pq9e"
      }
    },
    {
      "cell_type": "code",
      "source": [
        "features = X_train_TFIDF_df.columns.values\n",
        "\n",
        "for i, coef in enumerate(model.coef_):\n",
        "  top = features[np.argsort(-coef)[:10]]\n",
        "  worst = features[np.argsort(coef)[:10]]\n",
        "\n",
        "  categ = [\"business\", \"entertainment\", \"technology\", \"medical\"]\n",
        "  print(categ[i])\n",
        "  print(\"top\\n\",top)\n",
        "  print(\"worst\\n\",worst)\n",
        "  print(\"\\n\")"
      ],
      "metadata": {
        "colab": {
          "base_uri": "https://localhost:8080/"
        },
        "id": "t2qsDuaUPmBB",
        "outputId": "97715c0c-de5d-4dff-bb75-f13509be3d46"
      },
      "execution_count": 18,
      "outputs": [
        {
          "output_type": "stream",
          "name": "stdout",
          "text": [
            "business\n",
            "top\n",
            " ['bank' 'stocks' 'fed' 'ecb' 'china' 'ukraine' 'oil' 'obamacare' 'euro'\n",
            " 'yellen']\n",
            "worst\n",
            " ['ebola' 'her' 'video' 'she' 'aereo' 'the' 'microsoft' 'and' 'sony'\n",
            " 'virus']\n",
            "\n",
            "\n",
            "entertainment\n",
            "top\n",
            " ['kardashian' 'chris' 'star' 'movie' 'she' 'miley' 'thrones' 'paul' 'he'\n",
            " 'kim']\n",
            "worst\n",
            " ['us' 'google' 'update' 'study' 'gm' 'china' 'facebook' 'billion' 'ceo'\n",
            " 'risk']\n",
            "\n",
            "\n",
            "technology\n",
            "top\n",
            " ['google' 'facebook' 'apple' 'microsoft' 'climate' 'gm' 'tesla' 'nasa'\n",
            " 'earth' 'comcast']\n",
            "worst\n",
            " ['stocks' 'fed' 'her' 'percent' 'american' 'drug' 'cancer' 'shares'\n",
            " 'ukraine' 'york']\n",
            "\n",
            "\n",
            "medical\n",
            "top\n",
            " ['ebola' 'study' 'mers' 'fda' 'cancer' 'drug' 'cases' 'cigarettes' 'could'\n",
            " 'health']\n",
            "worst\n",
            " ['facebook' 'gm' 'ceo' 'bank' 'apple' 'google' 'game' 'climate' 'twitter'\n",
            " 'best']\n",
            "\n",
            "\n"
          ]
        }
      ]
    },
    {
      "cell_type": "markdown",
      "source": [
        "# **58. 正則化パラメータの変更**\n",
        "ロジスティック回帰モデルを学習するとき，正則化パラメータを調整することで，学習時の過学習（overfitting）の度合いを制御できる．異なる正則化パラメータでロジスティック回帰モデルを学習し，学習データ，検証データ，および評価データ上の正解率を求めよ．実験の結果は，正則化パラメータを横軸，正解率を縦軸としたグラフにまとめよ．"
      ],
      "metadata": {
        "id": "YzPbrjYdP0PG"
      }
    },
    {
      "cell_type": "code",
      "source": [
        "result = []\n",
        "\n",
        "for C in np.logspace(-5, 2, 10, base =np.e):\n",
        "\n",
        "  model = LogisticRegression(C=C, max_iter = 250)\n",
        "  model.fit(X_train_TFIDF, Y_train)\n",
        "  train_pred1 = []\n",
        "  valid_pred1 =[]\n",
        "  test_pred1 =[]\n",
        "\n",
        "  for X in X_train_TFIDF:\n",
        "    train_pred1.append(score(model, X)[0])\n",
        "  for X in X_valid_TFIDF:\n",
        "    valid_pred1.append(score(model, X)[0])\n",
        "  for X in X_test_TFIDF:\n",
        "    test_pred1.append(score(model, X)[0])\n",
        "\n",
        "  train_acc1 = accuracy_score(Y_train, train_pred1)\n",
        "  valid_acc1 = accuracy_score(Y_valid, valid_pred1)\n",
        "  test_acc1 = accuracy_score(Y_test, test_pred1)\n",
        "\n",
        "  print(\"valid_acc\", valid_acc1)\n",
        "\n",
        "  result.append([C, train_acc1, valid_acc1, test_acc1])\n",
        "\n",
        "result = np.array(result).T #転置"
      ],
      "metadata": {
        "colab": {
          "base_uri": "https://localhost:8080/"
        },
        "id": "OUEpL-0kQGqg",
        "outputId": "4543cc87-8ccf-4ebc-ca96-b50c24421677"
      },
      "execution_count": 19,
      "outputs": [
        {
          "output_type": "stream",
          "name": "stdout",
          "text": [
            "valid_acc 0.7443778110944528\n",
            "valid_acc 0.7578710644677661\n",
            "valid_acc 0.7631184407796102\n",
            "valid_acc 0.7758620689655172\n",
            "valid_acc 0.8110944527736131\n",
            "valid_acc 0.848575712143928\n",
            "valid_acc 0.8740629685157422\n",
            "valid_acc 0.8778110944527736\n",
            "valid_acc 0.881559220389805\n",
            "valid_acc 0.876311844077961\n"
          ]
        }
      ]
    },
    {
      "cell_type": "code",
      "source": [
        "plt.plot(-np.log(result[0]), result[1], label = \"train\") #loge\n",
        "plt.plot(-np.log(result[0]), result[2], label = \"valid\")\n",
        "plt.plot(-np.log(result[0]), result[3], label = \"test\")\n",
        "plt.ylim(0.5, 1.0)\n",
        "\n",
        "plt.ylabel(\"acc\")\n",
        "plt.xlabel(\"ln λ\")\n",
        "plt.legend()\n",
        "plt.show()"
      ],
      "metadata": {
        "colab": {
          "base_uri": "https://localhost:8080/",
          "height": 455
        },
        "id": "iLN_v9ACQHCX",
        "outputId": "0807c0dd-33c1-4b49-c393-db2dddafc5fc"
      },
      "execution_count": 20,
      "outputs": [
        {
          "output_type": "display_data",
          "data": {
            "text/plain": [
              "<Figure size 640x480 with 1 Axes>"
            ],
            "image/png": "[encoded data removed]"
          },
          "metadata": {}
        }
      ]
    },
    {
      "cell_type": "markdown",
      "source": [
        "# **59. ハイパーパラメータの探索**\n",
        "学習アルゴリズムや学習パラメータを変えながら，カテゴリ分類モデルを学習せよ．検証データ上の正解率が最も高くなる学習アルゴリズム・パラメータを求めよ．また，その学習アルゴリズム・パラメータを用いたときの評価データ上の正解率を求めよ．"
      ],
      "metadata": {
        "id": "zk17zboRaO6u"
      }
    },
    {
      "cell_type": "code",
      "source": [
        "!pip install optuna"
      ],
      "metadata": {
        "colab": {
          "base_uri": "https://localhost:8080/"
        },
        "id": "2NOxGATSaGRC",
        "outputId": "0d581d96-9613-445a-c8e6-0b13ff786bcc"
      },
      "execution_count": 21,
      "outputs": [
        {
          "output_type": "stream",
          "name": "stdout",
          "text": [
            "Collecting optuna\n",
            "  Downloading optuna-3.5.0-py3-none-any.whl (413 kB)\n",
            "\u001b[2K     \u001b[90m━━━━━━━━━━━━━━━━━━━━━━━━━━━━━━━━━━━━━━━━\u001b[0m \u001b[32m413.4/413.4 kB\u001b[0m \u001b[31m6.1 MB/s\u001b[0m eta \u001b[36m0:00:00\u001b[0m\n",
            "\u001b[?25hCollecting alembic>=1.5.0 (from optuna)\n",
            "  Downloading alembic-1.13.0-py3-none-any.whl (230 kB)\n",
            "\u001b[2K     \u001b[90m━━━━━━━━━━━━━━━━━━━━━━━━━━━━━━━━━━━━━━━━\u001b[0m \u001b[32m230.6/230.6 kB\u001b[0m \u001b[31m11.8 MB/s\u001b[0m eta \u001b[36m0:00:00\u001b[0m\n",
            "\u001b[?25hCollecting colorlog (from optuna)\n",
            "  Downloading colorlog-6.8.0-py3-none-any.whl (11 kB)\n",
            "Requirement already satisfied: numpy in /usr/local/lib/python3.10/dist-packages (from optuna) (1.23.5)\n",
            "Requirement already satisfied: packaging>=20.0 in /usr/local/lib/python3.10/dist-packages (from optuna) (23.2)\n",
            "Requirement already satisfied: sqlalchemy>=1.3.0 in /usr/local/lib/python3.10/dist-packages (from optuna) (2.0.23)\n",
            "Requirement already satisfied: tqdm in /usr/local/lib/python3.10/dist-packages (from optuna) (4.66.1)\n",
            "Requirement already satisfied: PyYAML in /usr/local/lib/python3.10/dist-packages (from optuna) (6.0.1)\n",
            "Collecting Mako (from alembic>=1.5.0->optuna)\n",
            "  Downloading Mako-1.3.0-py3-none-any.whl (78 kB)\n",
            "\u001b[2K     \u001b[90m━━━━━━━━━━━━━━━━━━━━━━━━━━━━━━━━━━━━━━━━\u001b[0m \u001b[32m78.6/78.6 kB\u001b[0m \u001b[31m9.1 MB/s\u001b[0m eta \u001b[36m0:00:00\u001b[0m\n",
            "\u001b[?25hRequirement already satisfied: typing-extensions>=4 in /usr/local/lib/python3.10/dist-packages (from alembic>=1.5.0->optuna) (4.5.0)\n",
            "Requirement already satisfied: greenlet!=0.4.17 in /usr/local/lib/python3.10/dist-packages (from sqlalchemy>=1.3.0->optuna) (3.0.2)\n",
            "Requirement already satisfied: MarkupSafe>=0.9.2 in /usr/local/lib/python3.10/dist-packages (from Mako->alembic>=1.5.0->optuna) (2.1.3)\n",
            "Installing collected packages: Mako, colorlog, alembic, optuna\n",
            "Successfully installed Mako-1.3.0 alembic-1.13.0 colorlog-6.8.0 optuna-3.5.0\n"
          ]
        }
      ]
    },
    {
      "cell_type": "code",
      "source": [
        "import optuna\n",
        "\n",
        "def study_lr_param(trial):\n",
        "  l1_ratio = trial.suggest_uniform(\"l1_ratio\", 0, 1)\n",
        "  C = trial.suggest_loguniform(\"C\", 1e-4, 1e4)\n",
        "\n",
        "  model = LogisticRegression(random_state = 123, max_iter = 200,\n",
        "                             penalty = \"elasticnet\", solver =\"saga\",\n",
        "                             l1_ratio = l1_ratio, C = C )\n",
        "\n",
        "  model.fit(X_train_TFIDF, Y_train)\n",
        "\n",
        "  pred = model.predict(X_valid_TFIDF)\n",
        "  acc = accuracy_score(Y_valid, pred)\n",
        "\n",
        "  return acc"
      ],
      "metadata": {
        "id": "QvMo4P4QaTER"
      },
      "execution_count": 22,
      "outputs": []
    },
    {
      "cell_type": "code",
      "source": [
        "study_lr = optuna.create_study(direction = \"maximize\")\n",
        "study_lr.optimize(study_lr_param, n_trials =1)"
      ],
      "metadata": {
        "colab": {
          "base_uri": "https://localhost:8080/"
        },
        "id": "-aXXsNUHaVwh",
        "outputId": "f0321f29-5697-4eb5-dd5e-fe2093fdf123"
      },
      "execution_count": 23,
      "outputs": [
        {
          "output_type": "stream",
          "name": "stderr",
          "text": [
            "[I 2023-12-15 05:47:45,987] A new study created in memory with name: no-name-f7317872-8098-4455-bad5-69afaf284cd9\n",
            "<ipython-input-22-a16d62dd8995>:4: FutureWarning: suggest_uniform has been deprecated in v3.0.0. This feature will be removed in v6.0.0. See https://github.com/optuna/optuna/releases/tag/v3.0.0. Use suggest_float instead.\n",
            "  l1_ratio = trial.suggest_uniform(\"l1_ratio\", 0, 1)\n",
            "<ipython-input-22-a16d62dd8995>:5: FutureWarning: suggest_loguniform has been deprecated in v3.0.0. This feature will be removed in v6.0.0. See https://github.com/optuna/optuna/releases/tag/v3.0.0. Use suggest_float(..., log=True) instead.\n",
            "  C = trial.suggest_loguniform(\"C\", 1e-4, 1e4)\n",
            "[I 2023-12-15 05:48:28,057] Trial 0 finished with value: 0.7008995502248876 and parameters: {'l1_ratio': 0.6582574444751867, 'C': 0.06577739607139055}. Best is trial 0 with value: 0.7008995502248876.\n",
            "<ipython-input-22-a16d62dd8995>:4: FutureWarning: suggest_uniform has been deprecated in v3.0.0. This feature will be removed in v6.0.0. See https://github.com/optuna/optuna/releases/tag/v3.0.0. Use suggest_float instead.\n",
            "  l1_ratio = trial.suggest_uniform(\"l1_ratio\", 0, 1)\n",
            "<ipython-input-22-a16d62dd8995>:5: FutureWarning: suggest_loguniform has been deprecated in v3.0.0. This feature will be removed in v6.0.0. See https://github.com/optuna/optuna/releases/tag/v3.0.0. Use suggest_float(..., log=True) instead.\n",
            "  C = trial.suggest_loguniform(\"C\", 1e-4, 1e4)\n",
            "[I 2023-12-15 05:48:45,476] Trial 1 finished with value: 0.7376311844077961 and parameters: {'l1_ratio': 0.8840898944325376, 'C': 0.10096214830345411}. Best is trial 1 with value: 0.7376311844077961.\n",
            "<ipython-input-22-a16d62dd8995>:4: FutureWarning: suggest_uniform has been deprecated in v3.0.0. This feature will be removed in v6.0.0. See https://github.com/optuna/optuna/releases/tag/v3.0.0. Use suggest_float instead.\n",
            "  l1_ratio = trial.suggest_uniform(\"l1_ratio\", 0, 1)\n",
            "<ipython-input-22-a16d62dd8995>:5: FutureWarning: suggest_loguniform has been deprecated in v3.0.0. This feature will be removed in v6.0.0. See https://github.com/optuna/optuna/releases/tag/v3.0.0. Use suggest_float(..., log=True) instead.\n",
            "  C = trial.suggest_loguniform(\"C\", 1e-4, 1e4)\n",
            "[I 2023-12-15 05:49:02,950] Trial 2 finished with value: 0.487256371814093 and parameters: {'l1_ratio': 0.6467878865424138, 'C': 0.011540598812879277}. Best is trial 1 with value: 0.7376311844077961.\n",
            "<ipython-input-22-a16d62dd8995>:4: FutureWarning: suggest_uniform has been deprecated in v3.0.0. This feature will be removed in v6.0.0. See https://github.com/optuna/optuna/releases/tag/v3.0.0. Use suggest_float instead.\n",
            "  l1_ratio = trial.suggest_uniform(\"l1_ratio\", 0, 1)\n",
            "<ipython-input-22-a16d62dd8995>:5: FutureWarning: suggest_loguniform has been deprecated in v3.0.0. This feature will be removed in v6.0.0. See https://github.com/optuna/optuna/releases/tag/v3.0.0. Use suggest_float(..., log=True) instead.\n",
            "  C = trial.suggest_loguniform(\"C\", 1e-4, 1e4)\n",
            "/usr/local/lib/python3.10/dist-packages/sklearn/linear_model/_sag.py:350: ConvergenceWarning: The max_iter was reached which means the coef_ did not converge\n",
            "  warnings.warn(\n",
            "[I 2023-12-15 05:54:13,917] Trial 3 finished with value: 0.8403298350824587 and parameters: {'l1_ratio': 0.8234143034194599, 'C': 6309.441399526096}. Best is trial 3 with value: 0.8403298350824587.\n",
            "<ipython-input-22-a16d62dd8995>:4: FutureWarning: suggest_uniform has been deprecated in v3.0.0. This feature will be removed in v6.0.0. See https://github.com/optuna/optuna/releases/tag/v3.0.0. Use suggest_float instead.\n",
            "  l1_ratio = trial.suggest_uniform(\"l1_ratio\", 0, 1)\n",
            "<ipython-input-22-a16d62dd8995>:5: FutureWarning: suggest_loguniform has been deprecated in v3.0.0. This feature will be removed in v6.0.0. See https://github.com/optuna/optuna/releases/tag/v3.0.0. Use suggest_float(..., log=True) instead.\n",
            "  C = trial.suggest_loguniform(\"C\", 1e-4, 1e4)\n",
            "[I 2023-12-15 05:54:19,075] Trial 4 finished with value: 0.42128935532233885 and parameters: {'l1_ratio': 0.5754612021245404, 'C': 0.002652038284114058}. Best is trial 3 with value: 0.8403298350824587.\n"
          ]
        }
      ]
    },
    {
      "cell_type": "code",
      "source": [
        "from sklearn.naive_bayes import GaussianNB\n",
        "\n",
        "def study_nb_param(trial):\n",
        "  var_smoothing = trial.suggest_loguniform(\"alpha\", 1e-12, 1e-6)\n",
        "\n",
        "  model = GaussianNB(var_smoothing = var_smoothing)\n",
        "\n",
        "  model.fit(X_train_TFIDF, Y_train)\n",
        "\n",
        "  pred = model.predict(X_valid_TFIDF)\n",
        "  acc = accuracy_score(Y_valid, pred)\n",
        "\n",
        "  return acc\n",
        "\n",
        "\n",
        "\n",
        "study_nb = optuna.create_study(direction = \"maximize\")\n",
        "study_nb.optimize(study_nb_param, n_trials =10)"
      ],
      "metadata": {
        "colab": {
          "base_uri": "https://localhost:8080/"
        },
        "id": "5qSlngf2aYbK",
        "outputId": "4ee1b70d-f855-4fe2-b4d4-ac9dd678501d"
      },
      "execution_count": 32,
      "outputs": [
        {
          "output_type": "stream",
          "name": "stderr",
          "text": [
            "[I 2023-12-15 06:27:16,007] A new study created in memory with name: no-name-05396f70-e6ae-4e6d-939f-19cc6fd9f3a4\n",
            "<ipython-input-32-7083e800f2ec>:4: FutureWarning: suggest_loguniform has been deprecated in v3.0.0. This feature will be removed in v6.0.0. See https://github.com/optuna/optuna/releases/tag/v3.0.0. Use suggest_float(..., log=True) instead.\n",
            "  var_smoothing = trial.suggest_loguniform(\"alpha\", 1e-12, 1e-6)\n",
            "[I 2023-12-15 06:27:16,439] Trial 0 finished with value: 0.7233883058470765 and parameters: {'alpha': 1.3162896761649787e-11}. Best is trial 0 with value: 0.7233883058470765.\n",
            "<ipython-input-32-7083e800f2ec>:4: FutureWarning: suggest_loguniform has been deprecated in v3.0.0. This feature will be removed in v6.0.0. See https://github.com/optuna/optuna/releases/tag/v3.0.0. Use suggest_float(..., log=True) instead.\n",
            "  var_smoothing = trial.suggest_loguniform(\"alpha\", 1e-12, 1e-6)\n",
            "[I 2023-12-15 06:27:16,876] Trial 1 finished with value: 0.7278860569715142 and parameters: {'alpha': 3.1880357151336574e-08}. Best is trial 1 with value: 0.7278860569715142.\n",
            "<ipython-input-32-7083e800f2ec>:4: FutureWarning: suggest_loguniform has been deprecated in v3.0.0. This feature will be removed in v6.0.0. See https://github.com/optuna/optuna/releases/tag/v3.0.0. Use suggest_float(..., log=True) instead.\n",
            "  var_smoothing = trial.suggest_loguniform(\"alpha\", 1e-12, 1e-6)\n",
            "[I 2023-12-15 06:27:17,301] Trial 2 finished with value: 0.7233883058470765 and parameters: {'alpha': 1.369880801803112e-12}. Best is trial 1 with value: 0.7278860569715142.\n",
            "<ipython-input-32-7083e800f2ec>:4: FutureWarning: suggest_loguniform has been deprecated in v3.0.0. This feature will be removed in v6.0.0. See https://github.com/optuna/optuna/releases/tag/v3.0.0. Use suggest_float(..., log=True) instead.\n",
            "  var_smoothing = trial.suggest_loguniform(\"alpha\", 1e-12, 1e-6)\n",
            "[I 2023-12-15 06:27:17,750] Trial 3 finished with value: 0.7241379310344828 and parameters: {'alpha': 5.0952302041998984e-11}. Best is trial 1 with value: 0.7278860569715142.\n",
            "<ipython-input-32-7083e800f2ec>:4: FutureWarning: suggest_loguniform has been deprecated in v3.0.0. This feature will be removed in v6.0.0. See https://github.com/optuna/optuna/releases/tag/v3.0.0. Use suggest_float(..., log=True) instead.\n",
            "  var_smoothing = trial.suggest_loguniform(\"alpha\", 1e-12, 1e-6)\n",
            "[I 2023-12-15 06:27:18,179] Trial 4 finished with value: 0.7256371814092953 and parameters: {'alpha': 3.0297720338993495e-10}. Best is trial 1 with value: 0.7278860569715142.\n",
            "<ipython-input-32-7083e800f2ec>:4: FutureWarning: suggest_loguniform has been deprecated in v3.0.0. This feature will be removed in v6.0.0. See https://github.com/optuna/optuna/releases/tag/v3.0.0. Use suggest_float(..., log=True) instead.\n",
            "  var_smoothing = trial.suggest_loguniform(\"alpha\", 1e-12, 1e-6)\n",
            "[I 2023-12-15 06:27:18,806] Trial 5 finished with value: 0.7233883058470765 and parameters: {'alpha': 9.716483819275936e-12}. Best is trial 1 with value: 0.7278860569715142.\n",
            "<ipython-input-32-7083e800f2ec>:4: FutureWarning: suggest_loguniform has been deprecated in v3.0.0. This feature will be removed in v6.0.0. See https://github.com/optuna/optuna/releases/tag/v3.0.0. Use suggest_float(..., log=True) instead.\n",
            "  var_smoothing = trial.suggest_loguniform(\"alpha\", 1e-12, 1e-6)\n",
            "[I 2023-12-15 06:27:19,558] Trial 6 finished with value: 0.7241379310344828 and parameters: {'alpha': 8.23048089623306e-11}. Best is trial 1 with value: 0.7278860569715142.\n",
            "<ipython-input-32-7083e800f2ec>:4: FutureWarning: suggest_loguniform has been deprecated in v3.0.0. This feature will be removed in v6.0.0. See https://github.com/optuna/optuna/releases/tag/v3.0.0. Use suggest_float(..., log=True) instead.\n",
            "  var_smoothing = trial.suggest_loguniform(\"alpha\", 1e-12, 1e-6)\n",
            "[I 2023-12-15 06:27:20,295] Trial 7 finished with value: 0.7263868065967016 and parameters: {'alpha': 5.3434837625719705e-09}. Best is trial 1 with value: 0.7278860569715142.\n",
            "<ipython-input-32-7083e800f2ec>:4: FutureWarning: suggest_loguniform has been deprecated in v3.0.0. This feature will be removed in v6.0.0. See https://github.com/optuna/optuna/releases/tag/v3.0.0. Use suggest_float(..., log=True) instead.\n",
            "  var_smoothing = trial.suggest_loguniform(\"alpha\", 1e-12, 1e-6)\n",
            "[I 2023-12-15 06:27:21,124] Trial 8 finished with value: 0.7271364317841079 and parameters: {'alpha': 3.3706220945754822e-09}. Best is trial 1 with value: 0.7278860569715142.\n",
            "<ipython-input-32-7083e800f2ec>:4: FutureWarning: suggest_loguniform has been deprecated in v3.0.0. This feature will be removed in v6.0.0. See https://github.com/optuna/optuna/releases/tag/v3.0.0. Use suggest_float(..., log=True) instead.\n",
            "  var_smoothing = trial.suggest_loguniform(\"alpha\", 1e-12, 1e-6)\n",
            "[I 2023-12-15 06:27:22,371] Trial 9 finished with value: 0.7316341829085458 and parameters: {'alpha': 3.5745539298847224e-07}. Best is trial 9 with value: 0.7316341829085458.\n"
          ]
        }
      ]
    },
    {
      "cell_type": "code",
      "source": [
        "print(\"study_lr.best_value\\n\", study_lr.best_value)\n",
        "print(\"study_nb.best_value\\n\", study_nb.best_value)\n",
        "if study_lr.best_value > study_nb.best_value: #return値\n",
        "  study = study_lr\n",
        "  print(\"study_lr\")\n",
        "\n",
        "else:\n",
        "  study = study_nb\n",
        "  print(\"study_nb\")\n",
        "\n",
        "for k, v in study.best_params.items():\n",
        "  print(k, v)\n",
        "print(\"acc\", study.best_value)"
      ],
      "metadata": {
        "colab": {
          "base_uri": "https://localhost:8080/"
        },
        "id": "A8PfY1ggamSn",
        "outputId": "69ec2fc5-afe8-45c7-adb4-973435681a53"
      },
      "execution_count": 33,
      "outputs": [
        {
          "output_type": "stream",
          "name": "stdout",
          "text": [
            "study_lr.best_value\n",
            " 0.8403298350824587\n",
            "study_nb.best_value\n",
            " 0.7316341829085458\n",
            "study_lr\n",
            "l1_ratio 0.8234143034194599\n",
            "C 6309.441399526096\n",
            "acc 0.8403298350824587\n"
          ]
        }
      ]
    },
    {
      "cell_type": "code",
      "source": [
        "model = LogisticRegression(random_state = 123, max_iter = 200,\n",
        "                             penalty = \"elasticnet\", solver =\"saga\",\n",
        "                             l1_ratio = 0.2337238436698712, C = 5.403211698511446)\n",
        "\n",
        "model.fit(X_train_TFIDF, Y_train)\n",
        "\n",
        "pred = model.predict(X_valid_TFIDF)\n",
        "acc = accuracy_score(Y_valid, pred)\n",
        "\n",
        "print(acc)"
      ],
      "metadata": {
        "colab": {
          "base_uri": "https://localhost:8080/"
        },
        "id": "7WpyZ7yoar8_",
        "outputId": "c190a47e-0a7f-4be9-cd4f-b379ee3e230f"
      },
      "execution_count": 34,
      "outputs": [
        {
          "output_type": "stream",
          "name": "stdout",
          "text": [
            "0.8785607196401799\n"
          ]
        }
      ]
    },
    {
      "cell_type": "code",
      "source": [],
      "metadata": {
        "id": "YGKx7xUeatih"
      },
      "execution_count": 26,
      "outputs": []
    }
  ]
}