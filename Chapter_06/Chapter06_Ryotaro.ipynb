{
  "cells": [
    {
      "cell_type": "markdown",
      "metadata": {
        "id": "gXaTMHl9i_ju"
      },
      "source": [
        "# **第6章: 機械学習**\n",
        "文書分類器を機械学習で構築します．さらに，機械学習手法の評価方法を学びます．\n",
        "本章では，Fabio Gasparetti氏が公開しているNews Aggregator Data Setを用い，ニュース記事の見出しを「ビジネス」「科学技術」「エンターテイメント」「健康」のカテゴリに分類するタスク（カテゴリ分類）に取り組む．"
      ]
    },
    {
      "cell_type": "markdown",
      "metadata": {
        "id": "6PiN3BZummiG"
      },
      "source": [
        "**setup**"
      ]
    },
    {
      "cell_type": "code",
      "execution_count": null,
      "metadata": {
        "colab": {
          "base_uri": "https://localhost:8080/"
        },
        "id": "cmyWLJPXmVxw",
        "outputId": "68610320-f30b-4d98-b6f8-251a536ebca5"
      },
      "outputs": [
        {
          "output_type": "stream",
          "name": "stdout",
          "text": [
            "--2023-12-14 01:12:57--  https://archive.ics.uci.edu/ml/machine-learning-databases/00359/NewsAggregatorDataset.zip\n",
            "Resolving archive.ics.uci.edu (archive.ics.uci.edu)... 128.195.10.252\n",
            "Connecting to archive.ics.uci.edu (archive.ics.uci.edu)|128.195.10.252|:443... connected.\n",
            "HTTP request sent, awaiting response... 200 OK\n",
            "Length: unspecified\n",
            "Saving to: ‘NewsAggregatorDataset.zip.1’\n",
            "\n",
            "NewsAggregatorDatas     [    <=>             ]  27.87M  35.5MB/s    in 0.8s    \n",
            "\n",
            "2023-12-14 01:12:58 (35.5 MB/s) - ‘NewsAggregatorDataset.zip.1’ saved [29224203]\n",
            "\n",
            "Archive:  ./NewsAggregatorDataset.zip\n",
            "replace 2pageSessions.csv? [y]es, [n]o, [A]ll, [N]one, [r]ename: "
          ]
        }
      ],
      "source": [
        "#ファイルのダウンロード、解凍\n",
        "!wget https://archive.ics.uci.edu/ml/machine-learning-databases/00359/NewsAggregatorDataset.zip\n",
        "!unzip ./NewsAggregatorDataset.zip"
      ]
    },
    {
      "cell_type": "code",
      "execution_count": null,
      "metadata": {
        "colab": {
          "base_uri": "https://localhost:8080/"
        },
        "id": "hLvxaljvunyC",
        "outputId": "ff5fc37c-acac-4f1f-df03-12c9df5697de"
      },
      "outputs": [
        {
          "output_type": "stream",
          "name": "stdout",
          "text": [
            "SUMMARY: Dataset of references (urls) to news web pages\n",
            "\n",
            "DESCRIPTION: Dataset of references to news web pages collected from an online aggregator in the period from March 10 to August 10 of 2014. The resources are grouped into clusters that represent pages discussing the same news story. The dataset includes also references to web pages that point (has a link to) one of the news page in the collection.\n",
            "\n",
            "TAGS: web pages, news, aggregator, classification, clustering\n",
            "\n",
            "LICENSE: Public domain - Due to restrictions on content and use of the news sources, the corpus is limited to web references (urls) to web pages and does not include any text content. The references have been retrieved from the news aggregator through traditional web browsers. \n",
            "\n",
            "FILE ENCODING: UTF-8\n",
            "\n",
            "FORMAT: Tab delimited CSV files. \n",
            "\n",
            "DATA SHAPE AND STATS: 422937 news pages and divided up into:\n",
            "\n",
            "152746 \tnews of business category\n",
            "108465 \tnews of science and technology category\n",
            "115920 \tnews of business category\n",
            " 45615 \tnews of health category\n",
            "\n",
            "2076 clusters of similar news for entertainment category\n",
            "1789 clusters of similar news for science and technology category\n",
            "2019 clusters of similar news for business category\n",
            "1347 clusters of similar news for health category\n",
            "\n",
            "References to web pages containing a link to one news included in the collection are also included. They are represented as pairs of urls corresponding to 2-page browsing sessions. The collection includes 15516 2-page browsing sessions covering 946 distinct clusters divided up into:\n",
            "\n",
            "6091 2-page sessions for business category\n",
            "9425 2-page sessions for entertainment category\n",
            "\n",
            " \n",
            "\n",
            "CONTENT\n",
            "=======\n",
            "\n",
            "FILENAME #1: newsCorpora.csv (102.297.000 bytes)\n",
            "DESCRIPTION: News pages\n",
            "FORMAT: ID \\t TITLE \\t URL \\t PUBLISHER \\t CATEGORY \\t STORY \\t HOSTNAME \\t TIMESTAMP\n",
            "\n",
            "where:\n",
            "ID\t\tNumeric ID\n",
            "TITLE\t\tNews title \n",
            "URL\t\tUrl\n",
            "PUBLISHER\tPublisher name\n",
            "CATEGORY\tNews category (b = business, t = science and technology, e = entertainment, m = health)\n",
            "STORY\t\tAlphanumeric ID of the cluster that includes news about the same story\n",
            "HOSTNAME\tUrl hostname\n",
            "TIMESTAMP \tApproximate time the news was published, as the number of milliseconds since the epoch 00:00:00 GMT, January 1, 1970\n",
            "\n",
            "\n",
            "FILENAME #2: 2pageSessions.csv (3.049.986 bytes)\n",
            "DESCRIPTION: 2-page sessions\n",
            "FORMAT: STORY \\t HOSTNAME \\t CATEGORY \\t URL\n",
            "\n",
            "where:\n",
            "STORY\t\tAlphanumeric ID of the cluster that includes news about the same story\n",
            "HOSTNAME\tUrl hostname\n",
            "CATEGORY\tNews category (b = business, t = science and technology, e = entertainment, m = health)\n",
            "URL\t\tTwo space-delimited urls representing a browsing session\n",
            "\n"
          ]
        }
      ],
      "source": [
        "file_path = 'readme.txt'\n",
        "\n",
        "# ファイルを読み込む\n",
        "with open(file_path, 'r', encoding='utf-8') as file:\n",
        "    content = file.read()\n",
        "    print(content)"
      ]
    },
    {
      "cell_type": "markdown",
      "metadata": {
        "id": "hBr65WVijSYT"
      },
      "source": [
        "**50. データの入手・整形**\n",
        "\n",
        "News Aggregator Data Setをダウンロードし、以下の要領で学習データ（train.txt），検証データ（valid.txt），評価データ（test.txt）を作成せよ．\n",
        "\n",
        "ダウンロードしたzipファイルを解凍し，readme.txtの説明を読む．\n",
        "情報源（publisher）が”Reuters”, “Huffington Post”, “Businessweek”, “Contactmusic.com”, “Daily Mail”の事例（記事）のみを抽出する．\n",
        "抽出された事例をランダムに並び替える．\n",
        "抽出された事例の80%を学習データ，残りの10%ずつを検証データと評価データに分割し，それぞれtrain.txt，valid.txt，test.txtというファイル名で保存する．ファイルには，１行に１事例を書き出すこととし，カテゴリ名と記事見出しのタブ区切り形式とせよ（このファイルは後に問題70で再利用する）．\n",
        "\n",
        "学習データと評価データを作成したら，各カテゴリの事例数を確認せよ．"
      ]
    },
    {
      "cell_type": "code",
      "execution_count": null,
      "metadata": {
        "colab": {
          "base_uri": "https://localhost:8080/",
          "height": 694
        },
        "id": "SU5uGxqhmYRN",
        "outputId": "928f7fb3-951f-4dc1-8753-ea5d8a614fe3"
      },
      "outputs": [
        {
          "output_type": "execute_result",
          "data": {
            "text/plain": [
              "   ID                                              TITLE  \\\n",
              "0   1  Fed official says weak data caused by weather,...   \n",
              "1   2  Fed's Charles Plosser sees high bar for change...   \n",
              "2   3  US open: Stocks fall after Fed official hints ...   \n",
              "3   4  Fed risks falling 'behind the curve', Charles ...   \n",
              "4   5  Fed's Plosser: Nasty Weather Has Curbed Job Gr...   \n",
              "\n",
              "                                                 URL          PUBLISHER  \\\n",
              "0  http://www.latimes.com/business/money/la-fi-mo...  Los Angeles Times   \n",
              "1  http://www.livemint.com/Politics/H2EvwJSK2VE6O...           Livemint   \n",
              "2  http://www.ifamagazine.com/news/us-open-stocks...       IFA Magazine   \n",
              "3  http://www.ifamagazine.com/news/fed-risks-fall...       IFA Magazine   \n",
              "4  http://www.moneynews.com/Economy/federal-reser...          Moneynews   \n",
              "\n",
              "  CATEGORY                          STORY             HOSTNAME      TIMESTAMP  \n",
              "0        b  ddUyU0VZz0BRneMioxUPQVP6sIxvM      www.latimes.com  1394470370698  \n",
              "1        b  ddUyU0VZz0BRneMioxUPQVP6sIxvM     www.livemint.com  1394470371207  \n",
              "2        b  ddUyU0VZz0BRneMioxUPQVP6sIxvM  www.ifamagazine.com  1394470371550  \n",
              "3        b  ddUyU0VZz0BRneMioxUPQVP6sIxvM  www.ifamagazine.com  1394470371793  \n",
              "4        b  ddUyU0VZz0BRneMioxUPQVP6sIxvM    www.moneynews.com  1394470372027  "
            ],
            "text/html": [
              "\n",
              "  <div id=\"df-c915c93e-3158-4cc2-aeb3-81a0914f755f\" class=\"colab-df-container\">\n",
              "    <div>\n",
              "<style scoped>\n",
              "    .dataframe tbody tr th:only-of-type {\n",
              "        vertical-align: middle;\n",
              "    }\n",
              "\n",
              "    .dataframe tbody tr th {\n",
              "        vertical-align: top;\n",
              "    }\n",
              "\n",
              "    .dataframe thead th {\n",
              "        text-align: right;\n",
              "    }\n",
              "</style>\n",
              "<table border=\"1\" class=\"dataframe\">\n",
              "  <thead>\n",
              "    <tr style=\"text-align: right;\">\n",
              "      <th></th>\n",
              "      <th>ID</th>\n",
              "      <th>TITLE</th>\n",
              "      <th>URL</th>\n",
              "      <th>PUBLISHER</th>\n",
              "      <th>CATEGORY</th>\n",
              "      <th>STORY</th>\n",
              "      <th>HOSTNAME</th>\n",
              "      <th>TIMESTAMP</th>\n",
              "    </tr>\n",
              "  </thead>\n",
              "  <tbody>\n",
              "    <tr>\n",
              "      <th>0</th>\n",
              "      <td>1</td>\n",
              "      <td>Fed official says weak data caused by weather,...</td>\n",
              "      <td>http://www.latimes.com/business/money/la-fi-mo...</td>\n",
              "      <td>Los Angeles Times</td>\n",
              "      <td>b</td>\n",
              "      <td>ddUyU0VZz0BRneMioxUPQVP6sIxvM</td>\n",
              "      <td>www.latimes.com</td>\n",
              "      <td>1394470370698</td>\n",
              "    </tr>\n",
              "    <tr>\n",
              "      <th>1</th>\n",
              "      <td>2</td>\n",
              "      <td>Fed's Charles Plosser sees high bar for change...</td>\n",
              "      <td>http://www.livemint.com/Politics/H2EvwJSK2VE6O...</td>\n",
              "      <td>Livemint</td>\n",
              "      <td>b</td>\n",
              "      <td>ddUyU0VZz0BRneMioxUPQVP6sIxvM</td>\n",
              "      <td>www.livemint.com</td>\n",
              "      <td>1394470371207</td>\n",
              "    </tr>\n",
              "    <tr>\n",
              "      <th>2</th>\n",
              "      <td>3</td>\n",
              "      <td>US open: Stocks fall after Fed official hints ...</td>\n",
              "      <td>http://www.ifamagazine.com/news/us-open-stocks...</td>\n",
              "      <td>IFA Magazine</td>\n",
              "      <td>b</td>\n",
              "      <td>ddUyU0VZz0BRneMioxUPQVP6sIxvM</td>\n",
              "      <td>www.ifamagazine.com</td>\n",
              "      <td>1394470371550</td>\n",
              "    </tr>\n",
              "    <tr>\n",
              "      <th>3</th>\n",
              "      <td>4</td>\n",
              "      <td>Fed risks falling 'behind the curve', Charles ...</td>\n",
              "      <td>http://www.ifamagazine.com/news/fed-risks-fall...</td>\n",
              "      <td>IFA Magazine</td>\n",
              "      <td>b</td>\n",
              "      <td>ddUyU0VZz0BRneMioxUPQVP6sIxvM</td>\n",
              "      <td>www.ifamagazine.com</td>\n",
              "      <td>1394470371793</td>\n",
              "    </tr>\n",
              "    <tr>\n",
              "      <th>4</th>\n",
              "      <td>5</td>\n",
              "      <td>Fed's Plosser: Nasty Weather Has Curbed Job Gr...</td>\n",
              "      <td>http://www.moneynews.com/Economy/federal-reser...</td>\n",
              "      <td>Moneynews</td>\n",
              "      <td>b</td>\n",
              "      <td>ddUyU0VZz0BRneMioxUPQVP6sIxvM</td>\n",
              "      <td>www.moneynews.com</td>\n",
              "      <td>1394470372027</td>\n",
              "    </tr>\n",
              "  </tbody>\n",
              "</table>\n",
              "</div>\n",
              "    <div class=\"colab-df-buttons\">\n",
              "\n",
              "  <div class=\"colab-df-container\">\n",
              "    <button class=\"colab-df-convert\" onclick=\"convertToInteractive('df-c915c93e-3158-4cc2-aeb3-81a0914f755f')\"\n",
              "            title=\"Convert this dataframe to an interactive table.\"\n",
              "            style=\"display:none;\">\n",
              "\n",
              "  <svg xmlns=\"http://www.w3.org/2000/svg\" height=\"24px\" viewBox=\"0 -960 960 960\">\n",
              "    <path d=\"M120-120v-720h720v720H120Zm60-500h600v-160H180v160Zm220 220h160v-160H400v160Zm0 220h160v-160H400v160ZM180-400h160v-160H180v160Zm440 0h160v-160H620v160ZM180-180h160v-160H180v160Zm440 0h160v-160H620v160Z\"/>\n",
              "  </svg>\n",
              "    </button>\n",
              "\n",
              "  <style>\n",
              "    .colab-df-container {\n",
              "      display:flex;\n",
              "      gap: 12px;\n",
              "    }\n",
              "\n",
              "    .colab-df-convert {\n",
              "      background-color: #E8F0FE;\n",
              "      border: none;\n",
              "      border-radius: 50%;\n",
              "      cursor: pointer;\n",
              "      display: none;\n",
              "      fill: #1967D2;\n",
              "      height: 32px;\n",
              "      padding: 0 0 0 0;\n",
              "      width: 32px;\n",
              "    }\n",
              "\n",
              "    .colab-df-convert:hover {\n",
              "      background-color: #E2EBFA;\n",
              "      box-shadow: 0px 1px 2px rgba(60, 64, 67, 0.3), 0px 1px 3px 1px rgba(60, 64, 67, 0.15);\n",
              "      fill: #174EA6;\n",
              "    }\n",
              "\n",
              "    .colab-df-buttons div {\n",
              "      margin-bottom: 4px;\n",
              "    }\n",
              "\n",
              "    [theme=dark] .colab-df-convert {\n",
              "      background-color: #3B4455;\n",
              "      fill: #D2E3FC;\n",
              "    }\n",
              "\n",
              "    [theme=dark] .colab-df-convert:hover {\n",
              "      background-color: #434B5C;\n",
              "      box-shadow: 0px 1px 3px 1px rgba(0, 0, 0, 0.15);\n",
              "      filter: drop-shadow(0px 1px 2px rgba(0, 0, 0, 0.3));\n",
              "      fill: #FFFFFF;\n",
              "    }\n",
              "  </style>\n",
              "\n",
              "    <script>\n",
              "      const buttonEl =\n",
              "        document.querySelector('#df-c915c93e-3158-4cc2-aeb3-81a0914f755f button.colab-df-convert');\n",
              "      buttonEl.style.display =\n",
              "        google.colab.kernel.accessAllowed ? 'block' : 'none';\n",
              "\n",
              "      async function convertToInteractive(key) {\n",
              "        const element = document.querySelector('#df-c915c93e-3158-4cc2-aeb3-81a0914f755f');\n",
              "        const dataTable =\n",
              "          await google.colab.kernel.invokeFunction('convertToInteractive',\n",
              "                                                    [key], {});\n",
              "        if (!dataTable) return;\n",
              "\n",
              "        const docLinkHtml = 'Like what you see? Visit the ' +\n",
              "          '<a target=\"_blank\" href=https://colab.research.google.com/notebooks/data_table.ipynb>data table notebook</a>'\n",
              "          + ' to learn more about interactive tables.';\n",
              "        element.innerHTML = '';\n",
              "        dataTable['output_type'] = 'display_data';\n",
              "        await google.colab.output.renderOutput(dataTable, element);\n",
              "        const docLink = document.createElement('div');\n",
              "        docLink.innerHTML = docLinkHtml;\n",
              "        element.appendChild(docLink);\n",
              "      }\n",
              "    </script>\n",
              "  </div>\n",
              "\n",
              "\n",
              "<div id=\"df-c58c0655-c690-4d88-98bc-c9a6d41f92a5\">\n",
              "  <button class=\"colab-df-quickchart\" onclick=\"quickchart('df-c58c0655-c690-4d88-98bc-c9a6d41f92a5')\"\n",
              "            title=\"Suggest charts\"\n",
              "            style=\"display:none;\">\n",
              "\n",
              "<svg xmlns=\"http://www.w3.org/2000/svg\" height=\"24px\"viewBox=\"0 0 24 24\"\n",
              "     width=\"24px\">\n",
              "    <g>\n",
              "        <path d=\"M19 3H5c-1.1 0-2 .9-2 2v14c0 1.1.9 2 2 2h14c1.1 0 2-.9 2-2V5c0-1.1-.9-2-2-2zM9 17H7v-7h2v7zm4 0h-2V7h2v10zm4 0h-2v-4h2v4z\"/>\n",
              "    </g>\n",
              "</svg>\n",
              "  </button>\n",
              "\n",
              "<style>\n",
              "  .colab-df-quickchart {\n",
              "      --bg-color: #E8F0FE;\n",
              "      --fill-color: #1967D2;\n",
              "      --hover-bg-color: #E2EBFA;\n",
              "      --hover-fill-color: #174EA6;\n",
              "      --disabled-fill-color: #AAA;\n",
              "      --disabled-bg-color: #DDD;\n",
              "  }\n",
              "\n",
              "  [theme=dark] .colab-df-quickchart {\n",
              "      --bg-color: #3B4455;\n",
              "      --fill-color: #D2E3FC;\n",
              "      --hover-bg-color: #434B5C;\n",
              "      --hover-fill-color: #FFFFFF;\n",
              "      --disabled-bg-color: #3B4455;\n",
              "      --disabled-fill-color: #666;\n",
              "  }\n",
              "\n",
              "  .colab-df-quickchart {\n",
              "    background-color: var(--bg-color);\n",
              "    border: none;\n",
              "    border-radius: 50%;\n",
              "    cursor: pointer;\n",
              "    display: none;\n",
              "    fill: var(--fill-color);\n",
              "    height: 32px;\n",
              "    padding: 0;\n",
              "    width: 32px;\n",
              "  }\n",
              "\n",
              "  .colab-df-quickchart:hover {\n",
              "    background-color: var(--hover-bg-color);\n",
              "    box-shadow: 0 1px 2px rgba(60, 64, 67, 0.3), 0 1px 3px 1px rgba(60, 64, 67, 0.15);\n",
              "    fill: var(--button-hover-fill-color);\n",
              "  }\n",
              "\n",
              "  .colab-df-quickchart-complete:disabled,\n",
              "  .colab-df-quickchart-complete:disabled:hover {\n",
              "    background-color: var(--disabled-bg-color);\n",
              "    fill: var(--disabled-fill-color);\n",
              "    box-shadow: none;\n",
              "  }\n",
              "\n",
              "  .colab-df-spinner {\n",
              "    border: 2px solid var(--fill-color);\n",
              "    border-color: transparent;\n",
              "    border-bottom-color: var(--fill-color);\n",
              "    animation:\n",
              "      spin 1s steps(1) infinite;\n",
              "  }\n",
              "\n",
              "  @keyframes spin {\n",
              "    0% {\n",
              "      border-color: transparent;\n",
              "      border-bottom-color: var(--fill-color);\n",
              "      border-left-color: var(--fill-color);\n",
              "    }\n",
              "    20% {\n",
              "      border-color: transparent;\n",
              "      border-left-color: var(--fill-color);\n",
              "      border-top-color: var(--fill-color);\n",
              "    }\n",
              "    30% {\n",
              "      border-color: transparent;\n",
              "      border-left-color: var(--fill-color);\n",
              "      border-top-color: var(--fill-color);\n",
              "      border-right-color: var(--fill-color);\n",
              "    }\n",
              "    40% {\n",
              "      border-color: transparent;\n",
              "      border-right-color: var(--fill-color);\n",
              "      border-top-color: var(--fill-color);\n",
              "    }\n",
              "    60% {\n",
              "      border-color: transparent;\n",
              "      border-right-color: var(--fill-color);\n",
              "    }\n",
              "    80% {\n",
              "      border-color: transparent;\n",
              "      border-right-color: var(--fill-color);\n",
              "      border-bottom-color: var(--fill-color);\n",
              "    }\n",
              "    90% {\n",
              "      border-color: transparent;\n",
              "      border-bottom-color: var(--fill-color);\n",
              "    }\n",
              "  }\n",
              "</style>\n",
              "\n",
              "  <script>\n",
              "    async function quickchart(key) {\n",
              "      const quickchartButtonEl =\n",
              "        document.querySelector('#' + key + ' button');\n",
              "      quickchartButtonEl.disabled = true;  // To prevent multiple clicks.\n",
              "      quickchartButtonEl.classList.add('colab-df-spinner');\n",
              "      try {\n",
              "        const charts = await google.colab.kernel.invokeFunction(\n",
              "            'suggestCharts', [key], {});\n",
              "      } catch (error) {\n",
              "        console.error('Error during call to suggestCharts:', error);\n",
              "      }\n",
              "      quickchartButtonEl.classList.remove('colab-df-spinner');\n",
              "      quickchartButtonEl.classList.add('colab-df-quickchart-complete');\n",
              "    }\n",
              "    (() => {\n",
              "      let quickchartButtonEl =\n",
              "        document.querySelector('#df-c58c0655-c690-4d88-98bc-c9a6d41f92a5 button');\n",
              "      quickchartButtonEl.style.display =\n",
              "        google.colab.kernel.accessAllowed ? 'block' : 'none';\n",
              "    })();\n",
              "  </script>\n",
              "</div>\n",
              "    </div>\n",
              "  </div>\n"
            ]
          },
          "metadata": {},
          "execution_count": 23
        }
      ],
      "source": [
        "import pandas as pd\n",
        "\n",
        "# ファイル読み込み\n",
        "file = './newsCorpora.csv'\n",
        "data = pd.read_csv(file, encoding='utf-8', header=None, sep='\\t', names=['ID', 'TITLE', 'URL', 'PUBLISHER', 'CATEGORY', 'STORY', 'HOSTNAME', 'TIMESTAMP'])\n",
        "data = data.replace('\"', \"'\")\n",
        "data.head()\n"
      ]
    },
    {
      "cell_type": "code",
      "execution_count": null,
      "metadata": {
        "colab": {
          "base_uri": "https://localhost:8080/",
          "height": 206
        },
        "id": "q6IC38Bmi8rr",
        "outputId": "120a9d4d-0016-404c-b0ef-4a2f47d29c59"
      },
      "outputs": [
        {
          "output_type": "execute_result",
          "data": {
            "text/plain": [
              "                                               TITLE CATEGORY\n",
              "0       Europe reaches crunch point on banking union        b\n",
              "1  ECB FOCUS-Stronger euro drowns out ECB's messa...        b\n",
              "2  Euro Anxieties Wane as Bunds Top Treasuries, S...        b\n",
              "3  Noyer Says Strong Euro Creates Unwarranted Eco...        b\n",
              "4  REFILE-Bad loan triggers key feature in ECB ba...        b"
            ],
            "text/html": [
              "\n",
              "  <div id=\"df-2d6991b6-d909-4143-a81f-fb897148d161\" class=\"colab-df-container\">\n",
              "    <div>\n",
              "<style scoped>\n",
              "    .dataframe tbody tr th:only-of-type {\n",
              "        vertical-align: middle;\n",
              "    }\n",
              "\n",
              "    .dataframe tbody tr th {\n",
              "        vertical-align: top;\n",
              "    }\n",
              "\n",
              "    .dataframe thead th {\n",
              "        text-align: right;\n",
              "    }\n",
              "</style>\n",
              "<table border=\"1\" class=\"dataframe\">\n",
              "  <thead>\n",
              "    <tr style=\"text-align: right;\">\n",
              "      <th></th>\n",
              "      <th>TITLE</th>\n",
              "      <th>CATEGORY</th>\n",
              "    </tr>\n",
              "  </thead>\n",
              "  <tbody>\n",
              "    <tr>\n",
              "      <th>0</th>\n",
              "      <td>Europe reaches crunch point on banking union</td>\n",
              "      <td>b</td>\n",
              "    </tr>\n",
              "    <tr>\n",
              "      <th>1</th>\n",
              "      <td>ECB FOCUS-Stronger euro drowns out ECB's messa...</td>\n",
              "      <td>b</td>\n",
              "    </tr>\n",
              "    <tr>\n",
              "      <th>2</th>\n",
              "      <td>Euro Anxieties Wane as Bunds Top Treasuries, S...</td>\n",
              "      <td>b</td>\n",
              "    </tr>\n",
              "    <tr>\n",
              "      <th>3</th>\n",
              "      <td>Noyer Says Strong Euro Creates Unwarranted Eco...</td>\n",
              "      <td>b</td>\n",
              "    </tr>\n",
              "    <tr>\n",
              "      <th>4</th>\n",
              "      <td>REFILE-Bad loan triggers key feature in ECB ba...</td>\n",
              "      <td>b</td>\n",
              "    </tr>\n",
              "  </tbody>\n",
              "</table>\n",
              "</div>\n",
              "    <div class=\"colab-df-buttons\">\n",
              "\n",
              "  <div class=\"colab-df-container\">\n",
              "    <button class=\"colab-df-convert\" onclick=\"convertToInteractive('df-2d6991b6-d909-4143-a81f-fb897148d161')\"\n",
              "            title=\"Convert this dataframe to an interactive table.\"\n",
              "            style=\"display:none;\">\n",
              "\n",
              "  <svg xmlns=\"http://www.w3.org/2000/svg\" height=\"24px\" viewBox=\"0 -960 960 960\">\n",
              "    <path d=\"M120-120v-720h720v720H120Zm60-500h600v-160H180v160Zm220 220h160v-160H400v160Zm0 220h160v-160H400v160ZM180-400h160v-160H180v160Zm440 0h160v-160H620v160ZM180-180h160v-160H180v160Zm440 0h160v-160H620v160Z\"/>\n",
              "  </svg>\n",
              "    </button>\n",
              "\n",
              "  <style>\n",
              "    .colab-df-container {\n",
              "      display:flex;\n",
              "      gap: 12px;\n",
              "    }\n",
              "\n",
              "    .colab-df-convert {\n",
              "      background-color: #E8F0FE;\n",
              "      border: none;\n",
              "      border-radius: 50%;\n",
              "      cursor: pointer;\n",
              "      display: none;\n",
              "      fill: #1967D2;\n",
              "      height: 32px;\n",
              "      padding: 0 0 0 0;\n",
              "      width: 32px;\n",
              "    }\n",
              "\n",
              "    .colab-df-convert:hover {\n",
              "      background-color: #E2EBFA;\n",
              "      box-shadow: 0px 1px 2px rgba(60, 64, 67, 0.3), 0px 1px 3px 1px rgba(60, 64, 67, 0.15);\n",
              "      fill: #174EA6;\n",
              "    }\n",
              "\n",
              "    .colab-df-buttons div {\n",
              "      margin-bottom: 4px;\n",
              "    }\n",
              "\n",
              "    [theme=dark] .colab-df-convert {\n",
              "      background-color: #3B4455;\n",
              "      fill: #D2E3FC;\n",
              "    }\n",
              "\n",
              "    [theme=dark] .colab-df-convert:hover {\n",
              "      background-color: #434B5C;\n",
              "      box-shadow: 0px 1px 3px 1px rgba(0, 0, 0, 0.15);\n",
              "      filter: drop-shadow(0px 1px 2px rgba(0, 0, 0, 0.3));\n",
              "      fill: #FFFFFF;\n",
              "    }\n",
              "  </style>\n",
              "\n",
              "    <script>\n",
              "      const buttonEl =\n",
              "        document.querySelector('#df-2d6991b6-d909-4143-a81f-fb897148d161 button.colab-df-convert');\n",
              "      buttonEl.style.display =\n",
              "        google.colab.kernel.accessAllowed ? 'block' : 'none';\n",
              "\n",
              "      async function convertToInteractive(key) {\n",
              "        const element = document.querySelector('#df-2d6991b6-d909-4143-a81f-fb897148d161');\n",
              "        const dataTable =\n",
              "          await google.colab.kernel.invokeFunction('convertToInteractive',\n",
              "                                                    [key], {});\n",
              "        if (!dataTable) return;\n",
              "\n",
              "        const docLinkHtml = 'Like what you see? Visit the ' +\n",
              "          '<a target=\"_blank\" href=https://colab.research.google.com/notebooks/data_table.ipynb>data table notebook</a>'\n",
              "          + ' to learn more about interactive tables.';\n",
              "        element.innerHTML = '';\n",
              "        dataTable['output_type'] = 'display_data';\n",
              "        await google.colab.output.renderOutput(dataTable, element);\n",
              "        const docLink = document.createElement('div');\n",
              "        docLink.innerHTML = docLinkHtml;\n",
              "        element.appendChild(docLink);\n",
              "      }\n",
              "    </script>\n",
              "  </div>\n",
              "\n",
              "\n",
              "<div id=\"df-8a8b96ca-56ab-483d-993f-30453ba21b8b\">\n",
              "  <button class=\"colab-df-quickchart\" onclick=\"quickchart('df-8a8b96ca-56ab-483d-993f-30453ba21b8b')\"\n",
              "            title=\"Suggest charts\"\n",
              "            style=\"display:none;\">\n",
              "\n",
              "<svg xmlns=\"http://www.w3.org/2000/svg\" height=\"24px\"viewBox=\"0 0 24 24\"\n",
              "     width=\"24px\">\n",
              "    <g>\n",
              "        <path d=\"M19 3H5c-1.1 0-2 .9-2 2v14c0 1.1.9 2 2 2h14c1.1 0 2-.9 2-2V5c0-1.1-.9-2-2-2zM9 17H7v-7h2v7zm4 0h-2V7h2v10zm4 0h-2v-4h2v4z\"/>\n",
              "    </g>\n",
              "</svg>\n",
              "  </button>\n",
              "\n",
              "<style>\n",
              "  .colab-df-quickchart {\n",
              "      --bg-color: #E8F0FE;\n",
              "      --fill-color: #1967D2;\n",
              "      --hover-bg-color: #E2EBFA;\n",
              "      --hover-fill-color: #174EA6;\n",
              "      --disabled-fill-color: #AAA;\n",
              "      --disabled-bg-color: #DDD;\n",
              "  }\n",
              "\n",
              "  [theme=dark] .colab-df-quickchart {\n",
              "      --bg-color: #3B4455;\n",
              "      --fill-color: #D2E3FC;\n",
              "      --hover-bg-color: #434B5C;\n",
              "      --hover-fill-color: #FFFFFF;\n",
              "      --disabled-bg-color: #3B4455;\n",
              "      --disabled-fill-color: #666;\n",
              "  }\n",
              "\n",
              "  .colab-df-quickchart {\n",
              "    background-color: var(--bg-color);\n",
              "    border: none;\n",
              "    border-radius: 50%;\n",
              "    cursor: pointer;\n",
              "    display: none;\n",
              "    fill: var(--fill-color);\n",
              "    height: 32px;\n",
              "    padding: 0;\n",
              "    width: 32px;\n",
              "  }\n",
              "\n",
              "  .colab-df-quickchart:hover {\n",
              "    background-color: var(--hover-bg-color);\n",
              "    box-shadow: 0 1px 2px rgba(60, 64, 67, 0.3), 0 1px 3px 1px rgba(60, 64, 67, 0.15);\n",
              "    fill: var(--button-hover-fill-color);\n",
              "  }\n",
              "\n",
              "  .colab-df-quickchart-complete:disabled,\n",
              "  .colab-df-quickchart-complete:disabled:hover {\n",
              "    background-color: var(--disabled-bg-color);\n",
              "    fill: var(--disabled-fill-color);\n",
              "    box-shadow: none;\n",
              "  }\n",
              "\n",
              "  .colab-df-spinner {\n",
              "    border: 2px solid var(--fill-color);\n",
              "    border-color: transparent;\n",
              "    border-bottom-color: var(--fill-color);\n",
              "    animation:\n",
              "      spin 1s steps(1) infinite;\n",
              "  }\n",
              "\n",
              "  @keyframes spin {\n",
              "    0% {\n",
              "      border-color: transparent;\n",
              "      border-bottom-color: var(--fill-color);\n",
              "      border-left-color: var(--fill-color);\n",
              "    }\n",
              "    20% {\n",
              "      border-color: transparent;\n",
              "      border-left-color: var(--fill-color);\n",
              "      border-top-color: var(--fill-color);\n",
              "    }\n",
              "    30% {\n",
              "      border-color: transparent;\n",
              "      border-left-color: var(--fill-color);\n",
              "      border-top-color: var(--fill-color);\n",
              "      border-right-color: var(--fill-color);\n",
              "    }\n",
              "    40% {\n",
              "      border-color: transparent;\n",
              "      border-right-color: var(--fill-color);\n",
              "      border-top-color: var(--fill-color);\n",
              "    }\n",
              "    60% {\n",
              "      border-color: transparent;\n",
              "      border-right-color: var(--fill-color);\n",
              "    }\n",
              "    80% {\n",
              "      border-color: transparent;\n",
              "      border-right-color: var(--fill-color);\n",
              "      border-bottom-color: var(--fill-color);\n",
              "    }\n",
              "    90% {\n",
              "      border-color: transparent;\n",
              "      border-bottom-color: var(--fill-color);\n",
              "    }\n",
              "  }\n",
              "</style>\n",
              "\n",
              "  <script>\n",
              "    async function quickchart(key) {\n",
              "      const quickchartButtonEl =\n",
              "        document.querySelector('#' + key + ' button');\n",
              "      quickchartButtonEl.disabled = true;  // To prevent multiple clicks.\n",
              "      quickchartButtonEl.classList.add('colab-df-spinner');\n",
              "      try {\n",
              "        const charts = await google.colab.kernel.invokeFunction(\n",
              "            'suggestCharts', [key], {});\n",
              "      } catch (error) {\n",
              "        console.error('Error during call to suggestCharts:', error);\n",
              "      }\n",
              "      quickchartButtonEl.classList.remove('colab-df-spinner');\n",
              "      quickchartButtonEl.classList.add('colab-df-quickchart-complete');\n",
              "    }\n",
              "    (() => {\n",
              "      let quickchartButtonEl =\n",
              "        document.querySelector('#df-8a8b96ca-56ab-483d-993f-30453ba21b8b button');\n",
              "      quickchartButtonEl.style.display =\n",
              "        google.colab.kernel.accessAllowed ? 'block' : 'none';\n",
              "    })();\n",
              "  </script>\n",
              "</div>\n",
              "    </div>\n",
              "  </div>\n"
            ]
          },
          "metadata": {},
          "execution_count": 24
        }
      ],
      "source": [
        "# 特定のpublisherのみ抽出\n",
        "publishers = ['Reuters', 'Huffington Post', 'Businessweek', 'Contactmusic.com', 'Daily Mail']\n",
        "data = data.loc[data['PUBLISHER'].isin(publishers), ['TITLE', 'CATEGORY']].reset_index(drop=True)\n",
        "data.head()"
      ]
    },
    {
      "cell_type": "code",
      "execution_count": null,
      "metadata": {
        "colab": {
          "base_uri": "https://localhost:8080/"
        },
        "id": "YfPn_KyKi_OI",
        "outputId": "e91dd5ae-e9a8-4d2b-8b21-203f441cf327"
      },
      "outputs": [
        {
          "output_type": "stream",
          "name": "stdout",
          "text": [
            "学習データ\n",
            "b    4502\n",
            "e    4223\n",
            "t    1219\n",
            "m     728\n",
            "Name: CATEGORY, dtype: int64\n",
            "検証データ\n",
            "b    562\n",
            "e    528\n",
            "t    153\n",
            "m     91\n",
            "Name: CATEGORY, dtype: int64\n",
            "評価データ\n",
            "b    563\n",
            "e    528\n",
            "t    152\n",
            "m     91\n",
            "Name: CATEGORY, dtype: int64\n"
          ]
        }
      ],
      "source": [
        "# 学習用、検証用、評価用に分割する　元のデータを学習データと残りのデータ（検証データと評価データを含む）に分割\n",
        "from sklearn.model_selection import train_test_split\n",
        "\n",
        "train, valid_test = train_test_split(data, test_size=0.2, shuffle=True, random_state=64, stratify=data['CATEGORY']) #test_size=0.2はデータの20%を検証データ+評価データに割り当てる\n",
        "valid, test = train_test_split(valid_test, test_size=0.5, shuffle=True, random_state=64, stratify=valid_test['CATEGORY']) #50% shuffle=Trueで抽出された事例をランダムに並び替え\n",
        "\n",
        "# データの保存\n",
        "train.to_csv('./train.txt', sep='\\t', index=False)\n",
        "valid.to_csv('./valid.txt', sep='\\t', index=False)\n",
        "test.to_csv('./test.txt', sep='\\t', index=False)\n",
        "\n",
        "# データ数の確認\n",
        "print('学習データ')\n",
        "print(train['CATEGORY'].value_counts())\n",
        "print('検証データ')\n",
        "print(valid['CATEGORY'].value_counts())\n",
        "print('評価データ')\n",
        "print(test['CATEGORY'].value_counts())"
      ]
    },
    {
      "cell_type": "markdown",
      "metadata": {
        "id": "MdOEQUbuyfW5"
      },
      "source": [
        "pandas：データ解析を容易にする機能を提供するPythonのデータ解析ライブラリ\n",
        "\n",
        "DateFrame：異なる型のデータを入れることが出来る\n",
        "\n",
        "data.head()：データフレームの最初の数行を表示\n",
        "\n",
        "data.loc：行および列のラベルに基づいてデータを選択する\n",
        "\n",
        ".isin()：データフレームやシリーズの要素が指定された値の中に含まれているかどうかを確認\n",
        "\n",
        ".reset_index()：データフレームのインデックスをリセット。新しいデータフレームが作成され、元のインデックスは新しい列として追加\n",
        "\n",
        "Scikit-learn：データの分割や検証など、モデル構築に関連するさまざまな機能を提供するモジュール。機械学習モデルのトレーニング、評価、パラメータの選択などに関するユーティリティ関数やクラスが含まれる\n",
        "\n",
        "train_test_split：データセットをトレーニングデータとテストデータに分割するための関数\n",
        "\n",
        ".to_csv：データフレームをCSVファイルにエクスポート\n",
        "\n",
        ".value_counts()：属するデータの数をカウント\n",
        "\n",
        "\n",
        "\n",
        "CATEGORY ニュースのカテゴリー（b = ビジネス、e = エンターテインメント、t = 科学技術、m = 健康）"
      ]
    },
    {
      "cell_type": "markdown",
      "metadata": {
        "id": "VrFAVEP9w4Kw"
      },
      "source": [
        "**51. 特徴量抽出**\n",
        "\n",
        "学習データ，検証データ，評価データから特徴量を抽出し，それぞれtrain.feature.txt，valid.feature.txt，test.feature.txtというファイル名で保存せよ． なお，カテゴリ分類に有用そうな特徴量は各自で自由に設計せよ．記事の見出しを単語列に変換したものが最低限のベースラインとなるであろう．"
      ]
    },
    {
      "cell_type": "code",
      "execution_count": null,
      "metadata": {
        "colab": {
          "base_uri": "https://localhost:8080/",
          "height": 206
        },
        "id": "Gn7T9VN2i_Lq",
        "outputId": "8fb1b20c-b168-4ab7-94e9-961e297fe7c3"
      },
      "outputs": [
        {
          "output_type": "execute_result",
          "data": {
            "text/plain": [
              "                                               TITLE CATEGORY\n",
              "0  justin bieber under investig for attempt robbe...        e\n",
              "1  exxon report claim world highli unlik to limit...        b\n",
              "2  jack white record releas singl in hour for rec...        e\n",
              "3  presid barack obama releas proclam declar june...        t\n",
              "4   samsung share steadi after chairman heart attack        m"
            ],
            "text/html": [
              "\n",
              "  <div id=\"df-de35b815-0b4c-4f89-aa92-491d148fd7e0\" class=\"colab-df-container\">\n",
              "    <div>\n",
              "<style scoped>\n",
              "    .dataframe tbody tr th:only-of-type {\n",
              "        vertical-align: middle;\n",
              "    }\n",
              "\n",
              "    .dataframe tbody tr th {\n",
              "        vertical-align: top;\n",
              "    }\n",
              "\n",
              "    .dataframe thead th {\n",
              "        text-align: right;\n",
              "    }\n",
              "</style>\n",
              "<table border=\"1\" class=\"dataframe\">\n",
              "  <thead>\n",
              "    <tr style=\"text-align: right;\">\n",
              "      <th></th>\n",
              "      <th>TITLE</th>\n",
              "      <th>CATEGORY</th>\n",
              "    </tr>\n",
              "  </thead>\n",
              "  <tbody>\n",
              "    <tr>\n",
              "      <th>0</th>\n",
              "      <td>justin bieber under investig for attempt robbe...</td>\n",
              "      <td>e</td>\n",
              "    </tr>\n",
              "    <tr>\n",
              "      <th>1</th>\n",
              "      <td>exxon report claim world highli unlik to limit...</td>\n",
              "      <td>b</td>\n",
              "    </tr>\n",
              "    <tr>\n",
              "      <th>2</th>\n",
              "      <td>jack white record releas singl in hour for rec...</td>\n",
              "      <td>e</td>\n",
              "    </tr>\n",
              "    <tr>\n",
              "      <th>3</th>\n",
              "      <td>presid barack obama releas proclam declar june...</td>\n",
              "      <td>t</td>\n",
              "    </tr>\n",
              "    <tr>\n",
              "      <th>4</th>\n",
              "      <td>samsung share steadi after chairman heart attack</td>\n",
              "      <td>m</td>\n",
              "    </tr>\n",
              "  </tbody>\n",
              "</table>\n",
              "</div>\n",
              "    <div class=\"colab-df-buttons\">\n",
              "\n",
              "  <div class=\"colab-df-container\">\n",
              "    <button class=\"colab-df-convert\" onclick=\"convertToInteractive('df-de35b815-0b4c-4f89-aa92-491d148fd7e0')\"\n",
              "            title=\"Convert this dataframe to an interactive table.\"\n",
              "            style=\"display:none;\">\n",
              "\n",
              "  <svg xmlns=\"http://www.w3.org/2000/svg\" height=\"24px\" viewBox=\"0 -960 960 960\">\n",
              "    <path d=\"M120-120v-720h720v720H120Zm60-500h600v-160H180v160Zm220 220h160v-160H400v160Zm0 220h160v-160H400v160ZM180-400h160v-160H180v160Zm440 0h160v-160H620v160ZM180-180h160v-160H180v160Zm440 0h160v-160H620v160Z\"/>\n",
              "  </svg>\n",
              "    </button>\n",
              "\n",
              "  <style>\n",
              "    .colab-df-container {\n",
              "      display:flex;\n",
              "      gap: 12px;\n",
              "    }\n",
              "\n",
              "    .colab-df-convert {\n",
              "      background-color: #E8F0FE;\n",
              "      border: none;\n",
              "      border-radius: 50%;\n",
              "      cursor: pointer;\n",
              "      display: none;\n",
              "      fill: #1967D2;\n",
              "      height: 32px;\n",
              "      padding: 0 0 0 0;\n",
              "      width: 32px;\n",
              "    }\n",
              "\n",
              "    .colab-df-convert:hover {\n",
              "      background-color: #E2EBFA;\n",
              "      box-shadow: 0px 1px 2px rgba(60, 64, 67, 0.3), 0px 1px 3px 1px rgba(60, 64, 67, 0.15);\n",
              "      fill: #174EA6;\n",
              "    }\n",
              "\n",
              "    .colab-df-buttons div {\n",
              "      margin-bottom: 4px;\n",
              "    }\n",
              "\n",
              "    [theme=dark] .colab-df-convert {\n",
              "      background-color: #3B4455;\n",
              "      fill: #D2E3FC;\n",
              "    }\n",
              "\n",
              "    [theme=dark] .colab-df-convert:hover {\n",
              "      background-color: #434B5C;\n",
              "      box-shadow: 0px 1px 3px 1px rgba(0, 0, 0, 0.15);\n",
              "      filter: drop-shadow(0px 1px 2px rgba(0, 0, 0, 0.3));\n",
              "      fill: #FFFFFF;\n",
              "    }\n",
              "  </style>\n",
              "\n",
              "    <script>\n",
              "      const buttonEl =\n",
              "        document.querySelector('#df-de35b815-0b4c-4f89-aa92-491d148fd7e0 button.colab-df-convert');\n",
              "      buttonEl.style.display =\n",
              "        google.colab.kernel.accessAllowed ? 'block' : 'none';\n",
              "\n",
              "      async function convertToInteractive(key) {\n",
              "        const element = document.querySelector('#df-de35b815-0b4c-4f89-aa92-491d148fd7e0');\n",
              "        const dataTable =\n",
              "          await google.colab.kernel.invokeFunction('convertToInteractive',\n",
              "                                                    [key], {});\n",
              "        if (!dataTable) return;\n",
              "\n",
              "        const docLinkHtml = 'Like what you see? Visit the ' +\n",
              "          '<a target=\"_blank\" href=https://colab.research.google.com/notebooks/data_table.ipynb>data table notebook</a>'\n",
              "          + ' to learn more about interactive tables.';\n",
              "        element.innerHTML = '';\n",
              "        dataTable['output_type'] = 'display_data';\n",
              "        await google.colab.output.renderOutput(dataTable, element);\n",
              "        const docLink = document.createElement('div');\n",
              "        docLink.innerHTML = docLinkHtml;\n",
              "        element.appendChild(docLink);\n",
              "      }\n",
              "    </script>\n",
              "  </div>\n",
              "\n",
              "\n",
              "<div id=\"df-85525ba3-67a8-4543-af46-1d55b9a1ae20\">\n",
              "  <button class=\"colab-df-quickchart\" onclick=\"quickchart('df-85525ba3-67a8-4543-af46-1d55b9a1ae20')\"\n",
              "            title=\"Suggest charts\"\n",
              "            style=\"display:none;\">\n",
              "\n",
              "<svg xmlns=\"http://www.w3.org/2000/svg\" height=\"24px\"viewBox=\"0 0 24 24\"\n",
              "     width=\"24px\">\n",
              "    <g>\n",
              "        <path d=\"M19 3H5c-1.1 0-2 .9-2 2v14c0 1.1.9 2 2 2h14c1.1 0 2-.9 2-2V5c0-1.1-.9-2-2-2zM9 17H7v-7h2v7zm4 0h-2V7h2v10zm4 0h-2v-4h2v4z\"/>\n",
              "    </g>\n",
              "</svg>\n",
              "  </button>\n",
              "\n",
              "<style>\n",
              "  .colab-df-quickchart {\n",
              "      --bg-color: #E8F0FE;\n",
              "      --fill-color: #1967D2;\n",
              "      --hover-bg-color: #E2EBFA;\n",
              "      --hover-fill-color: #174EA6;\n",
              "      --disabled-fill-color: #AAA;\n",
              "      --disabled-bg-color: #DDD;\n",
              "  }\n",
              "\n",
              "  [theme=dark] .colab-df-quickchart {\n",
              "      --bg-color: #3B4455;\n",
              "      --fill-color: #D2E3FC;\n",
              "      --hover-bg-color: #434B5C;\n",
              "      --hover-fill-color: #FFFFFF;\n",
              "      --disabled-bg-color: #3B4455;\n",
              "      --disabled-fill-color: #666;\n",
              "  }\n",
              "\n",
              "  .colab-df-quickchart {\n",
              "    background-color: var(--bg-color);\n",
              "    border: none;\n",
              "    border-radius: 50%;\n",
              "    cursor: pointer;\n",
              "    display: none;\n",
              "    fill: var(--fill-color);\n",
              "    height: 32px;\n",
              "    padding: 0;\n",
              "    width: 32px;\n",
              "  }\n",
              "\n",
              "  .colab-df-quickchart:hover {\n",
              "    background-color: var(--hover-bg-color);\n",
              "    box-shadow: 0 1px 2px rgba(60, 64, 67, 0.3), 0 1px 3px 1px rgba(60, 64, 67, 0.15);\n",
              "    fill: var(--button-hover-fill-color);\n",
              "  }\n",
              "\n",
              "  .colab-df-quickchart-complete:disabled,\n",
              "  .colab-df-quickchart-complete:disabled:hover {\n",
              "    background-color: var(--disabled-bg-color);\n",
              "    fill: var(--disabled-fill-color);\n",
              "    box-shadow: none;\n",
              "  }\n",
              "\n",
              "  .colab-df-spinner {\n",
              "    border: 2px solid var(--fill-color);\n",
              "    border-color: transparent;\n",
              "    border-bottom-color: var(--fill-color);\n",
              "    animation:\n",
              "      spin 1s steps(1) infinite;\n",
              "  }\n",
              "\n",
              "  @keyframes spin {\n",
              "    0% {\n",
              "      border-color: transparent;\n",
              "      border-bottom-color: var(--fill-color);\n",
              "      border-left-color: var(--fill-color);\n",
              "    }\n",
              "    20% {\n",
              "      border-color: transparent;\n",
              "      border-left-color: var(--fill-color);\n",
              "      border-top-color: var(--fill-color);\n",
              "    }\n",
              "    30% {\n",
              "      border-color: transparent;\n",
              "      border-left-color: var(--fill-color);\n",
              "      border-top-color: var(--fill-color);\n",
              "      border-right-color: var(--fill-color);\n",
              "    }\n",
              "    40% {\n",
              "      border-color: transparent;\n",
              "      border-right-color: var(--fill-color);\n",
              "      border-top-color: var(--fill-color);\n",
              "    }\n",
              "    60% {\n",
              "      border-color: transparent;\n",
              "      border-right-color: var(--fill-color);\n",
              "    }\n",
              "    80% {\n",
              "      border-color: transparent;\n",
              "      border-right-color: var(--fill-color);\n",
              "      border-bottom-color: var(--fill-color);\n",
              "    }\n",
              "    90% {\n",
              "      border-color: transparent;\n",
              "      border-bottom-color: var(--fill-color);\n",
              "    }\n",
              "  }\n",
              "</style>\n",
              "\n",
              "  <script>\n",
              "    async function quickchart(key) {\n",
              "      const quickchartButtonEl =\n",
              "        document.querySelector('#' + key + ' button');\n",
              "      quickchartButtonEl.disabled = true;  // To prevent multiple clicks.\n",
              "      quickchartButtonEl.classList.add('colab-df-spinner');\n",
              "      try {\n",
              "        const charts = await google.colab.kernel.invokeFunction(\n",
              "            'suggestCharts', [key], {});\n",
              "      } catch (error) {\n",
              "        console.error('Error during call to suggestCharts:', error);\n",
              "      }\n",
              "      quickchartButtonEl.classList.remove('colab-df-spinner');\n",
              "      quickchartButtonEl.classList.add('colab-df-quickchart-complete');\n",
              "    }\n",
              "    (() => {\n",
              "      let quickchartButtonEl =\n",
              "        document.querySelector('#df-85525ba3-67a8-4543-af46-1d55b9a1ae20 button');\n",
              "      quickchartButtonEl.style.display =\n",
              "        google.colab.kernel.accessAllowed ? 'block' : 'none';\n",
              "    })();\n",
              "  </script>\n",
              "</div>\n",
              "    </div>\n",
              "  </div>\n"
            ]
          },
          "metadata": {},
          "execution_count": 26
        }
      ],
      "source": [
        "import re\n",
        "from nltk import stem\n",
        "\n",
        "# データの結合\n",
        "df = pd.concat([train, valid, test], axis=0).reset_index(drop=True)\n",
        "\n",
        "def preprocessing(text):\n",
        "    # 記号の削除\n",
        "    text_clean = re.sub(r'[\\\"\\'.,:;\\(\\)#\\|\\*\\+\\!\\?#$%&/\\]\\[\\{\\}]', '', text)\n",
        "    # ' - 'みたいなつなぎ文字を削除\n",
        "    text_clean = re.sub('\\s-\\s', ' ', text_clean)\n",
        "    # 数字の正規化(全部0にする)　テキスト内の数字がすべて０になる\n",
        "    text_clean = re.sub('[0-9]+', '0', text_clean)\n",
        "    # 小文字化\n",
        "    text_clean = text_clean.lower()\n",
        "    # ステミングで語幹だけ取り出す　単語を基本形に変換することで、処理対象の単語数を減らし、解析の一貫性を向上\n",
        "    stemmer = stem.PorterStemmer()\n",
        "    res = [stemmer.stem(x) for x in text_clean.split()]\n",
        "    return ' '.join(res)\n",
        "\n",
        "df['TITLE'] = df['TITLE'].apply(preprocessing)\n",
        "df.head()"
      ]
    },
    {
      "cell_type": "code",
      "execution_count": null,
      "metadata": {
        "colab": {
          "base_uri": "https://localhost:8080/"
        },
        "id": "VMQM8Xs_i_JT",
        "outputId": "6f0bdce0-0439-4dbb-e438-1952cdb8a947"
      },
      "outputs": [
        {
          "output_type": "stream",
          "name": "stdout",
          "text": [
            "(10672, 3132)\n"
          ]
        }
      ],
      "source": [
        "from sklearn.feature_extraction.text import TfidfVectorizer\n",
        "\n",
        "vectorizer = TfidfVectorizer(min_df=10, ngram_range=(1, 2)) # 1-gram, 2-gramでTfidfを計算\n",
        "X = vectorizer.fit_transform(df['TITLE']).toarray()\n",
        "X_df = pd.DataFrame(X, columns=vectorizer.get_feature_names_out())\n",
        "train_X = X_df.iloc[:len(train), :] # 訓練データの特徴量\n",
        "valid_X = X_df.iloc[len(train):len(train)+ len(valid), :] # 評価データの特徴量\n",
        "test_X = X_df.iloc[len(train)+ len(valid):, :] # テストデータの特徴量\n",
        "train_X.to_csv('./train.feature.txt', sep='\\t', index=False)\n",
        "valid_X.to_csv('./valid.feature.txt', sep='\\t', index=False)\n",
        "test_X.to_csv('./test.feature.txt', sep='\\t', index=False)\n",
        "print(train_X.shape)\n",
        "\n",
        "# output\n",
        "# (10672, 3132) 訓練データには10672サンプルがあり、各文章3132の特徴量（TF-IDFで考慮された単語や2-gramの組み合わせ）が存在"
      ]
    },
    {
      "cell_type": "markdown",
      "metadata": {
        "id": "qZXrb5oyXqna"
      },
      "source": [
        "nltk（Natural Language Toolkit）：Pythonで自然言語処理（NLP）タスクを行うための広く使用されるライブラリ\n",
        "\n",
        "pd.concat：データフレームを連結するために使用\n",
        "\n",
        "re.sub()：第一引数で、指定した正規表現とマッチした文字列を第二引数で、指定した文字列に置換する。戻り値は、str型。\n",
        "\n",
        ".stem()：ステミング（stemming）は、単語の語幹を取り出す処理。例えば、\"running\"や\"ran\"のような単語は\"run\"という語幹を持つ。\n",
        "\n",
        ".PorterStemmer()：自然言語処理のためのステミングアルゴリズムであるPorterステマー（Porter Stemmer）を実装したクラス。英語の単語の語幹を取り出すためのアルゴリズム。\n",
        "\n",
        ".apply()：Pandasデータフレームやシリーズの要素に関数を適用するためのメソッド\n",
        "\n",
        "''.join()：文字列を連結するためのメソッド"
      ]
    },
    {
      "cell_type": "markdown",
      "metadata": {
        "id": "AvRGyYbVcLM-"
      },
      "source": [
        "TF-IDF：自然言語処理（NLP）においてテキストデータの特徴量として広く使用される手法の一つ。単語の出現頻度（Term Frequency）と逆文書頻度（Inverse Document Frequency）の積として計算される。\n",
        "\n",
        "TF - 単語の出現頻度:単語tが文書d内で出現する回数/文書d内の全単語の総数\n",
        "\n",
        "IDF - 逆文書頻度：log(文書集合D内の文書の総数/単語tが出現する文書の数+1)\n",
        "\n",
        "TfidfVectorizer：テキストデータからTF-IDF特徴量を抽出するためのScikit-learnのクラス"
      ]
    },
    {
      "cell_type": "markdown",
      "metadata": {
        "id": "hFcMwlWSXjQ0"
      },
      "source": [
        "**52. 学習**\n",
        "\n",
        "51で構築した学習データを用いて，ロジスティック回帰モデルを学習せよ．"
      ]
    },
    {
      "cell_type": "code",
      "execution_count": null,
      "metadata": {
        "colab": {
          "base_uri": "https://localhost:8080/",
          "height": 74
        },
        "id": "nZrY4_Xgi_Gz",
        "outputId": "1659c53e-bee5-4ab1-b2de-013ac22f56e1"
      },
      "outputs": [
        {
          "output_type": "execute_result",
          "data": {
            "text/plain": [
              "LogisticRegression(max_iter=10000, random_state=64)"
            ],
            "text/html": [
              "<style>#sk-container-id-2 {color: black;background-color: white;}#sk-container-id-2 pre{padding: 0;}#sk-container-id-2 div.sk-toggleable {background-color: white;}#sk-container-id-2 label.sk-toggleable__label {cursor: pointer;display: block;width: 100%;margin-bottom: 0;padding: 0.3em;box-sizing: border-box;text-align: center;}#sk-container-id-2 label.sk-toggleable__label-arrow:before {content: \"▸\";float: left;margin-right: 0.25em;color: #696969;}#sk-container-id-2 label.sk-toggleable__label-arrow:hover:before {color: black;}#sk-container-id-2 div.sk-estimator:hover label.sk-toggleable__label-arrow:before {color: black;}#sk-container-id-2 div.sk-toggleable__content {max-height: 0;max-width: 0;overflow: hidden;text-align: left;background-color: #f0f8ff;}#sk-container-id-2 div.sk-toggleable__content pre {margin: 0.2em;color: black;border-radius: 0.25em;background-color: #f0f8ff;}#sk-container-id-2 input.sk-toggleable__control:checked~div.sk-toggleable__content {max-height: 200px;max-width: 100%;overflow: auto;}#sk-container-id-2 input.sk-toggleable__control:checked~label.sk-toggleable__label-arrow:before {content: \"▾\";}#sk-container-id-2 div.sk-estimator input.sk-toggleable__control:checked~label.sk-toggleable__label {background-color: #d4ebff;}#sk-container-id-2 div.sk-label input.sk-toggleable__control:checked~label.sk-toggleable__label {background-color: #d4ebff;}#sk-container-id-2 input.sk-hidden--visually {border: 0;clip: rect(1px 1px 1px 1px);clip: rect(1px, 1px, 1px, 1px);height: 1px;margin: -1px;overflow: hidden;padding: 0;position: absolute;width: 1px;}#sk-container-id-2 div.sk-estimator {font-family: monospace;background-color: #f0f8ff;border: 1px dotted black;border-radius: 0.25em;box-sizing: border-box;margin-bottom: 0.5em;}#sk-container-id-2 div.sk-estimator:hover {background-color: #d4ebff;}#sk-container-id-2 div.sk-parallel-item::after {content: \"\";width: 100%;border-bottom: 1px solid gray;flex-grow: 1;}#sk-container-id-2 div.sk-label:hover label.sk-toggleable__label {background-color: #d4ebff;}#sk-container-id-2 div.sk-serial::before {content: \"\";position: absolute;border-left: 1px solid gray;box-sizing: border-box;top: 0;bottom: 0;left: 50%;z-index: 0;}#sk-container-id-2 div.sk-serial {display: flex;flex-direction: column;align-items: center;background-color: white;padding-right: 0.2em;padding-left: 0.2em;position: relative;}#sk-container-id-2 div.sk-item {position: relative;z-index: 1;}#sk-container-id-2 div.sk-parallel {display: flex;align-items: stretch;justify-content: center;background-color: white;position: relative;}#sk-container-id-2 div.sk-item::before, #sk-container-id-2 div.sk-parallel-item::before {content: \"\";position: absolute;border-left: 1px solid gray;box-sizing: border-box;top: 0;bottom: 0;left: 50%;z-index: -1;}#sk-container-id-2 div.sk-parallel-item {display: flex;flex-direction: column;z-index: 1;position: relative;background-color: white;}#sk-container-id-2 div.sk-parallel-item:first-child::after {align-self: flex-end;width: 50%;}#sk-container-id-2 div.sk-parallel-item:last-child::after {align-self: flex-start;width: 50%;}#sk-container-id-2 div.sk-parallel-item:only-child::after {width: 0;}#sk-container-id-2 div.sk-dashed-wrapped {border: 1px dashed gray;margin: 0 0.4em 0.5em 0.4em;box-sizing: border-box;padding-bottom: 0.4em;background-color: white;}#sk-container-id-2 div.sk-label label {font-family: monospace;font-weight: bold;display: inline-block;line-height: 1.2em;}#sk-container-id-2 div.sk-label-container {text-align: center;}#sk-container-id-2 div.sk-container {/* jupyter's `normalize.less` sets `[hidden] { display: none; }` but bootstrap.min.css set `[hidden] { display: none !important; }` so we also need the `!important` here to be able to override the default hidden behavior on the sphinx rendered scikit-learn.org. See: https://github.com/scikit-learn/scikit-learn/issues/21755 */display: inline-block !important;position: relative;}#sk-container-id-2 div.sk-text-repr-fallback {display: none;}</style><div id=\"sk-container-id-2\" class=\"sk-top-container\"><div class=\"sk-text-repr-fallback\"><pre>LogisticRegression(max_iter=10000, random_state=64)</pre><b>In a Jupyter environment, please rerun this cell to show the HTML representation or trust the notebook. <br />On GitHub, the HTML representation is unable to render, please try loading this page with nbviewer.org.</b></div><div class=\"sk-container\" hidden><div class=\"sk-item\"><div class=\"sk-estimator sk-toggleable\"><input class=\"sk-toggleable__control sk-hidden--visually\" id=\"sk-estimator-id-2\" type=\"checkbox\" checked><label for=\"sk-estimator-id-2\" class=\"sk-toggleable__label sk-toggleable__label-arrow\">LogisticRegression</label><div class=\"sk-toggleable__content\"><pre>LogisticRegression(max_iter=10000, random_state=64)</pre></div></div></div></div></div>"
            ]
          },
          "metadata": {},
          "execution_count": 28
        }
      ],
      "source": [
        "from sklearn.linear_model import LogisticRegression\n",
        "\n",
        "# モデルの学習\n",
        "lg = LogisticRegression(random_state=64, max_iter=10000)\n",
        "lg.fit(train_X, train['CATEGORY'])"
      ]
    },
    {
      "cell_type": "markdown",
      "metadata": {
        "id": "n4xk0zDSgFHB"
      },
      "source": [
        "random_state：擬似乱数のシードを指定するパラメータであり、再現性を確保するために使用\n",
        "\n",
        "max_iter：最適化の反復回数の上限を指定\n",
        "\n",
        "model.fit(X,y)：モデルが与えられたデータに適合し、そのパラメータを学習データに基づいて最適化\n",
        "\n",
        "model: 学習するモデルのインスタンス、\n",
        "X: 訓練データの特徴量行列、\n",
        "y: 訓練データの目的変数（ラベル）"
      ]
    },
    {
      "cell_type": "markdown",
      "metadata": {
        "id": "iPc2kjTolkRS"
      },
      "source": [
        "ロジスティック回帰：主に2つのクラス（二項分類）を分離するための統計的な手法。線形な関係を用いて確率をモデル化し、その確率をもとにクラスの割り当てる。入力変数の線形結合を取り、その結果を0から1の範囲に変換するためのシグモイド関数（ロジスティック関数）を用いる。\n",
        "\n",
        "2値の分類を行え、分類の中で重要な変数について抽出する手法。\n",
        "\n",
        "分類を予測できるだけでなく、影響を与えた重要な変数を見つけ出せることでサービスなどの改善点や重要視すべき点を客観的に判断できる。"
      ]
    },
    {
      "cell_type": "markdown",
      "metadata": {
        "id": "vk1wM4lzeeYm"
      },
      "source": [
        "**53. 予測**\n",
        "\n",
        "52で学習したロジスティック回帰モデルを用い，与えられた記事見出しからカテゴリとその予測確率を計算するプログラムを実装せよ．"
      ]
    },
    {
      "cell_type": "code",
      "execution_count": null,
      "metadata": {
        "colab": {
          "base_uri": "https://localhost:8080/"
        },
        "id": "TSR6GW0ii_EP",
        "outputId": "d235d647-41a7-4782-aaa1-b692163192ae"
      },
      "outputs": [
        {
          "output_type": "stream",
          "name": "stdout",
          "text": [
            "['e' 'b' 'e' ... 'b' 'b' 'b']\n",
            "[0.86630771 0.44282371 0.77700868 ... 0.94633194 0.58458946 0.82762483]\n"
          ]
        }
      ],
      "source": [
        "import numpy as np\n",
        "\n",
        "def score(lg, X): #与えられたロジスティックス回帰モデルと特徴量を用いて予測と確率を計算\n",
        "    pred = lg.predict(X)\n",
        "    proba = np.max(lg.predict_proba(X), axis=1)\n",
        "    return pred, proba\n",
        "\n",
        "train_pred, train_proba = score(lg, train_X)\n",
        "valid_pred, valid_proba = score(lg, valid_X)\n",
        "test_pred, test_proba = score(lg, test_X)\n",
        "\n",
        "print(train_pred)\n",
        "print(train_proba)"
      ]
    },
    {
      "cell_type": "markdown",
      "metadata": {
        "id": "eyTdu-pFvu1I"
      },
      "source": [
        ".predict(X)：与えられた特徴量行列 X に対して、モデルが予測したクラスのラベルを返す\n",
        "\n",
        ".predict_proba(X)：各クラスに属する確率を返す"
      ]
    },
    {
      "cell_type": "markdown",
      "metadata": {
        "id": "OABj54DYehxg"
      },
      "source": [
        "**54. 正解率の計測**\n",
        "\n",
        "52で学習したロジスティック回帰モデルの正解率を，学習データおよび評価データ上で計測せよ．"
      ]
    },
    {
      "cell_type": "code",
      "execution_count": null,
      "metadata": {
        "colab": {
          "base_uri": "https://localhost:8080/"
        },
        "id": "1fuBhZ3Ni_B0",
        "outputId": "03e031ba-1493-4f34-f6ad-920b1651feb9"
      },
      "outputs": [
        {
          "output_type": "stream",
          "name": "stdout",
          "text": [
            "正解率（学習データ）：0.931784107946027\n",
            "正解率（評価データ）：0.8875562218890555\n",
            "正解率（テストデータ）：0.9025487256371814\n"
          ]
        }
      ],
      "source": [
        "from sklearn.metrics import accuracy_score\n",
        "\n",
        "train_accuracy = accuracy_score(train['CATEGORY'], train_pred)\n",
        "valid_accuracy = accuracy_score(valid['CATEGORY'], valid_pred)\n",
        "test_accuracy = accuracy_score(test['CATEGORY'], test_pred)\n",
        "print('正解率（学習データ）：{}'.format(train_accuracy))\n",
        "print('正解率（評価データ）：{}'.format(valid_accuracy))\n",
        "print('正解率（テストデータ）：{}'.format(test_accuracy))"
      ]
    },
    {
      "cell_type": "markdown",
      "metadata": {
        "id": "8PGvP1uQypkv"
      },
      "source": [
        "accuracy_score：分類モデルの性能を評価するための指標の一つ\n",
        "\n",
        ".format()：文字列のフォーマットを指定するためのメソッド\n",
        "\n",
        "Accuracy= 正解数/全体のサンプル数\n",
        "​\n"
      ]
    },
    {
      "cell_type": "markdown",
      "metadata": {
        "id": "h1GcLnQmelp3"
      },
      "source": [
        "**55. 混同行列の作成**\n",
        "\n",
        "52で学習したロジスティック回帰モデルの混同行列（confusion matrix）を，学習データおよび評価データ上で作成せよ"
      ]
    },
    {
      "cell_type": "code",
      "execution_count": null,
      "metadata": {
        "colab": {
          "base_uri": "https://localhost:8080/",
          "height": 452
        },
        "id": "7ggzBweei-_R",
        "outputId": "1ec2121b-90a7-4974-86fd-5af08e6f6d2f"
      },
      "outputs": [
        {
          "output_type": "execute_result",
          "data": {
            "text/plain": [
              "<Axes: ylabel='TARGET'>"
            ]
          },
          "metadata": {},
          "execution_count": 31
        },
        {
          "output_type": "display_data",
          "data": {
            "text/plain": [
              "<Figure size 640x480 with 2 Axes>"
            ],
            "image/png": "[encoded data removed]"
          },
          "metadata": {}
        }
      ],
      "source": [
        "from sklearn.metrics import confusion_matrix\n",
        "import matplotlib.pyplot as plt\n",
        "import seaborn as sns\n",
        "\n",
        "train_cm = confusion_matrix(train['CATEGORY'], train_pred)\n",
        "cm = pd.DataFrame(train_cm, columns=['b', 'e', 'm', 't'])\n",
        "cm['TARGET'] = ['b', 'e', 'm', 't']\n",
        "cm = cm.set_index('TARGET')\n",
        "sns.heatmap(cm, vmin=0, vmax=500, annot=True, fmt='d', cmap='BuGn')"
      ]
    },
    {
      "cell_type": "markdown",
      "metadata": {
        "id": "tgLkrSQ1zuYg"
      },
      "source": [
        "confusion_matrix：混同行列を計算する。混同行列は、クラス分類モデルの性能を評価するために用いられる行列で、真陽性（True Positive）、真陰性（True Negative）、偽陽性（False Positive）、偽陰性（False Negative）の4つの値を含む。\n",
        "\n",
        "行が実際のラベル、列が予測ラベル\n",
        "\n",
        "seaborn：統計データ可視化のための Python のライブラリ\n",
        "\n",
        ".heatmap()：行列データをカラーマップとして可視化するための関数"
      ]
    },
    {
      "cell_type": "markdown",
      "metadata": {
        "id": "F3Ele3eke5ut"
      },
      "source": [
        "**56. 適合率，再現率，F1スコアの計測**\n",
        "\n",
        "52で学習したロジスティック回帰モデルの適合率，再現率，F1スコアを，評価データ上で計測せよ．カテゴリごとに適合率，再現率，F1スコアを求め，カテゴリごとの性能をマイクロ平均（micro-average）とマクロ平均（macro-average）で統合せよ．\n",
        "\n",
        "適合率（precision）は、陽性と予測されたサンプルのうち正解したサンプルの割合。　→誤検出を下げる\n",
        "\n",
        "再現率（recall）は実際に陽性のサンプルのうち正解したサンプルの割合。　→取りこぼしを下げる\n",
        "\n",
        "F1値（F1-measure）は適合率と再現率の調和平均。"
      ]
    },
    {
      "cell_type": "code",
      "execution_count": null,
      "metadata": {
        "colab": {
          "base_uri": "https://localhost:8080/"
        },
        "id": "oIP13zVpi-7-",
        "outputId": "d8c28ed9-2775-4910-8a70-0fb87d09f822"
      },
      "outputs": [
        {
          "output_type": "stream",
          "name": "stdout",
          "text": [
            "              precision    recall  f1-score   support\n",
            "\n",
            "           b       0.91      0.95      0.93       563\n",
            "           e       0.91      0.98      0.94       528\n",
            "           m       0.93      0.55      0.69        91\n",
            "           t       0.86      0.66      0.75       152\n",
            "\n",
            "    accuracy                           0.90      1334\n",
            "   macro avg       0.90      0.79      0.83      1334\n",
            "weighted avg       0.90      0.90      0.90      1334\n",
            "\n"
          ]
        }
      ],
      "source": [
        "from sklearn.metrics import classification_report\n",
        "\n",
        "print(classification_report(test['CATEGORY'], test_pred, labels=['b', 'e', 'm', 't']))"
      ]
    },
    {
      "cell_type": "markdown",
      "metadata": {
        "id": "EzYsIBTQ2Z1T"
      },
      "source": [
        "classification_report：分類モデルの性能を評価するための詳細なレポートを生成するための関数\n",
        "\n",
        "Support (サポート)： 各クラスにおける実際のサンプル数\n",
        "\n",
        "m,tはサンプル数が少ないため特徴をうまく捉えられていなく見逃されているため再現率が低い。"
      ]
    },
    {
      "cell_type": "markdown",
      "metadata": {
        "id": "waWJNLkIfEUZ"
      },
      "source": [
        "**57. 特徴量の重みの確認**\n",
        "\n",
        "52で学習したロジスティック回帰モデルの中で，重みの高い特徴量トップ10と，重みの低い特徴量トップ10を確認せよ"
      ]
    },
    {
      "cell_type": "code",
      "execution_count": null,
      "metadata": {
        "colab": {
          "base_uri": "https://localhost:8080/"
        },
        "id": "mtE2sxmLi-3G",
        "outputId": "fb881c1d-46e1-496d-c6ba-b5ac7cffd6ff"
      },
      "outputs": [
        {
          "output_type": "stream",
          "name": "stdout",
          "text": [
            "カテゴリ: b ================\n",
            "重みの高いtop10\n",
            "1\tbank\t3.6656788727766916\n",
            "2\tfed\t3.2852083015416484\n",
            "3\tchina\t3.1298421551411657\n",
            "4\tecb\t2.992324207442487\n",
            "5\tukrain\t2.585280247009826\n",
            "6\tprofit\t2.5106040773935705\n",
            "7\teuro\t2.4512973380529495\n",
            "8\tupdat\t2.425058775143569\n",
            "9\toil\t2.392535165480896\n",
            "10\tstock\t2.3422407732557526\n",
            "重みの低いtop10\n",
            "1\tnormal\t0.0006429383265896358\n",
            "2\tmysteri\t0.0010066185598849435\n",
            "3\tprocess\t0.001176270751156383\n",
            "4\tgoal\t0.0012648971572327818\n",
            "5\twith new\t0.0014990316647759067\n",
            "6\tworth\t0.0019143545051405054\n",
            "7\treal\t0.0019931842912550373\n",
            "8\tof all\t0.002125376698128702\n",
            "9\tsenat\t0.0021530198998697893\n",
            "10\tdown in\t0.002153912697465157\n",
            "カテゴリ: e ================\n",
            "重みの高いtop10\n",
            "1\tupdat\t3.1838866069446423\n",
            "2\tkardashian\t2.757891487478053\n",
            "3\tgoogl\t2.7450073774545136\n",
            "4\tus\t2.6115857937963\n",
            "5\tfilm\t2.5972507630655834\n",
            "6\tchri\t2.5729017074668974\n",
            "7\tmovi\t2.4961558202789322\n",
            "8\twed\t2.26125551270936\n",
            "9\tchina\t2.223206412416776\n",
            "10\tstudi\t2.2226725938688374\n",
            "重みの低いtop10\n",
            "1\tnorth\t0.00022715040113206988\n",
            "2\ttear\t0.000344558988653116\n",
            "3\ttheori\t0.00035906539228928547\n",
            "4\tservic\t0.0004892043113757941\n",
            "5\tupdat franc\t0.0012755202666818873\n",
            "6\tyr\t0.0016809162827202977\n",
            "7\tnorth american\t0.0018951428549535652\n",
            "8\till\t0.002216859216182856\n",
            "9\tto keep\t0.002394721223031723\n",
            "10\tha\t0.0024939343541738393\n",
            "カテゴリ: m ================\n",
            "重みの高いtop10\n",
            "1\tebola\t4.365571231142389\n",
            "2\tstudi\t4.088594432166162\n",
            "3\tfda\t3.4015081982756237\n",
            "4\tcancer\t3.350160858510069\n",
            "5\tdrug\t3.196808246049195\n",
            "6\tcigarett\t2.846457675817865\n",
            "7\tmer\t2.7923442835490304\n",
            "8\tdoctor\t2.62125170563741\n",
            "9\tcdc\t2.552747075239363\n",
            "10\tbrain\t2.536172127266624\n",
            "重みの低いtop10\n",
            "1\taccord\t0.0004188965184565228\n",
            "2\tcommun\t0.0005992778014726028\n",
            "3\teast\t0.0006810537624203427\n",
            "4\tno longer\t0.0009857664045741029\n",
            "5\tdue\t0.0012287198702204435\n",
            "6\tjj\t0.0013090723219851027\n",
            "7\trealli\t0.001616164722113906\n",
            "8\tteva\t0.001759711064663882\n",
            "9\tto fight\t0.0019068392547613845\n",
            "10\tto us\t0.0023379834677054088\n",
            "カテゴリ: t ================\n",
            "重みの高いtop10\n",
            "1\tgoogl\t5.050513803896498\n",
            "2\tfacebook\t4.451544728519074\n",
            "3\tappl\t4.350840535307985\n",
            "4\tmicrosoft\t3.971414929715172\n",
            "5\tclimat\t3.78747682474251\n",
            "6\ttesla\t3.124627356271036\n",
            "7\tgm\t3.046580290999705\n",
            "8\tnasa\t2.912641250973159\n",
            "9\tfcc\t2.721080980194943\n",
            "10\tsamsung\t2.702251678482836\n",
            "重みの低いtop10\n",
            "1\tillinoi\t0.0026491738462397193\n",
            "2\tmuseum\t0.0028582521681328296\n",
            "3\twith us\t0.0030445949281214715\n",
            "4\tfriend\t0.003280099726029836\n",
            "5\twarrant\t0.0034539195267184668\n",
            "6\tcraft\t0.004077301547592178\n",
            "7\tdone\t0.0047013993527739726\n",
            "8\trevamp\t0.005077024968081761\n",
            "9\tfit\t0.005260517899877487\n",
            "10\trise in\t0.006051991635066922\n"
          ]
        }
      ],
      "source": [
        "feature_names = train_X.columns.values\n",
        "for i in range(len(lg.classes_)):\n",
        "    coef = lg.coef_[i]\n",
        "    features = [(feature_names[j], np.abs(coef[j])) for j in range(len(feature_names))]\n",
        "    print('カテゴリ: {} ================'.format(lg.classes_[i]))\n",
        "    bests = sorted(features, key=lambda w: w[1], reverse=True)\n",
        "    worsts = sorted(features, key=lambda w: w[1])\n",
        "    print('重みの高いtop10')\n",
        "    for k in range(10):\n",
        "        print('{}\\t{}\\t{}'.format(k + 1, bests[k][0], bests[k][1]))\n",
        "    print('重みの低いtop10')\n",
        "    for k in range(10):\n",
        "        print('{}\\t{}\\t{}'.format(k + 1, worsts[k][0], worsts[k][1]))"
      ]
    },
    {
      "cell_type": "markdown",
      "metadata": {
        "id": "U8xshCmP2swk"
      },
      "source": [
        ".coef_：各特徴量の重みを取得\n",
        "sorted(iterable, key=key, reverse=reverse)：\n",
        "\n",
        "iterable: ソート対象のイテラブルなオブジェクト。\n",
        "\n",
        "key (オプション): ソートの基準となる関数を指定。\n",
        "\n",
        "reverse (オプション): True に設定すると降順にソート。"
      ]
    },
    {
      "cell_type": "markdown",
      "metadata": {
        "id": "27qf-xGpfIyT"
      },
      "source": [
        "**58. 正則化パラメータの変更**\n",
        "\n",
        "ロジスティック回帰モデルを学習するとき，正則化パラメータを調整することで，学習時の過学習（overfitting）の度合いを制御できる．異なる正則化パラメータでロジスティック回帰モデルを学習し，学習データ，検証データ，および評価データ上の正解率を求めよ．実験の結果は，正則化パラメータを横軸，正解率を縦軸としたグラフにまとめよ．"
      ]
    },
    {
      "cell_type": "code",
      "execution_count": null,
      "metadata": {
        "colab": {
          "base_uri": "https://localhost:8080/",
          "height": 471
        },
        "id": "NF1bxHahnL_0",
        "outputId": "900df8bc-cf0c-4ee3-ddfd-98ddbd7eb761"
      },
      "outputs": [
        {
          "output_type": "stream",
          "name": "stderr",
          "text": [
            "100%|██████████| 10/10 [03:12<00:00, 19.20s/it]\n"
          ]
        },
        {
          "output_type": "display_data",
          "data": {
            "text/plain": [
              "<Figure size 640x480 with 1 Axes>"
            ],
            "image/png": "[encoded data removed]"
          },
          "metadata": {}
        }
      ],
      "source": [
        "from tqdm import tqdm\n",
        "results = []\n",
        "for c in tqdm(np.logspace(-4, 2, 10, base=10)):\n",
        "    # モデルの学習\n",
        "    lg = LogisticRegression(random_state=64, max_iter=10000, C=c)\n",
        "    lg.fit(train_X, train['CATEGORY'])\n",
        "\n",
        "    # 予測\n",
        "    train_pred = lg.predict(train_X)\n",
        "    valid_pred = lg.predict(valid_X)\n",
        "    test_pred = lg.predict(test_X)\n",
        "\n",
        "    # 評価\n",
        "    train_acc = accuracy_score(train['CATEGORY'], train_pred)\n",
        "    valid_acc = accuracy_score(valid['CATEGORY'], valid_pred)\n",
        "    test_acc = accuracy_score(test['CATEGORY'], test_pred)\n",
        "    results.append([c, train_acc, valid_acc, test_acc])\n",
        "\n",
        "results = np.array(results)\n",
        "fig, ax = plt.subplots()\n",
        "ax.plot(results[:, 0], results[:, 1], label='train')\n",
        "ax.plot(results[:, 0], results[:, 2], label='valid')\n",
        "ax.plot(results[:, 0], results[:, 3], label='test')\n",
        "ax.set_xlabel('C')\n",
        "ax.set_ylabel('accuracy')\n",
        "ax.set_xscale('log')\n",
        "plt.show()"
      ]
    },
    {
      "cell_type": "markdown",
      "metadata": {
        "id": "rb8FJPWG3MH0"
      },
      "source": [
        "tqdm：進捗バーを提供するためのPythonのライブラリ\n",
        "forループやイテレータなどの処理において、処理が進行中であるかどうかを可視化するのに利用\n",
        "\n",
        "np.logspace()：対数スケールで等間隔に値を生成するNumPyの関数\n",
        "\n",
        ".predict()：学習済みモデルを用いて入力データ X に対して予測を行う\n",
        "\n",
        "青:train 橙:valid 緑:test\n",
        "\n",
        "C=1〜10"
      ]
    },
    {
      "cell_type": "markdown",
      "metadata": {
        "id": "S5d3qHrffj2V"
      },
      "source": [
        "**59. ハイパーパラメータの探索**\n",
        "\n",
        "学習アルゴリズムや学習パラメータを変えながら，カテゴリ分類モデルを学習せよ．検証データ上の正解率が最も高くなる学習アルゴリズム・パラメータを求めよ．また，その学習アルゴリズム・パラメータを用いたときの評価データ上の正解率を求めよ．"
      ]
    },
    {
      "cell_type": "code",
      "execution_count": null,
      "metadata": {
        "colab": {
          "base_uri": "https://localhost:8080/"
        },
        "id": "swq9k-a0qAva",
        "outputId": "578b0fbb-f9fa-4b8f-e3c5-f4535d504e92"
      },
      "outputs": [
        {
          "output_type": "stream",
          "name": "stdout",
          "text": [
            "Requirement already satisfied: optuna in /usr/local/lib/python3.10/dist-packages (3.5.0)\n",
            "Requirement already satisfied: alembic>=1.5.0 in /usr/local/lib/python3.10/dist-packages (from optuna) (1.13.0)\n",
            "Requirement already satisfied: colorlog in /usr/local/lib/python3.10/dist-packages (from optuna) (6.8.0)\n",
            "Requirement already satisfied: numpy in /usr/local/lib/python3.10/dist-packages (from optuna) (1.23.5)\n",
            "Requirement already satisfied: packaging>=20.0 in /usr/local/lib/python3.10/dist-packages (from optuna) (23.2)\n",
            "Requirement already satisfied: sqlalchemy>=1.3.0 in /usr/local/lib/python3.10/dist-packages (from optuna) (2.0.23)\n",
            "Requirement already satisfied: tqdm in /usr/local/lib/python3.10/dist-packages (from optuna) (4.66.1)\n",
            "Requirement already satisfied: PyYAML in /usr/local/lib/python3.10/dist-packages (from optuna) (6.0.1)\n",
            "Requirement already satisfied: Mako in /usr/local/lib/python3.10/dist-packages (from alembic>=1.5.0->optuna) (1.3.0)\n",
            "Requirement already satisfied: typing-extensions>=4 in /usr/local/lib/python3.10/dist-packages (from alembic>=1.5.0->optuna) (4.5.0)\n",
            "Requirement already satisfied: greenlet!=0.4.17 in /usr/local/lib/python3.10/dist-packages (from sqlalchemy>=1.3.0->optuna) (3.0.1)\n",
            "Requirement already satisfied: MarkupSafe>=0.9.2 in /usr/local/lib/python3.10/dist-packages (from Mako->alembic>=1.5.0->optuna) (2.1.3)\n"
          ]
        }
      ],
      "source": [
        "!pip install optuna"
      ]
    },
    {
      "cell_type": "code",
      "execution_count": null,
      "metadata": {
        "colab": {
          "base_uri": "https://localhost:8080/"
        },
        "id": "boJPiWzLnNrB",
        "outputId": "53b6510c-d5be-4552-f945-f0c05a8e0839"
      },
      "outputs": [
        {
          "output_type": "stream",
          "name": "stderr",
          "text": [
            "[I 2023-12-14 01:24:03,629] A new study created in memory with name: no-name-19ffde39-c385-40bf-a86f-efe9d5becf0f\n",
            "<ipython-input-36-ebdf70ef5b9a>:6: FutureWarning: suggest_loguniform has been deprecated in v3.0.0. This feature will be removed in v6.0.0. See https://github.com/optuna/optuna/releases/tag/v3.0.0. Use suggest_float(..., log=True) instead.\n",
            "  c = trial.suggest_loguniform('C', 1, 1e1)\n",
            "[I 2023-12-14 01:24:31,576] Trial 0 finished with value: 0.8950524737631185 and parameters: {'C': 1.324588224992812}. Best is trial 0 with value: 0.8950524737631185.\n",
            "<ipython-input-36-ebdf70ef5b9a>:6: FutureWarning: suggest_loguniform has been deprecated in v3.0.0. This feature will be removed in v6.0.0. See https://github.com/optuna/optuna/releases/tag/v3.0.0. Use suggest_float(..., log=True) instead.\n",
            "  c = trial.suggest_loguniform('C', 1, 1e1)\n",
            "[I 2023-12-14 01:25:02,734] Trial 1 finished with value: 0.9010494752623688 and parameters: {'C': 3.429093950539938}. Best is trial 1 with value: 0.9010494752623688.\n"
          ]
        },
        {
          "output_type": "stream",
          "name": "stdout",
          "text": [
            "Best trial:\n",
            "  Value: 0.901\n",
            "  Params: \n",
            "    C: 3.429093950539938\n"
          ]
        }
      ],
      "source": [
        "import optuna\n",
        "\n",
        "# 目的関数の設定\n",
        "def objective(trial):\n",
        "    # 探索変数\n",
        "    c = trial.suggest_loguniform('C', 1, 1e1)\n",
        "\n",
        "    # モデル\n",
        "    lg = LogisticRegression(random_state=64,\n",
        "                            max_iter=10000,\n",
        "                            C=c,\n",
        "                           )\n",
        "\n",
        "    # 学習\n",
        "    lg.fit(train_X, train['CATEGORY'])\n",
        "\n",
        "    # 検証\n",
        "    valid_pred = lg.predict(valid_X)\n",
        "    valid_acc = accuracy_score(valid['CATEGORY'], valid_pred)\n",
        "    return valid_acc\n",
        "\n",
        "# 最適化\n",
        "study = optuna.create_study(direction='maximize') #目的関数を最大化する方向で最適化\n",
        "study.optimize(objective, timeout=30)\n",
        "\n",
        "# 結果の表示\n",
        "print('Best trial:')\n",
        "trial = study.best_trial\n",
        "print('  Value: {:.3f}'.format(trial.value))\n",
        "print('  Params: ')\n",
        "for key, value in trial.params.items():\n",
        "    print('    {}: {}'.format(key, value))"
      ]
    },
    {
      "cell_type": "code",
      "execution_count": null,
      "metadata": {
        "colab": {
          "base_uri": "https://localhost:8080/"
        },
        "id": "SuFxWRhaqeIZ",
        "outputId": "1ffc2c49-ddf1-47d1-c692-55822b6ea13d"
      },
      "outputs": [
        {
          "output_type": "stream",
          "name": "stdout",
          "text": [
            "正解率（学習データ）：0.968\n",
            "正解率（検証データ）：0.901\n",
            "正解率（評価データ）：0.909\n"
          ]
        }
      ],
      "source": [
        "# パラメータの設定\n",
        "C = trial.params['C']\n",
        "\n",
        "# モデルの学習\n",
        "lg = LogisticRegression(random_state=123,\n",
        "                        max_iter=10000,\n",
        "                        C=C)\n",
        "# 学習\n",
        "lg.fit(train_X, train['CATEGORY'])\n",
        "\n",
        "# 予測値の取得\n",
        "train_pred = lg.predict(train_X)\n",
        "valid_pred = lg.predict(valid_X)\n",
        "test_pred = lg.predict(test_X)\n",
        "\n",
        "# 正解率の算出\n",
        "train_accuracy = accuracy_score(train['CATEGORY'], train_pred)\n",
        "valid_accuracy = accuracy_score(valid['CATEGORY'], valid_pred)\n",
        "test_accuracy = accuracy_score(test['CATEGORY'], test_pred)\n",
        "\n",
        "print(f'正解率（学習データ）：{train_accuracy:.3f}')\n",
        "print(f'正解率（検証データ）：{valid_accuracy:.3f}')\n",
        "print(f'正解率（評価データ）：{test_accuracy:.3f}')"
      ]
    },
    {
      "cell_type": "markdown",
      "metadata": {
        "id": "QeFXWQ_L3NMB"
      },
      "source": [
        "optuna：ベイズ最適化を使用してハイパーパラメータの最適化を行うためのライブラリ。ハイパーパラメータの探索空間を定義し、目的関数の最大化または最小化を試行錯誤的に進める。\n",
        "\n",
        ".suggest_loguniform()：対数スケールで探索するためのハイパーパラメータの提案を行うメソッド\n",
        "\n",
        ".create_study（）：新しいOptunaの研究を作成する関数\n",
        "\n",
        ".optimize()：最適化を行うメソッド\n",
        "\n",
        ".best_trial：最適な試行を取得するプロパティ"
      ]
    }
  ],
  "metadata": {
    "colab": {
      "provenance": []
    },
    "kernelspec": {
      "display_name": "Python 3",
      "name": "python3"
    },
    "language_info": {
      "name": "python"
    }
  },
  "nbformat": 4,
  "nbformat_minor": 0
}