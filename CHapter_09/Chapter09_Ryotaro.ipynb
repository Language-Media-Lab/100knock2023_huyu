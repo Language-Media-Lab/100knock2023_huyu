{
  "cells": [
    {
      "cell_type": "markdown",
      "metadata": {
        "id": "FsktV-J1u5YP"
      },
      "source": [
        "# **第9章: RNNとCNN**"
      ]
    },
    {
      "cell_type": "markdown",
      "metadata": {
        "id": "ZjFHah6PvBB0"
      },
      "source": [
        "**setup**"
      ]
    },
    {
      "cell_type": "code",
      "execution_count": null,
      "metadata": {
        "colab": {
          "base_uri": "https://localhost:8080/"
        },
        "id": "bzR_zQtKvAxX",
        "outputId": "6a03a913-2ff1-4010-f760-6c1acd86d05e"
      },
      "outputs": [
        {
          "name": "stdout",
          "output_type": "stream",
          "text": [
            "--2023-12-26 06:07:38--  https://archive.ics.uci.edu/ml/machine-learning-databases/00359/NewsAggregatorDataset.zip\n",
            "Resolving archive.ics.uci.edu (archive.ics.uci.edu)... 128.195.10.252\n",
            "Connecting to archive.ics.uci.edu (archive.ics.uci.edu)|128.195.10.252|:443... connected.\n",
            "HTTP request sent, awaiting response... 200 OK\n",
            "Length: unspecified\n",
            "Saving to: ‘NewsAggregatorDataset.zip’\n",
            "\n",
            "NewsAggregatorDatas     [     <=>            ]  27.87M  28.1MB/s    in 1.0s    \n",
            "\n",
            "2023-12-26 06:07:39 (28.1 MB/s) - ‘NewsAggregatorDataset.zip’ saved [29224203]\n",
            "\n",
            "Archive:  ./NewsAggregatorDataset.zip\n",
            "  inflating: 2pageSessions.csv       \n",
            "   creating: __MACOSX/\n",
            "  inflating: __MACOSX/._2pageSessions.csv  \n",
            "  inflating: newsCorpora.csv         \n",
            "  inflating: __MACOSX/._newsCorpora.csv  \n",
            "  inflating: readme.txt              \n",
            "  inflating: __MACOSX/._readme.txt   \n"
          ]
        }
      ],
      "source": [
        "#ファイルのダウンロード、解凍\n",
        "!wget https://archive.ics.uci.edu/ml/machine-learning-databases/00359/NewsAggregatorDataset.zip\n",
        "!unzip ./NewsAggregatorDataset.zip"
      ]
    },
    {
      "cell_type": "markdown",
      "metadata": {
        "id": "JCyetbRlu7xX"
      },
      "source": [
        "**80. ID番号への変換**"
      ]
    },
    {
      "cell_type": "code",
      "execution_count": null,
      "metadata": {
        "colab": {
          "base_uri": "https://localhost:8080/"
        },
        "id": "ye9UymiFrabL",
        "outputId": "b92ca64d-1619-479f-8345-f270a776a3c4"
      },
      "outputs": [
        {
          "name": "stdout",
          "output_type": "stream",
          "text": [
            "学習データ\n",
            "b    4502\n",
            "e    4223\n",
            "t    1219\n",
            "m     728\n",
            "Name: CATEGORY, dtype: int64\n",
            "検証データ\n",
            "b    562\n",
            "e    528\n",
            "t    153\n",
            "m     91\n",
            "Name: CATEGORY, dtype: int64\n",
            "評価データ\n",
            "b    563\n",
            "e    528\n",
            "t    152\n",
            "m     91\n",
            "Name: CATEGORY, dtype: int64\n"
          ]
        }
      ],
      "source": [
        "# データのロード\n",
        "import pandas as pd\n",
        "import re\n",
        "import numpy as np\n",
        "\n",
        "# ファイル読み込み\n",
        "file = './newsCorpora.csv'\n",
        "data = pd.read_csv(file, encoding='utf-8', header=None, sep='\\t', names=['ID', 'TITLE', 'URL', 'PUBLISHER', 'CATEGORY', 'STORY', 'HOSTNAME', 'TIMESTAMP'])\n",
        "data = data.replace('\"', \"'\")\n",
        "# 特定のpublisherのみ抽出\n",
        "publishers = ['Reuters', 'Huffington Post', 'Businessweek', 'Contactmusic.com', 'Daily Mail']\n",
        "data = data.loc[data['PUBLISHER'].isin(publishers), ['TITLE', 'CATEGORY']].reset_index(drop=True)\n",
        "\n",
        "# 前処理\n",
        "def preprocessing(text):\n",
        "    text_clean = re.sub(r'[\\\"\\'.,:;\\(\\)#\\|\\*\\+\\!\\?#$%&/\\]\\[\\{\\}]', '', text)\n",
        "    text_clean = re.sub('[0-9]+', '0', text_clean)\n",
        "    text_clean = re.sub('\\s-\\s', ' ', text_clean)\n",
        "    return text_clean\n",
        "\n",
        "data['TITLE'] = data['TITLE'].apply(preprocessing)\n",
        "\n",
        "# 学習用、検証用、評価用に分割する\n",
        "from sklearn.model_selection import train_test_split\n",
        "\n",
        "train, valid_test = train_test_split(data, test_size=0.2, shuffle=True, random_state=64, stratify=data['CATEGORY'])\n",
        "valid, test = train_test_split(valid_test, test_size=0.5, shuffle=True, random_state=64, stratify=valid_test['CATEGORY'])\n",
        "\n",
        "train = train.reset_index(drop=True)\n",
        "valid = valid.reset_index(drop=True)\n",
        "test = test.reset_index(drop=True)\n",
        "\n",
        "# データ数の確認\n",
        "print('学習データ')\n",
        "print(train['CATEGORY'].value_counts())\n",
        "print('検証データ')\n",
        "print(valid['CATEGORY'].value_counts())\n",
        "print('評価データ')\n",
        "print(test['CATEGORY'].value_counts())"
      ]
    },
    {
      "cell_type": "code",
      "execution_count": null,
      "metadata": {
        "colab": {
          "base_uri": "https://localhost:8080/"
        },
        "id": "cnCxn2K5vJq5",
        "outputId": "4fc7ba76-1e0a-45bd-d1c6-52c98d0d1555"
      },
      "outputs": [
        {
          "name": "stdout",
          "output_type": "stream",
          "text": [
            "to 1\n",
            "0 2\n",
            "in 3\n",
            "as 4\n",
            "on 5\n",
            "UPDATE 6\n",
            "for 7\n",
            "The 8\n",
            "of 9\n",
            "US 10\n"
          ]
        }
      ],
      "source": [
        "# 単語の辞書を作成\n",
        "from collections import Counter\n",
        "words = []\n",
        "for text in train['TITLE']:\n",
        "    for word in text.rstrip().split():\n",
        "        words.append(word)\n",
        "c = Counter(words)\n",
        "word2id = {}\n",
        "for i, cnt in enumerate(c.most_common()):\n",
        "    if cnt[1] > 1:\n",
        "        word2id[cnt[0]] = i + 1\n",
        "for i, cnt in enumerate(word2id.items()):\n",
        "    if i >= 10:\n",
        "        break\n",
        "    print(cnt[0], cnt[1])"
      ]
    },
    {
      "cell_type": "code",
      "execution_count": null,
      "metadata": {
        "colab": {
          "base_uri": "https://localhost:8080/"
        },
        "id": "mqnHPVe4ymN4",
        "outputId": "0af2e602-52c2-4a77-e601-1c279d102b99"
      },
      "outputs": [
        {
          "name": "stdout",
          "output_type": "stream",
          "text": [
            "Justin Bieber Under Investigation For Attempted Robbery At Dave  Busters\n",
            "[68, 76, 782, 1974, 21, 5054, 5055, 34, 1602, 0]\n"
          ]
        }
      ],
      "source": [
        "# 単語のID化\n",
        "def tokenizer(text):\n",
        "    words = text.rstrip().split()\n",
        "    return [word2id.get(word, 0) for word in words]\n",
        "\n",
        "sample = train.at[0, 'TITLE']\n",
        "print(sample)\n",
        "print(tokenizer(sample))"
      ]
    },
    {
      "cell_type": "markdown",
      "metadata": {
        "id": "v7Itnl-IvhPt"
      },
      "source": [
        "**81. RNNによる予測**"
      ]
    },
    {
      "cell_type": "code",
      "execution_count": null,
      "metadata": {
        "colab": {
          "base_uri": "https://localhost:8080/"
        },
        "id": "slyxoXwvvlw1",
        "outputId": "52d26670-c9c0-4d31-c224-7524888bd52c"
      },
      "outputs": [
        {
          "name": "stdout",
          "output_type": "stream",
          "text": [
            "tensor([[-1.5417,  1.8061, -2.7073],\n",
            "        [ 0.5717, -0.7518, -0.6477],\n",
            "        [ 1.6629,  0.3748, -1.1300],\n",
            "        [ 1.8850,  1.5584,  0.2615],\n",
            "        [-1.5417,  1.8061, -2.7073],\n",
            "        [ 1.8850,  1.5584,  0.2615]], grad_fn=<EmbeddingBackward0>)\n",
            "torch.Size([6]) -> torch.Size([6, 3])\n"
          ]
        }
      ],
      "source": [
        "import torch\n",
        "from torch import nn\n",
        "\n",
        "VOCAB_SIZE = 4\n",
        "EMB_SIZE = 3\n",
        "emb = nn.Embedding(VOCAB_SIZE, EMB_SIZE)\n",
        "\n",
        "words = torch.tensor([1, 3, 0, 2, 1, 2])\n",
        "embed_words = emb(words)\n",
        "print(embed_words)\n",
        "print(words.shape, '->', embed_words.shape)"
      ]
    },
    {
      "cell_type": "code",
      "execution_count": null,
      "metadata": {
        "colab": {
          "base_uri": "https://localhost:8080/"
        },
        "id": "JeKBrISTwOuG",
        "outputId": "b6d9b410-b857-49d0-e780-7e906c36298a"
      },
      "outputs": [
        {
          "name": "stdout",
          "output_type": "stream",
          "text": [
            "Requirement already satisfied: torchinfo in /usr/local/lib/python3.10/dist-packages (1.8.0)\n"
          ]
        }
      ],
      "source": [
        "!pip install torchinfo"
      ]
    },
    {
      "cell_type": "code",
      "execution_count": null,
      "metadata": {
        "colab": {
          "base_uri": "https://localhost:8080/"
        },
        "id": "MNJVBO3-vpA4",
        "outputId": "e1de0162-afec-4a30-8957-d8e2b852a09e"
      },
      "outputs": [
        {
          "name": "stdout",
          "output_type": "stream",
          "text": [
            "RNN(\n",
            "  (emb): Embedding(9725, 300, padding_idx=9724)\n",
            "  (rnn): LSTM(300, 50, batch_first=True)\n",
            "  (fc): Linear(in_features=50, out_features=4, bias=True)\n",
            ")\n"
          ]
        }
      ],
      "source": [
        "# RNNの作成\n",
        "# モデルの構築\n",
        "import random\n",
        "import torch\n",
        "from torch import nn\n",
        "import torch.utils.data as data\n",
        "from torchinfo import summary\n",
        "\n",
        "# 乱数のシードを設定\n",
        "# parserなどで指定\n",
        "seed = 1234\n",
        "\n",
        "random.seed(seed)\n",
        "np.random.seed(seed)\n",
        "torch.manual_seed(seed)\n",
        "torch.backends.cudnn.benchmark = False\n",
        "torch.backends.cudnn.deterministic = True\n",
        "\n",
        "def seed_worker(worker_id):\n",
        "    worker_seed = torch.initial_seed() % 2**32\n",
        "    np.random.seed(worker_seed)\n",
        "    random.seed(worker_seed)\n",
        "\n",
        "g = torch.Generator()\n",
        "g.manual_seed(seed)\n",
        "\n",
        "class RNN(nn.Module):\n",
        "    def __init__(self, vocab_size, emb_size, padding_idx, hidden_size, output_size, num_layers=1):\n",
        "        super().__init__()\n",
        "        self.emb = nn.Embedding(vocab_size, emb_size, padding_idx=padding_idx)\n",
        "        self.rnn = nn.LSTM(emb_size, hidden_size, batch_first=True)\n",
        "        self.fc = nn.Linear(hidden_size, output_size)\n",
        "\n",
        "    def forward(self, x, h0=None):\n",
        "        x = self.emb(x)\n",
        "        x, h = self.rnn(x, h0)\n",
        "        x = x[:, -1, :]\n",
        "        logits = self.fc(x)\n",
        "        return logits\n",
        "\n",
        "# パラメータの設定\n",
        "VOCAB_SIZE = len(set(word2id.values())) + 2  # 辞書のID数 + unknown + パディングID\n",
        "EMB_SIZE = 300\n",
        "PADDING_IDX = len(set(word2id.values())) + 1\n",
        "OUTPUT_SIZE = 4\n",
        "HIDDEN_SIZE = 50\n",
        "NUM_LAYERS = 1\n",
        "\n",
        "# モデルの定義\n",
        "model = RNN(VOCAB_SIZE, EMB_SIZE, PADDING_IDX, HIDDEN_SIZE, OUTPUT_SIZE, NUM_LAYERS)\n",
        "print(model)"
      ]
    },
    {
      "cell_type": "code",
      "execution_count": null,
      "metadata": {
        "colab": {
          "base_uri": "https://localhost:8080/"
        },
        "id": "fxCIyEjzvqUa",
        "outputId": "b6491eae-e870-4d4e-de2e-25ce596c00b7"
      },
      "outputs": [
        {
          "name": "stdout",
          "output_type": "stream",
          "text": [
            "tensor([[  68,   76,  782, 1974,   21, 5054, 5055,   34, 1602,    0]])\n",
            "torch.Size([1, 10])\n",
            "tensor([[0.2783, 0.2129, 0.2804, 0.2284]], grad_fn=<SoftmaxBackward0>)\n"
          ]
        }
      ],
      "source": [
        "x = torch.tensor([tokenizer(sample)], dtype=torch.int64)\n",
        "print(x)\n",
        "print(x.size())\n",
        "print(nn.Softmax(dim=-1)(model(x)))"
      ]
    },
    {
      "cell_type": "markdown",
      "metadata": {
        "id": "7dQuSACivre1"
      },
      "source": [
        "**82. 確率的勾配降下法による学習**"
      ]
    },
    {
      "cell_type": "code",
      "execution_count": null,
      "metadata": {
        "colab": {
          "base_uri": "https://localhost:8080/"
        },
        "id": "zD1k3GsvvsG0",
        "outputId": "83b574c7-2cd9-477a-f612-30895f307397"
      },
      "outputs": [
        {
          "name": "stdout",
          "output_type": "stream",
          "text": [
            "torch.Size([10672])\n",
            "tensor([2, 0, 2,  ..., 0, 0, 0])\n"
          ]
        }
      ],
      "source": [
        "# ターゲットのテンソル化\n",
        "category_dict = {'b': 0, 't': 1, 'e':2, 'm':3}\n",
        "Y_train = torch.from_numpy(train['CATEGORY'].map(category_dict).values)\n",
        "Y_valid = torch.from_numpy(valid['CATEGORY'].map(category_dict).values)\n",
        "Y_test = torch.from_numpy(test['CATEGORY'].map(category_dict).values)\n",
        "print(Y_train.size())\n",
        "print(Y_train)"
      ]
    },
    {
      "cell_type": "code",
      "execution_count": null,
      "metadata": {
        "colab": {
          "base_uri": "https://localhost:8080/"
        },
        "id": "dbrOSRp9vvbo",
        "outputId": "0da85e2f-5d97-4b57-e650-e27f30bd3ead"
      },
      "outputs": [
        {
          "name": "stdout",
          "output_type": "stream",
          "text": [
            "torch.Size([10])\n",
            "tensor(2)\n",
            "torch.Size([11])\n",
            "tensor(3)\n",
            "torch.Size([13])\n",
            "tensor(2)\n"
          ]
        }
      ],
      "source": [
        "class NewsDataset(data.Dataset):\n",
        "    \"\"\"\n",
        "    newsのDatasetクラス\n",
        "\n",
        "    Attributes\n",
        "    ----------------------------\n",
        "    X : データフレーム\n",
        "        単語ベクトルの平均をまとめたテンソル\n",
        "    y : テンソル\n",
        "        カテゴリをラベル化したテンソル\n",
        "    phase : 'train' or 'val'\n",
        "        学習か訓練かを設定する\n",
        "    \"\"\"\n",
        "    def __init__(self, X, y, phase='train'):\n",
        "        self.X = X['TITLE']\n",
        "        self.y = y\n",
        "        self.phase = phase\n",
        "\n",
        "    def __len__(self):\n",
        "        \"\"\"全データサイズを返す\"\"\"\n",
        "        return len(self.y)\n",
        "\n",
        "    def __getitem__(self, idx):\n",
        "        \"\"\"idxに対応するテンソル形式のデータとラベルを取得\"\"\"\n",
        "        inputs = torch.tensor(tokenizer(self.X[idx]))\n",
        "        return inputs, self.y[idx]\n",
        "\n",
        "train_dataset = NewsDataset(train, Y_train, phase='train')\n",
        "valid_dataset = NewsDataset(valid, Y_valid, phase='val')\n",
        "test_dataset = NewsDataset(test, Y_test, phase='val')\n",
        "# 動作確認\n",
        "idx = 0\n",
        "print(train_dataset.__getitem__(idx)[0].size())\n",
        "print(train_dataset.__getitem__(idx)[1])\n",
        "print(valid_dataset.__getitem__(idx)[0].size())\n",
        "print(valid_dataset.__getitem__(idx)[1])\n",
        "print(test_dataset.__getitem__(idx)[0].size())\n",
        "print(test_dataset.__getitem__(idx)[1])"
      ]
    },
    {
      "cell_type": "code",
      "execution_count": null,
      "metadata": {
        "colab": {
          "base_uri": "https://localhost:8080/"
        },
        "id": "Y3kKo6g0vy7f",
        "outputId": "3b4a0294-4a29-442a-d61c-d26c2660e749"
      },
      "outputs": [
        {
          "name": "stdout",
          "output_type": "stream",
          "text": [
            "torch.Size([1, 11])\n",
            "tensor([2])\n"
          ]
        }
      ],
      "source": [
        "# DataLoaderを作成\n",
        "batch_size = 1\n",
        "\n",
        "train_dataloader = data.DataLoader(\n",
        "            train_dataset, batch_size=batch_size, shuffle=True, worker_init_fn=seed_worker, generator=g)\n",
        "valid_dataloader = data.DataLoader(\n",
        "            valid_dataset, batch_size=batch_size, shuffle=False, worker_init_fn=seed_worker, generator=g)\n",
        "test_dataloader = data.DataLoader(\n",
        "            test_dataset, batch_size=batch_size, shuffle=False, worker_init_fn=seed_worker, generator=g)\n",
        "\n",
        "dataloaders_dict = {'train': train_dataloader,\n",
        "                    'val': valid_dataloader,\n",
        "                    'test': test_dataloader,\n",
        "                   }\n",
        "\n",
        "# 動作確認\n",
        "batch_iter = iter(dataloaders_dict['train'])\n",
        "inputs, labels = next(batch_iter)\n",
        "print(inputs.size())\n",
        "print(labels)"
      ]
    },
    {
      "cell_type": "code",
      "execution_count": null,
      "metadata": {
        "colab": {
          "base_uri": "https://localhost:8080/"
        },
        "id": "3QOoF7Qyv1co",
        "outputId": "062a712a-3043-4715-e6fb-730b5cd1c14a"
      },
      "outputs": [
        {
          "name": "stdout",
          "output_type": "stream",
          "text": [
            "Epoch 1 / 5\n",
            "--------------------------------------------\n"
          ]
        },
        {
          "name": "stderr",
          "output_type": "stream",
          "text": [
            "100%|██████████| 10672/10672 [06:18<00:00, 28.21it/s]\n"
          ]
        },
        {
          "name": "stdout",
          "output_type": "stream",
          "text": [
            "train Loss: 0.9959, Acc: 0.6041\n"
          ]
        },
        {
          "name": "stderr",
          "output_type": "stream",
          "text": [
            "100%|██████████| 1334/1334 [00:01<00:00, 935.88it/s]\n"
          ]
        },
        {
          "name": "stdout",
          "output_type": "stream",
          "text": [
            "val Loss: 0.7686, Acc: 0.7391\n",
            "Epoch 2 / 5\n",
            "--------------------------------------------\n"
          ]
        },
        {
          "name": "stderr",
          "output_type": "stream",
          "text": [
            "100%|██████████| 10672/10672 [07:46<00:00, 22.89it/s]\n"
          ]
        },
        {
          "name": "stdout",
          "output_type": "stream",
          "text": [
            "train Loss: 0.6217, Acc: 0.7737\n"
          ]
        },
        {
          "name": "stderr",
          "output_type": "stream",
          "text": [
            "100%|██████████| 1334/1334 [00:01<00:00, 971.36it/s]\n"
          ]
        },
        {
          "name": "stdout",
          "output_type": "stream",
          "text": [
            "val Loss: 0.6238, Acc: 0.7729\n",
            "Epoch 3 / 5\n",
            "--------------------------------------------\n"
          ]
        },
        {
          "name": "stderr",
          "output_type": "stream",
          "text": [
            "100%|██████████| 10672/10672 [07:41<00:00, 23.13it/s]\n"
          ]
        },
        {
          "name": "stdout",
          "output_type": "stream",
          "text": [
            "train Loss: 0.3893, Acc: 0.8622\n"
          ]
        },
        {
          "name": "stderr",
          "output_type": "stream",
          "text": [
            "100%|██████████| 1334/1334 [00:01<00:00, 768.27it/s]\n"
          ]
        },
        {
          "name": "stdout",
          "output_type": "stream",
          "text": [
            "val Loss: 0.5844, Acc: 0.8013\n",
            "Epoch 4 / 5\n",
            "--------------------------------------------\n"
          ]
        },
        {
          "name": "stderr",
          "output_type": "stream",
          "text": [
            "100%|██████████| 10672/10672 [07:40<00:00, 23.16it/s]\n"
          ]
        },
        {
          "name": "stdout",
          "output_type": "stream",
          "text": [
            "train Loss: 0.2284, Acc: 0.9230\n"
          ]
        },
        {
          "name": "stderr",
          "output_type": "stream",
          "text": [
            "100%|██████████| 1334/1334 [00:01<00:00, 1002.12it/s]\n"
          ]
        },
        {
          "name": "stdout",
          "output_type": "stream",
          "text": [
            "val Loss: 0.5825, Acc: 0.8096\n",
            "Epoch 5 / 5\n",
            "--------------------------------------------\n"
          ]
        },
        {
          "name": "stderr",
          "output_type": "stream",
          "text": [
            "100%|██████████| 10672/10672 [07:45<00:00, 22.90it/s]\n"
          ]
        },
        {
          "name": "stdout",
          "output_type": "stream",
          "text": [
            "train Loss: 0.1208, Acc: 0.9635\n"
          ]
        },
        {
          "name": "stderr",
          "output_type": "stream",
          "text": [
            "100%|██████████| 1334/1334 [00:01<00:00, 963.62it/s]"
          ]
        },
        {
          "name": "stdout",
          "output_type": "stream",
          "text": [
            "val Loss: 0.6255, Acc: 0.8186\n"
          ]
        },
        {
          "name": "stderr",
          "output_type": "stream",
          "text": [
            "\n"
          ]
        }
      ],
      "source": [
        "import matplotlib.pyplot as plt\n",
        "from tqdm import tqdm\n",
        "\n",
        "# 学習用の関数を定義\n",
        "def train_model(net, dataloaders_dict, criterion, optimizer, num_epochs):\n",
        "    train_loss = []\n",
        "    train_acc = []\n",
        "    valid_loss = []\n",
        "    valid_acc = []\n",
        "    # epochのループ\n",
        "    for epoch in range(num_epochs):\n",
        "        print('Epoch {} / {}'.format(epoch + 1, num_epochs))\n",
        "        print('--------------------------------------------')\n",
        "\n",
        "        # epochごとの学習と検証のループ\n",
        "        for phase in ['train', 'val']:\n",
        "            if phase == 'train':\n",
        "                net.train() # 訓練モード\n",
        "            else:\n",
        "                net.eval() # 検証モード\n",
        "\n",
        "            epoch_loss = 0.0 # epochの損失和\n",
        "            epoch_corrects = 0 # epochの正解数\n",
        "\n",
        "            # データローダーからミニバッチを取り出すループ\n",
        "            for inputs, labels in tqdm(dataloaders_dict[phase]):\n",
        "                optimizer.zero_grad() # optimizerを初期化\n",
        "\n",
        "                # 順伝播計算(forward)\n",
        "                with torch.set_grad_enabled(phase == 'train'):\n",
        "                    outputs = net(inputs)\n",
        "                    loss = criterion(outputs, labels) # 損失を計算\n",
        "                    _, preds = torch.max(outputs, 1) # ラベルを予想\n",
        "\n",
        "                    # 訓練時は逆伝播\n",
        "                    if phase == 'train':\n",
        "                        loss.backward()\n",
        "                        optimizer.step()\n",
        "\n",
        "                    # イテレーション結果の計算\n",
        "                    # lossの合計を更新\n",
        "                    epoch_loss += loss.item() * inputs.size(0)\n",
        "                    # 正解数の合計を更新\n",
        "                    epoch_corrects += torch.sum(preds == labels.data)\n",
        "\n",
        "            # epochごとのlossと正解率の表示\n",
        "            epoch_loss = epoch_loss / len(dataloaders_dict[phase].dataset)\n",
        "            epoch_acc = epoch_corrects.double() / len(dataloaders_dict[phase].dataset)\n",
        "            if phase == 'train':\n",
        "                train_loss.append(epoch_loss)\n",
        "                train_acc.append(epoch_acc)\n",
        "            else:\n",
        "                valid_loss.append(epoch_loss)\n",
        "                valid_acc.append(epoch_acc)\n",
        "\n",
        "            print('{} Loss: {:.4f}, Acc: {:.4f}'.format(phase, epoch_loss, epoch_acc))\n",
        "    return train_loss, train_acc, valid_loss, valid_acc\n",
        "\n",
        "# 学習を実行する\n",
        "\n",
        "# モデルの定義\n",
        "net = RNN(VOCAB_SIZE, EMB_SIZE, PADDING_IDX, HIDDEN_SIZE, OUTPUT_SIZE, NUM_LAYERS)\n",
        "net.train()\n",
        "\n",
        "# 損失関数の定義\n",
        "criterion = nn.CrossEntropyLoss()\n",
        "\n",
        "# 最適化手法の定義\n",
        "optimizer = torch.optim.SGD(net.parameters(), lr=0.001, momentum=0.9)\n",
        "\n",
        "num_epochs = 5\n",
        "train_loss, train_acc, valid_loss, valid_acc = train_model(net,\n",
        "            dataloaders_dict, criterion, optimizer, num_epochs=num_epochs)"
      ]
    },
    {
      "cell_type": "markdown",
      "metadata": {
        "id": "8Z8RDZkGwbJl"
      },
      "source": [
        "**83. ミニバッチ化・GPU上での学習**"
      ]
    },
    {
      "cell_type": "code",
      "execution_count": null,
      "metadata": {
        "colab": {
          "base_uri": "https://localhost:8080/"
        },
        "id": "Y_wgM6shwScP",
        "outputId": "0101b99a-d2d8-4346-e441-86fd644ea45d"
      },
      "outputs": [
        {
          "name": "stdout",
          "output_type": "stream",
          "text": [
            "tensor([[2788, 2441, 2442, 5578,   14, 2156,   63,    0, 1208, 3704,   14, 2748,\n",
            "         9724, 9724, 9724],\n",
            "        [9484,    0, 4894, 1067, 6995,   35,  390,  724,   11,  169,   19, 5015,\n",
            "         3190, 9724, 9724],\n",
            "        [ 543,  126,    8,  872, 1237, 3605,   12, 9388, 9724, 9724, 9724, 9724,\n",
            "         9724, 9724, 9724],\n",
            "        [5795,   51, 1378, 1399, 5777,  329, 1567,   80, 4692, 9724, 9724, 9724,\n",
            "         9724, 9724, 9724],\n",
            "        [  46,   47,  111,  718, 7547,   93,  145, 2468,   40,   17, 5690,  624,\n",
            "           66, 1143, 7548],\n",
            "        [5306,  128,  409,  152,   23, 1687,  400,    3, 1841,    2, 2683, 9724,\n",
            "         9724, 9724, 9724],\n",
            "        [2019, 1143, 5157,    4, 1651,  293,  493,    0, 6726, 9724, 9724, 9724,\n",
            "         9724, 9724, 9724],\n",
            "        [   6, 2650,  646,  939,  270, 6594,    0, 4484,    3,    2,  201,   90,\n",
            "         9724, 9724, 9724],\n",
            "        [ 456, 5260,   22,  702, 4314, 2889,  358,  769, 1145, 9724, 9724, 9724,\n",
            "         9724, 9724, 9724],\n",
            "        [   6,    0,   42,  137,   23,   10, 3295,  920, 1417,  868, 1321, 9724,\n",
            "         9724, 9724, 9724],\n",
            "        [ 266,  144, 1541,    9,  213,    0,   13,  978,  596, 9724, 9724, 9724,\n",
            "         9724, 9724, 9724],\n",
            "        [ 301,  638,    1, 5699, 7621,    4,   96,  133,   69,  317, 5741, 5742,\n",
            "            5,  313,    9],\n",
            "        [2185, 1250, 6905,   11, 1422, 1532, 9250, 9724, 9724, 9724, 9724, 9724,\n",
            "         9724, 9724, 9724],\n",
            "        [1997,  386, 4500,   20, 2562,  688,   13,    0, 1291, 9724, 9724, 9724,\n",
            "         9724, 9724, 9724],\n",
            "        [   0, 1286,    0,    0,   14,    0,    0, 4192,   35, 1401,    0, 9724,\n",
            "         9724, 9724, 9724],\n",
            "        [3061, 1785,    2, 3554,    0,    2,   16,  820,  286, 9724, 9724, 9724,\n",
            "         9724, 9724, 9724],\n",
            "        [ 748, 1816, 3589,  782, 1974,   14,  311, 3590,  490, 9724, 9724, 9724,\n",
            "         9724, 9724, 9724],\n",
            "        [ 189,  691,  189,  691,    1, 5614, 7783, 2043, 9724, 9724, 9724, 9724,\n",
            "         9724, 9724, 9724],\n",
            "        [1531, 9265,  241, 3752,    0,   20,  153, 9324,    0,    0, 2422, 9724,\n",
            "         9724, 9724, 9724],\n",
            "        [   8, 8635,   31,    0,  841, 1443, 2129, 6081,  176, 1118, 9724, 9724,\n",
            "         9724, 9724, 9724],\n",
            "        [   0,    0, 5623,    0, 5054, 1882,   88,   45,    0,    0, 9724, 9724,\n",
            "         9724, 9724, 9724],\n",
            "        [ 115, 2492,   20,   53,   11,  680,   22, 1751,   19, 1708,   60,  464,\n",
            "          115, 1569, 9724],\n",
            "        [ 331, 2109,   23, 5425,    5, 1808,  185,  374, 9724, 9724, 9724, 9724,\n",
            "         9724, 9724, 9724],\n",
            "        [   6,   52,   37,  406,   89, 1595,    0,   16,  572,  319,  119, 9724,\n",
            "         9724, 9724, 9724],\n",
            "        [1296,    0, 5450,    1, 2572,  191,    5,   44,  905,  203, 9724, 9724,\n",
            "         9724, 9724, 9724],\n",
            "        [  36, 1162,    1, 2430, 5628, 8746,    2,   97,    3,    2, 9724, 9724,\n",
            "         9724, 9724, 9724],\n",
            "        [ 749, 7255,   14,    8,  473, 4310, 2036, 7490, 1345,    0, 9724, 9724,\n",
            "         9724, 9724, 9724],\n",
            "        [ 304, 2891,    0, 2614,   12,  749,    0, 9724, 9724, 9724, 9724, 9724,\n",
            "         9724, 9724, 9724],\n",
            "        [ 278, 1380, 3531, 6692,  192, 4380,    1, 1435, 2975, 9724, 9724, 9724,\n",
            "         9724, 9724, 9724],\n",
            "        [   0, 1822,  177,    3, 6767,    9, 2619,  542, 4157,    2, 9724, 9724,\n",
            "         9724, 9724, 9724],\n",
            "        [ 325,  469, 8589, 2718, 1989, 1616,    7,   40,  317,  932,    3,   25,\n",
            "          151, 9724, 9724],\n",
            "        [ 123, 1710, 1455,   21,    8, 6123,  281, 1371,   91,  484, 1035,  617,\n",
            "         9724, 9724, 9724],\n",
            "        [  44, 5969, 7570,  664,   16, 7888,  231,    9, 1241, 1184, 9724, 9724,\n",
            "         9724, 9724, 9724],\n",
            "        [ 348,  279,    4,    0,   10, 3689,  783,  499,  551, 9724, 9724, 9724,\n",
            "         9724, 9724, 9724],\n",
            "        [2390,  661,  675,    1, 4244, 4313, 4303, 1298,    5, 3621,   27,    0,\n",
            "         2057, 4349, 9724],\n",
            "        [2568, 3429, 2568, 3429,  666,   92, 1368, 1990, 2852, 9724, 9724, 9724,\n",
            "         9724, 9724, 9724],\n",
            "        [ 510, 1124,   22, 1334, 1903, 7535,  820,   34,    2, 2243,  187, 9724,\n",
            "         9724, 9724, 9724],\n",
            "        [ 123,  155, 5674,  155, 4489,   11, 2616,  967,   14,   91,    0,  490,\n",
            "         9724, 9724, 9724],\n",
            "        [5511,   21,  150,  182,    0,    0,   35, 4785, 2892, 1667, 9724, 9724,\n",
            "         9724, 9724, 9724],\n",
            "        [ 147, 3533,  642,    4,   10,    0,    0,   35,  872, 6885,    2, 9724,\n",
            "         9724, 9724, 9724],\n",
            "        [   0,  279,    1, 4161,  198,    5,    0, 1466,   13, 2318, 3306, 9724,\n",
            "         9724, 9724, 9724],\n",
            "        [   8,    0,   28, 5603,    8,    0,  570,   56,  451, 9724, 9724, 9724,\n",
            "         9724, 9724, 9724],\n",
            "        [2390,  661,   14,  339,   11,  285, 4348, 2057, 4349,   11, 7091,   10,\n",
            "         3621, 9724, 9724],\n",
            "        [1713,  207,    3,  339,    1, 2793,    0, 4025, 9724, 9724, 9724, 9724,\n",
            "         9724, 9724, 9724],\n",
            "        [   6, 3382,  151, 7236, 6009, 4356,  502,  585, 9724, 9724, 9724, 9724,\n",
            "         9724, 9724, 9724],\n",
            "        [ 121,  206,   27,   44, 8026, 5665, 4776,   27,  158, 3881, 9724, 9724,\n",
            "         9724, 9724, 9724],\n",
            "        [ 393, 8339,   11, 1372, 2771, 4806,   67,  240,   14,   21,   19,    0,\n",
            "         1276, 8340, 9724],\n",
            "        [3379, 6285,   31,    0,   39,  657,   18,    8, 1707,   23,    0,  379,\n",
            "         9724, 9724, 9724],\n",
            "        [1094, 1289,   13,  456, 7194, 1407,    0, 9724, 9724, 9724, 9724, 9724,\n",
            "         9724, 9724, 9724],\n",
            "        [2473, 2474, 1143,   96,    0,    3, 4227, 6663,    4,   66,  316,   17,\n",
            "         2161,   39, 9724],\n",
            "        [ 701, 5166, 1654,  742, 1646,   18, 6744,    0, 9724, 9724, 9724, 9724,\n",
            "         9724, 9724, 9724],\n",
            "        [1207, 1454, 1207, 1454,  666,   92,   37,  824, 1600, 1183, 9724, 9724,\n",
            "         9724, 9724, 9724],\n",
            "        [ 471, 2501,  471, 3511, 4158,  152,    1,    0, 2065, 9724, 9724, 9724,\n",
            "         9724, 9724, 9724],\n",
            "        [   0,  116,   17,    0, 2746,    7,  445,  656, 7503, 9724, 9724, 9724,\n",
            "         9724, 9724, 9724],\n",
            "        [6913,  573,  318, 3135,    9,    4, 1437,    4,    2,   74,    3,   95,\n",
            "         9724, 9724, 9724],\n",
            "        [3208,  461,  942, 2635,    0, 1974, 9724, 9724, 9724, 9724, 9724, 9724,\n",
            "         9724, 9724, 9724],\n",
            "        [2365, 2236,  104,   88, 1744, 4981, 1322,  223,    2, 9724, 9724, 9724,\n",
            "         9724, 9724, 9724],\n",
            "        [ 357,  239,   12,    0,    0, 6786,  442, 4174, 3007,    1,  534,   37,\n",
            "         9724, 9724, 9724],\n",
            "        [ 190, 6326,    0,   15,   19,  727,   77,  190, 6326,  432,   34,    2,\n",
            "         9724, 9724, 9724],\n",
            "        [4302,    8, 2002,   20,   87, 4302,    8,  143,  188,   70,  277, 2086,\n",
            "         1537, 9724, 9724],\n",
            "        [1026, 4320,    1,    0,  368,    0,    0,  195, 4321, 9724, 9724, 9724,\n",
            "         9724, 9724, 9724],\n",
            "        [  70, 2631,  789, 4173,   59,   65,  461, 3006, 3500,   14, 1167,    0,\n",
            "         9724, 9724, 9724],\n",
            "        [   8, 5023, 1766,   29,   26,  194, 6025,   11, 1877,    8, 2157, 9724,\n",
            "         9724, 9724, 9724],\n",
            "        [   8, 3372,   13,   12,    0, 3779, 4168, 1021, 3555, 4226, 9724, 9724,\n",
            "         9724, 9724, 9724]])\n",
            "tensor([2, 2, 2, 0, 2, 0, 0, 0, 2, 0, 1, 1, 3, 0, 1, 0, 0, 2, 1, 2, 2, 1, 0, 0,\n",
            "        0, 0, 0, 3, 0, 0, 2, 2, 0, 0, 0, 2, 2, 2, 2, 0, 0, 3, 0, 0, 0, 0, 2, 2,\n",
            "        2, 2, 3, 2, 2, 0, 0, 0, 0, 0, 2, 2, 0, 2, 2, 1])\n"
          ]
        }
      ],
      "source": [
        "def collate_fn(batch):\n",
        "    sequences = [x[0] for x in batch]\n",
        "    labels = torch.LongTensor([x[1] for x in batch])\n",
        "    x = torch.nn.utils.rnn.pad_sequence(sequences, batch_first=True, padding_value=PADDING_IDX)\n",
        "    return x, labels\n",
        "\n",
        "# DataLoaderを作成\n",
        "batch_size = 64\n",
        "\n",
        "train_dataloader = data.DataLoader(\n",
        "            train_dataset, batch_size=batch_size, shuffle=True, collate_fn=collate_fn, worker_init_fn=seed_worker, generator=g)\n",
        "valid_dataloader = data.DataLoader(\n",
        "            valid_dataset, batch_size=batch_size, shuffle=False, collate_fn=collate_fn, worker_init_fn=seed_worker, generator=g)\n",
        "test_dataloader = data.DataLoader(\n",
        "            test_dataset, batch_size=batch_size, shuffle=False, collate_fn=collate_fn, worker_init_fn=seed_worker, generator=g)\n",
        "\n",
        "dataloaders_dict = {'train': train_dataloader,\n",
        "                    'val': valid_dataloader,\n",
        "                    'test': test_dataloader,\n",
        "                   }\n",
        "\n",
        "# 動作確認\n",
        "batch_iter = iter(dataloaders_dict['train'])\n",
        "inputs, labels = next(batch_iter)\n",
        "print(inputs)\n",
        "print(labels)"
      ]
    },
    {
      "cell_type": "code",
      "execution_count": null,
      "metadata": {
        "colab": {
          "base_uri": "https://localhost:8080/"
        },
        "id": "MxtIBAgbBHnc",
        "outputId": "feea24e2-6ed1-4755-9065-d39adfedc704"
      },
      "outputs": [
        {
          "name": "stdout",
          "output_type": "stream",
          "text": [
            "Looking in links: https://download.pytorch.org/whl/cuXXX/torch_stable.html\n",
            "Requirement already satisfied: torch in /usr/local/lib/python3.10/dist-packages (2.1.0+cu121)\n",
            "Requirement already satisfied: torchvision in /usr/local/lib/python3.10/dist-packages (0.16.0+cu121)\n",
            "Requirement already satisfied: torchaudio in /usr/local/lib/python3.10/dist-packages (2.1.0+cu121)\n",
            "Requirement already satisfied: filelock in /usr/local/lib/python3.10/dist-packages (from torch) (3.13.1)\n",
            "Requirement already satisfied: typing-extensions in /usr/local/lib/python3.10/dist-packages (from torch) (4.5.0)\n",
            "Requirement already satisfied: sympy in /usr/local/lib/python3.10/dist-packages (from torch) (1.12)\n",
            "Requirement already satisfied: networkx in /usr/local/lib/python3.10/dist-packages (from torch) (3.2.1)\n",
            "Requirement already satisfied: jinja2 in /usr/local/lib/python3.10/dist-packages (from torch) (3.1.2)\n",
            "Requirement already satisfied: fsspec in /usr/local/lib/python3.10/dist-packages (from torch) (2023.6.0)\n",
            "Requirement already satisfied: triton==2.1.0 in /usr/local/lib/python3.10/dist-packages (from torch) (2.1.0)\n",
            "Requirement already satisfied: numpy in /usr/local/lib/python3.10/dist-packages (from torchvision) (1.23.5)\n",
            "Requirement already satisfied: requests in /usr/local/lib/python3.10/dist-packages (from torchvision) (2.31.0)\n",
            "Requirement already satisfied: pillow!=8.3.*,>=5.3.0 in /usr/local/lib/python3.10/dist-packages (from torchvision) (9.4.0)\n",
            "Requirement already satisfied: MarkupSafe>=2.0 in /usr/local/lib/python3.10/dist-packages (from jinja2->torch) (2.1.3)\n",
            "Requirement already satisfied: charset-normalizer<4,>=2 in /usr/local/lib/python3.10/dist-packages (from requests->torchvision) (3.3.2)\n",
            "Requirement already satisfied: idna<4,>=2.5 in /usr/local/lib/python3.10/dist-packages (from requests->torchvision) (3.6)\n",
            "Requirement already satisfied: urllib3<3,>=1.21.1 in /usr/local/lib/python3.10/dist-packages (from requests->torchvision) (2.0.7)\n",
            "Requirement already satisfied: certifi>=2017.4.17 in /usr/local/lib/python3.10/dist-packages (from requests->torchvision) (2023.11.17)\n",
            "Requirement already satisfied: mpmath>=0.19 in /usr/local/lib/python3.10/dist-packages (from sympy->torch) (1.3.0)\n"
          ]
        }
      ],
      "source": [
        "!pip install torch torchvision torchaudio -f https://download.pytorch.org/whl/cuXXX/torch_stable.html"
      ]
    },
    {
      "cell_type": "code",
      "execution_count": null,
      "metadata": {
        "colab": {
          "base_uri": "https://localhost:8080/"
        },
        "id": "jIbXQXVcwfV6",
        "outputId": "56ca036f-3e6c-4cda-9827-9165252b9682"
      },
      "outputs": [
        {
          "name": "stdout",
          "output_type": "stream",
          "text": [
            "Epoch 1 / 30 (train) Loss: 1.1933, Acc: 0.4395, (val) Loss: 1.1561, Acc: 0.4933\n",
            "Epoch 2 / 30 (train) Loss: 1.1540, Acc: 0.4729, (val) Loss: 1.1437, Acc: 0.4895\n",
            "Epoch 3 / 30 (train) Loss: 1.1430, Acc: 0.4941, (val) Loss: 1.1263, Acc: 0.5172\n",
            "Epoch 4 / 30 (train) Loss: 1.1205, Acc: 0.5218, (val) Loss: 1.0915, Acc: 0.5540\n",
            "Epoch 5 / 30 (train) Loss: 1.0309, Acc: 0.6045, (val) Loss: 0.9583, Acc: 0.6619\n",
            "Epoch 6 / 30 (train) Loss: 0.8800, Acc: 0.6960, (val) Loss: 0.8610, Acc: 0.7039\n",
            "Epoch 7 / 30 (train) Loss: 0.7814, Acc: 0.7411, (val) Loss: 0.7951, Acc: 0.7391\n",
            "Epoch 8 / 30 (train) Loss: 0.6808, Acc: 0.7734, (val) Loss: 0.8087, Acc: 0.7346\n",
            "Epoch 9 / 30 (train) Loss: 0.6001, Acc: 0.7943, (val) Loss: 0.7084, Acc: 0.7541\n",
            "Epoch 10 / 30 (train) Loss: 0.5287, Acc: 0.8140, (val) Loss: 0.7262, Acc: 0.7466\n",
            "Epoch 11 / 30 (train) Loss: 0.4625, Acc: 0.8305, (val) Loss: 0.7127, Acc: 0.7616\n",
            "Epoch 12 / 30 (train) Loss: 0.4195, Acc: 0.8475, (val) Loss: 0.7112, Acc: 0.7579\n",
            "Epoch 13 / 30 (train) Loss: 0.3638, Acc: 0.8653, (val) Loss: 0.7286, Acc: 0.7616\n",
            "Epoch 14 / 30 (train) Loss: 0.3293, Acc: 0.8770, (val) Loss: 0.8450, Acc: 0.7579\n",
            "Epoch 15 / 30 (train) Loss: 0.3177, Acc: 0.8830, (val) Loss: 0.7618, Acc: 0.7759\n",
            "Epoch 16 / 30 (train) Loss: 0.2708, Acc: 0.9012, (val) Loss: 0.7937, Acc: 0.7691\n",
            "Epoch 17 / 30 (train) Loss: 0.2384, Acc: 0.9153, (val) Loss: 0.7941, Acc: 0.7736\n",
            "Epoch 18 / 30 (train) Loss: 0.2343, Acc: 0.9190, (val) Loss: 0.8115, Acc: 0.7804\n",
            "Epoch 19 / 30 (train) Loss: 0.1971, Acc: 0.9358, (val) Loss: 0.8371, Acc: 0.7766\n",
            "Epoch 20 / 30 (train) Loss: 0.1755, Acc: 0.9445, (val) Loss: 0.8836, Acc: 0.7909\n",
            "Epoch 21 / 30 (train) Loss: 0.1829, Acc: 0.9440, (val) Loss: 0.8793, Acc: 0.7751\n",
            "Epoch 22 / 30 (train) Loss: 0.1828, Acc: 0.9431, (val) Loss: 0.8800, Acc: 0.7751\n",
            "Epoch 23 / 30 (train) Loss: 0.1572, Acc: 0.9520, (val) Loss: 0.8921, Acc: 0.7864\n",
            "Epoch 24 / 30 (train) Loss: 0.1633, Acc: 0.9501, (val) Loss: 0.9244, Acc: 0.7661\n",
            "Epoch 25 / 30 (train) Loss: 0.1402, Acc: 0.9608, (val) Loss: 0.9280, Acc: 0.7864\n",
            "Epoch 26 / 30 (train) Loss: 0.1341, Acc: 0.9615, (val) Loss: 0.9039, Acc: 0.8043\n",
            "Epoch 27 / 30 (train) Loss: 0.1295, Acc: 0.9635, (val) Loss: 0.8952, Acc: 0.8013\n",
            "Epoch 28 / 30 (train) Loss: 0.2394, Acc: 0.9346, (val) Loss: 1.0970, Acc: 0.7436\n",
            "Epoch 29 / 30 (train) Loss: 0.3768, Acc: 0.8798, (val) Loss: 0.7545, Acc: 0.7714\n",
            "Epoch 30 / 30 (train) Loss: 0.2378, Acc: 0.9239, (val) Loss: 0.8475, Acc: 0.7916\n"
          ]
        }
      ],
      "source": [
        "# 学習を実行する\n",
        "# 学習用の関数を定義\n",
        "def train_model(net, dataloaders_dict, criterion, optimizer, num_epochs):\n",
        "\n",
        "    # 初期設定\n",
        "    # GPUが使えるか確認\n",
        "    device = torch.device(\"cuda:0\" if torch.cuda.is_available() else \"cpu\")\n",
        "\n",
        "    # ネットワークをgpuへ\n",
        "    net.to(device)\n",
        "\n",
        "    train_loss = []\n",
        "    train_acc = []\n",
        "    valid_loss = []\n",
        "    valid_acc = []\n",
        "\n",
        "    # epochのループ\n",
        "    for epoch in range(num_epochs):\n",
        "        # epochごとの学習と検証のループ\n",
        "        for phase in ['train', 'val']:\n",
        "            if phase == 'train':\n",
        "                net.train() # 訓練モード\n",
        "            else:\n",
        "                net.eval() # 検証モード\n",
        "\n",
        "            epoch_loss = 0.0 # epochの損失和\n",
        "            epoch_corrects = 0 # epochの正解数\n",
        "\n",
        "            # データローダーからミニバッチを取り出すループ\n",
        "            for inputs, labels in dataloaders_dict[phase]:\n",
        "                # GPUが使えるならGPUにおっくる\n",
        "                inputs = inputs.to(device)\n",
        "                labels = labels.to(device)\n",
        "                optimizer.zero_grad() # optimizerを初期化\n",
        "\n",
        "                # 順伝播計算(forward)\n",
        "                with torch.set_grad_enabled(phase == 'train'):\n",
        "                    outputs = net(inputs)\n",
        "                    loss = criterion(outputs, labels) # 損失を計算\n",
        "                    _, preds = torch.max(outputs, 1) # ラベルを予想\n",
        "\n",
        "                    # 訓練時は逆伝播\n",
        "                    if phase == 'train':\n",
        "                        loss.backward()\n",
        "                        optimizer.step()\n",
        "\n",
        "                    # イテレーション結果の計算\n",
        "                    # lossの合計を更新\n",
        "                    epoch_loss += loss.item() * inputs.size(0)\n",
        "                    # 正解数の合計を更新\n",
        "                    epoch_corrects += torch.sum(preds == labels.data)\n",
        "\n",
        "            # epochごとのlossと正解率の表示\n",
        "            epoch_loss = epoch_loss / len(dataloaders_dict[phase].dataset)\n",
        "            epoch_acc = epoch_corrects.double() / len(dataloaders_dict[phase].dataset)\n",
        "            if phase == 'train':\n",
        "                train_loss.append(epoch_loss)\n",
        "                train_acc.append(epoch_acc.cpu())\n",
        "            else:\n",
        "                valid_loss.append(epoch_loss)\n",
        "                valid_acc.append(epoch_acc.cpu())\n",
        "\n",
        "        print('Epoch {} / {} (train) Loss: {:.4f}, Acc: {:.4f}, (val) Loss: {:.4f}, Acc: {:.4f}'.format(epoch + 1, num_epochs, train_loss[-1], train_acc[-1], valid_loss[-1], valid_acc[-1]))\n",
        "    return train_loss, train_acc, valid_loss, valid_acc\n",
        "\n",
        "# モデルの定義\n",
        "net = RNN(VOCAB_SIZE, EMB_SIZE, PADDING_IDX, HIDDEN_SIZE, OUTPUT_SIZE, NUM_LAYERS)\n",
        "net.train()\n",
        "\n",
        "# 損失関数の定義\n",
        "criterion = nn.CrossEntropyLoss()\n",
        "\n",
        "# 最適化手法の定義\n",
        "optimizer = torch.optim.SGD(net.parameters(), lr=0.01, momentum=0.9)\n",
        "\n",
        "num_epochs = 30\n",
        "train_loss, train_acc, valid_loss, valid_acc = train_model(net,\n",
        "            dataloaders_dict, criterion, optimizer, num_epochs=num_epochs)"
      ]
    },
    {
      "cell_type": "code",
      "execution_count": null,
      "metadata": {
        "colab": {
          "base_uri": "https://localhost:8080/",
          "height": 507
        },
        "id": "IEtJ3s3DwhcK",
        "outputId": "97f5d18e-51ea-487f-9591-10f02c79c355"
      },
      "outputs": [
        {
          "data": {
            "image/png": "[encoded data removed]",
            "text/plain": [
              "<Figure size 1000x500 with 2 Axes>"
            ]
          },
          "metadata": {},
          "output_type": "display_data"
        }
      ],
      "source": [
        "import matplotlib.pyplot as plt\n",
        "fig, ax = plt.subplots(1,2, figsize=(10, 5))\n",
        "epochs = np.arange(num_epochs)\n",
        "ax[0].plot(epochs, train_loss, label='train')\n",
        "ax[0].plot(epochs, valid_loss, label='valid')\n",
        "ax[0].set_title('loss')\n",
        "ax[0].set_xlabel('epoch')\n",
        "ax[0].set_ylabel('loss')\n",
        "ax[1].plot(epochs, train_acc, label='train')\n",
        "ax[1].plot(epochs, valid_acc, label='valid')\n",
        "ax[1].set_title('acc')\n",
        "ax[1].set_xlabel('epoch')\n",
        "ax[1].set_ylabel('acc')\n",
        "ax[0].legend(loc='best')\n",
        "ax[1].legend(loc='best')\n",
        "plt.tight_layout()\n",
        "plt.savefig('fig83.png')\n",
        "plt.show()"
      ]
    },
    {
      "cell_type": "code",
      "execution_count": null,
      "metadata": {
        "colab": {
          "base_uri": "https://localhost:8080/"
        },
        "id": "2eIHMPgTwjfr",
        "outputId": "209bd708-c948-4951-dda0-fc4cdedd88e7"
      },
      "outputs": [
        {
          "name": "stdout",
          "output_type": "stream",
          "text": [
            "学習データの正解率: 0.9412\n",
            "検証データの正解率: 0.7916\n",
            "テストデータの正解率: 0.7984\n"
          ]
        }
      ],
      "source": [
        "def calc_acc(net, dataloader):\n",
        "    device = torch.device(\"cuda:0\" if torch.cuda.is_available() else \"cpu\")\n",
        "    net.eval()\n",
        "    corrects = 0\n",
        "    with torch.no_grad():\n",
        "        for inputs, labels in dataloader:\n",
        "            inputs = inputs.to(device)\n",
        "            labels = labels.to(device)\n",
        "            outputs = net(inputs)\n",
        "            _, preds = torch.max(outputs, 1) # ラベルを予想\n",
        "            corrects += torch.sum(preds == labels.data).cpu()\n",
        "    return corrects / len(dataloader.dataset)\n",
        "\n",
        "acc_train = calc_acc(net, train_dataloader)\n",
        "acc_valid = calc_acc(net, valid_dataloader)\n",
        "acc_test = calc_acc(net, test_dataloader)\n",
        "print('学習データの正解率: {:.4f}'.format(acc_train))\n",
        "print('検証データの正解率: {:.4f}'.format(acc_valid))\n",
        "print('テストデータの正解率: {:.4f}'.format(acc_test))"
      ]
    },
    {
      "cell_type": "markdown",
      "metadata": {
        "id": "nnRtGQqiwkzk"
      },
      "source": [
        "**84. 単語ベクトルの導入**"
      ]
    },
    {
      "cell_type": "code",
      "execution_count": null,
      "metadata": {
        "colab": {
          "base_uri": "https://localhost:8080/"
        },
        "id": "_zUqKC1nCX4m",
        "outputId": "dcd8e36d-48c8-4f2d-f8c2-b99ad7ce89fc"
      },
      "outputs": [
        {
          "name": "stdout",
          "output_type": "stream",
          "text": [
            "Mounted at /content/drive\n"
          ]
        }
      ],
      "source": [
        "from google.colab import drive\n",
        "drive.mount('/content/drive')"
      ]
    },
    {
      "cell_type": "code",
      "execution_count": null,
      "metadata": {
        "colab": {
          "base_uri": "https://localhost:8080/"
        },
        "id": "d5XZc50cwm0Z",
        "outputId": "25b6b09b-7bfa-4a67-c39d-2fef93a6121a"
      },
      "outputs": [
        {
          "name": "stdout",
          "output_type": "stream",
          "text": [
            "学習済みベクトル利用単語数: 9042 / 9725\n",
            "torch.Size([9725, 300])\n"
          ]
        }
      ],
      "source": [
        "from gensim.models import KeyedVectors\n",
        "\n",
        "# 学習済みモデルのロード\n",
        "file = 'drive/MyDrive/content/GoogleNews-vectors-negative300.bin.gz'\n",
        "model = KeyedVectors.load_word2vec_format(file, binary=True)\n",
        "\n",
        "# 学習済み単語ベクトルの取得\n",
        "VOCAB_SIZE = len(set(word2id.values())) + 2\n",
        "EMB_SIZE = 300\n",
        "weights = np.zeros((VOCAB_SIZE, EMB_SIZE))\n",
        "words_in_pretrained = 0\n",
        "for i, word in enumerate(word2id.keys()):\n",
        "    try:\n",
        "        weights[i] = model[word]\n",
        "        words_in_pretrained += 1\n",
        "    except KeyError:\n",
        "        weights[i] = np.random.normal(scale=0.1, size=(EMB_SIZE,))\n",
        "weights = torch.from_numpy(weights.astype((np.float32)))\n",
        "\n",
        "print(f'学習済みベクトル利用単語数: {words_in_pretrained} / {VOCAB_SIZE}')\n",
        "print(weights.size())"
      ]
    },
    {
      "cell_type": "code",
      "execution_count": null,
      "metadata": {
        "colab": {
          "base_uri": "https://localhost:8080/",
          "height": 1000
        },
        "id": "vjwilPnuwoeZ",
        "outputId": "7b3575b1-dc92-46f1-fc65-db44456cb95a"
      },
      "outputs": [
        {
          "name": "stdout",
          "output_type": "stream",
          "text": [
            "Epoch 1 / 30 (train) Loss: 1.1965, Acc: 0.4156, (val) Loss: 1.1617, Acc: 0.4258\n",
            "Epoch 2 / 30 (train) Loss: 1.1610, Acc: 0.4360, (val) Loss: 1.1610, Acc: 0.4280\n",
            "Epoch 3 / 30 (train) Loss: 1.1597, Acc: 0.4497, (val) Loss: 1.1592, Acc: 0.4468\n",
            "Epoch 4 / 30 (train) Loss: 1.1583, Acc: 0.4548, (val) Loss: 1.1573, Acc: 0.4648\n",
            "Epoch 5 / 30 (train) Loss: 1.1560, Acc: 0.4684, (val) Loss: 1.1546, Acc: 0.4843\n",
            "Epoch 6 / 30 (train) Loss: 1.1522, Acc: 0.4771, (val) Loss: 1.1501, Acc: 0.4693\n",
            "Epoch 7 / 30 (train) Loss: 1.1477, Acc: 0.4867, (val) Loss: 1.1427, Acc: 0.4895\n",
            "Epoch 8 / 30 (train) Loss: 1.1393, Acc: 0.5028, (val) Loss: 1.1305, Acc: 0.5142\n",
            "Epoch 9 / 30 (train) Loss: 1.1210, Acc: 0.5221, (val) Loss: 1.0854, Acc: 0.5637\n",
            "Epoch 10 / 30 (train) Loss: 1.0474, Acc: 0.5865, (val) Loss: 0.9883, Acc: 0.6349\n",
            "Epoch 11 / 30 (train) Loss: 1.0140, Acc: 0.6109, (val) Loss: 1.0037, Acc: 0.6342\n",
            "Epoch 12 / 30 (train) Loss: 0.9499, Acc: 0.6550, (val) Loss: 0.9126, Acc: 0.6822\n",
            "Epoch 13 / 30 (train) Loss: 0.9272, Acc: 0.6637, (val) Loss: 0.9434, Acc: 0.6589\n",
            "Epoch 14 / 30 (train) Loss: 0.9483, Acc: 0.6471, (val) Loss: 1.1213, Acc: 0.5090\n",
            "Epoch 15 / 30 (train) Loss: 1.0226, Acc: 0.6026, (val) Loss: 0.8768, Acc: 0.7039\n",
            "Epoch 16 / 30 (train) Loss: 0.8915, Acc: 0.6837, (val) Loss: 1.4191, Acc: 0.4415\n",
            "Epoch 17 / 30 (train) Loss: 0.9948, Acc: 0.6225, (val) Loss: 0.8812, Acc: 0.6919\n",
            "Epoch 18 / 30 (train) Loss: 0.8777, Acc: 0.6855, (val) Loss: 0.8589, Acc: 0.7009\n",
            "Epoch 19 / 30 (train) Loss: 0.8612, Acc: 0.6929, (val) Loss: 0.8538, Acc: 0.6987\n",
            "Epoch 20 / 30 (train) Loss: 0.8422, Acc: 0.7001, (val) Loss: 0.8360, Acc: 0.7024\n",
            "Epoch 21 / 30 (train) Loss: 0.8333, Acc: 0.7036, (val) Loss: 0.9041, Acc: 0.6642\n",
            "Epoch 22 / 30 (train) Loss: 0.8223, Acc: 0.7071, (val) Loss: 0.8405, Acc: 0.7039\n",
            "Epoch 23 / 30 (train) Loss: 0.8097, Acc: 0.7118, (val) Loss: 0.9139, Acc: 0.6492\n",
            "Epoch 24 / 30 (train) Loss: 0.7844, Acc: 0.7186, (val) Loss: 0.8029, Acc: 0.7181\n",
            "Epoch 25 / 30 (train) Loss: 0.7687, Acc: 0.7223, (val) Loss: 0.7776, Acc: 0.7249\n",
            "Epoch 26 / 30 (train) Loss: 0.7580, Acc: 0.7225, (val) Loss: 0.7781, Acc: 0.7271\n",
            "Epoch 27 / 30 (train) Loss: 0.7375, Acc: 0.7284, (val) Loss: 0.7629, Acc: 0.7256\n",
            "Epoch 28 / 30 (train) Loss: 0.7201, Acc: 0.7340, (val) Loss: 0.7578, Acc: 0.7309\n",
            "Epoch 29 / 30 (train) Loss: 0.7202, Acc: 0.7330, (val) Loss: 0.7719, Acc: 0.7264\n",
            "Epoch 30 / 30 (train) Loss: 0.7007, Acc: 0.7395, (val) Loss: 0.7597, Acc: 0.7264\n"
          ]
        },
        {
          "data": {
            "image/png": "[encoded data removed]",
            "text/plain": [
              "<Figure size 1000x500 with 2 Axes>"
            ]
          },
          "metadata": {},
          "output_type": "display_data"
        },
        {
          "name": "stdout",
          "output_type": "stream",
          "text": [
            "学習データの正解率: 0.7446\n",
            "検証データの正解率: 0.7264\n",
            "テストデータの正解率: 0.7294\n"
          ]
        }
      ],
      "source": [
        "class RNN(nn.Module):\n",
        "    def __init__(self, vocab_size, emb_size, padding_idx, hidden_size, output_size, num_layers=1, emb_weights=None):\n",
        "        super().__init__()\n",
        "        if emb_weights != None:\n",
        "            self.emb = nn.Embedding.from_pretrained(emb_weights, padding_idx=padding_idx)\n",
        "        else:\n",
        "            self.emb = nn.Embedding(vocab_size, emb_size, padding_idx=padding_idx)\n",
        "        self.rnn = nn.LSTM(emb_size, hidden_size, num_layers, batch_first=True)\n",
        "        self.fc = nn.Linear(hidden_size, output_size)\n",
        "\n",
        "    def forward(self, x, h0=None):\n",
        "        x = self.emb(x)\n",
        "        x, h = self.rnn(x, h0)\n",
        "        x = x[:, -1, :]\n",
        "        logits = self.fc(x)\n",
        "        return logits\n",
        "\n",
        "# パラメータの設定\n",
        "VOCAB_SIZE = len(set(word2id.values())) + 2  # 辞書のID数 + unknown + パディングID\n",
        "EMB_SIZE = 300\n",
        "PADDING_IDX = len(set(word2id.values())) + 1\n",
        "OUTPUT_SIZE = 4\n",
        "HIDDEN_SIZE = 50\n",
        "NUM_LAYERS = 1\n",
        "\n",
        "# モデルの定義\n",
        "net = RNN(VOCAB_SIZE, EMB_SIZE, PADDING_IDX, HIDDEN_SIZE, OUTPUT_SIZE, NUM_LAYERS, weights)\n",
        "net.train()\n",
        "\n",
        "# 損失関数の定義\n",
        "criterion = nn.CrossEntropyLoss()\n",
        "\n",
        "# 最適化手法の定義\n",
        "optimizer = torch.optim.SGD(net.parameters(), lr=0.01, momentum=0.9)\n",
        "\n",
        "num_epochs = 30\n",
        "train_loss_weights, train_acc_weights, valid_loss_weights, valid_acc_weights = train_model(net,\n",
        "            dataloaders_dict, criterion, optimizer, num_epochs=num_epochs)\n",
        "\n",
        "fig, ax = plt.subplots(1,2, figsize=(10, 5))\n",
        "epochs = np.arange(num_epochs)\n",
        "ax[0].plot(epochs, train_loss_weights, label='train')\n",
        "ax[0].plot(epochs, valid_loss_weights, label='valid')\n",
        "ax[0].set_title('loss')\n",
        "ax[0].set_xlabel('epoch')\n",
        "ax[0].set_ylabel('loss')\n",
        "ax[1].plot(epochs, train_acc_weights, label='train')\n",
        "ax[1].plot(epochs, valid_acc_weights, label='valid')\n",
        "ax[1].set_title('acc')\n",
        "ax[1].set_xlabel('epoch')\n",
        "ax[1].set_ylabel('acc')\n",
        "ax[0].legend(loc='best')\n",
        "ax[1].legend(loc='best')\n",
        "plt.tight_layout()\n",
        "plt.savefig('fig84.png')\n",
        "plt.show()\n",
        "\n",
        "acc_train = calc_acc(net, train_dataloader)\n",
        "acc_valid = calc_acc(net, valid_dataloader)\n",
        "acc_test = calc_acc(net, test_dataloader)\n",
        "print('学習データの正解率: {:.4f}'.format(acc_train))\n",
        "print('検証データの正解率: {:.4f}'.format(acc_valid))\n",
        "print('テストデータの正解率: {:.4f}'.format(acc_test))"
      ]
    },
    {
      "cell_type": "markdown",
      "metadata": {
        "id": "ac5gV77twvGB"
      },
      "source": [
        "**85. 双方向RNN・多層化**"
      ]
    },
    {
      "cell_type": "code",
      "execution_count": null,
      "metadata": {
        "colab": {
          "base_uri": "https://localhost:8080/",
          "height": 1000
        },
        "id": "RXPqpUM0wxPF",
        "outputId": "71e78527-7da5-4425-d661-4d56bf8acfbc"
      },
      "outputs": [
        {
          "name": "stdout",
          "output_type": "stream",
          "text": [
            "Epoch 1 / 30 (train) Loss: 1.1727, Acc: 0.4152, (val) Loss: 1.1645, Acc: 0.4213\n",
            "Epoch 2 / 30 (train) Loss: 1.1644, Acc: 0.4144, (val) Loss: 1.1644, Acc: 0.4213\n",
            "Epoch 3 / 30 (train) Loss: 1.1585, Acc: 0.4373, (val) Loss: 1.1125, Acc: 0.5322\n",
            "Epoch 4 / 30 (train) Loss: 1.1045, Acc: 0.5450, (val) Loss: 1.0495, Acc: 0.6462\n",
            "Epoch 5 / 30 (train) Loss: 1.0159, Acc: 0.6265, (val) Loss: 0.9327, Acc: 0.6649\n",
            "Epoch 6 / 30 (train) Loss: 0.9582, Acc: 0.6471, (val) Loss: 0.8688, Acc: 0.7001\n",
            "Epoch 7 / 30 (train) Loss: 0.8862, Acc: 0.6836, (val) Loss: 1.0388, Acc: 0.5907\n",
            "Epoch 8 / 30 (train) Loss: 0.9062, Acc: 0.6727, (val) Loss: 0.8806, Acc: 0.6874\n",
            "Epoch 9 / 30 (train) Loss: 0.8105, Acc: 0.7109, (val) Loss: 0.7911, Acc: 0.7234\n",
            "Epoch 10 / 30 (train) Loss: 0.9004, Acc: 0.6758, (val) Loss: 0.8276, Acc: 0.7069\n",
            "Epoch 11 / 30 (train) Loss: 0.8962, Acc: 0.6508, (val) Loss: 1.1636, Acc: 0.3958\n",
            "Epoch 12 / 30 (train) Loss: 1.1657, Acc: 0.4102, (val) Loss: 1.1659, Acc: 0.3958\n",
            "Epoch 13 / 30 (train) Loss: 1.1655, Acc: 0.4069, (val) Loss: 1.1627, Acc: 0.4213\n",
            "Epoch 14 / 30 (train) Loss: 1.1657, Acc: 0.4219, (val) Loss: 1.1625, Acc: 0.5135\n",
            "Epoch 15 / 30 (train) Loss: 1.1641, Acc: 0.4178, (val) Loss: 1.1604, Acc: 0.4385\n",
            "Epoch 16 / 30 (train) Loss: 1.1579, Acc: 0.4480, (val) Loss: 1.1407, Acc: 0.4213\n",
            "Epoch 17 / 30 (train) Loss: 1.1526, Acc: 0.4624, (val) Loss: 1.1035, Acc: 0.5510\n",
            "Epoch 18 / 30 (train) Loss: 1.1549, Acc: 0.4650, (val) Loss: 1.1065, Acc: 0.5705\n",
            "Epoch 19 / 30 (train) Loss: 1.0779, Acc: 0.5609, (val) Loss: 0.9938, Acc: 0.6319\n",
            "Epoch 20 / 30 (train) Loss: 1.0156, Acc: 0.6140, (val) Loss: 0.9136, Acc: 0.6859\n",
            "Epoch 21 / 30 (train) Loss: 0.9363, Acc: 0.6641, (val) Loss: 0.8578, Acc: 0.7076\n",
            "Epoch 22 / 30 (train) Loss: 0.8779, Acc: 0.6936, (val) Loss: 0.8414, Acc: 0.7174\n",
            "Epoch 23 / 30 (train) Loss: 0.8424, Acc: 0.7068, (val) Loss: 0.8162, Acc: 0.7241\n",
            "Epoch 24 / 30 (train) Loss: 0.8137, Acc: 0.7140, (val) Loss: 0.7942, Acc: 0.7324\n",
            "Epoch 25 / 30 (train) Loss: 0.7697, Acc: 0.7298, (val) Loss: 0.7820, Acc: 0.7324\n",
            "Epoch 26 / 30 (train) Loss: 0.7264, Acc: 0.7396, (val) Loss: 0.7800, Acc: 0.7316\n",
            "Epoch 27 / 30 (train) Loss: 0.7025, Acc: 0.7451, (val) Loss: 0.7613, Acc: 0.7421\n",
            "Epoch 28 / 30 (train) Loss: 0.6790, Acc: 0.7507, (val) Loss: 0.7437, Acc: 0.7414\n",
            "Epoch 29 / 30 (train) Loss: 0.6539, Acc: 0.7577, (val) Loss: 1.3031, Acc: 0.4273\n",
            "Epoch 30 / 30 (train) Loss: 0.8436, Acc: 0.6838, (val) Loss: 0.7353, Acc: 0.7376\n"
          ]
        },
        {
          "data": {
            "image/png": "[encoded data removed]",
            "text/plain": [
              "<Figure size 1000x500 with 2 Axes>"
            ]
          },
          "metadata": {},
          "output_type": "display_data"
        },
        {
          "name": "stdout",
          "output_type": "stream",
          "text": [
            "学習データの正解率: 0.7549\n",
            "検証データの正解率: 0.7376\n",
            "テストデータの正解率: 0.7316\n"
          ]
        }
      ],
      "source": [
        "class RNN(nn.Module):\n",
        "    def __init__(self, vocab_size, emb_size, padding_idx, hidden_size, output_size, num_layers=3, emb_weights=None):\n",
        "        super().__init__()\n",
        "        if emb_weights != None:\n",
        "            self.emb = nn.Embedding.from_pretrained(emb_weights, padding_idx=padding_idx)\n",
        "        else:\n",
        "            self.emb = nn.Embedding(vocab_size, emb_size, padding_idx=padding_idx)\n",
        "        self.rnn = nn.LSTM(emb_size, hidden_size, num_layers, batch_first=True, bidirectional=True)\n",
        "        self.fc = nn.Linear(hidden_size * 2, output_size)\n",
        "\n",
        "    def forward(self, x, h0=None):\n",
        "        x = self.emb(x)\n",
        "        x, h = self.rnn(x, h0)\n",
        "        x = x[:, -1, :]\n",
        "        logits = self.fc(x)\n",
        "        return logits\n",
        "\n",
        "# パラメータの設定\n",
        "VOCAB_SIZE = len(set(word2id.values())) + 2  # 辞書のID数 + unknown + パディングID\n",
        "EMB_SIZE = 300\n",
        "PADDING_IDX = len(set(word2id.values())) + 1\n",
        "OUTPUT_SIZE = 4\n",
        "HIDDEN_SIZE = 50\n",
        "NUM_LAYERS = 3\n",
        "\n",
        "# モデルの定義\n",
        "net = RNN(VOCAB_SIZE, EMB_SIZE, PADDING_IDX, HIDDEN_SIZE, OUTPUT_SIZE, NUM_LAYERS, weights)\n",
        "net.train()\n",
        "\n",
        "# 損失関数の定義\n",
        "criterion = nn.CrossEntropyLoss()\n",
        "\n",
        "# 最適化手法の定義\n",
        "optimizer = torch.optim.SGD(net.parameters(), lr=0.1, momentum=0.9)\n",
        "\n",
        "num_epochs = 30\n",
        "train_loss, train_acc, valid_loss, valid_acc = train_model(net,\n",
        "            dataloaders_dict, criterion, optimizer, num_epochs=num_epochs)\n",
        "\n",
        "fig, ax = plt.subplots(1,2, figsize=(10, 5))\n",
        "epochs = np.arange(num_epochs)\n",
        "ax[0].plot(epochs, train_loss, label='train')\n",
        "ax[0].plot(epochs, valid_loss, label='valid')\n",
        "ax[0].set_title('loss')\n",
        "ax[0].set_xlabel('epoch')\n",
        "ax[0].set_ylabel('loss')\n",
        "ax[1].plot(epochs, train_acc, label='train')\n",
        "ax[1].plot(epochs, valid_acc, label='valid')\n",
        "ax[1].set_title('acc')\n",
        "ax[1].set_xlabel('epoch')\n",
        "ax[1].set_ylabel('acc')\n",
        "ax[0].legend(loc='best')\n",
        "ax[1].legend(loc='best')\n",
        "plt.tight_layout()\n",
        "plt.savefig('fig85.png')\n",
        "plt.show()\n",
        "\n",
        "acc_train = calc_acc(net, train_dataloader)\n",
        "acc_valid = calc_acc(net, valid_dataloader)\n",
        "acc_test = calc_acc(net, test_dataloader)\n",
        "print('学習データの正解率: {:.4f}'.format(acc_train))\n",
        "print('検証データの正解率: {:.4f}'.format(acc_valid))\n",
        "print('テストデータの正解率: {:.4f}'.format(acc_test))"
      ]
    },
    {
      "cell_type": "markdown",
      "metadata": {
        "id": "TWS0AeVWwyv2"
      },
      "source": [
        "**86. 畳み込みニューラルネットワーク (CNN)**"
      ]
    },
    {
      "cell_type": "code",
      "execution_count": null,
      "metadata": {
        "colab": {
          "base_uri": "https://localhost:8080/"
        },
        "id": "U5rFXxkNw1Ka",
        "outputId": "04c00a92-3228-406d-fb62-dd8a7bf584d8"
      },
      "outputs": [
        {
          "name": "stdout",
          "output_type": "stream",
          "text": [
            "tensor([[  68,   76,  782, 1974,   21, 5054, 5055,   34, 1602,    0]])\n",
            "torch.Size([1, 10])\n",
            "tensor([[0.2564, 0.2540, 0.2828, 0.2068]], grad_fn=<SoftmaxBackward0>)\n"
          ]
        }
      ],
      "source": [
        "from torch.nn import functional as F\n",
        "\n",
        "class CNN(nn.Module):\n",
        "    def __init__(self, vocab_size, emb_size, padding_idx, output_size, out_channels, kernel_heights, stride, padding, emb_weights=None):\n",
        "        super().__init__()\n",
        "        if emb_weights != None:  # 指定があれば埋め込み層の重みをemb_weightsで初期化\n",
        "            self.emb = nn.Embedding.from_pretrained(emb_weights, padding_idx=padding_idx)\n",
        "        else:\n",
        "            self.emb = nn.Embedding(vocab_size, emb_size, padding_idx=padding_idx)\n",
        "        self.conv = nn.Conv2d(1, out_channels, (kernel_heights, emb_size), stride, (padding, 0))\n",
        "        self.drop = nn.Dropout(0.4)\n",
        "        self.fc = nn.Linear(out_channels, output_size)\n",
        "\n",
        "    def forward(self, x):\n",
        "        emb = self.emb(x).unsqueeze(1)\n",
        "        conv = self.conv(emb)\n",
        "        act = F.relu(conv.squeeze(3))\n",
        "        max_pool = F.max_pool1d(act, act.size()[2])\n",
        "        logits = self.fc(self.drop(max_pool.squeeze(2)))\n",
        "        return logits\n",
        "\n",
        "# パラメータの設定\n",
        "VOCAB_SIZE = len(set(word2id.values())) + 2\n",
        "EMB_SIZE = 300\n",
        "PADDING_IDX = len(set(word2id.values())) + 1\n",
        "OUTPUT_SIZE = 4\n",
        "OUT_CHANNELS = 100\n",
        "KERNEL_HEIGHTS = 3\n",
        "STRIDE = 1\n",
        "PADDING = 1\n",
        "\n",
        "# モデルの定義\n",
        "model = CNN(VOCAB_SIZE, EMB_SIZE, PADDING_IDX, OUTPUT_SIZE, OUT_CHANNELS, KERNEL_HEIGHTS, STRIDE, PADDING, emb_weights=weights)\n",
        "x = torch.tensor([tokenizer(sample)], dtype=torch.int64)\n",
        "print(x)\n",
        "print(x.size())\n",
        "print(nn.Softmax(dim=-1)(model(x)))"
      ]
    },
    {
      "cell_type": "markdown",
      "metadata": {
        "id": "UxMh51Akw2lI"
      },
      "source": [
        "**87. 確率的勾配降下法によるCNNの学習**"
      ]
    },
    {
      "cell_type": "code",
      "execution_count": null,
      "metadata": {
        "colab": {
          "base_uri": "https://localhost:8080/",
          "height": 1000
        },
        "id": "hBmdqiRNw4Er",
        "outputId": "edd17ee7-d28c-4461-8b5d-aea339eee5b3"
      },
      "outputs": [
        {
          "name": "stdout",
          "output_type": "stream",
          "text": [
            "Epoch 1 / 30 (train) Loss: 0.9630, Acc: 0.6167, (val) Loss: 0.7365, Acc: 0.7421\n",
            "Epoch 2 / 30 (train) Loss: 0.6770, Acc: 0.7527, (val) Loss: 0.6049, Acc: 0.7849\n",
            "Epoch 3 / 30 (train) Loss: 0.5127, Acc: 0.8140, (val) Loss: 0.6062, Acc: 0.7909\n",
            "Epoch 4 / 30 (train) Loss: 0.4027, Acc: 0.8578, (val) Loss: 0.5359, Acc: 0.8208\n",
            "Epoch 5 / 30 (train) Loss: 0.3282, Acc: 0.8798, (val) Loss: 0.5185, Acc: 0.8201\n",
            "Epoch 6 / 30 (train) Loss: 0.2660, Acc: 0.9083, (val) Loss: 0.5362, Acc: 0.8201\n",
            "Epoch 7 / 30 (train) Loss: 0.2260, Acc: 0.9209, (val) Loss: 0.5216, Acc: 0.8351\n",
            "Epoch 8 / 30 (train) Loss: 0.1916, Acc: 0.9355, (val) Loss: 0.5341, Acc: 0.8358\n",
            "Epoch 9 / 30 (train) Loss: 0.1693, Acc: 0.9411, (val) Loss: 0.5303, Acc: 0.8486\n",
            "Epoch 10 / 30 (train) Loss: 0.1513, Acc: 0.9461, (val) Loss: 0.5718, Acc: 0.8328\n",
            "Epoch 11 / 30 (train) Loss: 0.1286, Acc: 0.9561, (val) Loss: 0.5823, Acc: 0.8396\n",
            "Epoch 12 / 30 (train) Loss: 0.1194, Acc: 0.9579, (val) Loss: 0.5703, Acc: 0.8463\n",
            "Epoch 13 / 30 (train) Loss: 0.1084, Acc: 0.9628, (val) Loss: 0.5793, Acc: 0.8471\n",
            "Epoch 14 / 30 (train) Loss: 0.1044, Acc: 0.9652, (val) Loss: 0.6578, Acc: 0.8328\n",
            "Epoch 15 / 30 (train) Loss: 0.0963, Acc: 0.9670, (val) Loss: 0.6120, Acc: 0.8478\n",
            "Epoch 16 / 30 (train) Loss: 0.1010, Acc: 0.9659, (val) Loss: 0.6336, Acc: 0.8448\n",
            "Epoch 17 / 30 (train) Loss: 0.0890, Acc: 0.9702, (val) Loss: 0.6267, Acc: 0.8418\n",
            "Epoch 18 / 30 (train) Loss: 0.0885, Acc: 0.9692, (val) Loss: 0.6864, Acc: 0.8403\n",
            "Epoch 19 / 30 (train) Loss: 0.0875, Acc: 0.9696, (val) Loss: 0.6930, Acc: 0.8403\n",
            "Epoch 20 / 30 (train) Loss: 0.0749, Acc: 0.9761, (val) Loss: 0.6547, Acc: 0.8501\n",
            "Epoch 21 / 30 (train) Loss: 0.0775, Acc: 0.9732, (val) Loss: 0.6699, Acc: 0.8478\n",
            "Epoch 22 / 30 (train) Loss: 0.0697, Acc: 0.9776, (val) Loss: 0.6827, Acc: 0.8501\n",
            "Epoch 23 / 30 (train) Loss: 0.0633, Acc: 0.9798, (val) Loss: 0.6935, Acc: 0.8493\n",
            "Epoch 24 / 30 (train) Loss: 0.0645, Acc: 0.9787, (val) Loss: 0.7020, Acc: 0.8478\n",
            "Epoch 25 / 30 (train) Loss: 0.0575, Acc: 0.9812, (val) Loss: 0.6740, Acc: 0.8493\n",
            "Epoch 26 / 30 (train) Loss: 0.0605, Acc: 0.9780, (val) Loss: 0.6662, Acc: 0.8463\n",
            "Epoch 27 / 30 (train) Loss: 0.0549, Acc: 0.9825, (val) Loss: 0.7077, Acc: 0.8493\n",
            "Epoch 28 / 30 (train) Loss: 0.0589, Acc: 0.9801, (val) Loss: 0.6802, Acc: 0.8531\n",
            "Epoch 29 / 30 (train) Loss: 0.0527, Acc: 0.9809, (val) Loss: 0.7334, Acc: 0.8471\n",
            "Epoch 30 / 30 (train) Loss: 0.0582, Acc: 0.9825, (val) Loss: 0.7083, Acc: 0.8411\n"
          ]
        },
        {
          "data": {
            "image/png": "[encoded data removed]",
            "text/plain": [
              "<Figure size 1000x500 with 2 Axes>"
            ]
          },
          "metadata": {},
          "output_type": "display_data"
        },
        {
          "name": "stdout",
          "output_type": "stream",
          "text": [
            "学習データの正解率: 0.9987\n",
            "検証データの正解率: 0.8411\n",
            "テストデータの正解率: 0.8561\n"
          ]
        }
      ],
      "source": [
        "# モデルの定義\n",
        "net = CNN(VOCAB_SIZE, EMB_SIZE, PADDING_IDX, OUTPUT_SIZE, OUT_CHANNELS, KERNEL_HEIGHTS, STRIDE, PADDING, emb_weights=weights)\n",
        "net.train()\n",
        "\n",
        "# 損失関数の定義\n",
        "criterion = nn.CrossEntropyLoss()\n",
        "\n",
        "# 最適化手法の定義\n",
        "optimizer = torch.optim.SGD(net.parameters(), lr=0.1, momentum=0.9)\n",
        "\n",
        "num_epochs = 30\n",
        "train_loss, train_acc, valid_loss, valid_acc = train_model(net,\n",
        "            dataloaders_dict, criterion, optimizer, num_epochs=num_epochs)\n",
        "\n",
        "fig, ax = plt.subplots(1,2, figsize=(10, 5))\n",
        "epochs = np.arange(num_epochs)\n",
        "ax[0].plot(epochs, train_loss, label='train')\n",
        "ax[0].plot(epochs, valid_loss, label='valid')\n",
        "ax[0].set_title('loss')\n",
        "ax[0].set_xlabel('epoch')\n",
        "ax[0].set_ylabel('loss')\n",
        "ax[1].plot(epochs, train_acc, label='train')\n",
        "ax[1].plot(epochs, valid_acc, label='valid')\n",
        "ax[1].set_title('acc')\n",
        "ax[1].set_xlabel('epoch')\n",
        "ax[1].set_ylabel('acc')\n",
        "ax[0].legend(loc='best')\n",
        "ax[1].legend(loc='best')\n",
        "plt.tight_layout()\n",
        "plt.savefig('fig87.png')\n",
        "plt.show()\n",
        "\n",
        "acc_train = calc_acc(net, train_dataloader)\n",
        "acc_valid = calc_acc(net, valid_dataloader)\n",
        "acc_test = calc_acc(net, test_dataloader)\n",
        "print('学習データの正解率: {:.4f}'.format(acc_train))\n",
        "print('検証データの正解率: {:.4f}'.format(acc_valid))\n",
        "print('テストデータの正解率: {:.4f}'.format(acc_test))"
      ]
    },
    {
      "cell_type": "markdown",
      "metadata": {
        "id": "IGH6pSQHw5cj"
      },
      "source": [
        "**88. パラメータチューニング**"
      ]
    },
    {
      "cell_type": "code",
      "execution_count": null,
      "metadata": {
        "colab": {
          "base_uri": "https://localhost:8080/",
          "height": 1000
        },
        "id": "2pAzb7ABw7QA",
        "outputId": "4ceba507-e669-482e-eb53-a65602ea864a"
      },
      "outputs": [
        {
          "name": "stdout",
          "output_type": "stream",
          "text": [
            "Epoch 1 / 30 (train) Loss: 1.0508, Acc: 0.5830, (val) Loss: 0.9038, Acc: 0.6544\n",
            "Epoch 2 / 30 (train) Loss: 0.7912, Acc: 0.7212, (val) Loss: 0.7117, Acc: 0.7564\n",
            "Epoch 3 / 30 (train) Loss: 0.6095, Acc: 0.7924, (val) Loss: 0.6105, Acc: 0.7894\n",
            "Epoch 4 / 30 (train) Loss: 0.4827, Acc: 0.8370, (val) Loss: 0.5515, Acc: 0.8111\n",
            "Epoch 5 / 30 (train) Loss: 0.3903, Acc: 0.8755, (val) Loss: 0.5132, Acc: 0.8193\n",
            "Epoch 6 / 30 (train) Loss: 0.3156, Acc: 0.9031, (val) Loss: 0.4893, Acc: 0.8283\n",
            "Epoch 7 / 30 (train) Loss: 0.2584, Acc: 0.9278, (val) Loss: 0.4714, Acc: 0.8478\n",
            "Epoch 8 / 30 (train) Loss: 0.2118, Acc: 0.9473, (val) Loss: 0.4557, Acc: 0.8426\n",
            "Epoch 9 / 30 (train) Loss: 0.1779, Acc: 0.9566, (val) Loss: 0.4452, Acc: 0.8456\n",
            "Epoch 10 / 30 (train) Loss: 0.1496, Acc: 0.9680, (val) Loss: 0.4430, Acc: 0.8426\n",
            "Epoch 11 / 30 (train) Loss: 0.1218, Acc: 0.9765, (val) Loss: 0.4461, Acc: 0.8463\n",
            "Epoch 12 / 30 (train) Loss: 0.0982, Acc: 0.9834, (val) Loss: 0.4431, Acc: 0.8516\n",
            "Epoch 13 / 30 (train) Loss: 0.0866, Acc: 0.9870, (val) Loss: 0.4442, Acc: 0.8508\n",
            "Epoch 14 / 30 (train) Loss: 0.0728, Acc: 0.9879, (val) Loss: 0.4390, Acc: 0.8538\n",
            "Epoch 15 / 30 (train) Loss: 0.0656, Acc: 0.9913, (val) Loss: 0.4430, Acc: 0.8508\n",
            "Epoch 16 / 30 (train) Loss: 0.0566, Acc: 0.9927, (val) Loss: 0.4408, Acc: 0.8493\n",
            "Epoch 17 / 30 (train) Loss: 0.0470, Acc: 0.9943, (val) Loss: 0.4455, Acc: 0.8576\n",
            "Epoch 18 / 30 (train) Loss: 0.0440, Acc: 0.9941, (val) Loss: 0.4534, Acc: 0.8538\n",
            "Epoch 19 / 30 (train) Loss: 0.0380, Acc: 0.9948, (val) Loss: 0.4484, Acc: 0.8591\n",
            "Epoch 20 / 30 (train) Loss: 0.0342, Acc: 0.9974, (val) Loss: 0.4622, Acc: 0.8583\n",
            "Epoch 21 / 30 (train) Loss: 0.0316, Acc: 0.9966, (val) Loss: 0.4609, Acc: 0.8546\n",
            "Epoch 22 / 30 (train) Loss: 0.0294, Acc: 0.9970, (val) Loss: 0.4688, Acc: 0.8531\n",
            "Epoch 23 / 30 (train) Loss: 0.0273, Acc: 0.9968, (val) Loss: 0.4694, Acc: 0.8583\n",
            "Epoch 24 / 30 (train) Loss: 0.0246, Acc: 0.9972, (val) Loss: 0.4805, Acc: 0.8613\n",
            "Epoch 25 / 30 (train) Loss: 0.0243, Acc: 0.9970, (val) Loss: 0.4816, Acc: 0.8606\n",
            "Epoch 26 / 30 (train) Loss: 0.0215, Acc: 0.9976, (val) Loss: 0.4742, Acc: 0.8696\n",
            "Epoch 27 / 30 (train) Loss: 0.0204, Acc: 0.9978, (val) Loss: 0.4765, Acc: 0.8538\n",
            "Epoch 28 / 30 (train) Loss: 0.0200, Acc: 0.9975, (val) Loss: 0.4708, Acc: 0.8651\n",
            "Epoch 29 / 30 (train) Loss: 0.0179, Acc: 0.9974, (val) Loss: 0.4785, Acc: 0.8568\n",
            "Epoch 30 / 30 (train) Loss: 0.0161, Acc: 0.9978, (val) Loss: 0.4894, Acc: 0.8658\n"
          ]
        },
        {
          "data": {
            "image/png": "[encoded data removed]",
            "text/plain": [
              "<Figure size 1000x500 with 2 Axes>"
            ]
          },
          "metadata": {},
          "output_type": "display_data"
        },
        {
          "name": "stdout",
          "output_type": "stream",
          "text": [
            "学習データの正解率: 0.9993\n",
            "検証データの正解率: 0.8658\n",
            "テストデータの正解率: 0.8801\n"
          ]
        }
      ],
      "source": [
        "class CNN(nn.Module):\n",
        "    def __init__(self, vocab_size, emb_size, padding_idx, output_size, out_channels, kernel_heights, stride, padding, emb_weights=None):\n",
        "        super().__init__()\n",
        "        if emb_weights != None:  # 指定があれば埋め込み層の重みをemb_weightsで初期化\n",
        "            self.emb = nn.Embedding.from_pretrained(emb_weights, padding_idx=padding_idx)\n",
        "        else:\n",
        "            self.emb = nn.Embedding(vocab_size, emb_size, padding_idx=padding_idx)\n",
        "        self.conv = nn.Conv2d(1, out_channels, (kernel_heights, emb_size), stride, (padding, 0))\n",
        "        self.drop = nn.Dropout(0.4)\n",
        "        self.fc = nn.Linear(out_channels, output_size)\n",
        "\n",
        "    def forward(self, x):\n",
        "        emb = self.emb(x).unsqueeze(1)\n",
        "        conv = self.conv(emb)\n",
        "        act = F.relu(conv.squeeze(3))\n",
        "        max_pool = F.max_pool1d(act, act.size()[2])\n",
        "        logits = self.fc(self.drop(max_pool.squeeze(2)))\n",
        "        return logits\n",
        "\n",
        "# パラメータの設定\n",
        "VOCAB_SIZE = len(set(word2id.values())) + 2\n",
        "EMB_SIZE = 300\n",
        "PADDING_IDX = len(set(word2id.values())) + 1\n",
        "OUTPUT_SIZE = 4\n",
        "OUT_CHANNELS = 500\n",
        "KERNEL_HEIGHTS = 2\n",
        "STRIDE = 1\n",
        "PADDING = 1\n",
        "\n",
        "# モデルの定義\n",
        "net = CNN(VOCAB_SIZE, EMB_SIZE, PADDING_IDX, OUTPUT_SIZE, OUT_CHANNELS, KERNEL_HEIGHTS, STRIDE, PADDING, emb_weights=weights)\n",
        "net.train()\n",
        "\n",
        "# 損失関数の定義\n",
        "criterion = nn.CrossEntropyLoss()\n",
        "\n",
        "# 最適化手法の定義\n",
        "optimizer = torch.optim.Adam(net.parameters(), lr=0.0005)\n",
        "\n",
        "num_epochs = 30\n",
        "train_loss, train_acc, valid_loss, valid_acc = train_model(net,\n",
        "            dataloaders_dict, criterion, optimizer, num_epochs=num_epochs)\n",
        "\n",
        "fig, ax = plt.subplots(1,2, figsize=(10, 5))\n",
        "epochs = np.arange(num_epochs)\n",
        "ax[0].plot(epochs, train_loss, label='train')\n",
        "ax[0].plot(epochs, valid_loss, label='valid')\n",
        "ax[0].set_title('loss')\n",
        "ax[0].set_xlabel('epoch')\n",
        "ax[0].set_ylabel('loss')\n",
        "ax[1].plot(epochs, train_acc, label='train')\n",
        "ax[1].plot(epochs, valid_acc, label='valid')\n",
        "ax[1].set_title('acc')\n",
        "ax[1].set_xlabel('epoch')\n",
        "ax[1].set_ylabel('acc')\n",
        "ax[0].legend(loc='best')\n",
        "ax[1].legend(loc='best')\n",
        "plt.tight_layout()\n",
        "plt.savefig('fig88.png')\n",
        "plt.show()\n",
        "\n",
        "acc_train = calc_acc(net, train_dataloader)\n",
        "acc_valid = calc_acc(net, valid_dataloader)\n",
        "acc_test = calc_acc(net, test_dataloader)\n",
        "print('学習データの正解率: {:.4f}'.format(acc_train))\n",
        "print('検証データの正解率: {:.4f}'.format(acc_valid))\n",
        "print('テストデータの正解率: {:.4f}'.format(acc_test))"
      ]
    },
    {
      "cell_type": "markdown",
      "metadata": {
        "id": "hVsOxmPZw9Wl"
      },
      "source": [
        "**89. 事前学習済み言語モデルからの転移学習**"
      ]
    },
    {
      "cell_type": "markdown",
      "metadata": {
        "id": "oA8sZP7txQWz"
      },
      "source": [
        "準備"
      ]
    },
    {
      "cell_type": "code",
      "execution_count": null,
      "metadata": {
        "colab": {
          "base_uri": "https://localhost:8080/"
        },
        "id": "AYjzMm1BxAUV",
        "outputId": "de57279c-0617-4dbf-eab6-9d72e498cc33"
      },
      "outputs": [
        {
          "name": "stdout",
          "output_type": "stream",
          "text": [
            "学習データ\n",
            "b    4502\n",
            "e    4223\n",
            "t    1219\n",
            "m     728\n",
            "Name: CATEGORY, dtype: int64\n",
            "検証データ\n",
            "b    562\n",
            "e    528\n",
            "t    153\n",
            "m     91\n",
            "Name: CATEGORY, dtype: int64\n",
            "評価データ\n",
            "b    563\n",
            "e    528\n",
            "t    152\n",
            "m     91\n",
            "Name: CATEGORY, dtype: int64\n"
          ]
        }
      ],
      "source": [
        "# データのロード\n",
        "import pandas as pd\n",
        "import re\n",
        "import numpy as np\n",
        "import random\n",
        "import transformers\n",
        "import torch\n",
        "from torch.utils.data import Dataset, DataLoader\n",
        "from transformers import BertTokenizer, BertModel\n",
        "from torch import optim\n",
        "from torch import cuda\n",
        "from torch import nn\n",
        "from matplotlib import pyplot as plt\n",
        "\n",
        "# 乱数のシードを設定\n",
        "# parserなどで指定\n",
        "seed = 1234\n",
        "\n",
        "random.seed(seed)\n",
        "np.random.seed(seed)\n",
        "torch.manual_seed(seed)\n",
        "torch.backends.cudnn.benchmark = False\n",
        "torch.backends.cudnn.deterministic = True\n",
        "\n",
        "def seed_worker(worker_id):\n",
        "    worker_seed = torch.initial_seed() % 2**32\n",
        "    np.random.seed(worker_seed)\n",
        "    random.seed(worker_seed)\n",
        "\n",
        "g = torch.Generator()\n",
        "g.manual_seed(seed)\n",
        "\n",
        "# ファイル読み込み\n",
        "file = './newsCorpora.csv'\n",
        "data = pd.read_csv(file, encoding='utf-8', header=None, sep='\\t', names=['ID', 'TITLE', 'URL', 'PUBLISHER', 'CATEGORY', 'STORY', 'HOSTNAME', 'TIMESTAMP'])\n",
        "data = data.replace('\"', \"'\")\n",
        "# 特定のpublisherのみ抽出\n",
        "publishers = ['Reuters', 'Huffington Post', 'Businessweek', 'Contactmusic.com', 'Daily Mail']\n",
        "data = data.loc[data['PUBLISHER'].isin(publishers), ['TITLE', 'CATEGORY']].reset_index(drop=True)\n",
        "\n",
        "# 前処理\n",
        "def preprocessing(text):\n",
        "    text_clean = re.sub(r'[\\\"\\'.,:;\\(\\)#\\|\\*\\+\\!\\?#$%&/\\]\\[\\{\\}]', '', text)\n",
        "    text_clean = re.sub('[0-9]+', '0', text_clean)\n",
        "    text_clean = re.sub('\\s-\\s', ' ', text_clean)\n",
        "    return text_clean\n",
        "\n",
        "data['TITLE'] = data['TITLE'].apply(preprocessing)\n",
        "\n",
        "# 学習用、検証用、評価用に分割する\n",
        "from sklearn.model_selection import train_test_split\n",
        "\n",
        "train, valid_test = train_test_split(data, test_size=0.2, shuffle=True, random_state=64, stratify=data['CATEGORY'])\n",
        "valid, test = train_test_split(valid_test, test_size=0.5, shuffle=True, random_state=64, stratify=valid_test['CATEGORY'])\n",
        "\n",
        "train = train.reset_index(drop=True)\n",
        "valid = valid.reset_index(drop=True)\n",
        "test = test.reset_index(drop=True)\n",
        "\n",
        "# データ数の確認\n",
        "print('学習データ')\n",
        "print(train['CATEGORY'].value_counts())\n",
        "print('検証データ')\n",
        "print(valid['CATEGORY'].value_counts())\n",
        "print('評価データ')\n",
        "print(test['CATEGORY'].value_counts())\n",
        "\n",
        "# ターゲットのテンソル化\n",
        "category_dict = {'b': 0, 't': 1, 'e':2, 'm':3}\n",
        "Y_train = torch.from_numpy(train['CATEGORY'].map(category_dict).values)\n",
        "Y_valid = torch.from_numpy(valid['CATEGORY'].map(category_dict).values)\n",
        "Y_test = torch.from_numpy(test['CATEGORY'].map(category_dict).values)"
      ]
    },
    {
      "cell_type": "code",
      "execution_count": null,
      "metadata": {
        "colab": {
          "base_uri": "https://localhost:8080/",
          "height": 269,
          "referenced_widgets": [
            "3c267f63042943408e54b12046448a1f",
            "f5bc039fccf3486886fdbdd079662fd5",
            "b5f0698c7bc74f1295a0acb3445ab375",
            "92c007dff75344a188767581fd323a7b",
            "ac78da32bbc244e6810dcf157c9b4d0d",
            "9ee6fa2253b64f8e82925d7637680edc",
            "02788bcb6959451eb38807c651200198",
            "4299264db053457089e11d28fd9ff275",
            "31819704e3184082aba2caff111b419c",
            "a814f726b97e4393953cf263c7ab98fe",
            "74e8ba7a49f44f34bacf0e5286312979",
            "06c1418278a84d63b852b2236a048404",
            "48c4758e6ac44821b5d20e71df9887e8",
            "dd3a121f557e484dadbb18de7735d9a8",
            "ca078f81c3604365b17d98a49a8bad65",
            "2a703ec180c049e18b2c59a5de14414e",
            "73d2f8aa8b9b4becbb31a3d56cbac077",
            "7e2f2ba2ecbe4d4ebc4c04afa2de51b9",
            "f82f97eca7834e019a1b5b7924fb84a8",
            "2ea1288451e845cc9db5b71e6756e4f7",
            "02293408ba29406593d9ec98b9c56b51",
            "761c62fdcf324c3faa72f8fda0c13200",
            "971f1cc9351b47e5946deb9f42a202ad",
            "ef36dd398e634c2b8ac0a523fe44439e",
            "d3ecd001bcdb4c538004364d1a03a38b",
            "97b0c49904024eabb14789a8ff223653",
            "ffb58c16a8ba4e6ea102c7ebacdcefdf",
            "8050986aaa064373a92e24f974302034",
            "cca370a89204411a97f1776db5c28ba5",
            "eaf61fe9e3704b3b8ee2d080169a49a1",
            "37686075e8ec4ae68ecde97eea5c85a4",
            "554e57759e744088a1dcdf88759ff1e8",
            "a6489e7019e84f9cbdc6832e713c45fa",
            "29f2760e086342f9a200d2a0b90dc164",
            "1db60773fca14e9fb70cfe15099ad204",
            "a8ca527ab9e04662be4e3bc44899d82c",
            "f8103e88f7a344608abc651e188f2e8b",
            "43cf54be5f5748c29d8729f9b11f0ada",
            "743920f0f4554b0185fbcdc246b9870e",
            "8de374e5ffdc4f6fb0c5bf14474575bf",
            "8d36e679aa4e400ca900f76308ab2a3f",
            "52415ebc570a4159b5ad0d818e666354",
            "3c7fad3226ea4473a51d43c3c1cbed8a",
            "edb0ce47485e45e9b8bc6c90963b90b0"
          ]
        },
        "id": "88XZ8dhxxFvT",
        "outputId": "aa6b8d87-1237-4c64-ebaa-4b46bbc47a7d"
      },
      "outputs": [
        {
          "data": {
            "application/vnd.jupyter.widget-view+json": {
              "model_id": "3c267f63042943408e54b12046448a1f",
              "version_major": 2,
              "version_minor": 0
            },
            "text/plain": [
              "tokenizer_config.json:   0%|          | 0.00/28.0 [00:00<?, ?B/s]"
            ]
          },
          "metadata": {},
          "output_type": "display_data"
        },
        {
          "data": {
            "application/vnd.jupyter.widget-view+json": {
              "model_id": "06c1418278a84d63b852b2236a048404",
              "version_major": 2,
              "version_minor": 0
            },
            "text/plain": [
              "vocab.txt:   0%|          | 0.00/232k [00:00<?, ?B/s]"
            ]
          },
          "metadata": {},
          "output_type": "display_data"
        },
        {
          "data": {
            "application/vnd.jupyter.widget-view+json": {
              "model_id": "971f1cc9351b47e5946deb9f42a202ad",
              "version_major": 2,
              "version_minor": 0
            },
            "text/plain": [
              "tokenizer.json:   0%|          | 0.00/466k [00:00<?, ?B/s]"
            ]
          },
          "metadata": {},
          "output_type": "display_data"
        },
        {
          "data": {
            "application/vnd.jupyter.widget-view+json": {
              "model_id": "29f2760e086342f9a200d2a0b90dc164",
              "version_major": 2,
              "version_minor": 0
            },
            "text/plain": [
              "config.json:   0%|          | 0.00/570 [00:00<?, ?B/s]"
            ]
          },
          "metadata": {},
          "output_type": "display_data"
        },
        {
          "name": "stderr",
          "output_type": "stream",
          "text": [
            "/usr/local/lib/python3.10/dist-packages/transformers/tokenization_utils_base.py:2614: FutureWarning: The `pad_to_max_length` argument is deprecated and will be removed in a future version, use `padding=True` or `padding='longest'` to pad to the longest sequence in the batch, or use `padding='max_length'` to pad to a max length. In this case, you can give a specific length with `max_length` (e.g. `max_length=45`) or leave max_length to None to pad to the maximal input size of the model (e.g. 512 for Bert).\n",
            "  warnings.warn(\n"
          ]
        },
        {
          "data": {
            "text/plain": [
              "{'ids': tensor([  101,  6796, 12170, 22669,  2104,  4812,  2005,  4692, 13742,  2012,\n",
              "          4913, 18396,  2015,   102,     0,     0,     0,     0,     0,     0]),\n",
              " 'mask': tensor([1, 1, 1, 1, 1, 1, 1, 1, 1, 1, 1, 1, 1, 1, 0, 0, 0, 0, 0, 0]),\n",
              " 'labels': tensor(2)}"
            ]
          },
          "execution_count": 68,
          "metadata": {},
          "output_type": "execute_result"
        }
      ],
      "source": [
        "class BERTDataSet(Dataset):\n",
        "\n",
        "    def __init__(self, X, y, phase):\n",
        "        self.X = X['TITLE']\n",
        "        self.y = y\n",
        "        self.tokenizer = BertTokenizer.from_pretrained('bert-base-uncased')\n",
        "        self.phase = phase\n",
        "\n",
        "    def __len__(self):\n",
        "        return len(self.y)\n",
        "\n",
        "    def __getitem__(self,idx):\n",
        "        sentence = self.X[idx]\n",
        "        sentence = str(sentence)\n",
        "        sentence = \" \".join(sentence.split())\n",
        "\n",
        "        bert_sens = self.tokenizer.encode_plus(\n",
        "                                sentence,\n",
        "                                add_special_tokens = True, # [CLS],[SEP]\n",
        "                                max_length = 20,\n",
        "                                pad_to_max_length = True, # add padding to blank\n",
        "                                truncation=True)\n",
        "\n",
        "        ids = torch.tensor(bert_sens['input_ids'], dtype=torch.long)\n",
        "        mask = torch.tensor(bert_sens['attention_mask'], dtype=torch.long)\n",
        "        labels = self.y[idx]\n",
        "\n",
        "        return {\n",
        "                'ids': ids,\n",
        "                'mask': mask,\n",
        "                'labels': labels,\n",
        "                }\n",
        "\n",
        "train_dataset = BERTDataSet(train, Y_train, phase='train')\n",
        "valid_dataset = BERTDataSet(valid, Y_valid, phase='val')\n",
        "test_dataset = BERTDataSet(test, Y_test, phase='val')\n",
        "\n",
        "# 動作確認\n",
        "train_dataset[0]"
      ]
    },
    {
      "cell_type": "code",
      "execution_count": null,
      "metadata": {
        "colab": {
          "base_uri": "https://localhost:8080/"
        },
        "id": "9i8fnJdQxHRP",
        "outputId": "85d18673-d0b2-4909-97a5-b9df105dffdf"
      },
      "outputs": [
        {
          "name": "stdout",
          "output_type": "stream",
          "text": [
            "torch.Size([64, 20])\n",
            "torch.Size([64, 20])\n",
            "torch.Size([64])\n"
          ]
        }
      ],
      "source": [
        "# DataLoaderを作成\n",
        "batch_size = 64\n",
        "\n",
        "train_dataloader = DataLoader(\n",
        "            train_dataset, batch_size=batch_size, shuffle=True, worker_init_fn=seed_worker, generator=g)\n",
        "valid_dataloader = DataLoader(\n",
        "            valid_dataset, batch_size=batch_size, shuffle=False, worker_init_fn=seed_worker, generator=g)\n",
        "test_dataloader = DataLoader(\n",
        "            test_dataset, batch_size=batch_size, shuffle=False, worker_init_fn=seed_worker, generator=g)\n",
        "\n",
        "dataloaders_dict = {'train': train_dataloader,\n",
        "                    'val': valid_dataloader,\n",
        "                    'test': test_dataloader,\n",
        "                   }\n",
        "\n",
        "# 動作確認\n",
        "batch_iter = iter(dataloaders_dict['train'])\n",
        "inputs = next(batch_iter)\n",
        "print(inputs['ids'].size())\n",
        "print(inputs['mask'].size())\n",
        "print(inputs['labels'].size())"
      ]
    },
    {
      "cell_type": "markdown",
      "metadata": {
        "id": "gsGbGyjPxPD7"
      },
      "source": [
        "構築・学習"
      ]
    },
    {
      "cell_type": "code",
      "execution_count": null,
      "metadata": {
        "id": "8SB8WP9SxW8k"
      },
      "outputs": [],
      "source": [
        "# BERT分類モデルの定義\n",
        "class BERTClass(torch.nn.Module):\n",
        "    def __init__(self, drop_rate, hidden_size, output_size):\n",
        "        super().__init__()\n",
        "        self.bert = BertModel.from_pretrained('bert-base-uncased')\n",
        "        self.drop = nn.Dropout(drop_rate)\n",
        "        self.fc = nn.Sequential(\n",
        "                                nn.Linear(768, hidden_size),\n",
        "                                nn.ReLU(),\n",
        "                                nn.BatchNorm1d(hidden_size),\n",
        "                                nn.Linear(hidden_size, output_size)\n",
        "                                )\n",
        "        # self.fc = nn.Linear(768, output_size)  # BERTの出力に合わせて768次元を指定\n",
        "\n",
        "    def forward(self, ids, mask):\n",
        "        out = self.bert(ids, attention_mask=mask)[-1]\n",
        "        out = self.fc(self.drop(out))\n",
        "        return out"
      ]
    },
    {
      "cell_type": "code",
      "execution_count": null,
      "metadata": {
        "colab": {
          "background_save": true,
          "base_uri": "https://localhost:8080/"
        },
        "id": "MQ-1wfg4xWIq",
        "outputId": "32d619dc-def9-4ecc-f915-dd8027823388"
      },
      "outputs": [
        {
          "name": "stdout",
          "output_type": "stream",
          "text": [
            "Epoch 1 / 8 (train) Loss: 0.6617, Acc: 0.7655, (val) Loss: 0.2767, Acc: 0.9108\n",
            "Epoch 2 / 8 (train) Loss: 0.2771, Acc: 0.9193, (val) Loss: 0.2124, Acc: 0.9340\n"
          ]
        }
      ],
      "source": [
        "# 学習用の関数を定義\n",
        "def train_model(net, dataloaders_dict, criterion, optimizer, num_epochs):\n",
        "    # 初期設定\n",
        "    # GPUが使えるか確認\n",
        "    device = torch.device(\"cuda:0\" if torch.cuda.is_available() else \"cpu\")\n",
        "\n",
        "    # ネットワークをgpuへ\n",
        "    net.to(device)\n",
        "\n",
        "    train_loss = []\n",
        "    train_acc = []\n",
        "    valid_loss = []\n",
        "    valid_acc = []\n",
        "\n",
        "    # epochのループ\n",
        "    for epoch in range(num_epochs):\n",
        "        # epochごとの学習と検証のループ\n",
        "        for phase in ['train', 'val']:\n",
        "            if phase == 'train':\n",
        "                net.train() # 訓練モード\n",
        "            else:\n",
        "                net.eval() # 検証モード\n",
        "\n",
        "            epoch_loss = 0.0 # epochの損失和\n",
        "            epoch_corrects = 0 # epochの正解数\n",
        "\n",
        "            # データローダーからミニバッチを取り出すループ\n",
        "            for data in dataloaders_dict[phase]:\n",
        "                # GPUが使えるならGPUにおくる\n",
        "                ids = data['ids'].to(device)\n",
        "                mask = data['mask'].to(device)\n",
        "                labels = data['labels'].to(device)\n",
        "                optimizer.zero_grad() # optimizerを初期化\n",
        "\n",
        "                # 順伝播計算(forward)\n",
        "                with torch.set_grad_enabled(phase == 'train'):\n",
        "                    outputs = net(ids, mask)\n",
        "                    loss = criterion(outputs, labels) # 損失を計算\n",
        "                    _, preds = torch.max(outputs, 1) # ラベルを予想\n",
        "\n",
        "                    # 訓練時は逆伝播\n",
        "                    if phase == 'train':\n",
        "                        loss.backward()\n",
        "                        optimizer.step()\n",
        "\n",
        "                    # イテレーション結果の計算\n",
        "                    # lossの合計を更新\n",
        "                    epoch_loss += loss.item() * ids.size(0)\n",
        "                    # 正解数の合計を更新\n",
        "                    epoch_corrects += torch.sum(preds == labels.data)\n",
        "\n",
        "            # epochごとのlossと正解率の表示\n",
        "            epoch_loss = epoch_loss / len(dataloaders_dict[phase].dataset)\n",
        "            epoch_acc = epoch_corrects.double() / len(dataloaders_dict[phase].dataset)\n",
        "            if phase == 'train':\n",
        "                train_loss.append(epoch_loss)\n",
        "                train_acc.append(epoch_acc.cpu())\n",
        "            else:\n",
        "                valid_loss.append(epoch_loss)\n",
        "                valid_acc.append(epoch_acc.cpu())\n",
        "\n",
        "        print('Epoch {} / {} (train) Loss: {:.4f}, Acc: {:.4f}, (val) Loss: {:.4f}, Acc: {:.4f}'.format(epoch + 1, num_epochs, train_loss[-1], train_acc[-1], valid_loss[-1], valid_acc[-1]))\n",
        "    return train_loss, train_acc, valid_loss, valid_acc\n",
        "\n",
        "\n",
        "# パラメータの設定\n",
        "DROP_RATE = 0.2\n",
        "HIDDEN_SIZE = 256\n",
        "OUTPUT_SIZE = 4\n",
        "BATCH_SIZE = 64\n",
        "NUM_EPOCHS = 8\n",
        "LEARNING_RATE = 1e-5\n",
        "\n",
        "# モデルの定義\n",
        "net = BERTClass(DROP_RATE, HIDDEN_SIZE, OUTPUT_SIZE)\n",
        "net.train()\n",
        "\n",
        "# 損失関数の定義\n",
        "criterion = nn.CrossEntropyLoss()\n",
        "\n",
        "# オプティマイザの定義\n",
        "optimizer = torch.optim.AdamW(params=net.parameters(), lr=LEARNING_RATE)\n",
        "\n",
        "train_loss, train_acc, valid_loss, valid_acc = train_model(net,\n",
        "            dataloaders_dict, criterion, optimizer, num_epochs=NUM_EPOCHS)"
      ]
    }
  ],
  "metadata": {
    "colab": {
      "provenance": []
    },
    "kernelspec": {
      "display_name": "Python 3",
      "name": "python3"
    },
    "language_info": {
      "name": "python"
    },
    "widgets": {
      "application/vnd.jupyter.widget-state+json": {
        "02293408ba29406593d9ec98b9c56b51": {
          "model_module": "@jupyter-widgets/base",
          "model_module_version": "1.2.0",
          "model_name": "LayoutModel",
          "state": {
            "_model_module": "@jupyter-widgets/base",
            "_model_module_version": "1.2.0",
            "_model_name": "LayoutModel",
            "_view_count": null,
            "_view_module": "@jupyter-widgets/base",
            "_view_module_version": "1.2.0",
            "_view_name": "LayoutView",
            "align_content": null,
            "align_items": null,
            "align_self": null,
            "border": null,
            "bottom": null,
            "display": null,
            "flex": null,
            "flex_flow": null,
            "grid_area": null,
            "grid_auto_columns": null,
            "grid_auto_flow": null,
            "grid_auto_rows": null,
            "grid_column": null,
            "grid_gap": null,
            "grid_row": null,
            "grid_template_areas": null,
            "grid_template_columns": null,
            "grid_template_rows": null,
            "height": null,
            "justify_content": null,
            "justify_items": null,
            "left": null,
            "margin": null,
            "max_height": null,
            "max_width": null,
            "min_height": null,
            "min_width": null,
            "object_fit": null,
            "object_position": null,
            "order": null,
            "overflow": null,
            "overflow_x": null,
            "overflow_y": null,
            "padding": null,
            "right": null,
            "top": null,
            "visibility": null,
            "width": null
          }
        },
        "02788bcb6959451eb38807c651200198": {
          "model_module": "@jupyter-widgets/controls",
          "model_module_version": "1.5.0",
          "model_name": "DescriptionStyleModel",
          "state": {
            "_model_module": "@jupyter-widgets/controls",
            "_model_module_version": "1.5.0",
            "_model_name": "DescriptionStyleModel",
            "_view_count": null,
            "_view_module": "@jupyter-widgets/base",
            "_view_module_version": "1.2.0",
            "_view_name": "StyleView",
            "description_width": ""
          }
        },
        "06c1418278a84d63b852b2236a048404": {
          "model_module": "@jupyter-widgets/controls",
          "model_module_version": "1.5.0",
          "model_name": "HBoxModel",
          "state": {
            "_dom_classes": [],
            "_model_module": "@jupyter-widgets/controls",
            "_model_module_version": "1.5.0",
            "_model_name": "HBoxModel",
            "_view_count": null,
            "_view_module": "@jupyter-widgets/controls",
            "_view_module_version": "1.5.0",
            "_view_name": "HBoxView",
            "box_style": "",
            "children": [
              "IPY_MODEL_48c4758e6ac44821b5d20e71df9887e8",
              "IPY_MODEL_dd3a121f557e484dadbb18de7735d9a8",
              "IPY_MODEL_ca078f81c3604365b17d98a49a8bad65"
            ],
            "layout": "IPY_MODEL_2a703ec180c049e18b2c59a5de14414e"
          }
        },
        "1db60773fca14e9fb70cfe15099ad204": {
          "model_module": "@jupyter-widgets/controls",
          "model_module_version": "1.5.0",
          "model_name": "HTMLModel",
          "state": {
            "_dom_classes": [],
            "_model_module": "@jupyter-widgets/controls",
            "_model_module_version": "1.5.0",
            "_model_name": "HTMLModel",
            "_view_count": null,
            "_view_module": "@jupyter-widgets/controls",
            "_view_module_version": "1.5.0",
            "_view_name": "HTMLView",
            "description": "",
            "description_tooltip": null,
            "layout": "IPY_MODEL_743920f0f4554b0185fbcdc246b9870e",
            "placeholder": "​",
            "style": "IPY_MODEL_8de374e5ffdc4f6fb0c5bf14474575bf",
            "value": "config.json: 100%"
          }
        },
        "29f2760e086342f9a200d2a0b90dc164": {
          "model_module": "@jupyter-widgets/controls",
          "model_module_version": "1.5.0",
          "model_name": "HBoxModel",
          "state": {
            "_dom_classes": [],
            "_model_module": "@jupyter-widgets/controls",
            "_model_module_version": "1.5.0",
            "_model_name": "HBoxModel",
            "_view_count": null,
            "_view_module": "@jupyter-widgets/controls",
            "_view_module_version": "1.5.0",
            "_view_name": "HBoxView",
            "box_style": "",
            "children": [
              "IPY_MODEL_1db60773fca14e9fb70cfe15099ad204",
              "IPY_MODEL_a8ca527ab9e04662be4e3bc44899d82c",
              "IPY_MODEL_f8103e88f7a344608abc651e188f2e8b"
            ],
            "layout": "IPY_MODEL_43cf54be5f5748c29d8729f9b11f0ada"
          }
        },
        "2a703ec180c049e18b2c59a5de14414e": {
          "model_module": "@jupyter-widgets/base",
          "model_module_version": "1.2.0",
          "model_name": "LayoutModel",
          "state": {
            "_model_module": "@jupyter-widgets/base",
            "_model_module_version": "1.2.0",
            "_model_name": "LayoutModel",
            "_view_count": null,
            "_view_module": "@jupyter-widgets/base",
            "_view_module_version": "1.2.0",
            "_view_name": "LayoutView",
            "align_content": null,
            "align_items": null,
            "align_self": null,
            "border": null,
            "bottom": null,
            "display": null,
            "flex": null,
            "flex_flow": null,
            "grid_area": null,
            "grid_auto_columns": null,
            "grid_auto_flow": null,
            "grid_auto_rows": null,
            "grid_column": null,
            "grid_gap": null,
            "grid_row": null,
            "grid_template_areas": null,
            "grid_template_columns": null,
            "grid_template_rows": null,
            "height": null,
            "justify_content": null,
            "justify_items": null,
            "left": null,
            "margin": null,
            "max_height": null,
            "max_width": null,
            "min_height": null,
            "min_width": null,
            "object_fit": null,
            "object_position": null,
            "order": null,
            "overflow": null,
            "overflow_x": null,
            "overflow_y": null,
            "padding": null,
            "right": null,
            "top": null,
            "visibility": null,
            "width": null
          }
        },
        "2ea1288451e845cc9db5b71e6756e4f7": {
          "model_module": "@jupyter-widgets/controls",
          "model_module_version": "1.5.0",
          "model_name": "ProgressStyleModel",
          "state": {
            "_model_module": "@jupyter-widgets/controls",
            "_model_module_version": "1.5.0",
            "_model_name": "ProgressStyleModel",
            "_view_count": null,
            "_view_module": "@jupyter-widgets/base",
            "_view_module_version": "1.2.0",
            "_view_name": "StyleView",
            "bar_color": null,
            "description_width": ""
          }
        },
        "31819704e3184082aba2caff111b419c": {
          "model_module": "@jupyter-widgets/controls",
          "model_module_version": "1.5.0",
          "model_name": "ProgressStyleModel",
          "state": {
            "_model_module": "@jupyter-widgets/controls",
            "_model_module_version": "1.5.0",
            "_model_name": "ProgressStyleModel",
            "_view_count": null,
            "_view_module": "@jupyter-widgets/base",
            "_view_module_version": "1.2.0",
            "_view_name": "StyleView",
            "bar_color": null,
            "description_width": ""
          }
        },
        "37686075e8ec4ae68ecde97eea5c85a4": {
          "model_module": "@jupyter-widgets/controls",
          "model_module_version": "1.5.0",
          "model_name": "ProgressStyleModel",
          "state": {
            "_model_module": "@jupyter-widgets/controls",
            "_model_module_version": "1.5.0",
            "_model_name": "ProgressStyleModel",
            "_view_count": null,
            "_view_module": "@jupyter-widgets/base",
            "_view_module_version": "1.2.0",
            "_view_name": "StyleView",
            "bar_color": null,
            "description_width": ""
          }
        },
        "3c267f63042943408e54b12046448a1f": {
          "model_module": "@jupyter-widgets/controls",
          "model_module_version": "1.5.0",
          "model_name": "HBoxModel",
          "state": {
            "_dom_classes": [],
            "_model_module": "@jupyter-widgets/controls",
            "_model_module_version": "1.5.0",
            "_model_name": "HBoxModel",
            "_view_count": null,
            "_view_module": "@jupyter-widgets/controls",
            "_view_module_version": "1.5.0",
            "_view_name": "HBoxView",
            "box_style": "",
            "children": [
              "IPY_MODEL_f5bc039fccf3486886fdbdd079662fd5",
              "IPY_MODEL_b5f0698c7bc74f1295a0acb3445ab375",
              "IPY_MODEL_92c007dff75344a188767581fd323a7b"
            ],
            "layout": "IPY_MODEL_ac78da32bbc244e6810dcf157c9b4d0d"
          }
        },
        "3c7fad3226ea4473a51d43c3c1cbed8a": {
          "model_module": "@jupyter-widgets/base",
          "model_module_version": "1.2.0",
          "model_name": "LayoutModel",
          "state": {
            "_model_module": "@jupyter-widgets/base",
            "_model_module_version": "1.2.0",
            "_model_name": "LayoutModel",
            "_view_count": null,
            "_view_module": "@jupyter-widgets/base",
            "_view_module_version": "1.2.0",
            "_view_name": "LayoutView",
            "align_content": null,
            "align_items": null,
            "align_self": null,
            "border": null,
            "bottom": null,
            "display": null,
            "flex": null,
            "flex_flow": null,
            "grid_area": null,
            "grid_auto_columns": null,
            "grid_auto_flow": null,
            "grid_auto_rows": null,
            "grid_column": null,
            "grid_gap": null,
            "grid_row": null,
            "grid_template_areas": null,
            "grid_template_columns": null,
            "grid_template_rows": null,
            "height": null,
            "justify_content": null,
            "justify_items": null,
            "left": null,
            "margin": null,
            "max_height": null,
            "max_width": null,
            "min_height": null,
            "min_width": null,
            "object_fit": null,
            "object_position": null,
            "order": null,
            "overflow": null,
            "overflow_x": null,
            "overflow_y": null,
            "padding": null,
            "right": null,
            "top": null,
            "visibility": null,
            "width": null
          }
        },
        "4299264db053457089e11d28fd9ff275": {
          "model_module": "@jupyter-widgets/base",
          "model_module_version": "1.2.0",
          "model_name": "LayoutModel",
          "state": {
            "_model_module": "@jupyter-widgets/base",
            "_model_module_version": "1.2.0",
            "_model_name": "LayoutModel",
            "_view_count": null,
            "_view_module": "@jupyter-widgets/base",
            "_view_module_version": "1.2.0",
            "_view_name": "LayoutView",
            "align_content": null,
            "align_items": null,
            "align_self": null,
            "border": null,
            "bottom": null,
            "display": null,
            "flex": null,
            "flex_flow": null,
            "grid_area": null,
            "grid_auto_columns": null,
            "grid_auto_flow": null,
            "grid_auto_rows": null,
            "grid_column": null,
            "grid_gap": null,
            "grid_row": null,
            "grid_template_areas": null,
            "grid_template_columns": null,
            "grid_template_rows": null,
            "height": null,
            "justify_content": null,
            "justify_items": null,
            "left": null,
            "margin": null,
            "max_height": null,
            "max_width": null,
            "min_height": null,
            "min_width": null,
            "object_fit": null,
            "object_position": null,
            "order": null,
            "overflow": null,
            "overflow_x": null,
            "overflow_y": null,
            "padding": null,
            "right": null,
            "top": null,
            "visibility": null,
            "width": null
          }
        },
        "43cf54be5f5748c29d8729f9b11f0ada": {
          "model_module": "@jupyter-widgets/base",
          "model_module_version": "1.2.0",
          "model_name": "LayoutModel",
          "state": {
            "_model_module": "@jupyter-widgets/base",
            "_model_module_version": "1.2.0",
            "_model_name": "LayoutModel",
            "_view_count": null,
            "_view_module": "@jupyter-widgets/base",
            "_view_module_version": "1.2.0",
            "_view_name": "LayoutView",
            "align_content": null,
            "align_items": null,
            "align_self": null,
            "border": null,
            "bottom": null,
            "display": null,
            "flex": null,
            "flex_flow": null,
            "grid_area": null,
            "grid_auto_columns": null,
            "grid_auto_flow": null,
            "grid_auto_rows": null,
            "grid_column": null,
            "grid_gap": null,
            "grid_row": null,
            "grid_template_areas": null,
            "grid_template_columns": null,
            "grid_template_rows": null,
            "height": null,
            "justify_content": null,
            "justify_items": null,
            "left": null,
            "margin": null,
            "max_height": null,
            "max_width": null,
            "min_height": null,
            "min_width": null,
            "object_fit": null,
            "object_position": null,
            "order": null,
            "overflow": null,
            "overflow_x": null,
            "overflow_y": null,
            "padding": null,
            "right": null,
            "top": null,
            "visibility": null,
            "width": null
          }
        },
        "48c4758e6ac44821b5d20e71df9887e8": {
          "model_module": "@jupyter-widgets/controls",
          "model_module_version": "1.5.0",
          "model_name": "HTMLModel",
          "state": {
            "_dom_classes": [],
            "_model_module": "@jupyter-widgets/controls",
            "_model_module_version": "1.5.0",
            "_model_name": "HTMLModel",
            "_view_count": null,
            "_view_module": "@jupyter-widgets/controls",
            "_view_module_version": "1.5.0",
            "_view_name": "HTMLView",
            "description": "",
            "description_tooltip": null,
            "layout": "IPY_MODEL_73d2f8aa8b9b4becbb31a3d56cbac077",
            "placeholder": "​",
            "style": "IPY_MODEL_7e2f2ba2ecbe4d4ebc4c04afa2de51b9",
            "value": "vocab.txt: 100%"
          }
        },
        "52415ebc570a4159b5ad0d818e666354": {
          "model_module": "@jupyter-widgets/controls",
          "model_module_version": "1.5.0",
          "model_name": "ProgressStyleModel",
          "state": {
            "_model_module": "@jupyter-widgets/controls",
            "_model_module_version": "1.5.0",
            "_model_name": "ProgressStyleModel",
            "_view_count": null,
            "_view_module": "@jupyter-widgets/base",
            "_view_module_version": "1.2.0",
            "_view_name": "StyleView",
            "bar_color": null,
            "description_width": ""
          }
        },
        "554e57759e744088a1dcdf88759ff1e8": {
          "model_module": "@jupyter-widgets/base",
          "model_module_version": "1.2.0",
          "model_name": "LayoutModel",
          "state": {
            "_model_module": "@jupyter-widgets/base",
            "_model_module_version": "1.2.0",
            "_model_name": "LayoutModel",
            "_view_count": null,
            "_view_module": "@jupyter-widgets/base",
            "_view_module_version": "1.2.0",
            "_view_name": "LayoutView",
            "align_content": null,
            "align_items": null,
            "align_self": null,
            "border": null,
            "bottom": null,
            "display": null,
            "flex": null,
            "flex_flow": null,
            "grid_area": null,
            "grid_auto_columns": null,
            "grid_auto_flow": null,
            "grid_auto_rows": null,
            "grid_column": null,
            "grid_gap": null,
            "grid_row": null,
            "grid_template_areas": null,
            "grid_template_columns": null,
            "grid_template_rows": null,
            "height": null,
            "justify_content": null,
            "justify_items": null,
            "left": null,
            "margin": null,
            "max_height": null,
            "max_width": null,
            "min_height": null,
            "min_width": null,
            "object_fit": null,
            "object_position": null,
            "order": null,
            "overflow": null,
            "overflow_x": null,
            "overflow_y": null,
            "padding": null,
            "right": null,
            "top": null,
            "visibility": null,
            "width": null
          }
        },
        "73d2f8aa8b9b4becbb31a3d56cbac077": {
          "model_module": "@jupyter-widgets/base",
          "model_module_version": "1.2.0",
          "model_name": "LayoutModel",
          "state": {
            "_model_module": "@jupyter-widgets/base",
            "_model_module_version": "1.2.0",
            "_model_name": "LayoutModel",
            "_view_count": null,
            "_view_module": "@jupyter-widgets/base",
            "_view_module_version": "1.2.0",
            "_view_name": "LayoutView",
            "align_content": null,
            "align_items": null,
            "align_self": null,
            "border": null,
            "bottom": null,
            "display": null,
            "flex": null,
            "flex_flow": null,
            "grid_area": null,
            "grid_auto_columns": null,
            "grid_auto_flow": null,
            "grid_auto_rows": null,
            "grid_column": null,
            "grid_gap": null,
            "grid_row": null,
            "grid_template_areas": null,
            "grid_template_columns": null,
            "grid_template_rows": null,
            "height": null,
            "justify_content": null,
            "justify_items": null,
            "left": null,
            "margin": null,
            "max_height": null,
            "max_width": null,
            "min_height": null,
            "min_width": null,
            "object_fit": null,
            "object_position": null,
            "order": null,
            "overflow": null,
            "overflow_x": null,
            "overflow_y": null,
            "padding": null,
            "right": null,
            "top": null,
            "visibility": null,
            "width": null
          }
        },
        "743920f0f4554b0185fbcdc246b9870e": {
          "model_module": "@jupyter-widgets/base",
          "model_module_version": "1.2.0",
          "model_name": "LayoutModel",
          "state": {
            "_model_module": "@jupyter-widgets/base",
            "_model_module_version": "1.2.0",
            "_model_name": "LayoutModel",
            "_view_count": null,
            "_view_module": "@jupyter-widgets/base",
            "_view_module_version": "1.2.0",
            "_view_name": "LayoutView",
            "align_content": null,
            "align_items": null,
            "align_self": null,
            "border": null,
            "bottom": null,
            "display": null,
            "flex": null,
            "flex_flow": null,
            "grid_area": null,
            "grid_auto_columns": null,
            "grid_auto_flow": null,
            "grid_auto_rows": null,
            "grid_column": null,
            "grid_gap": null,
            "grid_row": null,
            "grid_template_areas": null,
            "grid_template_columns": null,
            "grid_template_rows": null,
            "height": null,
            "justify_content": null,
            "justify_items": null,
            "left": null,
            "margin": null,
            "max_height": null,
            "max_width": null,
            "min_height": null,
            "min_width": null,
            "object_fit": null,
            "object_position": null,
            "order": null,
            "overflow": null,
            "overflow_x": null,
            "overflow_y": null,
            "padding": null,
            "right": null,
            "top": null,
            "visibility": null,
            "width": null
          }
        },
        "74e8ba7a49f44f34bacf0e5286312979": {
          "model_module": "@jupyter-widgets/controls",
          "model_module_version": "1.5.0",
          "model_name": "DescriptionStyleModel",
          "state": {
            "_model_module": "@jupyter-widgets/controls",
            "_model_module_version": "1.5.0",
            "_model_name": "DescriptionStyleModel",
            "_view_count": null,
            "_view_module": "@jupyter-widgets/base",
            "_view_module_version": "1.2.0",
            "_view_name": "StyleView",
            "description_width": ""
          }
        },
        "761c62fdcf324c3faa72f8fda0c13200": {
          "model_module": "@jupyter-widgets/controls",
          "model_module_version": "1.5.0",
          "model_name": "DescriptionStyleModel",
          "state": {
            "_model_module": "@jupyter-widgets/controls",
            "_model_module_version": "1.5.0",
            "_model_name": "DescriptionStyleModel",
            "_view_count": null,
            "_view_module": "@jupyter-widgets/base",
            "_view_module_version": "1.2.0",
            "_view_name": "StyleView",
            "description_width": ""
          }
        },
        "7e2f2ba2ecbe4d4ebc4c04afa2de51b9": {
          "model_module": "@jupyter-widgets/controls",
          "model_module_version": "1.5.0",
          "model_name": "DescriptionStyleModel",
          "state": {
            "_model_module": "@jupyter-widgets/controls",
            "_model_module_version": "1.5.0",
            "_model_name": "DescriptionStyleModel",
            "_view_count": null,
            "_view_module": "@jupyter-widgets/base",
            "_view_module_version": "1.2.0",
            "_view_name": "StyleView",
            "description_width": ""
          }
        },
        "8050986aaa064373a92e24f974302034": {
          "model_module": "@jupyter-widgets/base",
          "model_module_version": "1.2.0",
          "model_name": "LayoutModel",
          "state": {
            "_model_module": "@jupyter-widgets/base",
            "_model_module_version": "1.2.0",
            "_model_name": "LayoutModel",
            "_view_count": null,
            "_view_module": "@jupyter-widgets/base",
            "_view_module_version": "1.2.0",
            "_view_name": "LayoutView",
            "align_content": null,
            "align_items": null,
            "align_self": null,
            "border": null,
            "bottom": null,
            "display": null,
            "flex": null,
            "flex_flow": null,
            "grid_area": null,
            "grid_auto_columns": null,
            "grid_auto_flow": null,
            "grid_auto_rows": null,
            "grid_column": null,
            "grid_gap": null,
            "grid_row": null,
            "grid_template_areas": null,
            "grid_template_columns": null,
            "grid_template_rows": null,
            "height": null,
            "justify_content": null,
            "justify_items": null,
            "left": null,
            "margin": null,
            "max_height": null,
            "max_width": null,
            "min_height": null,
            "min_width": null,
            "object_fit": null,
            "object_position": null,
            "order": null,
            "overflow": null,
            "overflow_x": null,
            "overflow_y": null,
            "padding": null,
            "right": null,
            "top": null,
            "visibility": null,
            "width": null
          }
        },
        "8d36e679aa4e400ca900f76308ab2a3f": {
          "model_module": "@jupyter-widgets/base",
          "model_module_version": "1.2.0",
          "model_name": "LayoutModel",
          "state": {
            "_model_module": "@jupyter-widgets/base",
            "_model_module_version": "1.2.0",
            "_model_name": "LayoutModel",
            "_view_count": null,
            "_view_module": "@jupyter-widgets/base",
            "_view_module_version": "1.2.0",
            "_view_name": "LayoutView",
            "align_content": null,
            "align_items": null,
            "align_self": null,
            "border": null,
            "bottom": null,
            "display": null,
            "flex": null,
            "flex_flow": null,
            "grid_area": null,
            "grid_auto_columns": null,
            "grid_auto_flow": null,
            "grid_auto_rows": null,
            "grid_column": null,
            "grid_gap": null,
            "grid_row": null,
            "grid_template_areas": null,
            "grid_template_columns": null,
            "grid_template_rows": null,
            "height": null,
            "justify_content": null,
            "justify_items": null,
            "left": null,
            "margin": null,
            "max_height": null,
            "max_width": null,
            "min_height": null,
            "min_width": null,
            "object_fit": null,
            "object_position": null,
            "order": null,
            "overflow": null,
            "overflow_x": null,
            "overflow_y": null,
            "padding": null,
            "right": null,
            "top": null,
            "visibility": null,
            "width": null
          }
        },
        "8de374e5ffdc4f6fb0c5bf14474575bf": {
          "model_module": "@jupyter-widgets/controls",
          "model_module_version": "1.5.0",
          "model_name": "DescriptionStyleModel",
          "state": {
            "_model_module": "@jupyter-widgets/controls",
            "_model_module_version": "1.5.0",
            "_model_name": "DescriptionStyleModel",
            "_view_count": null,
            "_view_module": "@jupyter-widgets/base",
            "_view_module_version": "1.2.0",
            "_view_name": "StyleView",
            "description_width": ""
          }
        },
        "92c007dff75344a188767581fd323a7b": {
          "model_module": "@jupyter-widgets/controls",
          "model_module_version": "1.5.0",
          "model_name": "HTMLModel",
          "state": {
            "_dom_classes": [],
            "_model_module": "@jupyter-widgets/controls",
            "_model_module_version": "1.5.0",
            "_model_name": "HTMLModel",
            "_view_count": null,
            "_view_module": "@jupyter-widgets/controls",
            "_view_module_version": "1.5.0",
            "_view_name": "HTMLView",
            "description": "",
            "description_tooltip": null,
            "layout": "IPY_MODEL_a814f726b97e4393953cf263c7ab98fe",
            "placeholder": "​",
            "style": "IPY_MODEL_74e8ba7a49f44f34bacf0e5286312979",
            "value": " 28.0/28.0 [00:00&lt;00:00, 970B/s]"
          }
        },
        "971f1cc9351b47e5946deb9f42a202ad": {
          "model_module": "@jupyter-widgets/controls",
          "model_module_version": "1.5.0",
          "model_name": "HBoxModel",
          "state": {
            "_dom_classes": [],
            "_model_module": "@jupyter-widgets/controls",
            "_model_module_version": "1.5.0",
            "_model_name": "HBoxModel",
            "_view_count": null,
            "_view_module": "@jupyter-widgets/controls",
            "_view_module_version": "1.5.0",
            "_view_name": "HBoxView",
            "box_style": "",
            "children": [
              "IPY_MODEL_ef36dd398e634c2b8ac0a523fe44439e",
              "IPY_MODEL_d3ecd001bcdb4c538004364d1a03a38b",
              "IPY_MODEL_97b0c49904024eabb14789a8ff223653"
            ],
            "layout": "IPY_MODEL_ffb58c16a8ba4e6ea102c7ebacdcefdf"
          }
        },
        "97b0c49904024eabb14789a8ff223653": {
          "model_module": "@jupyter-widgets/controls",
          "model_module_version": "1.5.0",
          "model_name": "HTMLModel",
          "state": {
            "_dom_classes": [],
            "_model_module": "@jupyter-widgets/controls",
            "_model_module_version": "1.5.0",
            "_model_name": "HTMLModel",
            "_view_count": null,
            "_view_module": "@jupyter-widgets/controls",
            "_view_module_version": "1.5.0",
            "_view_name": "HTMLView",
            "description": "",
            "description_tooltip": null,
            "layout": "IPY_MODEL_554e57759e744088a1dcdf88759ff1e8",
            "placeholder": "​",
            "style": "IPY_MODEL_a6489e7019e84f9cbdc6832e713c45fa",
            "value": " 466k/466k [00:00&lt;00:00, 11.1MB/s]"
          }
        },
        "9ee6fa2253b64f8e82925d7637680edc": {
          "model_module": "@jupyter-widgets/base",
          "model_module_version": "1.2.0",
          "model_name": "LayoutModel",
          "state": {
            "_model_module": "@jupyter-widgets/base",
            "_model_module_version": "1.2.0",
            "_model_name": "LayoutModel",
            "_view_count": null,
            "_view_module": "@jupyter-widgets/base",
            "_view_module_version": "1.2.0",
            "_view_name": "LayoutView",
            "align_content": null,
            "align_items": null,
            "align_self": null,
            "border": null,
            "bottom": null,
            "display": null,
            "flex": null,
            "flex_flow": null,
            "grid_area": null,
            "grid_auto_columns": null,
            "grid_auto_flow": null,
            "grid_auto_rows": null,
            "grid_column": null,
            "grid_gap": null,
            "grid_row": null,
            "grid_template_areas": null,
            "grid_template_columns": null,
            "grid_template_rows": null,
            "height": null,
            "justify_content": null,
            "justify_items": null,
            "left": null,
            "margin": null,
            "max_height": null,
            "max_width": null,
            "min_height": null,
            "min_width": null,
            "object_fit": null,
            "object_position": null,
            "order": null,
            "overflow": null,
            "overflow_x": null,
            "overflow_y": null,
            "padding": null,
            "right": null,
            "top": null,
            "visibility": null,
            "width": null
          }
        },
        "a6489e7019e84f9cbdc6832e713c45fa": {
          "model_module": "@jupyter-widgets/controls",
          "model_module_version": "1.5.0",
          "model_name": "DescriptionStyleModel",
          "state": {
            "_model_module": "@jupyter-widgets/controls",
            "_model_module_version": "1.5.0",
            "_model_name": "DescriptionStyleModel",
            "_view_count": null,
            "_view_module": "@jupyter-widgets/base",
            "_view_module_version": "1.2.0",
            "_view_name": "StyleView",
            "description_width": ""
          }
        },
        "a814f726b97e4393953cf263c7ab98fe": {
          "model_module": "@jupyter-widgets/base",
          "model_module_version": "1.2.0",
          "model_name": "LayoutModel",
          "state": {
            "_model_module": "@jupyter-widgets/base",
            "_model_module_version": "1.2.0",
            "_model_name": "LayoutModel",
            "_view_count": null,
            "_view_module": "@jupyter-widgets/base",
            "_view_module_version": "1.2.0",
            "_view_name": "LayoutView",
            "align_content": null,
            "align_items": null,
            "align_self": null,
            "border": null,
            "bottom": null,
            "display": null,
            "flex": null,
            "flex_flow": null,
            "grid_area": null,
            "grid_auto_columns": null,
            "grid_auto_flow": null,
            "grid_auto_rows": null,
            "grid_column": null,
            "grid_gap": null,
            "grid_row": null,
            "grid_template_areas": null,
            "grid_template_columns": null,
            "grid_template_rows": null,
            "height": null,
            "justify_content": null,
            "justify_items": null,
            "left": null,
            "margin": null,
            "max_height": null,
            "max_width": null,
            "min_height": null,
            "min_width": null,
            "object_fit": null,
            "object_position": null,
            "order": null,
            "overflow": null,
            "overflow_x": null,
            "overflow_y": null,
            "padding": null,
            "right": null,
            "top": null,
            "visibility": null,
            "width": null
          }
        },
        "a8ca527ab9e04662be4e3bc44899d82c": {
          "model_module": "@jupyter-widgets/controls",
          "model_module_version": "1.5.0",
          "model_name": "FloatProgressModel",
          "state": {
            "_dom_classes": [],
            "_model_module": "@jupyter-widgets/controls",
            "_model_module_version": "1.5.0",
            "_model_name": "FloatProgressModel",
            "_view_count": null,
            "_view_module": "@jupyter-widgets/controls",
            "_view_module_version": "1.5.0",
            "_view_name": "ProgressView",
            "bar_style": "success",
            "description": "",
            "description_tooltip": null,
            "layout": "IPY_MODEL_8d36e679aa4e400ca900f76308ab2a3f",
            "max": 570,
            "min": 0,
            "orientation": "horizontal",
            "style": "IPY_MODEL_52415ebc570a4159b5ad0d818e666354",
            "value": 570
          }
        },
        "ac78da32bbc244e6810dcf157c9b4d0d": {
          "model_module": "@jupyter-widgets/base",
          "model_module_version": "1.2.0",
          "model_name": "LayoutModel",
          "state": {
            "_model_module": "@jupyter-widgets/base",
            "_model_module_version": "1.2.0",
            "_model_name": "LayoutModel",
            "_view_count": null,
            "_view_module": "@jupyter-widgets/base",
            "_view_module_version": "1.2.0",
            "_view_name": "LayoutView",
            "align_content": null,
            "align_items": null,
            "align_self": null,
            "border": null,
            "bottom": null,
            "display": null,
            "flex": null,
            "flex_flow": null,
            "grid_area": null,
            "grid_auto_columns": null,
            "grid_auto_flow": null,
            "grid_auto_rows": null,
            "grid_column": null,
            "grid_gap": null,
            "grid_row": null,
            "grid_template_areas": null,
            "grid_template_columns": null,
            "grid_template_rows": null,
            "height": null,
            "justify_content": null,
            "justify_items": null,
            "left": null,
            "margin": null,
            "max_height": null,
            "max_width": null,
            "min_height": null,
            "min_width": null,
            "object_fit": null,
            "object_position": null,
            "order": null,
            "overflow": null,
            "overflow_x": null,
            "overflow_y": null,
            "padding": null,
            "right": null,
            "top": null,
            "visibility": null,
            "width": null
          }
        },
        "b5f0698c7bc74f1295a0acb3445ab375": {
          "model_module": "@jupyter-widgets/controls",
          "model_module_version": "1.5.0",
          "model_name": "FloatProgressModel",
          "state": {
            "_dom_classes": [],
            "_model_module": "@jupyter-widgets/controls",
            "_model_module_version": "1.5.0",
            "_model_name": "FloatProgressModel",
            "_view_count": null,
            "_view_module": "@jupyter-widgets/controls",
            "_view_module_version": "1.5.0",
            "_view_name": "ProgressView",
            "bar_style": "success",
            "description": "",
            "description_tooltip": null,
            "layout": "IPY_MODEL_4299264db053457089e11d28fd9ff275",
            "max": 28,
            "min": 0,
            "orientation": "horizontal",
            "style": "IPY_MODEL_31819704e3184082aba2caff111b419c",
            "value": 28
          }
        },
        "ca078f81c3604365b17d98a49a8bad65": {
          "model_module": "@jupyter-widgets/controls",
          "model_module_version": "1.5.0",
          "model_name": "HTMLModel",
          "state": {
            "_dom_classes": [],
            "_model_module": "@jupyter-widgets/controls",
            "_model_module_version": "1.5.0",
            "_model_name": "HTMLModel",
            "_view_count": null,
            "_view_module": "@jupyter-widgets/controls",
            "_view_module_version": "1.5.0",
            "_view_name": "HTMLView",
            "description": "",
            "description_tooltip": null,
            "layout": "IPY_MODEL_02293408ba29406593d9ec98b9c56b51",
            "placeholder": "​",
            "style": "IPY_MODEL_761c62fdcf324c3faa72f8fda0c13200",
            "value": " 232k/232k [00:00&lt;00:00, 3.77MB/s]"
          }
        },
        "cca370a89204411a97f1776db5c28ba5": {
          "model_module": "@jupyter-widgets/controls",
          "model_module_version": "1.5.0",
          "model_name": "DescriptionStyleModel",
          "state": {
            "_model_module": "@jupyter-widgets/controls",
            "_model_module_version": "1.5.0",
            "_model_name": "DescriptionStyleModel",
            "_view_count": null,
            "_view_module": "@jupyter-widgets/base",
            "_view_module_version": "1.2.0",
            "_view_name": "StyleView",
            "description_width": ""
          }
        },
        "d3ecd001bcdb4c538004364d1a03a38b": {
          "model_module": "@jupyter-widgets/controls",
          "model_module_version": "1.5.0",
          "model_name": "FloatProgressModel",
          "state": {
            "_dom_classes": [],
            "_model_module": "@jupyter-widgets/controls",
            "_model_module_version": "1.5.0",
            "_model_name": "FloatProgressModel",
            "_view_count": null,
            "_view_module": "@jupyter-widgets/controls",
            "_view_module_version": "1.5.0",
            "_view_name": "ProgressView",
            "bar_style": "success",
            "description": "",
            "description_tooltip": null,
            "layout": "IPY_MODEL_eaf61fe9e3704b3b8ee2d080169a49a1",
            "max": 466062,
            "min": 0,
            "orientation": "horizontal",
            "style": "IPY_MODEL_37686075e8ec4ae68ecde97eea5c85a4",
            "value": 466062
          }
        },
        "dd3a121f557e484dadbb18de7735d9a8": {
          "model_module": "@jupyter-widgets/controls",
          "model_module_version": "1.5.0",
          "model_name": "FloatProgressModel",
          "state": {
            "_dom_classes": [],
            "_model_module": "@jupyter-widgets/controls",
            "_model_module_version": "1.5.0",
            "_model_name": "FloatProgressModel",
            "_view_count": null,
            "_view_module": "@jupyter-widgets/controls",
            "_view_module_version": "1.5.0",
            "_view_name": "ProgressView",
            "bar_style": "success",
            "description": "",
            "description_tooltip": null,
            "layout": "IPY_MODEL_f82f97eca7834e019a1b5b7924fb84a8",
            "max": 231508,
            "min": 0,
            "orientation": "horizontal",
            "style": "IPY_MODEL_2ea1288451e845cc9db5b71e6756e4f7",
            "value": 231508
          }
        },
        "eaf61fe9e3704b3b8ee2d080169a49a1": {
          "model_module": "@jupyter-widgets/base",
          "model_module_version": "1.2.0",
          "model_name": "LayoutModel",
          "state": {
            "_model_module": "@jupyter-widgets/base",
            "_model_module_version": "1.2.0",
            "_model_name": "LayoutModel",
            "_view_count": null,
            "_view_module": "@jupyter-widgets/base",
            "_view_module_version": "1.2.0",
            "_view_name": "LayoutView",
            "align_content": null,
            "align_items": null,
            "align_self": null,
            "border": null,
            "bottom": null,
            "display": null,
            "flex": null,
            "flex_flow": null,
            "grid_area": null,
            "grid_auto_columns": null,
            "grid_auto_flow": null,
            "grid_auto_rows": null,
            "grid_column": null,
            "grid_gap": null,
            "grid_row": null,
            "grid_template_areas": null,
            "grid_template_columns": null,
            "grid_template_rows": null,
            "height": null,
            "justify_content": null,
            "justify_items": null,
            "left": null,
            "margin": null,
            "max_height": null,
            "max_width": null,
            "min_height": null,
            "min_width": null,
            "object_fit": null,
            "object_position": null,
            "order": null,
            "overflow": null,
            "overflow_x": null,
            "overflow_y": null,
            "padding": null,
            "right": null,
            "top": null,
            "visibility": null,
            "width": null
          }
        },
        "edb0ce47485e45e9b8bc6c90963b90b0": {
          "model_module": "@jupyter-widgets/controls",
          "model_module_version": "1.5.0",
          "model_name": "DescriptionStyleModel",
          "state": {
            "_model_module": "@jupyter-widgets/controls",
            "_model_module_version": "1.5.0",
            "_model_name": "DescriptionStyleModel",
            "_view_count": null,
            "_view_module": "@jupyter-widgets/base",
            "_view_module_version": "1.2.0",
            "_view_name": "StyleView",
            "description_width": ""
          }
        },
        "ef36dd398e634c2b8ac0a523fe44439e": {
          "model_module": "@jupyter-widgets/controls",
          "model_module_version": "1.5.0",
          "model_name": "HTMLModel",
          "state": {
            "_dom_classes": [],
            "_model_module": "@jupyter-widgets/controls",
            "_model_module_version": "1.5.0",
            "_model_name": "HTMLModel",
            "_view_count": null,
            "_view_module": "@jupyter-widgets/controls",
            "_view_module_version": "1.5.0",
            "_view_name": "HTMLView",
            "description": "",
            "description_tooltip": null,
            "layout": "IPY_MODEL_8050986aaa064373a92e24f974302034",
            "placeholder": "​",
            "style": "IPY_MODEL_cca370a89204411a97f1776db5c28ba5",
            "value": "tokenizer.json: 100%"
          }
        },
        "f5bc039fccf3486886fdbdd079662fd5": {
          "model_module": "@jupyter-widgets/controls",
          "model_module_version": "1.5.0",
          "model_name": "HTMLModel",
          "state": {
            "_dom_classes": [],
            "_model_module": "@jupyter-widgets/controls",
            "_model_module_version": "1.5.0",
            "_model_name": "HTMLModel",
            "_view_count": null,
            "_view_module": "@jupyter-widgets/controls",
            "_view_module_version": "1.5.0",
            "_view_name": "HTMLView",
            "description": "",
            "description_tooltip": null,
            "layout": "IPY_MODEL_9ee6fa2253b64f8e82925d7637680edc",
            "placeholder": "​",
            "style": "IPY_MODEL_02788bcb6959451eb38807c651200198",
            "value": "tokenizer_config.json: 100%"
          }
        },
        "f8103e88f7a344608abc651e188f2e8b": {
          "model_module": "@jupyter-widgets/controls",
          "model_module_version": "1.5.0",
          "model_name": "HTMLModel",
          "state": {
            "_dom_classes": [],
            "_model_module": "@jupyter-widgets/controls",
            "_model_module_version": "1.5.0",
            "_model_name": "HTMLModel",
            "_view_count": null,
            "_view_module": "@jupyter-widgets/controls",
            "_view_module_version": "1.5.0",
            "_view_name": "HTMLView",
            "description": "",
            "description_tooltip": null,
            "layout": "IPY_MODEL_3c7fad3226ea4473a51d43c3c1cbed8a",
            "placeholder": "​",
            "style": "IPY_MODEL_edb0ce47485e45e9b8bc6c90963b90b0",
            "value": " 570/570 [00:00&lt;00:00, 18.6kB/s]"
          }
        },
        "f82f97eca7834e019a1b5b7924fb84a8": {
          "model_module": "@jupyter-widgets/base",
          "model_module_version": "1.2.0",
          "model_name": "LayoutModel",
          "state": {
            "_model_module": "@jupyter-widgets/base",
            "_model_module_version": "1.2.0",
            "_model_name": "LayoutModel",
            "_view_count": null,
            "_view_module": "@jupyter-widgets/base",
            "_view_module_version": "1.2.0",
            "_view_name": "LayoutView",
            "align_content": null,
            "align_items": null,
            "align_self": null,
            "border": null,
            "bottom": null,
            "display": null,
            "flex": null,
            "flex_flow": null,
            "grid_area": null,
            "grid_auto_columns": null,
            "grid_auto_flow": null,
            "grid_auto_rows": null,
            "grid_column": null,
            "grid_gap": null,
            "grid_row": null,
            "grid_template_areas": null,
            "grid_template_columns": null,
            "grid_template_rows": null,
            "height": null,
            "justify_content": null,
            "justify_items": null,
            "left": null,
            "margin": null,
            "max_height": null,
            "max_width": null,
            "min_height": null,
            "min_width": null,
            "object_fit": null,
            "object_position": null,
            "order": null,
            "overflow": null,
            "overflow_x": null,
            "overflow_y": null,
            "padding": null,
            "right": null,
            "top": null,
            "visibility": null,
            "width": null
          }
        },
        "ffb58c16a8ba4e6ea102c7ebacdcefdf": {
          "model_module": "@jupyter-widgets/base",
          "model_module_version": "1.2.0",
          "model_name": "LayoutModel",
          "state": {
            "_model_module": "@jupyter-widgets/base",
            "_model_module_version": "1.2.0",
            "_model_name": "LayoutModel",
            "_view_count": null,
            "_view_module": "@jupyter-widgets/base",
            "_view_module_version": "1.2.0",
            "_view_name": "LayoutView",
            "align_content": null,
            "align_items": null,
            "align_self": null,
            "border": null,
            "bottom": null,
            "display": null,
            "flex": null,
            "flex_flow": null,
            "grid_area": null,
            "grid_auto_columns": null,
            "grid_auto_flow": null,
            "grid_auto_rows": null,
            "grid_column": null,
            "grid_gap": null,
            "grid_row": null,
            "grid_template_areas": null,
            "grid_template_columns": null,
            "grid_template_rows": null,
            "height": null,
            "justify_content": null,
            "justify_items": null,
            "left": null,
            "margin": null,
            "max_height": null,
            "max_width": null,
            "min_height": null,
            "min_width": null,
            "object_fit": null,
            "object_position": null,
            "order": null,
            "overflow": null,
            "overflow_x": null,
            "overflow_y": null,
            "padding": null,
            "right": null,
            "top": null,
            "visibility": null,
            "width": null
          }
        }
      }
    }
  },
  "nbformat": 4,
  "nbformat_minor": 0
}