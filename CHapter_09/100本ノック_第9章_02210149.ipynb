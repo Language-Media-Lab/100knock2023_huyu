{
  "cells": [
    {
      "cell_type": "markdown",
      "metadata": {
        "id": "4QjfFRhGldfy"
      },
      "source": [
        "# 第9章: RNN, CNN\n",
        "## 80. ID番号への変換\n",
        "\n",
        "問題51で構築した学習データ中の単語にユニークなID番号を付与したい．学習データ中で最も頻出する単語に1，2番目に頻出する単語に2，……といった方法で，学習データ中で2回以上出現する単語にID番号を付与せよ．そして，与えられた単語列に対して，ID番号の列を返す関数を実装せよ．ただし，出現頻度が2回未満の単語のID番号はすべて0とせよ．"
      ]
    },
    {
      "cell_type": "code",
      "execution_count": 4,
      "metadata": {
        "id": "-SnOlMoCsq6c",
        "colab": {
          "base_uri": "https://localhost:8080/"
        },
        "outputId": "17c41ea0-ee70-4a46-c722-d42a24d570e0"
      },
      "outputs": [
        {
          "output_type": "stream",
          "name": "stdout",
          "text": [
            "--2024-01-10 12:36:03--  https://archive.ics.uci.edu/ml/machine-learning-databases/00359/NewsAggregatorDataset.zip\n",
            "Resolving archive.ics.uci.edu (archive.ics.uci.edu)... 128.195.10.252\n",
            "Connecting to archive.ics.uci.edu (archive.ics.uci.edu)|128.195.10.252|:443... connected.\n",
            "HTTP request sent, awaiting response... 200 OK\n",
            "Length: unspecified\n",
            "Saving to: ‘NewsAggregatorDataset.zip’\n",
            "\n",
            "NewsAggregatorDatas     [  <=>               ]  27.87M  91.5MB/s    in 0.3s    \n",
            "\n",
            "2024-01-10 12:36:03 (91.5 MB/s) - ‘NewsAggregatorDataset.zip’ saved [29224203]\n",
            "\n",
            "Archive:  NewsAggregatorDataset.zip\n",
            "  inflating: 2pageSessions.csv       \n",
            "   creating: __MACOSX/\n",
            "  inflating: __MACOSX/._2pageSessions.csv  \n",
            "  inflating: newsCorpora.csv         \n",
            "  inflating: __MACOSX/._newsCorpora.csv  \n",
            "  inflating: readme.txt              \n",
            "  inflating: __MACOSX/._readme.txt   \n"
          ]
        }
      ],
      "source": [
        "!wget https://archive.ics.uci.edu/ml/machine-learning-databases/00359/NewsAggregatorDataset.zip\n",
        "!unzip NewsAggregatorDataset.zip"
      ]
    },
    {
      "cell_type": "code",
      "execution_count": 5,
      "metadata": {
        "id": "rsh4_9WustGL"
      },
      "outputs": [],
      "source": [
        "# 読込時のエラー回避のためダブルクォーテーションをシングルクォーテーションに置換\n",
        "!sed -e 's/\"/'\\''/g' ./newsCorpora.csv > ./newsCorpora_re.csv"
      ]
    },
    {
      "cell_type": "code",
      "execution_count": 6,
      "metadata": {
        "colab": {
          "base_uri": "https://localhost:8080/"
        },
        "id": "w_Wzges5svXj",
        "outputId": "f9520095-4ac5-4347-8cfa-84483da4be90"
      },
      "outputs": [
        {
          "output_type": "stream",
          "name": "stdout",
          "text": [
            "【学習データ】\n",
            "b    4501\n",
            "e    4235\n",
            "t    1220\n",
            "m     728\n",
            "Name: CATEGORY, dtype: int64\n",
            "【検証データ】\n",
            "b    563\n",
            "e    529\n",
            "t    153\n",
            "m     91\n",
            "Name: CATEGORY, dtype: int64\n",
            "【評価データ】\n",
            "b    563\n",
            "e    530\n",
            "t    152\n",
            "m     91\n",
            "Name: CATEGORY, dtype: int64\n"
          ]
        }
      ],
      "source": [
        "import pandas as pd\n",
        "from sklearn.model_selection import train_test_split\n",
        "\n",
        "# データの読込\n",
        "df = pd.read_csv('./newsCorpora_re.csv', header=None, sep='\\t', names=['ID', 'TITLE', 'URL', 'PUBLISHER', 'CATEGORY', 'STORY', 'HOSTNAME', 'TIMESTAMP'])\n",
        "\n",
        "# データの抽出\n",
        "df = df.loc[df['PUBLISHER'].isin(['Reuters', 'Huffington Post', 'Businessweek', 'Contactmusic.com', 'Daily Mail']), ['TITLE', 'CATEGORY']]\n",
        "\n",
        "# データの分割\n",
        "train, valid_test = train_test_split(df, test_size=0.2, shuffle=True, random_state=123, stratify=df['CATEGORY'])\n",
        "valid, test = train_test_split(valid_test, test_size=0.5, shuffle=True, random_state=123, stratify=valid_test['CATEGORY'])\n",
        "\n",
        "# 事例数の確認\n",
        "print('【学習データ】')\n",
        "print(train['CATEGORY'].value_counts())\n",
        "print('【検証データ】')\n",
        "print(valid['CATEGORY'].value_counts())\n",
        "print('【評価データ】')\n",
        "print(test['CATEGORY'].value_counts())"
      ]
    },
    {
      "cell_type": "code",
      "execution_count": 7,
      "metadata": {
        "colab": {
          "base_uri": "https://localhost:8080/",
          "height": 35
        },
        "id": "FyldihPk5WoT",
        "outputId": "1279ad0f-4bc7-4de2-b427-f04a8313824c"
      },
      "outputs": [
        {
          "output_type": "execute_result",
          "data": {
            "text/plain": [
              "'Amazon Plans to Fight FTC Over Mobile-App Purchases'"
            ],
            "application/vnd.google.colaboratory.intrinsic+json": {
              "type": "string"
            }
          },
          "metadata": {},
          "execution_count": 7
        }
      ],
      "source": [
        "text = train.iloc[1, train.columns.get_loc('TITLE')]\n",
        "text"
      ]
    },
    {
      "cell_type": "code",
      "execution_count": 8,
      "metadata": {
        "colab": {
          "base_uri": "https://localhost:8080/",
          "height": 35
        },
        "id": "l4UmuzgV9E33",
        "outputId": "120689de-9a78-4718-cbfc-f3f5398b8eb9"
      },
      "outputs": [
        {
          "output_type": "execute_result",
          "data": {
            "text/plain": [
              "'Amazon Plans to Fight FTC Over Mobile-App Purchases'"
            ],
            "application/vnd.google.colaboratory.intrinsic+json": {
              "type": "string"
            }
          },
          "metadata": {},
          "execution_count": 8
        }
      ],
      "source": [
        "train['TITLE'].iloc[1]"
      ]
    },
    {
      "cell_type": "code",
      "execution_count": 9,
      "metadata": {
        "colab": {
          "base_uri": "https://localhost:8080/"
        },
        "id": "Q90FpAxfsxZF",
        "outputId": "2a92eeec-0ca2-481b-89d9-41fbeab62732"
      },
      "outputs": [
        {
          "output_type": "stream",
          "name": "stdout",
          "text": [
            "ID数: 9405\n",
            "\n",
            "頻度上位20語\n",
            "to: 1\n",
            "s: 2\n",
            "in: 3\n",
            "on: 4\n",
            "UPDATE: 5\n",
            "as: 6\n",
            "US: 7\n",
            "for: 8\n",
            "The: 9\n",
            "of: 10\n",
            "1: 11\n",
            "To: 12\n",
            "2: 13\n",
            "the: 14\n",
            "and: 15\n",
            "In: 16\n",
            "Of: 17\n",
            "a: 18\n",
            "at: 19\n",
            "A: 20\n"
          ]
        }
      ],
      "source": [
        "from collections import defaultdict\n",
        "import string\n",
        "\n",
        "# 単語の頻度集計\n",
        "d = defaultdict(int) #辞書初期化\n",
        "table = str.maketrans(string.punctuation, ' '*len(string.punctuation))  # 記号をスペースに置換するテーブル\n",
        "for text in train['TITLE']:\n",
        "  for word in text.translate(table).split():\n",
        "    d[word] += 1\n",
        "d = sorted(d.items(), key=lambda x:x[1], reverse=True)\n",
        "\n",
        "# 単語ID辞書の作成\n",
        "word2id = {word: i + 1 for i, (word, cnt) in enumerate(d) if cnt > 1}  # 出現頻度が2回以上の単語を登録\n",
        "\n",
        "print(f'ID数: {len(set(word2id.values()))}\\n')\n",
        "print('頻度上位20語')\n",
        "for key in list(word2id)[:20]:\n",
        "    print(f'{key}: {word2id[key]}')"
      ]
    },
    {
      "cell_type": "markdown",
      "metadata": {
        "id": "bVyvE3ctqrzX"
      },
      "source": [
        "get():辞書オブジェクトのget()メソッドを使うと、キーが存在しない場合にエラーを発生させずに任意の値（デフォルト値）を取得できる。元の辞書は変更されない。\n",
        "\n",
        "    print(d.get('key1'))\n",
        "    # val1\n",
        "\n",
        "    print(d.get('key5'))\n",
        "    # None\n",
        "\n",
        "    print(d.get('key5', 100))\n",
        "    # 100"
      ]
    },
    {
      "cell_type": "code",
      "execution_count": 10,
      "metadata": {
        "id": "V8kg9L0ks2aS"
      },
      "outputs": [],
      "source": [
        "def tokenizer(text, word2id=word2id, unk=0):\n",
        "  \"\"\" 入力テキストをスペースで分割しID列に変換(辞書になければunkで指定した数字を設定)\"\"\"\n",
        "  table = str.maketrans(string.punctuation, ' '*len(string.punctuation))\n",
        "  return [word2id.get(word, unk) for word in text.translate(table).split()]"
      ]
    },
    {
      "cell_type": "code",
      "execution_count": 11,
      "metadata": {
        "colab": {
          "base_uri": "https://localhost:8080/"
        },
        "id": "chBRp9N6s4Ty",
        "outputId": "879572ec-09e6-4d9d-d900-cacfb8fe1cc1"
      },
      "outputs": [
        {
          "output_type": "stream",
          "name": "stdout",
          "text": [
            "テキスト: Amazon Plans to Fight FTC Over Mobile-App Purchases\n",
            "ID列: [169, 539, 1, 683, 1237, 82, 279, 1898, 4199]\n"
          ]
        }
      ],
      "source": [
        "# 確認\n",
        "text = train.iloc[1, train.columns.get_loc('TITLE')]\n",
        "print(f'テキスト: {text}')\n",
        "print(f'ID列: {tokenizer(text)}')"
      ]
    },
    {
      "cell_type": "markdown",
      "metadata": {
        "id": "3-DPvxnyXg6Y"
      },
      "source": [
        "## 81. RNNによる予測\n",
        "ID番号で表現された単語列$\\boldsymbol{x} = (x_1, x_2, \\dots, x_T)$がある．ただし，$T$は単語列の長さ，$x_t \\in \\mathbb{R}^{V}$は単語のID番号のone-hot表記である（$V$は単語の総数である）．再帰型ニューラルネットワーク（RNN: Recurrent Neural Network）を用い，単語列$\\boldsymbol{x}$からカテゴリ$y$を予測するモデルとして，次式を実装せよ．\n",
        "\n",
        "\n",
        "$$\n",
        "\\overrightarrow h_0 = 0,\\\\\n",
        "\\overrightarrow h_t = {\\rm \\overrightarrow{RNN}}(\\mathrm{emb}(x_t), \\overrightarrow h_{t-1}), \\\\\n",
        "y = {\\rm softmax}(W^{(yh)} \\overrightarrow h_T + b^{(y)})\n",
        "$$\n",
        "\n",
        "\n",
        "ただし，$\\mathrm{emb}(x) \\in \\mathbb{R}^{d_w}$は単語埋め込み（単語のone-hot表記から単語ベクトルに変換する関数），$\\overrightarrow h_t \\in \\mathbb{R}^{d_h}$は時刻$t$の隠れ状態ベクトル，${\\rm \\overrightarrow{RNN}}(x,h)$は入力$x$と前時刻の隠れ状態$h$から次状態を計算するRNNユニット，$W^{(yh)} \\in \\mathbb{R}^{L \\times d_h}$は隠れ状態ベクトルからカテゴリを予測するための行列，$b^{(y)} \\in \\mathbb{R}^{L}$はバイアス項である（$d_w, d_h, L$はそれぞれ，単語埋め込みの次元数，隠れ状態ベクトルの次元数，ラベル数である）．RNNユニット${\\rm \\overrightarrow{RNN}}(x,h)$には様々な構成が考えられるが，典型例として次式が挙げられる．\n",
        "\n",
        "$$\n",
        "{\\rm \\overrightarrow{RNN}}(x,h) = g(W^{(hx)} x + W^{(hh)}h + b^{(h)})\n",
        "$$\n",
        "\n",
        "ただし，$W^{(hx)} \\in \\mathbb{R}^{d_h \\times d_w}，W^{(hh)} \\in \\mathbb{R}^{d_h \\times d_h}, b^{(h)} \\in \\mathbb{R}^{d_h}$はRNNユニットのパラメータ，$g$は活性化関数（例えば$\\tanh$やReLUなど）である．\n",
        "\n",
        "なお，この問題ではパラメータの学習を行わず，ランダムに初期化されたパラメータで$y$を計算するだけでよい．次元数などのハイパーパラメータは，$d_w = 300, d_h=50$など，適当な値に設定せよ（以降の問題でも同様である）．"
      ]
    },
    {
      "cell_type": "markdown",
      "metadata": {
        "id": "SBMOnfzMt70i"
      },
      "source": [
        "RNNについて:\n",
        "https://onl.la/ns3rwFX \\\n",
        "pytorch:RNNの使い方:https://atmarkit.itmedia.co.jp/ait/articles/2006/19/news023_2.html \\\n",
        "https://atmarkit.itmedia.co.jp/ait/articles/2002/06/news025.html \\\n",
        "https://ex-ture.com/blog/2021/01/12/pytorch-rnn/ \\\n",
        "隠れ層:https://onl.la/7J6nYfF"
      ]
    },
    {
      "cell_type": "markdown",
      "metadata": {
        "id": "gCFtGyajiH_1"
      },
      "source": [
        "embedding:ある値に次元を埋め込むことが可能である。例えば1次元の0を5次元の[-0.5962, -1.2342,  1.1888, -1.1408, -0.3594]とすることができる。\\\n",
        "padding:Embeddingによる次元の変換を可能にするため足りないところにある値を補間する。padding_idxを用いると補間した値を無視してEmbeddingが可能である。\n",
        "\n",
        "https://gotutiyan.hatenablog.com/entry/2020/09/02/200144"
      ]
    },
    {
      "cell_type": "markdown",
      "metadata": {
        "id": "6YtcWoGFsj8x"
      },
      "source": [
        "RNN:pytorch:https://pytorch.org/docs/stable/generated/torch.nn.RNN.html"
      ]
    },
    {
      "cell_type": "markdown",
      "metadata": {
        "id": "E3wzZdNLlhH4"
      },
      "source": [
        "hidden:隠し層の状態\\\n",
        "hidden_size:隠し層のサイズ\\\n",
        "emb:Embedding後のtensor\\\n",
        "emb_size:Embedding調整のサイズ\\\n",
        "padding_idx:補間した値を無視してEmbedding\\\n",
        "nonlinerity:活性化関数\\\n",
        "batch_first:Trueの場合(batch, seq, feature)の形で出力\\\n",
        "fc:インスタンス変数\\\n",
        "Linerar:線形変換\\\n",
        "forward:\\\n",
        "out:\\\n",
        "\n"
      ]
    },
    {
      "cell_type": "code",
      "execution_count": 12,
      "metadata": {
        "colab": {
          "base_uri": "https://localhost:8080/"
        },
        "id": "yLnTkwfXmTIc",
        "outputId": "09032c1c-2ae8-4baa-bac7-1496d224b83d"
      },
      "outputs": [
        {
          "output_type": "stream",
          "name": "stdout",
          "text": [
            "tensor([[ 1.4142,  0.2895,  0.4887, -0.6298, -0.4997],\n",
            "        [-0.6455,  0.2946,  1.2737, -0.2790,  1.3197],\n",
            "        [ 0.1179, -1.0886, -1.2776, -0.2847,  0.1218],\n",
            "        [-0.2031,  0.3032,  2.0572,  0.3279,  0.1112]],\n",
            "       grad_fn=<EmbeddingBackward0>)\n",
            "torch.Size([4]) -> torch.Size([4, 5])\n"
          ]
        }
      ],
      "source": [
        "import torch\n",
        "import torch.nn as nn\n",
        "\n",
        "vocab_size = 4\n",
        "emb_dim = 5\n",
        "embeddings = nn.Embedding(vocab_size, emb_dim)\n",
        "# 0番目の単語なので，[0]をTensorに変換\n",
        "word = torch.tensor([0,1,2,3])\n",
        "embed_word = embeddings(word)\n",
        "print(embed_word)\n",
        "print(word.shape, '->', embed_word.shape)"
      ]
    },
    {
      "cell_type": "code",
      "execution_count": 13,
      "metadata": {
        "id": "9swNQ5ECs63y"
      },
      "outputs": [],
      "source": [
        "import torch\n",
        "from torch import nn\n",
        "\n",
        "class RNN(nn.Module):\n",
        "  def __init__(self, vocab_size, emb_size, padding_idx, output_size, hidden_size):\n",
        "    super().__init__()\n",
        "    self.hidden_size = hidden_size\n",
        "    self.emb = nn.Embedding(vocab_size, emb_size, padding_idx=padding_idx)\n",
        "    self.rnn = nn.RNN(emb_size, hidden_size, nonlinearity='tanh', batch_first=True)\n",
        "    self.fc = nn.Linear(hidden_size, output_size)\n",
        "\n",
        "  def forward(self, x):\n",
        "    self.batch_size = x.size()[0]\n",
        "    hidden = self.init_hidden(x.device)  # h0のゼロベクトルを作成\n",
        "    emb = self.emb(x)\n",
        "    # emb.size() = (batch_size, seq_len, emb_size)\n",
        "    out, hidden = self.rnn(emb, hidden)\n",
        "    # out.size() = (batch_size, seq_len, hidden_size)\n",
        "    out = self.fc(out[:, -1, :])\n",
        "    # out.size() = (batch_size, output_size)\n",
        "    return out\n",
        "\n",
        "  def init_hidden(self, device):\n",
        "    hidden = torch.zeros(1, self.batch_size, self.hidden_size, device=device)\n",
        "    return hidden"
      ]
    },
    {
      "cell_type": "code",
      "execution_count": 14,
      "metadata": {
        "id": "T5U8P8kCtSJI"
      },
      "outputs": [],
      "source": [
        "from torch.utils.data import Dataset\n",
        "\n",
        "class CreateDataset(Dataset):\n",
        "  def __init__(self, X, y, tokenizer):\n",
        "    self.X = X\n",
        "    self.y = y\n",
        "    self.tokenizer = tokenizer\n",
        "\n",
        "  def __len__(self):  # len(Dataset)で返す値を指定\n",
        "    return len(self.y)\n",
        "\n",
        "  def __getitem__(self, index):  # Dataset[index]で返す値を指定\n",
        "    text = self.X.iloc[index]\n",
        "    inputs = self.tokenizer(text)\n",
        "\n",
        "    return ({'inputs': torch.tensor(inputs, dtype=torch.int64),'labels': torch.tensor(self.y[index], dtype=torch.int64)})"
      ]
    },
    {
      "cell_type": "code",
      "execution_count": 15,
      "metadata": {
        "colab": {
          "base_uri": "https://localhost:8080/"
        },
        "id": "aLZk69N7tVxZ",
        "outputId": "61a8c8af-a36e-4676-dce9-683a4770d684"
      },
      "outputs": [
        {
          "output_type": "stream",
          "name": "stdout",
          "text": [
            "len(Dataset)の出力: 10684\n",
            "Dataset[index]の出力:\n",
            "  inputs: tensor([ 169,  539,    1,  683, 1237,   82,  279, 1898, 4199])\n",
            "  labels: 1\n"
          ]
        }
      ],
      "source": [
        "# ラベルベクトルの作成\n",
        "category_dict = {'b': 0, 't': 1, 'e':2, 'm':3}\n",
        "y_train = train['CATEGORY'].map(lambda x: category_dict[x]).values\n",
        "y_valid = valid['CATEGORY'].map(lambda x: category_dict[x]).values\n",
        "y_test = test['CATEGORY'].map(lambda x: category_dict[x]).values\n",
        "\n",
        "# Datasetの作成\n",
        "dataset_train = CreateDataset(train['TITLE'], y_train, tokenizer)\n",
        "dataset_valid = CreateDataset(valid['TITLE'], y_valid, tokenizer)\n",
        "dataset_test = CreateDataset(test['TITLE'], y_test, tokenizer)\n",
        "\n",
        "print(f'len(Dataset)の出力: {len(dataset_train)}')\n",
        "print('Dataset[index]の出力:')\n",
        "for var in dataset_train[1]:\n",
        "  print(f'  {var}: {dataset_train[1][var]}')"
      ]
    },
    {
      "cell_type": "markdown",
      "metadata": {
        "id": "eVaTvtTfm75_"
      },
      "source": [
        "unsqueeze():指定した位置にサイズ1の次元を挿入する。\n",
        "\n",
        "    print(torch.unsqueeze(x, dim=0).size())\n",
        "    # torch.Size([1, 2, 3, 4, 5, 6])"
      ]
    },
    {
      "cell_type": "code",
      "execution_count": 16,
      "metadata": {
        "colab": {
          "base_uri": "https://localhost:8080/"
        },
        "id": "Gz9iRk2t9zKd",
        "outputId": "9b6a7c43-9c22-4e73-c55e-81e490c581ad"
      },
      "outputs": [
        {
          "output_type": "stream",
          "name": "stdout",
          "text": [
            "torch.Size([2, 3, 4, 5, 6])\n",
            "torch.Size([2, 1, 3, 4, 5, 6])\n",
            "torch.Size([2, 3, 4, 5, 6])\n",
            "torch.Size([2, 3])\n"
          ]
        }
      ],
      "source": [
        "import torch\n",
        "x = torch.zeros(2, 3, 4, 5, 6)\n",
        "print(x.size())\n",
        "print(x.unsqueeze(1).size())\n",
        "print(x.size())\n",
        "print(x.size()[0:2])"
      ]
    },
    {
      "cell_type": "code",
      "execution_count": 17,
      "metadata": {
        "colab": {
          "base_uri": "https://localhost:8080/"
        },
        "id": "Mxg6Yy9-pT-v",
        "outputId": "0a25be20-1da6-429c-bca2-0086514f73f6"
      },
      "outputs": [
        {
          "output_type": "stream",
          "name": "stdout",
          "text": [
            "tensor([[2.0991, 0.1724, 0.5184],\n",
            "        [0.5506, 0.6995, 0.9725]])\n",
            "\n",
            "\n",
            "tensor([[0.7399, 0.1078, 0.1523],\n",
            "        [0.2713, 0.3149, 0.4138]])\n"
          ]
        }
      ],
      "source": [
        "m = nn.Softmax(dim=1)\n",
        "input = torch.randn(2, 3)\n",
        "output = m(input)\n",
        "print(input)\n",
        "print(\"\\n\")\n",
        "print(output)\n"
      ]
    },
    {
      "cell_type": "code",
      "execution_count": 18,
      "metadata": {
        "colab": {
          "base_uri": "https://localhost:8080/"
        },
        "id": "yq1AAjH7wjnl",
        "outputId": "986d5e9a-7fa3-41be-e08e-a73f436adadf"
      },
      "outputs": [
        {
          "output_type": "stream",
          "name": "stdout",
          "text": [
            "tensor([[0.1954, 0.2028, 0.2114, 0.3903]], grad_fn=<SoftmaxBackward0>)\n",
            "tensor([[0.3548, 0.1479, 0.2377, 0.2596]], grad_fn=<SoftmaxBackward0>)\n",
            "tensor([[0.2885, 0.2165, 0.2638, 0.2311]], grad_fn=<SoftmaxBackward0>)\n",
            "tensor([[0.1228, 0.2182, 0.2297, 0.4293]], grad_fn=<SoftmaxBackward0>)\n",
            "tensor([[0.2708, 0.2100, 0.2201, 0.2991]], grad_fn=<SoftmaxBackward0>)\n",
            "tensor([[0.1321, 0.3754, 0.2586, 0.2339]], grad_fn=<SoftmaxBackward0>)\n",
            "tensor([[0.2879, 0.3527, 0.1360, 0.2234]], grad_fn=<SoftmaxBackward0>)\n",
            "tensor([[0.3887, 0.3131, 0.1956, 0.1026]], grad_fn=<SoftmaxBackward0>)\n",
            "tensor([[0.3421, 0.2244, 0.2658, 0.1677]], grad_fn=<SoftmaxBackward0>)\n",
            "tensor([[0.3268, 0.2715, 0.2083, 0.1934]], grad_fn=<SoftmaxBackward0>)\n"
          ]
        }
      ],
      "source": [
        "# パラメータの設定\n",
        "VOCAB_SIZE = len(set(word2id.values())) + 1  # 辞書のID数 + パディングID\n",
        "EMB_SIZE = 300\n",
        "PADDING_IDX = len(set(word2id.values()))\n",
        "OUTPUT_SIZE = 4\n",
        "HIDDEN_SIZE = 50\n",
        "\n",
        "# モデルの定義\n",
        "model = RNN(VOCAB_SIZE, EMB_SIZE, PADDING_IDX, OUTPUT_SIZE, HIDDEN_SIZE)\n",
        "\n",
        "# 先頭10件の予測値取得\n",
        "for i in range(10):\n",
        "  X = dataset_train[i]['inputs'] #titleのID表記したtensor\n",
        "  print(torch.softmax(model(X.unsqueeze(0)), dim=-1)) #unsqueezeでバッチの大きさ1を追加"
      ]
    },
    {
      "cell_type": "markdown",
      "metadata": {
        "id": "-Nk8aEnGnNWw"
      },
      "source": [
        "## 82. 確率的勾配降下法による学習\n",
        "\n",
        "確率的勾配降下法（SGD: Stochastic Gradient Descent）を用いて，問題81で構築したモデルを学習せよ．訓練データ上の損失と正解率，評価データ上の損失と正解率を表示しながらモデルを学習し，適当な基準（例えば10エポックなど）で終了させよ．\n",
        "\n"
      ]
    },
    {
      "cell_type": "markdown",
      "metadata": {
        "id": "MuTXoTO_ml5E"
      },
      "source": [
        "DataLoader:DatasetCombines a dataset and a sampler, and provides an iterable over the given dataset.\\\n",
        "criterion():出力と訓練データの正解との誤差を求める\\\n",
        "torch.argmax:maxの値を出力\\\n",
        "scheduler:エポックに応じて学習率を変更する。\\\n",
        "scheduler説明:https://katsura-jp.hatenablog.com/entry/2019/01/30/183501#CosineAnnealingLR"
      ]
    },
    {
      "cell_type": "code",
      "execution_count": 19,
      "metadata": {
        "colab": {
          "base_uri": "https://localhost:8080/"
        },
        "id": "_qMrRk2Uxfsn",
        "outputId": "4ce4128d-e4bf-4a3a-8a5c-c42ffef15d2d"
      },
      "outputs": [
        {
          "output_type": "stream",
          "name": "stdout",
          "text": [
            "tensor([[ 0.2632,  0.7184, -0.1803, -0.6454],\n",
            "        [ 0.3563,  0.3803,  0.8254,  1.1030],\n",
            "        [ 0.2879,  0.1664,  0.0315, -0.1122],\n",
            "        [ 1.8654,  0.0904,  1.8446,  2.5239]])\n",
            "\n",
            "\n",
            "tensor(15)\n"
          ]
        }
      ],
      "source": [
        "a = torch.randn(4, 4)\n",
        "print(a)\n",
        "print(\"\\n\")\n",
        "print(torch.argmax(a))"
      ]
    },
    {
      "cell_type": "code",
      "execution_count": 20,
      "metadata": {
        "id": "k8GMdXon98hS"
      },
      "outputs": [],
      "source": [
        "from torch.utils.data import DataLoader\n",
        "import time\n",
        "from torch import optim\n",
        "\n",
        "def calculate_loss_and_accuracy(model, dataset, device=None, criterion=None):\n",
        "  \"\"\"損失・正解率を計算\"\"\"\n",
        "  dataloader = DataLoader(dataset, batch_size=1, shuffle=False)\n",
        "  loss = 0.0\n",
        "  total = 0\n",
        "  correct = 0\n",
        "  with torch.no_grad():\n",
        "    for data in dataloader: #バッチごとに取り出して処理\n",
        "      # デバイスの指定\n",
        "      inputs = data['inputs'].to(device)\n",
        "      labels = data['labels'].to(device)\n",
        "\n",
        "      # 順伝播\n",
        "      outputs = model(inputs)\n",
        "\n",
        "      # 損失計算\n",
        "      if criterion != None:\n",
        "        loss += criterion(outputs, labels).item()\n",
        "\n",
        "      # 正解率計算\n",
        "      pred = torch.argmax(outputs, dim=-1)\n",
        "      total += len(inputs)\n",
        "      correct += (pred == labels).sum().item()\n",
        "\n",
        "  return loss / len(dataset), correct / total\n",
        "\n",
        "\n",
        "def train_model(dataset_train, dataset_valid, batch_size, model, criterion, optimizer, num_epochs, collate_fn=None, device=None):\n",
        "  \"\"\"モデルの学習を実行し、損失・正解率のログを返す\"\"\"\n",
        "  # デバイスの指定\n",
        "  model.to(device)\n",
        "\n",
        "  # dataloaderの作成\n",
        "  dataloader_train = DataLoader(dataset_train, batch_size=batch_size, shuffle=True, collate_fn=collate_fn)\n",
        "  dataloader_valid = DataLoader(dataset_valid, batch_size=1, shuffle=False)\n",
        "\n",
        "  # スケジューラの設定\n",
        "  scheduler = optim.lr_scheduler.CosineAnnealingLR(optimizer, num_epochs, eta_min=1e-5, last_epoch=-1)\n",
        "\n",
        "  # 学習\n",
        "  log_train = []\n",
        "  log_valid = []\n",
        "  for epoch in range(num_epochs):\n",
        "    # 開始時刻の記録\n",
        "    s_time = time.time()\n",
        "\n",
        "    # 訓練モードに設定\n",
        "    model.train()\n",
        "    for data in dataloader_train:\n",
        "      # 勾配をゼロで初期化\n",
        "      optimizer.zero_grad()\n",
        "\n",
        "      # 順伝播 + 誤差逆伝播 + 重み更新\n",
        "      inputs = data['inputs'].to(device)\n",
        "      labels = data['labels'].to(device)\n",
        "      outputs = model(inputs)\n",
        "      loss = criterion(outputs, labels)\n",
        "      loss.backward()\n",
        "      optimizer.step()\n",
        "\n",
        "    # 評価モードに設定\n",
        "    model.eval()\n",
        "\n",
        "    # 損失と正解率の算出\n",
        "    loss_train, acc_train = calculate_loss_and_accuracy(model, dataset_train, device, criterion=criterion)\n",
        "    loss_valid, acc_valid = calculate_loss_and_accuracy(model, dataset_valid, device, criterion=criterion)\n",
        "    log_train.append([loss_train, acc_train])\n",
        "    log_valid.append([loss_valid, acc_valid])\n",
        "\n",
        "    # チェックポイントの保存\n",
        "    torch.save({'epoch': epoch, 'model_state_dict': model.state_dict(), 'optimizer_state_dict': optimizer.state_dict()}, f'checkpoint{epoch + 1}.pt')\n",
        "\n",
        "    # 終了時刻の記録\n",
        "    e_time = time.time()\n",
        "\n",
        "    # ログを出力\n",
        "    print(f'epoch: {epoch + 1}, loss_train: {loss_train:.4f}, accuracy_train: {acc_train:.4f}, loss_valid: {loss_valid:.4f}, accuracy_valid: {acc_valid:.4f}, {(e_time - s_time):.4f}sec')\n",
        "\n",
        "    # 検証データの損失が3エポック連続で低下しなかった場合は学習終了\n",
        "    if epoch > 2 and log_valid[epoch - 3][0] <= log_valid[epoch - 2][0] <= log_valid[epoch - 1][0] <= log_valid[epoch][0]:\n",
        "      break\n",
        "\n",
        "    # スケジューラを1ステップ進める\n",
        "    scheduler.step()\n",
        "\n",
        "  return {'train': log_train, 'valid': log_valid}"
      ]
    },
    {
      "cell_type": "code",
      "execution_count": 21,
      "metadata": {
        "id": "WMlO_J__-A0y"
      },
      "outputs": [],
      "source": [
        "import numpy as np\n",
        "from matplotlib import pyplot as plt\n",
        "\n",
        "def visualize_logs(log):\n",
        "  fig, ax = plt.subplots(1, 2, figsize=(15, 5))\n",
        "  ax[0].plot(np.array(log['train']).T[0], label='train')\n",
        "  ax[0].plot(np.array(log['valid']).T[0], label='valid')\n",
        "  ax[0].set_xlabel('epoch')\n",
        "  ax[0].set_ylabel('loss')\n",
        "  ax[0].legend()\n",
        "  ax[1].plot(np.array(log['train']).T[1], label='train')\n",
        "  ax[1].plot(np.array(log['valid']).T[1], label='valid')\n",
        "  ax[1].set_xlabel('epoch')\n",
        "  ax[1].set_ylabel('accuracy')\n",
        "  ax[1].legend()\n",
        "  plt.show()"
      ]
    },
    {
      "cell_type": "markdown",
      "metadata": {
        "id": "8CWidX6vu5Wc"
      },
      "source": [
        "CrossEntropyLoss():https://qiita.com/ground0state/items/8933f9ef54d6cd005a69 \\\n",
        "torch.optim.SGD:https://pytorch.org/docs/stable/generated/torch.optim.SGD.html?highlight=optim+sgd#torch.optim.SGD\n"
      ]
    },
    {
      "cell_type": "code",
      "execution_count": 22,
      "metadata": {
        "colab": {
          "base_uri": "https://localhost:8080/"
        },
        "id": "IMgGPuGo-DSq",
        "outputId": "c5889ba4-ec92-4792-e50f-432514fa9873"
      },
      "outputs": [
        {
          "output_type": "stream",
          "name": "stdout",
          "text": [
            "epoch: 1, loss_train: 1.1190, accuracy_train: 0.5012, loss_valid: 1.1334, accuracy_valid: 0.4948, 50.5334sec\n",
            "epoch: 2, loss_train: 1.0440, accuracy_train: 0.5737, loss_valid: 1.0765, accuracy_valid: 0.5457, 51.3188sec\n",
            "epoch: 3, loss_train: 0.9358, accuracy_train: 0.6407, loss_valid: 0.9989, accuracy_valid: 0.5996, 49.0090sec\n",
            "epoch: 4, loss_train: 0.7741, accuracy_train: 0.7206, loss_valid: 0.8610, accuracy_valid: 0.6991, 48.1690sec\n",
            "epoch: 5, loss_train: 0.6447, accuracy_train: 0.7733, loss_valid: 0.7567, accuracy_valid: 0.7358, 50.9728sec\n",
            "epoch: 6, loss_train: 0.5709, accuracy_train: 0.7970, loss_valid: 0.7275, accuracy_valid: 0.7290, 50.2412sec\n",
            "epoch: 7, loss_train: 0.5147, accuracy_train: 0.8159, loss_valid: 0.6887, accuracy_valid: 0.7440, 50.7759sec\n",
            "epoch: 8, loss_train: 0.4775, accuracy_train: 0.8277, loss_valid: 0.6700, accuracy_valid: 0.7537, 52.4523sec\n",
            "epoch: 9, loss_train: 0.4592, accuracy_train: 0.8327, loss_valid: 0.6612, accuracy_valid: 0.7620, 50.9309sec\n",
            "epoch: 10, loss_train: 0.4530, accuracy_train: 0.8338, loss_valid: 0.6597, accuracy_valid: 0.7605, 49.9808sec\n"
          ]
        }
      ],
      "source": [
        "# パラメータの設定\n",
        "VOCAB_SIZE = len(set(word2id.values())) + 1\n",
        "EMB_SIZE = 300\n",
        "PADDING_IDX = len(set(word2id.values()))\n",
        "OUTPUT_SIZE = 4\n",
        "HIDDEN_SIZE = 50\n",
        "LEARNING_RATE = 1e-3\n",
        "BATCH_SIZE = 1\n",
        "NUM_EPOCHS = 10\n",
        "\n",
        "# モデルの定義\n",
        "model = RNN(VOCAB_SIZE, EMB_SIZE, PADDING_IDX, OUTPUT_SIZE, HIDDEN_SIZE)\n",
        "\n",
        "# 損失関数の定義\n",
        "criterion = nn.CrossEntropyLoss()\n",
        "\n",
        "# オプティマイザの定義\n",
        "optimizer = torch.optim.SGD(model.parameters(), lr=LEARNING_RATE)\n",
        "\n",
        "# モデルの学習\n",
        "log = train_model(dataset_train, dataset_valid, BATCH_SIZE, model, criterion, optimizer, NUM_EPOCHS)"
      ]
    },
    {
      "cell_type": "code",
      "execution_count": 23,
      "metadata": {
        "colab": {
          "base_uri": "https://localhost:8080/",
          "height": 506
        },
        "id": "-k7Oj33V-GLr",
        "outputId": "a9aad36f-e233-4d0e-ddc1-c5524940dfed"
      },
      "outputs": [
        {
          "output_type": "display_data",
          "data": {
            "text/plain": [
              "<Figure size 1500x500 with 2 Axes>"
            ],
            "image/png": "[encoded data removed]"
          },
          "metadata": {}
        },
        {
          "output_type": "stream",
          "name": "stdout",
          "text": [
            "正解率（学習データ）：0.834\n",
            "正解率（評価データ）：0.762\n"
          ]
        }
      ],
      "source": [
        "# ログの可視化\n",
        "visualize_logs(log)\n",
        "\n",
        "# 正解率の算出\n",
        "_, acc_train = calculate_loss_and_accuracy(model, dataset_train)\n",
        "_, acc_test = calculate_loss_and_accuracy(model, dataset_test)\n",
        "print(f'正解率（学習データ）：{acc_train:.3f}')\n",
        "print(f'正解率（評価データ）：{acc_test:.3f}')"
      ]
    },
    {
      "cell_type": "markdown",
      "metadata": {
        "id": "nupeZdZ979gD"
      },
      "source": [
        "## 83. ミニバッチ化・GPU上での学習\n",
        "\n",
        "問題82のコードを改変し，B事例ごとに損失・勾配を計算して学習を行えるようにせよ（Bの値は適当に選べ）．また，GPU上で学習を実行せよ．\n",
        "\n"
      ]
    },
    {
      "cell_type": "code",
      "execution_count": 24,
      "metadata": {
        "colab": {
          "base_uri": "https://localhost:8080/"
        },
        "id": "iBZfiny52g4p",
        "outputId": "fac9a078-cc1f-4325-e0a7-f89c0cde753e"
      },
      "outputs": [
        {
          "output_type": "stream",
          "name": "stdout",
          "text": [
            "5\n"
          ]
        }
      ],
      "source": [
        "import numpy as np\n",
        "a = np.array([1,2,3,4,5])\n",
        "print(a.shape[0])"
      ]
    },
    {
      "cell_type": "code",
      "execution_count": 25,
      "metadata": {
        "colab": {
          "base_uri": "https://localhost:8080/"
        },
        "id": "CsGn0E0M4NyF",
        "outputId": "839304c4-7d34-4c9a-9903-c5b7a9d6a7d6"
      },
      "outputs": [
        {
          "output_type": "stream",
          "name": "stdout",
          "text": [
            "tensor([[2, 1],\n",
            "        [2, 3]])\n",
            "torch.int64\n"
          ]
        }
      ],
      "source": [
        "a = torch.LongTensor([[2,1], [2, 3]])\n",
        "print(a)\n",
        "print(a.dtype)"
      ]
    },
    {
      "cell_type": "code",
      "execution_count": 26,
      "metadata": {
        "id": "MTq8puBC_GKk"
      },
      "outputs": [],
      "source": [
        "class Padsequence():\n",
        "  \"\"\"Dataloaderからミニバッチを取り出すごとに最大系列長でパディング\"\"\"\n",
        "  def __init__(self, padding_idx):\n",
        "    self.padding_idx = padding_idx\n",
        "\n",
        "  def __call__(self, batch):\n",
        "    sorted_batch = sorted(batch, key=lambda x: x['inputs'].shape[0], reverse=True)\n",
        "    sequences = [x['inputs'] for x in sorted_batch]\n",
        "    sequences_padded = torch.nn.utils.rnn.pad_sequence(sequences, batch_first=True, padding_value=self.padding_idx) #最大系列長でpadding\n",
        "    labels = torch.LongTensor([x['labels'] for x in sorted_batch])\n",
        "\n",
        "    return {'inputs': sequences_padded, 'labels': labels}"
      ]
    },
    {
      "cell_type": "code",
      "execution_count": 27,
      "metadata": {
        "colab": {
          "base_uri": "https://localhost:8080/"
        },
        "id": "c7DEUIPv_Gvk",
        "outputId": "1455a394-b4d6-4212-fce0-52baddd62743"
      },
      "outputs": [
        {
          "output_type": "stream",
          "name": "stdout",
          "text": [
            "epoch: 1, loss_train: 1.2535, accuracy_train: 0.4365, loss_valid: 1.2821, accuracy_valid: 0.4296, 10.8049sec\n",
            "epoch: 2, loss_train: 1.1227, accuracy_train: 0.5515, loss_valid: 1.1750, accuracy_valid: 0.5172, 9.8485sec\n",
            "epoch: 3, loss_train: 1.0616, accuracy_train: 0.6072, loss_valid: 1.1086, accuracy_valid: 0.5786, 9.3235sec\n",
            "epoch: 4, loss_train: 1.0622, accuracy_train: 0.6067, loss_valid: 1.1239, accuracy_valid: 0.5734, 10.0794sec\n",
            "epoch: 5, loss_train: 1.1449, accuracy_train: 0.5183, loss_valid: 1.2121, accuracy_valid: 0.4716, 10.1745sec\n",
            "epoch: 6, loss_train: 1.1326, accuracy_train: 0.5302, loss_valid: 1.2087, accuracy_valid: 0.4978, 10.0587sec\n",
            "epoch: 7, loss_train: 1.0966, accuracy_train: 0.5555, loss_valid: 1.1708, accuracy_valid: 0.5187, 10.6178sec\n",
            "epoch: 8, loss_train: 1.0485, accuracy_train: 0.5917, loss_valid: 1.1296, accuracy_valid: 0.5434, 9.3338sec\n",
            "epoch: 9, loss_train: 1.0078, accuracy_train: 0.6224, loss_valid: 1.0918, accuracy_valid: 0.5726, 10.0103sec\n",
            "epoch: 10, loss_train: 0.9927, accuracy_train: 0.6342, loss_valid: 1.0706, accuracy_valid: 0.5786, 10.4956sec\n"
          ]
        }
      ],
      "source": [
        "# パラメータの設定\n",
        "VOCAB_SIZE = len(set(word2id.values())) + 1\n",
        "EMB_SIZE = 300\n",
        "PADDING_IDX = len(set(word2id.values()))\n",
        "OUTPUT_SIZE = 4\n",
        "HIDDEN_SIZE = 50\n",
        "LEARNING_RATE = 5e-2\n",
        "BATCH_SIZE = 32\n",
        "NUM_EPOCHS = 10\n",
        "\n",
        "# モデルの定義\n",
        "model = RNN(VOCAB_SIZE, EMB_SIZE, PADDING_IDX, OUTPUT_SIZE, HIDDEN_SIZE)\n",
        "\n",
        "# 損失関数の定義\n",
        "criterion = nn.CrossEntropyLoss()\n",
        "\n",
        "# オプティマイザの定義\n",
        "optimizer = torch.optim.SGD(model.parameters(), lr=LEARNING_RATE)\n",
        "\n",
        "# デバイスの指定\n",
        "device = torch.device('cuda')\n",
        "\n",
        "# モデルの学習\n",
        "log = train_model(dataset_train, dataset_valid, BATCH_SIZE, model, criterion, optimizer, NUM_EPOCHS, collate_fn=Padsequence(PADDING_IDX), device=device)"
      ]
    },
    {
      "cell_type": "code",
      "execution_count": 28,
      "metadata": {
        "colab": {
          "base_uri": "https://localhost:8080/",
          "height": 501
        },
        "id": "KTudxMRW_KRh",
        "outputId": "3897186a-b273-4b62-fbaa-8dbbd4a171ec"
      },
      "outputs": [
        {
          "output_type": "display_data",
          "data": {
            "text/plain": [
              "<Figure size 1500x500 with 2 Axes>"
            ],
            "image/png": "[encoded data removed]"
          },
          "metadata": {}
        },
        {
          "output_type": "stream",
          "name": "stdout",
          "text": [
            "正解率（学習データ）：0.634\n",
            "正解率（評価データ）：0.591\n"
          ]
        }
      ],
      "source": [
        "# ログの可視化\n",
        "visualize_logs(log)\n",
        "\n",
        "# 正解率の算出\n",
        "_, acc_train = calculate_loss_and_accuracy(model, dataset_train, device)\n",
        "_, acc_test = calculate_loss_and_accuracy(model, dataset_test, device)\n",
        "print(f'正解率（学習データ）：{acc_train:.3f}')\n",
        "print(f'正解率（評価データ）：{acc_test:.3f}')"
      ]
    },
    {
      "cell_type": "markdown",
      "metadata": {
        "id": "VLDNPNAbVmcZ"
      },
      "source": [
        "## 84. 単語ベクトルの導入\n",
        "事前学習済みの単語ベクトル（例えば，Google Newsデータセット（約1,000億単語）での学習済み単語ベクトル）で単語埋め込み$emb(x)$を初期化し，学習せよ．\n"
      ]
    },
    {
      "cell_type": "code",
      "execution_count": 29,
      "metadata": {
        "colab": {
          "base_uri": "https://localhost:8080/"
        },
        "id": "7Zs-3pD0_h2R",
        "outputId": "bd476041-9a5d-47db-e12e-fcccc8119ce8"
      },
      "outputs": [
        {
          "output_type": "stream",
          "name": "stdout",
          "text": [
            "Mounted at /content/drive\n"
          ]
        }
      ],
      "source": [
        "from google.colab import drive\n",
        "drive.mount('/content/drive')"
      ]
    },
    {
      "cell_type": "code",
      "execution_count": 30,
      "metadata": {
        "colab": {
          "base_uri": "https://localhost:8080/"
        },
        "id": "5Yfz19Sk_lHX",
        "outputId": "b4affdb9-3f28-427a-c673-16d8c01d0da3"
      },
      "outputs": [
        {
          "output_type": "stream",
          "name": "stdout",
          "text": [
            "学習済みベクトル利用単語数: 9174 / 9406\n",
            "torch.Size([9406, 300])\n"
          ]
        }
      ],
      "source": [
        "from gensim.models import KeyedVectors\n",
        "model = KeyedVectors.load_word2vec_format('drive/MyDrive/自然言語処理/GoogleNews-vectors-negative300.bin.gz', binary=True)\n",
        "\n",
        "# 学習済み単語ベクトルの取得\n",
        "VOCAB_SIZE = len(set(word2id.values())) + 1\n",
        "EMB_SIZE = 300\n",
        "weights = np.zeros((VOCAB_SIZE, EMB_SIZE))\n",
        "words_in_pretrained = 0\n",
        "for i, word in enumerate(word2id.keys()):\n",
        "  try:\n",
        "    weights[i] = model[word]\n",
        "    words_in_pretrained += 1\n",
        "  except KeyError:\n",
        "    weights[i] = np.random.normal(scale=0.4, size=(EMB_SIZE,))\n",
        "weights = torch.from_numpy(weights.astype((np.float32)))\n",
        "\n",
        "print(f'学習済みベクトル利用単語数: {words_in_pretrained} / {VOCAB_SIZE}')\n",
        "print(weights.size())"
      ]
    },
    {
      "cell_type": "code",
      "execution_count": 31,
      "metadata": {
        "id": "zud-UcBi_spX"
      },
      "outputs": [],
      "source": [
        "class RNN(nn.Module):\n",
        "  def __init__(self, vocab_size, emb_size, padding_idx, output_size, hidden_size, num_layers, emb_weights=None, bidirectional=False):\n",
        "    super().__init__()\n",
        "    self.hidden_size = hidden_size\n",
        "    self.num_layers = num_layers\n",
        "    self.num_directions = bidirectional + 1  # 単方向：1、双方向：2 bool型 False == 0 True == 1\n",
        "    if emb_weights != None:  # 指定があれば埋め込み層の重みをemb_weightsで初期化\n",
        "      self.emb = nn.Embedding.from_pretrained(emb_weights, padding_idx=padding_idx)\n",
        "    else:\n",
        "      self.emb = nn.Embedding(vocab_size, emb_size, padding_idx=padding_idx)\n",
        "    self.rnn = nn.RNN(emb_size, hidden_size, num_layers, nonlinearity='tanh', bidirectional=bidirectional, batch_first=True)\n",
        "    self.fc = nn.Linear(hidden_size * self.num_directions, output_size)\n",
        "\n",
        "  def forward(self, x):\n",
        "    self.batch_size = x.size()[0]\n",
        "    hidden = self.init_hidden(x.device)  # h0のゼロベクトルを作成\n",
        "    emb = self.emb(x)\n",
        "    # emb.size() = (batch_size, seq_len, emb_size)\n",
        "    out, hidden = self.rnn(emb, hidden)\n",
        "    # out.size() = (batch_size, seq_len, hidden_size * num_directions)\n",
        "    out = self.fc(out[:, -1, :])\n",
        "    # out.size() = (batch_size, output_size)\n",
        "    return out\n",
        "\n",
        "  def init_hidden(self, device):\n",
        "    hidden = torch.zeros(self.num_layers * self.num_directions, self.batch_size, self.hidden_size, device=device)\n",
        "    return hidden"
      ]
    },
    {
      "cell_type": "code",
      "execution_count": 32,
      "metadata": {
        "colab": {
          "base_uri": "https://localhost:8080/"
        },
        "id": "4n20CUsW_3JH",
        "outputId": "df268684-2d79-43b9-8210-03487b9003bb"
      },
      "outputs": [
        {
          "output_type": "stream",
          "name": "stdout",
          "text": [
            "epoch: 1, loss_train: 1.1857, accuracy_train: 0.4011, loss_valid: 1.1902, accuracy_valid: 0.3900, 10.7758sec\n",
            "epoch: 2, loss_train: 1.1729, accuracy_train: 0.4596, loss_valid: 1.2135, accuracy_valid: 0.4454, 9.9886sec\n",
            "epoch: 3, loss_train: 1.0617, accuracy_train: 0.6052, loss_valid: 1.0735, accuracy_valid: 0.5898, 9.2906sec\n",
            "epoch: 4, loss_train: 1.0271, accuracy_train: 0.6343, loss_valid: 1.0414, accuracy_valid: 0.6362, 10.2419sec\n",
            "epoch: 5, loss_train: 1.2184, accuracy_train: 0.5125, loss_valid: 1.2728, accuracy_valid: 0.4888, 10.1338sec\n",
            "epoch: 6, loss_train: 0.9884, accuracy_train: 0.6353, loss_valid: 1.0291, accuracy_valid: 0.6235, 9.2074sec\n",
            "epoch: 7, loss_train: 0.9274, accuracy_train: 0.6615, loss_valid: 0.9725, accuracy_valid: 0.6519, 10.1846sec\n",
            "epoch: 8, loss_train: 0.9427, accuracy_train: 0.6528, loss_valid: 0.9915, accuracy_valid: 0.6377, 10.2352sec\n",
            "epoch: 9, loss_train: 0.9225, accuracy_train: 0.6612, loss_valid: 0.9755, accuracy_valid: 0.6475, 9.5425sec\n",
            "epoch: 10, loss_train: 0.9056, accuracy_train: 0.6690, loss_valid: 0.9521, accuracy_valid: 0.6572, 9.9552sec\n"
          ]
        }
      ],
      "source": [
        "# パラメータの設定\n",
        "VOCAB_SIZE = len(set(word2id.values())) + 1\n",
        "EMB_SIZE = 300\n",
        "PADDING_IDX = len(set(word2id.values()))\n",
        "OUTPUT_SIZE = 4\n",
        "HIDDEN_SIZE = 50\n",
        "NUM_LAYERS = 1\n",
        "LEARNING_RATE = 5e-2\n",
        "BATCH_SIZE = 32\n",
        "NUM_EPOCHS = 10\n",
        "\n",
        "# モデルの定義\n",
        "model = RNN(VOCAB_SIZE, EMB_SIZE, PADDING_IDX, OUTPUT_SIZE, HIDDEN_SIZE, NUM_LAYERS, emb_weights=weights)\n",
        "\n",
        "# 損失関数の定義\n",
        "criterion = nn.CrossEntropyLoss()\n",
        "\n",
        "# オプティマイザの定義\n",
        "optimizer = torch.optim.SGD(model.parameters(), lr=LEARNING_RATE)\n",
        "\n",
        "# デバイスの指定\n",
        "device = torch.device('cuda')\n",
        "\n",
        "# モデルの学習\n",
        "log = train_model(dataset_train, dataset_valid, BATCH_SIZE, model, criterion, optimizer, NUM_EPOCHS, collate_fn=Padsequence(PADDING_IDX), device=device)"
      ]
    },
    {
      "cell_type": "code",
      "execution_count": 33,
      "metadata": {
        "colab": {
          "base_uri": "https://localhost:8080/",
          "height": 501
        },
        "id": "q6hO4OTn_6Ym",
        "outputId": "08a4407e-98a2-40eb-8c19-25d626939023"
      },
      "outputs": [
        {
          "output_type": "display_data",
          "data": {
            "text/plain": [
              "<Figure size 1500x500 with 2 Axes>"
            ],
            "image/png": "[encoded data removed]"
          },
          "metadata": {}
        },
        {
          "output_type": "stream",
          "name": "stdout",
          "text": [
            "正解率（学習データ）：0.669\n",
            "正解率（評価データ）：0.659\n"
          ]
        }
      ],
      "source": [
        "# ログの可視化\n",
        "visualize_logs(log)\n",
        "\n",
        "# 正解率の算出\n",
        "_, acc_train = calculate_loss_and_accuracy(model, dataset_train, device)\n",
        "_, acc_test = calculate_loss_and_accuracy(model, dataset_test, device)\n",
        "print(f'正解率（学習データ）：{acc_train:.3f}')\n",
        "print(f'正解率（評価データ）：{acc_test:.3f}')"
      ]
    },
    {
      "cell_type": "markdown",
      "metadata": {
        "id": "Ucr7k-26ITRG"
      },
      "source": [
        "## 85. 双方向RNN・多層化\n",
        "順方向と逆方向のRNNの両方を用いて入力テキストをエンコードし，モデルを学習せよ．\n",
        "\n",
        "$$\n",
        "\\overleftarrow h_{T+1} = 0, \\\\\n",
        "\\overleftarrow h_t = {\\rm \\overleftarrow{RNN}}(\\mathrm{emb}(x_t), \\overleftarrow h_{t+1}), \\\\\n",
        "y = {\\rm softmax}(W^{(yh)} [\\overrightarrow h_T; \\overleftarrow h_1] + b^{(y)})\n",
        "$$\n",
        "\n",
        "ただし，$\\overrightarrow h_t \\in \\mathbb{R}^{d_h}, \\overleftarrow h_t \\in \\mathbb{R}^{d_h}$はそれぞれ，順方向および逆方向のRNNで求めた時刻$t$の隠れ状態ベクトル，${\\rm \\overleftarrow{RNN}}(x,h)$は入力$x$と次時刻の隠れ状態$h$から前状態を計算するRNNユニット，$W^{(yh)} \\in \\mathbb{R}^{L \\times 2d_h}$は隠れ状態ベクトルからカテゴリを予測するための行列，$b^{(y)} \\in \\mathbb{R}^{L}$はバイアス項である．また，$[a; b]$はベクトル$a$と$b$の連結を表す。\n",
        "\n",
        "さらに，双方向RNNを多層化して実験せよ．\n"
      ]
    },
    {
      "cell_type": "code",
      "execution_count": 34,
      "metadata": {
        "colab": {
          "base_uri": "https://localhost:8080/"
        },
        "id": "FoOEx4yR_9aO",
        "outputId": "e8e3deeb-8bd2-4bef-b4eb-d932b0bf189a"
      },
      "outputs": [
        {
          "output_type": "stream",
          "name": "stdout",
          "text": [
            "epoch: 1, loss_train: 1.1371, accuracy_train: 0.4914, loss_valid: 1.1524, accuracy_valid: 0.4693, 10.7170sec\n",
            "epoch: 2, loss_train: 1.1265, accuracy_train: 0.5387, loss_valid: 1.1533, accuracy_valid: 0.5277, 10.6421sec\n",
            "epoch: 3, loss_train: 1.0573, accuracy_train: 0.5976, loss_valid: 1.1033, accuracy_valid: 0.5689, 12.2536sec\n",
            "epoch: 4, loss_train: 0.9927, accuracy_train: 0.6350, loss_valid: 1.0309, accuracy_valid: 0.6235, 11.2205sec\n",
            "epoch: 5, loss_train: 1.0932, accuracy_train: 0.5768, loss_valid: 1.1537, accuracy_valid: 0.5501, 11.1697sec\n",
            "epoch: 6, loss_train: 0.9617, accuracy_train: 0.6457, loss_valid: 1.0091, accuracy_valid: 0.6295, 10.3940sec\n",
            "epoch: 7, loss_train: 0.9414, accuracy_train: 0.6615, loss_valid: 0.9820, accuracy_valid: 0.6519, 10.9534sec\n",
            "epoch: 8, loss_train: 0.9605, accuracy_train: 0.6463, loss_valid: 1.0063, accuracy_valid: 0.6325, 11.0697sec\n",
            "epoch: 9, loss_train: 0.9899, accuracy_train: 0.6330, loss_valid: 1.0439, accuracy_valid: 0.6160, 11.1601sec\n",
            "epoch: 10, loss_train: 0.9473, accuracy_train: 0.6515, loss_valid: 0.9984, accuracy_valid: 0.6370, 10.7964sec\n"
          ]
        }
      ],
      "source": [
        "# パラメータの設定\n",
        "VOCAB_SIZE = len(set(word2id.values())) + 1\n",
        "EMB_SIZE = 300\n",
        "PADDING_IDX = len(set(word2id.values()))\n",
        "OUTPUT_SIZE = 4\n",
        "HIDDEN_SIZE = 50\n",
        "NUM_LAYERS = 2\n",
        "LEARNING_RATE = 5e-2\n",
        "BATCH_SIZE = 32\n",
        "NUM_EPOCHS = 10\n",
        "\n",
        "# モデルの定義\n",
        "model = RNN(VOCAB_SIZE, EMB_SIZE, PADDING_IDX, OUTPUT_SIZE, HIDDEN_SIZE, NUM_LAYERS, emb_weights=weights, bidirectional=True) #双方向\n",
        "\n",
        "# 損失関数の定義\n",
        "criterion = nn.CrossEntropyLoss()\n",
        "\n",
        "# オプティマイザの定義\n",
        "optimizer = torch.optim.SGD(model.parameters(), lr=LEARNING_RATE)\n",
        "\n",
        "# デバイスの指定\n",
        "device = torch.device('cuda')\n",
        "\n",
        "# モデルの学習\n",
        "log = train_model(dataset_train, dataset_valid, BATCH_SIZE, model, criterion, optimizer, NUM_EPOCHS, collate_fn=Padsequence(PADDING_IDX), device=device)"
      ]
    },
    {
      "cell_type": "code",
      "execution_count": 35,
      "metadata": {
        "colab": {
          "base_uri": "https://localhost:8080/",
          "height": 501
        },
        "id": "Ql_1bG-A_-jm",
        "outputId": "fba8aa1e-ed5d-421f-b03b-4e88c4721089"
      },
      "outputs": [
        {
          "output_type": "display_data",
          "data": {
            "text/plain": [
              "<Figure size 1500x500 with 2 Axes>"
            ],
            "image/png": "[encoded data removed]"
          },
          "metadata": {}
        },
        {
          "output_type": "stream",
          "name": "stdout",
          "text": [
            "正解率（学習データ）：0.652\n",
            "正解率（評価データ）：0.645\n"
          ]
        }
      ],
      "source": [
        "# ログの可視化\n",
        "visualize_logs(log)\n",
        "\n",
        "# 正解率の算出\n",
        "_, acc_train = calculate_loss_and_accuracy(model, dataset_train, device)\n",
        "_, acc_test = calculate_loss_and_accuracy(model, dataset_test, device)\n",
        "print(f'正解率（学習データ）：{acc_train:.3f}')\n",
        "print(f'正解率（評価データ）：{acc_test:.3f}')"
      ]
    },
    {
      "cell_type": "markdown",
      "metadata": {
        "id": "TIcy8hdzP8S3"
      },
      "source": [
        "## 86. 畳み込みニューラルネットワーク (CNN)\n",
        "ID番号で表現された単語列$\\boldsymbol x = (x_1, x_2, \\dots, x_T)$がある．ただし，$T$は単語列の長さ，$x_t \\in \\mathbb{R}^{V}$は単語のID番号のone-hot表記である（$V$は単語の総数である）．畳み込みニューラルネットワーク（CNN: Convolutional Neural Network）を用い，単語列$\\boldsymbol x$からカテゴリ$y$を予測するモデルを実装せよ．\n",
        "\n",
        "ただし，畳み込みニューラルネットワークの構成は以下の通りとする．\n",
        "\n",
        "+ 単語埋め込みの次元数: $d_w$\n",
        "+ 畳み込みのフィルターのサイズ: 3 トークン\n",
        "+ 畳み込みのストライド: 1 トークン\n",
        "+ 畳み込みのパディング: あり\n",
        "+ 畳み込み演算後の各時刻のベクトルの次元数: $d_h$\n",
        "+ 畳み込み演算後に最大値プーリング（max pooling）を適用し，入力文を$d_h$次元の隠れベクトルで表現\n",
        " すなわち，時刻$t$の特徴ベクトル$p_t \\in \\mathbb{R}^{d_h}$は次式で表される．\n",
        "\n",
        "$$\n",
        "p_t = g(W^{(px)} [\\mathrm{emb}(x_{t-1}); \\mathrm{emb}(x_t); \\mathrm{emb}(x_{t+1})] + b^{(p)})\n",
        "]\n",
        "$$\n",
        "\n",
        "ただし，$W^{(px)} \\in \\mathbb{R}^{d_h \\times 3d_w}, b^{(p)} \\in \\mathbb{R}^{d_h}$はCNNのパラメータ，$g$は活性化関数（例えば$\\tanh$やReLUなど），$[a; b; c]$はベクトル$a, b, c$の連結である．なお，行列$W^{(px)}$の列数が$3d_w$になるのは，3個のトークンの単語埋め込みを連結したものに対して，線形変換を行うためである．\n",
        "最大値プーリングでは，特徴ベクトルの次元毎に全時刻における最大値を取り，入力文書の特徴ベクトル$c \\in \\mathbb{R}^{d_h}$を求める．$c[i]$でベクトル$c$の$i$番目の次元の値を表すことにすると，最大値プーリングは次式で表される．\n",
        "\n",
        "$$\n",
        "c[i] = \\max_{1 \\leq t \\leq T} p_t[i]\n",
        "$$\n",
        "\n",
        "最後に，入力文書の特徴ベクトル$c$に行列$W^{(yc)} \\in \\mathbb{R}^{L \\times d_h}$とバイアス項$b^{(y)} \\in \\mathbb{R}^{L}$による線形変換とソフトマックス関数を適用し，カテゴリ$y$を予測する．\n",
        "\n",
        "$$\n",
        "y = {\\rm softmax}(W^{(yc)} c + b^{(y)})\n",
        "$$\n",
        "\n",
        "なお，この問題ではモデルの学習を行わず，ランダムに初期化された重み行列で$y$を計算するだけでよい．"
      ]
    },
    {
      "cell_type": "markdown",
      "metadata": {
        "id": "qeTPhtQtYD_b"
      },
      "source": [
        "CNN:https://qiita.com/mathlive/items/8e1f9a8467fff8dfd03c"
      ]
    },
    {
      "cell_type": "markdown",
      "metadata": {
        "id": "BQJXnQzPer2V"
      },
      "source": [
        "Conv2d:torch.nn.Conv2d(in_channels, out_channels, kernel_size, stride=1, padding=0, dilation=1, groups=1, bias=True, padding_mode='zeros', device=None, dtype=None) \\\n",
        "https://pytorch.org/docs/stable/generated/torch.nn.Conv2d.html?highlight=conv2#torch.nn.Conv2d"
      ]
    },
    {
      "cell_type": "markdown",
      "metadata": {
        "id": "M6vjR2USa7QP"
      },
      "source": [
        "Dropout:過学習を抑制する。\\\n",
        "https://pytorch.org/docs/stable/generated/torch.nn.Dropout.html"
      ]
    },
    {
      "cell_type": "code",
      "execution_count": 36,
      "metadata": {
        "colab": {
          "base_uri": "https://localhost:8080/"
        },
        "id": "IJBI01i-aZVq",
        "outputId": "428ce449-34c0-45fe-a2f1-caeeabfa9ceb"
      },
      "outputs": [
        {
          "output_type": "stream",
          "name": "stdout",
          "text": [
            "tensor([[-0.7036, -2.6148, -1.5951, -1.6444,  2.0666,  0.5710,  0.2091, -0.4041,\n",
            "          0.2812, -0.9421],\n",
            "        [-1.4106,  1.0417, -0.8046,  1.2227, -0.9965,  0.7305,  0.4278,  0.4449,\n",
            "          0.0000,  0.0000]])\n"
          ]
        }
      ],
      "source": [
        "m = nn.Dropout(0.3)\n",
        "input = torch.randn(2, 10)\n",
        "output = m(input)\n",
        "\n",
        "print(output)"
      ]
    },
    {
      "cell_type": "code",
      "execution_count": 37,
      "metadata": {
        "id": "n9x62sNmAAvm"
      },
      "outputs": [],
      "source": [
        "from torch.nn import functional as F\n",
        "\n",
        "class CNN(nn.Module):\n",
        "  def __init__(self, vocab_size, emb_size, padding_idx, output_size, out_channels, kernel_heights, stride, padding, emb_weights=None):\n",
        "    super().__init__()\n",
        "    if emb_weights != None:  # 指定があれば埋め込み層の重みをemb_weightsで初期化\n",
        "      self.emb = nn.Embedding.from_pretrained(emb_weights, padding_idx=padding_idx)\n",
        "    else:\n",
        "      self.emb = nn.Embedding(vocab_size, emb_size, padding_idx=padding_idx)\n",
        "    self.conv = nn.Conv2d(1, out_channels, (kernel_heights, emb_size), stride, (padding, 0))\n",
        "    self.drop = nn.Dropout(0.3)\n",
        "    self.fc = nn.Linear(out_channels, output_size)\n",
        "\n",
        "  def forward(self, x):\n",
        "    # x.size() = (batch_size, seq_len)\n",
        "    emb = self.emb(x).unsqueeze(1)\n",
        "    # emb.size() = (batch_size, 1, seq_len, emb_size)\n",
        "    conv = self.conv(emb)\n",
        "    # conv.size() = (batch_size, out_channels, seq_len, 1)\n",
        "    act = F.relu(conv.squeeze(3))\n",
        "    # act.size() = (batch_size, out_channels, seq_len)\n",
        "    max_pool = F.max_pool1d(act, act.size()[2])\n",
        "    # max_pool.size() = (batch_size, out_channels, 1) -> seq_len方向に最大値を取得\n",
        "    out = self.fc(self.drop(max_pool.squeeze(2)))\n",
        "    # out.size() = (batch_size, output_size)\n",
        "    return out"
      ]
    },
    {
      "cell_type": "code",
      "execution_count": 38,
      "metadata": {
        "colab": {
          "base_uri": "https://localhost:8080/"
        },
        "id": "YWGvOeZ0ABVX",
        "outputId": "21cf8b49-38e7-4f1c-f045-97c72b0416fd"
      },
      "outputs": [
        {
          "output_type": "stream",
          "name": "stdout",
          "text": [
            "tensor([[0.2499, 0.2053, 0.2690, 0.2758]], grad_fn=<SoftmaxBackward0>)\n",
            "tensor([[0.2632, 0.2180, 0.2558, 0.2629]], grad_fn=<SoftmaxBackward0>)\n",
            "tensor([[0.2716, 0.2334, 0.2610, 0.2339]], grad_fn=<SoftmaxBackward0>)\n",
            "tensor([[0.2393, 0.2209, 0.2498, 0.2900]], grad_fn=<SoftmaxBackward0>)\n",
            "tensor([[0.2649, 0.2277, 0.2789, 0.2286]], grad_fn=<SoftmaxBackward0>)\n",
            "tensor([[0.2108, 0.2210, 0.2367, 0.3315]], grad_fn=<SoftmaxBackward0>)\n",
            "tensor([[0.2527, 0.2322, 0.2639, 0.2512]], grad_fn=<SoftmaxBackward0>)\n",
            "tensor([[0.1894, 0.2559, 0.2725, 0.2822]], grad_fn=<SoftmaxBackward0>)\n",
            "tensor([[0.2362, 0.2718, 0.2198, 0.2721]], grad_fn=<SoftmaxBackward0>)\n",
            "tensor([[0.2397, 0.2636, 0.2468, 0.2498]], grad_fn=<SoftmaxBackward0>)\n"
          ]
        }
      ],
      "source": [
        "# パラメータの設定\n",
        "VOCAB_SIZE = len(set(word2id.values())) + 1\n",
        "EMB_SIZE = 300\n",
        "PADDING_IDX = len(set(word2id.values()))\n",
        "OUTPUT_SIZE = 4\n",
        "OUT_CHANNELS = 100\n",
        "KERNEL_HEIGHTS = 3\n",
        "STRIDE = 1\n",
        "PADDING = 1\n",
        "\n",
        "# モデルの定義\n",
        "model = CNN(VOCAB_SIZE, EMB_SIZE, PADDING_IDX, OUTPUT_SIZE, OUT_CHANNELS, KERNEL_HEIGHTS, STRIDE, PADDING, emb_weights=weights)\n",
        "\n",
        "# 先頭10件の予測値取得\n",
        "for i in range(10):\n",
        "  X = dataset_train[i]['inputs']\n",
        "  print(torch.softmax(model(X.unsqueeze(0)), dim=-1)) #unsqueezeでbatch_sizeを1として追加"
      ]
    },
    {
      "cell_type": "markdown",
      "metadata": {
        "id": "4lHrJE0yQs3u"
      },
      "source": [
        "## 87. 確率的勾配降下法によるCNNの学習\n",
        "確率的勾配降下法（SGD: Stochastic Gradient Descent）を用いて，問題86で構築したモデルを学習せよ．訓練データ上の損失と正解率，評価データ上の損失と正解率を表示しながらモデルを学習し，適当な基準（例えば10エポックなど）で終了させよ"
      ]
    },
    {
      "cell_type": "code",
      "execution_count": 39,
      "metadata": {
        "colab": {
          "base_uri": "https://localhost:8080/"
        },
        "id": "c4uUEBqbAH14",
        "outputId": "eb157bac-dc42-40c9-a73d-aed3d3f8e989"
      },
      "outputs": [
        {
          "output_type": "stream",
          "name": "stdout",
          "text": [
            "epoch: 1, loss_train: 1.0685, accuracy_train: 0.5691, loss_valid: 1.0787, accuracy_valid: 0.5808, 10.0971sec\n",
            "epoch: 2, loss_train: 0.9866, accuracy_train: 0.6294, loss_valid: 1.0079, accuracy_valid: 0.6400, 8.9785sec\n",
            "epoch: 3, loss_train: 0.9082, accuracy_train: 0.6915, loss_valid: 0.9449, accuracy_valid: 0.6871, 8.9704sec\n",
            "epoch: 4, loss_train: 0.8474, accuracy_train: 0.7063, loss_valid: 0.8929, accuracy_valid: 0.6991, 9.4068sec\n",
            "epoch: 5, loss_train: 0.8050, accuracy_train: 0.7247, loss_valid: 0.8673, accuracy_valid: 0.7096, 8.8523sec\n",
            "epoch: 6, loss_train: 0.7731, accuracy_train: 0.7356, loss_valid: 0.8416, accuracy_valid: 0.7148, 9.1668sec\n",
            "epoch: 7, loss_train: 0.7526, accuracy_train: 0.7406, loss_valid: 0.8265, accuracy_valid: 0.7223, 9.4332sec\n",
            "epoch: 8, loss_train: 0.7405, accuracy_train: 0.7434, loss_valid: 0.8166, accuracy_valid: 0.7238, 8.5311sec\n",
            "epoch: 9, loss_train: 0.7348, accuracy_train: 0.7455, loss_valid: 0.8129, accuracy_valid: 0.7260, 9.3391sec\n",
            "epoch: 10, loss_train: 0.7334, accuracy_train: 0.7457, loss_valid: 0.8119, accuracy_valid: 0.7253, 9.3815sec\n"
          ]
        }
      ],
      "source": [
        "# パラメータの設定\n",
        "VOCAB_SIZE = len(set(word2id.values())) + 1\n",
        "EMB_SIZE = 300\n",
        "PADDING_IDX = len(set(word2id.values()))\n",
        "OUTPUT_SIZE = 4\n",
        "OUT_CHANNELS = 100\n",
        "KERNEL_HEIGHTS = 3\n",
        "STRIDE = 1\n",
        "PADDING = 1\n",
        "LEARNING_RATE = 5e-2\n",
        "BATCH_SIZE = 64\n",
        "NUM_EPOCHS = 10\n",
        "\n",
        "# モデルの定義\n",
        "model = CNN(VOCAB_SIZE, EMB_SIZE, PADDING_IDX, OUTPUT_SIZE, OUT_CHANNELS, KERNEL_HEIGHTS, STRIDE, PADDING, emb_weights=weights)\n",
        "\n",
        "# 損失関数の定義\n",
        "criterion = nn.CrossEntropyLoss()\n",
        "\n",
        "# オプティマイザの定義\n",
        "optimizer = torch.optim.SGD(model.parameters(), lr=LEARNING_RATE)\n",
        "\n",
        "# デバイスの指定\n",
        "device = torch.device('cuda')\n",
        "\n",
        "# モデルの学習\n",
        "log = train_model(dataset_train, dataset_valid, BATCH_SIZE, model, criterion, optimizer, NUM_EPOCHS, collate_fn=Padsequence(PADDING_IDX), device=device)"
      ]
    },
    {
      "cell_type": "code",
      "execution_count": 40,
      "metadata": {
        "colab": {
          "base_uri": "https://localhost:8080/",
          "height": 501
        },
        "id": "A0qr9EVpAIev",
        "outputId": "c3e3d9fe-42b9-4905-8706-b07209b0cacc"
      },
      "outputs": [
        {
          "output_type": "display_data",
          "data": {
            "text/plain": [
              "<Figure size 1500x500 with 2 Axes>"
            ],
            "image/png": "[encoded data removed]"
          },
          "metadata": {}
        },
        {
          "output_type": "stream",
          "name": "stdout",
          "text": [
            "正解率（学習データ）：0.746\n",
            "正解率（評価データ）：0.708\n"
          ]
        }
      ],
      "source": [
        "# ログの可視化\n",
        "visualize_logs(log)\n",
        "\n",
        "# 正解率の算出\n",
        "_, acc_train = calculate_loss_and_accuracy(model, dataset_train, device)\n",
        "_, acc_test = calculate_loss_and_accuracy(model, dataset_test, device)\n",
        "print(f'正解率（学習データ）：{acc_train:.3f}')\n",
        "print(f'正解率（評価データ）：{acc_test:.3f}')"
      ]
    },
    {
      "cell_type": "markdown",
      "metadata": {
        "id": "wFpytluk_yrP"
      },
      "source": [
        "## 88. パラメータチューニング\n",
        "\n",
        "問題85や問題87のコードを改変し，ニューラルネットワークの形状やハイパーパラメータを調整しながら，高性能なカテゴリ分類器を構築せよ．"
      ]
    },
    {
      "cell_type": "code",
      "execution_count": 41,
      "metadata": {
        "id": "ebRZNrPaPraY"
      },
      "outputs": [],
      "source": [
        "from torch.nn import functional as F\n",
        "\n",
        "class textCNN(nn.Module):\n",
        "  def __init__(self, vocab_size, emb_size, padding_idx, output_size, out_channels, conv_params, drop_rate, emb_weights=None):\n",
        "    super().__init__()\n",
        "    if emb_weights != None:  # 指定があれば埋め込み層の重みをemb_weightsで初期化\n",
        "      self.emb = nn.Embedding.from_pretrained(emb_weights, padding_idx=padding_idx)\n",
        "    else:\n",
        "      self.emb = nn.Embedding(vocab_size, emb_size, padding_idx=padding_idx)\n",
        "    self.convs = nn.ModuleList([nn.Conv2d(1, out_channels, (kernel_height, emb_size), padding=(padding, 0)) for kernel_height, padding in conv_params])\n",
        "    self.drop = nn.Dropout(drop_rate)\n",
        "    self.fc = nn.Linear(len(conv_params) * out_channels, output_size)\n",
        "\n",
        "  def forward(self, x):\n",
        "    # x.size() = (batch_size, seq_len)\n",
        "    emb = self.emb(x).unsqueeze(1)\n",
        "    # emb.size() = (batch_size, 1, seq_len, emb_size)\n",
        "    conv = [F.relu(conv(emb).squeeze(3)) for conv in (self.convs)]\n",
        "    # conv[i].size() = (batch_size, out_channels, seq_len + padding * 2 - kernel_height + 1)\n",
        "    max_pool = [F.max_pool1d(i, i.size(2)) for i in conv]\n",
        "    # max_pool[i].size() = (batch_size, out_channels, 1) -> seq_len方向に最大値を取得\n",
        "    max_pool_cat = torch.cat(max_pool, 1)\n",
        "    # max_pool_cat.size() = (batch_size, len(conv_params) * out_channels, 1)  -> フィルター別の結果を結合\n",
        "    out = self.fc(self.drop(max_pool_cat.squeeze(2)))\n",
        "    # out.size() = (batch_size, output_size)\n",
        "    return out"
      ]
    },
    {
      "cell_type": "code",
      "execution_count": 42,
      "metadata": {
        "id": "cfSh6b2rAMuF",
        "colab": {
          "base_uri": "https://localhost:8080/"
        },
        "outputId": "d01f7299-e350-47fe-b0bd-af59de7ac9ac"
      },
      "outputs": [
        {
          "output_type": "stream",
          "name": "stdout",
          "text": [
            "Collecting optuna\n",
            "  Downloading optuna-3.5.0-py3-none-any.whl (413 kB)\n",
            "\u001b[2K     \u001b[90m━━━━━━━━━━━━━━━━━━━━━━━━━━━━━━━━━━━━━━━━\u001b[0m \u001b[32m413.4/413.4 kB\u001b[0m \u001b[31m6.0 MB/s\u001b[0m eta \u001b[36m0:00:00\u001b[0m\n",
            "\u001b[?25hCollecting alembic>=1.5.0 (from optuna)\n",
            "  Downloading alembic-1.13.1-py3-none-any.whl (233 kB)\n",
            "\u001b[2K     \u001b[90m━━━━━━━━━━━━━━━━━━━━━━━━━━━━━━━━━━━━━━━━\u001b[0m \u001b[32m233.4/233.4 kB\u001b[0m \u001b[31m9.7 MB/s\u001b[0m eta \u001b[36m0:00:00\u001b[0m\n",
            "\u001b[?25hCollecting colorlog (from optuna)\n",
            "  Downloading colorlog-6.8.0-py3-none-any.whl (11 kB)\n",
            "Requirement already satisfied: numpy in /usr/local/lib/python3.10/dist-packages (from optuna) (1.23.5)\n",
            "Requirement already satisfied: packaging>=20.0 in /usr/local/lib/python3.10/dist-packages (from optuna) (23.2)\n",
            "Requirement already satisfied: sqlalchemy>=1.3.0 in /usr/local/lib/python3.10/dist-packages (from optuna) (2.0.24)\n",
            "Requirement already satisfied: tqdm in /usr/local/lib/python3.10/dist-packages (from optuna) (4.66.1)\n",
            "Requirement already satisfied: PyYAML in /usr/local/lib/python3.10/dist-packages (from optuna) (6.0.1)\n",
            "Collecting Mako (from alembic>=1.5.0->optuna)\n",
            "  Downloading Mako-1.3.0-py3-none-any.whl (78 kB)\n",
            "\u001b[2K     \u001b[90m━━━━━━━━━━━━━━━━━━━━━━━━━━━━━━━━━━━━━━━━\u001b[0m \u001b[32m78.6/78.6 kB\u001b[0m \u001b[31m10.7 MB/s\u001b[0m eta \u001b[36m0:00:00\u001b[0m\n",
            "\u001b[?25hRequirement already satisfied: typing-extensions>=4 in /usr/local/lib/python3.10/dist-packages (from alembic>=1.5.0->optuna) (4.5.0)\n",
            "Requirement already satisfied: greenlet!=0.4.17 in /usr/local/lib/python3.10/dist-packages (from sqlalchemy>=1.3.0->optuna) (3.0.3)\n",
            "Requirement already satisfied: MarkupSafe>=0.9.2 in /usr/local/lib/python3.10/dist-packages (from Mako->alembic>=1.5.0->optuna) (2.1.3)\n",
            "Installing collected packages: Mako, colorlog, alembic, optuna\n",
            "Successfully installed Mako-1.3.0 alembic-1.13.1 colorlog-6.8.0 optuna-3.5.0\n"
          ]
        }
      ],
      "source": [
        "!pip install optuna"
      ]
    },
    {
      "cell_type": "code",
      "execution_count": 46,
      "metadata": {
        "id": "fzVjvEKtARRN"
      },
      "outputs": [],
      "source": [
        "import optuna\n",
        "\n",
        "def objective(trial):\n",
        "  # チューニング対象パラメータのセット\n",
        "  emb_size = int(trial.suggest_discrete_uniform('emb_size', 100, 300, 100))\n",
        "  out_channels = int(trial.suggest_discrete_uniform('out_channels', 50, 200, 50))\n",
        "  drop_rate = trial.suggest_discrete_uniform('drop_rate', 0.0, 0.5, 0.1)\n",
        "  learning_rate = trial.suggest_loguniform('learning_rate', 5e-4, 5e-2)\n",
        "  momentum = trial.suggest_discrete_uniform('momentum', 0.5, 0.9, 0.1)\n",
        "  batch_size = int(trial.suggest_discrete_uniform('batch_size', 16, 128, 16))\n",
        "\n",
        "  # 固定パラメータの設定\n",
        "  VOCAB_SIZE = len(set(word2id.values())) + 1\n",
        "  PADDING_IDX = len(set(word2id.values()))\n",
        "  OUTPUT_SIZE = 4\n",
        "  CONV_PARAMS = [[2, 0], [3, 1], [4, 2]]\n",
        "  NUM_EPOCHS = 30\n",
        "\n",
        "  # モデルの定義\n",
        "  model = textCNN(VOCAB_SIZE, emb_size, PADDING_IDX, OUTPUT_SIZE, out_channels, CONV_PARAMS, drop_rate, emb_weights=weights)\n",
        "\n",
        "  # 損失関数の定義\n",
        "  criterion = nn.CrossEntropyLoss()\n",
        "\n",
        "  # オプティマイザの定義\n",
        "  optimizer = torch.optim.SGD(model.parameters(), lr=learning_rate, momentum=momentum)\n",
        "\n",
        "  # デバイスの指定\n",
        "  device = torch.cuda.set_device(0)\n",
        "\n",
        "  # モデルの学習\n",
        "  log = train_model(dataset_train, dataset_valid, batch_size, model, criterion, optimizer, NUM_EPOCHS, collate_fn=Padsequence(PADDING_IDX), device=device)\n",
        "\n",
        "  # 損失の算出\n",
        "  loss_valid, _ = calculate_loss_and_accuracy(model, dataset_valid, device, criterion=criterion)\n",
        "\n",
        "  return loss_valid"
      ]
    },
    {
      "cell_type": "code",
      "execution_count": 47,
      "metadata": {
        "colab": {
          "base_uri": "https://localhost:8080/"
        },
        "id": "_hB63upDARx3",
        "outputId": "c3db7f98-692d-4d1c-9fff-bc2bbdec6ee3"
      },
      "outputs": [
        {
          "output_type": "stream",
          "name": "stderr",
          "text": [
            "[I 2024-01-10 12:54:40,791] A new study created in memory with name: no-name-8d1a2434-ddf8-462c-9bca-503e27e844f7\n",
            "<ipython-input-46-86b18a55ea06>:5: FutureWarning: suggest_discrete_uniform has been deprecated in v3.0.0. This feature will be removed in v6.0.0. See https://github.com/optuna/optuna/releases/tag/v3.0.0. Use suggest_float(..., step=...) instead.\n",
            "  emb_size = int(trial.suggest_discrete_uniform('emb_size', 100, 300, 100))\n",
            "<ipython-input-46-86b18a55ea06>:6: FutureWarning: suggest_discrete_uniform has been deprecated in v3.0.0. This feature will be removed in v6.0.0. See https://github.com/optuna/optuna/releases/tag/v3.0.0. Use suggest_float(..., step=...) instead.\n",
            "  out_channels = int(trial.suggest_discrete_uniform('out_channels', 50, 200, 50))\n",
            "<ipython-input-46-86b18a55ea06>:7: FutureWarning: suggest_discrete_uniform has been deprecated in v3.0.0. This feature will be removed in v6.0.0. See https://github.com/optuna/optuna/releases/tag/v3.0.0. Use suggest_float(..., step=...) instead.\n",
            "  drop_rate = trial.suggest_discrete_uniform('drop_rate', 0.0, 0.5, 0.1)\n",
            "<ipython-input-46-86b18a55ea06>:8: FutureWarning: suggest_loguniform has been deprecated in v3.0.0. This feature will be removed in v6.0.0. See https://github.com/optuna/optuna/releases/tag/v3.0.0. Use suggest_float(..., log=True) instead.\n",
            "  learning_rate = trial.suggest_loguniform('learning_rate', 5e-4, 5e-2)\n",
            "<ipython-input-46-86b18a55ea06>:9: FutureWarning: suggest_discrete_uniform has been deprecated in v3.0.0. This feature will be removed in v6.0.0. See https://github.com/optuna/optuna/releases/tag/v3.0.0. Use suggest_float(..., step=...) instead.\n",
            "  momentum = trial.suggest_discrete_uniform('momentum', 0.5, 0.9, 0.1)\n",
            "<ipython-input-46-86b18a55ea06>:10: FutureWarning: suggest_discrete_uniform has been deprecated in v3.0.0. This feature will be removed in v6.0.0. See https://github.com/optuna/optuna/releases/tag/v3.0.0. Use suggest_float(..., step=...) instead.\n",
            "  batch_size = int(trial.suggest_discrete_uniform('batch_size', 16, 128, 16))\n"
          ]
        },
        {
          "output_type": "stream",
          "name": "stdout",
          "text": [
            "epoch: 1, loss_train: 1.0296, accuracy_train: 0.5797, loss_valid: 1.0517, accuracy_valid: 0.5973, 40.2475sec\n",
            "epoch: 2, loss_train: 0.9104, accuracy_train: 0.6943, loss_valid: 0.9582, accuracy_valid: 0.6677, 39.5091sec\n",
            "epoch: 3, loss_train: 0.7968, accuracy_train: 0.7273, loss_valid: 0.8655, accuracy_valid: 0.7066, 37.9964sec\n",
            "epoch: 4, loss_train: 0.7139, accuracy_train: 0.7477, loss_valid: 0.8056, accuracy_valid: 0.7260, 37.2439sec\n",
            "epoch: 5, loss_train: 0.6295, accuracy_train: 0.7825, loss_valid: 0.7575, accuracy_valid: 0.7410, 38.3057sec\n",
            "epoch: 6, loss_train: 0.5617, accuracy_train: 0.8023, loss_valid: 0.7158, accuracy_valid: 0.7470, 37.4503sec\n",
            "epoch: 7, loss_train: 0.4961, accuracy_train: 0.8340, loss_valid: 0.6776, accuracy_valid: 0.7627, 38.5465sec\n",
            "epoch: 8, loss_train: 0.4382, accuracy_train: 0.8519, loss_valid: 0.6442, accuracy_valid: 0.7710, 38.9132sec\n",
            "epoch: 9, loss_train: 0.3906, accuracy_train: 0.8754, loss_valid: 0.6205, accuracy_valid: 0.7829, 38.0761sec\n",
            "epoch: 10, loss_train: 0.3463, accuracy_train: 0.8970, loss_valid: 0.5956, accuracy_valid: 0.7829, 38.1557sec\n",
            "epoch: 11, loss_train: 0.3101, accuracy_train: 0.9193, loss_valid: 0.5847, accuracy_valid: 0.7859, 39.8367sec\n",
            "epoch: 12, loss_train: 0.2756, accuracy_train: 0.9350, loss_valid: 0.5638, accuracy_valid: 0.8016, 36.9047sec\n",
            "epoch: 13, loss_train: 0.2508, accuracy_train: 0.9318, loss_valid: 0.5434, accuracy_valid: 0.8016, 38.5694sec\n",
            "epoch: 14, loss_train: 0.2307, accuracy_train: 0.9474, loss_valid: 0.5371, accuracy_valid: 0.8091, 36.7866sec\n",
            "epoch: 15, loss_train: 0.2076, accuracy_train: 0.9611, loss_valid: 0.5304, accuracy_valid: 0.8136, 38.3431sec\n",
            "epoch: 16, loss_train: 0.1944, accuracy_train: 0.9601, loss_valid: 0.5280, accuracy_valid: 0.8121, 38.2362sec\n",
            "epoch: 17, loss_train: 0.1807, accuracy_train: 0.9694, loss_valid: 0.5193, accuracy_valid: 0.8174, 37.4901sec\n",
            "epoch: 18, loss_train: 0.1689, accuracy_train: 0.9744, loss_valid: 0.5112, accuracy_valid: 0.8189, 38.0289sec\n",
            "epoch: 19, loss_train: 0.1610, accuracy_train: 0.9770, loss_valid: 0.5129, accuracy_valid: 0.8196, 36.8265sec\n",
            "epoch: 20, loss_train: 0.1529, accuracy_train: 0.9817, loss_valid: 0.5065, accuracy_valid: 0.8219, 37.9692sec\n",
            "epoch: 21, loss_train: 0.1472, accuracy_train: 0.9817, loss_valid: 0.5007, accuracy_valid: 0.8234, 36.7592sec\n",
            "epoch: 22, loss_train: 0.1423, accuracy_train: 0.9848, loss_valid: 0.4985, accuracy_valid: 0.8249, 39.8865sec\n",
            "epoch: 23, loss_train: 0.1387, accuracy_train: 0.9852, loss_valid: 0.4978, accuracy_valid: 0.8249, 38.5353sec\n",
            "epoch: 24, loss_train: 0.1361, accuracy_train: 0.9859, loss_valid: 0.4968, accuracy_valid: 0.8249, 38.6019sec\n",
            "epoch: 25, loss_train: 0.1341, accuracy_train: 0.9865, loss_valid: 0.4978, accuracy_valid: 0.8256, 37.1020sec\n",
            "epoch: 26, loss_train: 0.1326, accuracy_train: 0.9872, loss_valid: 0.4962, accuracy_valid: 0.8256, 39.4378sec\n",
            "epoch: 27, loss_train: 0.1317, accuracy_train: 0.9878, loss_valid: 0.4967, accuracy_valid: 0.8263, 38.4782sec\n",
            "epoch: 28, loss_train: 0.1312, accuracy_train: 0.9876, loss_valid: 0.4962, accuracy_valid: 0.8256, 39.1179sec\n",
            "epoch: 29, loss_train: 0.1309, accuracy_train: 0.9875, loss_valid: 0.4958, accuracy_valid: 0.8249, 37.6718sec\n",
            "epoch: 30, loss_train: 0.1309, accuracy_train: 0.9874, loss_valid: 0.4956, accuracy_valid: 0.8263, 40.2819sec\n"
          ]
        },
        {
          "output_type": "stream",
          "name": "stderr",
          "text": [
            "[I 2024-01-10 13:13:52,131] Trial 0 finished with value: 0.4956245667025988 and parameters: {'emb_size': 300.0, 'out_channels': 200.0, 'drop_rate': 0.4, 'learning_rate': 0.028346325117112343, 'momentum': 0.8, 'batch_size': 128.0}. Best is trial 0 with value: 0.4956245667025988.\n"
          ]
        }
      ],
      "source": [
        "# 最適化\n",
        "study = optuna.create_study(direction='minimize')\n",
        "study.optimize(objective, n_trials=1)\n",
        "\n"
      ]
    },
    {
      "cell_type": "code",
      "execution_count": 48,
      "metadata": {
        "id": "RWN9xPes-HqH",
        "colab": {
          "base_uri": "https://localhost:8080/"
        },
        "outputId": "03b14664-a1ec-483a-f415-f9f8c62ebc62"
      },
      "outputs": [
        {
          "output_type": "stream",
          "name": "stdout",
          "text": [
            "Best trial:\n",
            "  Value: 0.496\n",
            "  Params: \n",
            "    emb_size: 300.0\n",
            "    out_channels: 200.0\n",
            "    drop_rate: 0.4\n",
            "    learning_rate: 0.028346325117112343\n",
            "    momentum: 0.8\n",
            "    batch_size: 128.0\n"
          ]
        }
      ],
      "source": [
        "# 結果の表示\n",
        "print('Best trial:')\n",
        "trial = study.best_trial\n",
        "print('  Value: {:.3f}'.format(trial.value))\n",
        "print('  Params: ')\n",
        "for key, value in trial.params.items():\n",
        "  print('    {}: {}'.format(key, value))"
      ]
    },
    {
      "cell_type": "markdown",
      "metadata": {
        "id": "giZ2_z97DaDW"
      },
      "source": [
        "--- 出力 ---\\\n",
        "Best trial:\\\n",
        "  Value: 0.469\\\n",
        "  Params: \\\n",
        "  emb_size: 300.0\\\n",
        "    out_channels: 100.0\\\n",
        "    drop_rate: 0.4\\\n",
        "    learning_rate: 0.013345934577557608\\\n",
        "    momentum: 0.8\\\n",
        "    batch_size: 32.0"
      ]
    },
    {
      "cell_type": "code",
      "execution_count": 49,
      "metadata": {
        "colab": {
          "base_uri": "https://localhost:8080/"
        },
        "id": "eY1vQ9yGAW3V",
        "outputId": "cba999ee-3362-486c-eba3-6d8e380f0074"
      },
      "outputs": [
        {
          "output_type": "stream",
          "name": "stdout",
          "text": [
            "textCNN(\n",
            "  (emb): Embedding(9406, 300, padding_idx=9405)\n",
            "  (convs): ModuleList(\n",
            "    (0): Conv2d(1, 100, kernel_size=(2, 300), stride=(1, 1))\n",
            "    (1): Conv2d(1, 100, kernel_size=(3, 300), stride=(1, 1), padding=(1, 0))\n",
            "    (2): Conv2d(1, 100, kernel_size=(4, 300), stride=(1, 1), padding=(2, 0))\n",
            "  )\n",
            "  (drop): Dropout(p=0.4, inplace=False)\n",
            "  (fc): Linear(in_features=300, out_features=4, bias=True)\n",
            ")\n",
            "epoch: 1, loss_train: 0.8088, accuracy_train: 0.7129, loss_valid: 0.8923, accuracy_valid: 0.6759, 28.2471sec\n",
            "epoch: 2, loss_train: 0.5785, accuracy_train: 0.7931, loss_valid: 0.7200, accuracy_valid: 0.7463, 27.9128sec\n",
            "epoch: 3, loss_train: 0.4141, accuracy_train: 0.8524, loss_valid: 0.6304, accuracy_valid: 0.7732, 27.3751sec\n",
            "epoch: 4, loss_train: 0.2754, accuracy_train: 0.9272, loss_valid: 0.5503, accuracy_valid: 0.8054, 27.5804sec\n",
            "epoch: 5, loss_train: 0.1982, accuracy_train: 0.9580, loss_valid: 0.5437, accuracy_valid: 0.8031, 28.0801sec\n",
            "epoch: 6, loss_train: 0.1432, accuracy_train: 0.9761, loss_valid: 0.5177, accuracy_valid: 0.8174, 28.2237sec\n",
            "epoch: 7, loss_train: 0.1019, accuracy_train: 0.9814, loss_valid: 0.5033, accuracy_valid: 0.8189, 28.0360sec\n",
            "epoch: 8, loss_train: 0.0741, accuracy_train: 0.9897, loss_valid: 0.4911, accuracy_valid: 0.8286, 27.9360sec\n",
            "epoch: 9, loss_train: 0.0541, accuracy_train: 0.9955, loss_valid: 0.4865, accuracy_valid: 0.8293, 30.7687sec\n",
            "epoch: 10, loss_train: 0.0467, accuracy_train: 0.9975, loss_valid: 0.4946, accuracy_valid: 0.8286, 29.3719sec\n",
            "epoch: 11, loss_train: 0.0360, accuracy_train: 0.9976, loss_valid: 0.4876, accuracy_valid: 0.8316, 28.8277sec\n",
            "epoch: 12, loss_train: 0.0298, accuracy_train: 0.9981, loss_valid: 0.4938, accuracy_valid: 0.8338, 28.5479sec\n",
            "epoch: 13, loss_train: 0.0251, accuracy_train: 0.9985, loss_valid: 0.4928, accuracy_valid: 0.8353, 28.9286sec\n",
            "epoch: 14, loss_train: 0.0232, accuracy_train: 0.9985, loss_valid: 0.4894, accuracy_valid: 0.8383, 29.4390sec\n",
            "epoch: 15, loss_train: 0.0200, accuracy_train: 0.9986, loss_valid: 0.4962, accuracy_valid: 0.8368, 27.7255sec\n",
            "epoch: 16, loss_train: 0.0190, accuracy_train: 0.9986, loss_valid: 0.4943, accuracy_valid: 0.8398, 28.1160sec\n",
            "epoch: 17, loss_train: 0.0164, accuracy_train: 0.9989, loss_valid: 0.4975, accuracy_valid: 0.8346, 28.6197sec\n",
            "epoch: 18, loss_train: 0.0153, accuracy_train: 0.9988, loss_valid: 0.4999, accuracy_valid: 0.8353, 29.6494sec\n",
            "epoch: 19, loss_train: 0.0144, accuracy_train: 0.9990, loss_valid: 0.4990, accuracy_valid: 0.8383, 29.5439sec\n",
            "epoch: 20, loss_train: 0.0138, accuracy_train: 0.9992, loss_valid: 0.4973, accuracy_valid: 0.8398, 29.0170sec\n",
            "epoch: 21, loss_train: 0.0134, accuracy_train: 0.9990, loss_valid: 0.5023, accuracy_valid: 0.8406, 27.9310sec\n",
            "epoch: 22, loss_train: 0.0126, accuracy_train: 0.9991, loss_valid: 0.5002, accuracy_valid: 0.8391, 27.5886sec\n",
            "epoch: 23, loss_train: 0.0122, accuracy_train: 0.9990, loss_valid: 0.4997, accuracy_valid: 0.8398, 28.7145sec\n",
            "epoch: 24, loss_train: 0.0120, accuracy_train: 0.9991, loss_valid: 0.5000, accuracy_valid: 0.8376, 29.3248sec\n",
            "epoch: 25, loss_train: 0.0118, accuracy_train: 0.9991, loss_valid: 0.4993, accuracy_valid: 0.8406, 28.3711sec\n",
            "epoch: 26, loss_train: 0.0117, accuracy_train: 0.9992, loss_valid: 0.5011, accuracy_valid: 0.8406, 27.9099sec\n",
            "epoch: 27, loss_train: 0.0115, accuracy_train: 0.9993, loss_valid: 0.4992, accuracy_valid: 0.8391, 27.8734sec\n",
            "epoch: 28, loss_train: 0.0115, accuracy_train: 0.9993, loss_valid: 0.5003, accuracy_valid: 0.8391, 28.7026sec\n",
            "epoch: 29, loss_train: 0.0114, accuracy_train: 0.9992, loss_valid: 0.5002, accuracy_valid: 0.8376, 27.4677sec\n",
            "epoch: 30, loss_train: 0.0114, accuracy_train: 0.9992, loss_valid: 0.5002, accuracy_valid: 0.8376, 27.2688sec\n"
          ]
        }
      ],
      "source": [
        "# パラメータの設定\n",
        "VOCAB_SIZE = len(set(word2id.values())) + 1\n",
        "#EMB_SIZE = int(trial.params['emb_size'])\n",
        "EMB_SIZE = 300;\n",
        "PADDING_IDX = len(set(word2id.values()))\n",
        "OUTPUT_SIZE = 4\n",
        "#OUT_CHANNELS = int(trial.params['out_channels'])\n",
        "OUT_CHANNELS = 100\n",
        "CONV_PARAMS = [[2, 0], [3, 1], [4, 2]]\n",
        "#DROP_RATE = trial.params['drop_rate']\n",
        "DROP_RATE = 0.4\n",
        "#LEARNING_RATE = trial.params['learning_rate']\n",
        "LEARNING_RATE = 0.013345934577557608\n",
        "#BATCH_SIZE = int(trial.params['batch_size'])\n",
        "BATCH_SIZE = 32\n",
        "NUM_EPOCHS = 30\n",
        "\n",
        "# モデルの定義\n",
        "model = textCNN(VOCAB_SIZE, EMB_SIZE, PADDING_IDX, OUTPUT_SIZE, OUT_CHANNELS, CONV_PARAMS, DROP_RATE, emb_weights=weights)\n",
        "print(model)\n",
        "\n",
        "# 損失関数の定義\n",
        "criterion = nn.CrossEntropyLoss()\n",
        "\n",
        "# オプティマイザの定義\n",
        "optimizer = torch.optim.SGD(model.parameters(), lr=LEARNING_RATE, momentum=0.9)\n",
        "\n",
        "# デバイスの指定\n",
        "device = torch.cuda.set_device(0)\n",
        "\n",
        "# モデルの学習\n",
        "log = train_model(dataset_train, dataset_valid, BATCH_SIZE, model, criterion, optimizer, NUM_EPOCHS, collate_fn=Padsequence(PADDING_IDX), device=device)"
      ]
    },
    {
      "cell_type": "code",
      "execution_count": 50,
      "metadata": {
        "colab": {
          "base_uri": "https://localhost:8080/",
          "height": 501
        },
        "id": "-XsJDUKgAYUF",
        "outputId": "5d492ec1-7cad-4e70-ef80-004599ee015d"
      },
      "outputs": [
        {
          "output_type": "display_data",
          "data": {
            "text/plain": [
              "<Figure size 1500x500 with 2 Axes>"
            ],
            "image/png": "[encoded data removed]"
          },
          "metadata": {}
        },
        {
          "output_type": "stream",
          "name": "stdout",
          "text": [
            "正解率（学習データ）：0.999\n",
            "正解率（評価データ）：0.860\n"
          ]
        }
      ],
      "source": [
        "# ログの可視化\n",
        "visualize_logs(log)\n",
        "\n",
        "# 正解率の算出\n",
        "_, acc_train = calculate_loss_and_accuracy(model, dataset_train, device)\n",
        "_, acc_test = calculate_loss_and_accuracy(model, dataset_test, device)\n",
        "print(f'正解率（学習データ）：{acc_train:.3f}')\n",
        "print(f'正解率（評価データ）：{acc_test:.3f}')"
      ]
    },
    {
      "cell_type": "markdown",
      "metadata": {
        "id": "xGnYHmatAaLO"
      },
      "source": [
        "#89. 事前学習済み言語モデルからの転移学習\n",
        "事前学習済み言語モデル（例えばBERTなど）を出発点として，ニュース記事見出しをカテゴリに分類するモデルを構築せよ．"
      ]
    },
    {
      "cell_type": "code",
      "execution_count": 51,
      "metadata": {
        "colab": {
          "base_uri": "https://localhost:8080/"
        },
        "id": "1gwFgjEHAZiF",
        "outputId": "43baf82f-ed9c-485f-89c7-15dfefc7b120"
      },
      "outputs": [
        {
          "output_type": "stream",
          "name": "stdout",
          "text": [
            "Requirement already satisfied: transformers in /usr/local/lib/python3.10/dist-packages (4.35.2)\n",
            "Requirement already satisfied: filelock in /usr/local/lib/python3.10/dist-packages (from transformers) (3.13.1)\n",
            "Requirement already satisfied: huggingface-hub<1.0,>=0.16.4 in /usr/local/lib/python3.10/dist-packages (from transformers) (0.20.2)\n",
            "Requirement already satisfied: numpy>=1.17 in /usr/local/lib/python3.10/dist-packages (from transformers) (1.23.5)\n",
            "Requirement already satisfied: packaging>=20.0 in /usr/local/lib/python3.10/dist-packages (from transformers) (23.2)\n",
            "Requirement already satisfied: pyyaml>=5.1 in /usr/local/lib/python3.10/dist-packages (from transformers) (6.0.1)\n",
            "Requirement already satisfied: regex!=2019.12.17 in /usr/local/lib/python3.10/dist-packages (from transformers) (2023.6.3)\n",
            "Requirement already satisfied: requests in /usr/local/lib/python3.10/dist-packages (from transformers) (2.31.0)\n",
            "Requirement already satisfied: tokenizers<0.19,>=0.14 in /usr/local/lib/python3.10/dist-packages (from transformers) (0.15.0)\n",
            "Requirement already satisfied: safetensors>=0.3.1 in /usr/local/lib/python3.10/dist-packages (from transformers) (0.4.1)\n",
            "Requirement already satisfied: tqdm>=4.27 in /usr/local/lib/python3.10/dist-packages (from transformers) (4.66.1)\n",
            "Requirement already satisfied: fsspec>=2023.5.0 in /usr/local/lib/python3.10/dist-packages (from huggingface-hub<1.0,>=0.16.4->transformers) (2023.6.0)\n",
            "Requirement already satisfied: typing-extensions>=3.7.4.3 in /usr/local/lib/python3.10/dist-packages (from huggingface-hub<1.0,>=0.16.4->transformers) (4.5.0)\n",
            "Requirement already satisfied: charset-normalizer<4,>=2 in /usr/local/lib/python3.10/dist-packages (from requests->transformers) (3.3.2)\n",
            "Requirement already satisfied: idna<4,>=2.5 in /usr/local/lib/python3.10/dist-packages (from requests->transformers) (3.6)\n",
            "Requirement already satisfied: urllib3<3,>=1.21.1 in /usr/local/lib/python3.10/dist-packages (from requests->transformers) (2.0.7)\n",
            "Requirement already satisfied: certifi>=2017.4.17 in /usr/local/lib/python3.10/dist-packages (from requests->transformers) (2023.11.17)\n"
          ]
        }
      ],
      "source": [
        "!pip install transformers"
      ]
    },
    {
      "cell_type": "code",
      "execution_count": 52,
      "metadata": {
        "id": "A-QSd2ijAnDV"
      },
      "outputs": [],
      "source": [
        "import numpy as np\n",
        "import transformers\n",
        "import torch\n",
        "from torch.utils.data import Dataset, DataLoader\n",
        "from transformers import BertTokenizer, BertModel\n",
        "from torch import optim\n",
        "from torch import cuda\n",
        "import time\n",
        "from matplotlib import pyplot as plt"
      ]
    },
    {
      "cell_type": "code",
      "execution_count": 53,
      "metadata": {
        "id": "VBU_XOfTAtjk"
      },
      "outputs": [],
      "source": [
        "# Datasetの定義\n",
        "class NewsDataset(Dataset):\n",
        "  def __init__(self, X, y, tokenizer, max_len):\n",
        "    self.X = X\n",
        "    self.y = y\n",
        "    self.tokenizer = tokenizer\n",
        "    self.max_len = max_len\n",
        "\n",
        "  def __len__(self):  # len(Dataset)で返す値を指定\n",
        "    return len(self.y)\n",
        "\n",
        "  def __getitem__(self, index):  # Dataset[index]で返す値を指定\n",
        "    text = self.X.iloc[index]\n",
        "    inputs = self.tokenizer.encode_plus(\n",
        "      text,\n",
        "      add_special_tokens=True,\n",
        "      max_length=self.max_len,\n",
        "      pad_to_max_length=True\n",
        "    )\n",
        "    ids = inputs['input_ids']\n",
        "    mask = inputs['attention_mask']\n",
        "\n",
        "    return {\n",
        "      'ids': torch.LongTensor(ids),\n",
        "      'mask': torch.LongTensor(mask),\n",
        "      'labels': torch.Tensor(self.y[index])\n",
        "    }"
      ]
    },
    {
      "cell_type": "code",
      "execution_count": 54,
      "metadata": {
        "colab": {
          "base_uri": "https://localhost:8080/",
          "height": 397,
          "referenced_widgets": [
            "1adef65ba13b4dc8a166ff667ccd1081",
            "79129b2db9ae439699400401b03ca601",
            "37868ee49a8b4d82837e4fd0c5cb308d",
            "fd3ff49d68db487f82300b8210d78c85",
            "32660e7937864c37a971e9ac88725003",
            "21c9dd492a8e4917aa2a4467c99c39f4",
            "e41bfc2ea1c2473b8252af8734f4c537",
            "0d11520a471348e0b90127a848e55525",
            "56c98b6996634db1b7c11645f984b791",
            "127d55717e784f18994add04b522cd75",
            "33fd591864264bcd8f16bdacae7dc313",
            "0d32f7333f6b4ec8ac4fef25ee3a8f50",
            "abee72237a4b435baa4554e190afa805",
            "f29efde6da8c4a5890d8481838b9b3f0",
            "dd37c4214c9a419da2de8870e15abbd1",
            "f16eba5de16c41d9b732c69c531d54e8",
            "445ed5265bbe49a5a281fcc1c55841f9",
            "fa2d731ca1db475f89f98cc15d0388a5",
            "876b7ab0b16d45f88494ed618638be58",
            "1f3981cebc164946884247ab55db3fd4",
            "f22e4c61c6db4f9a89b6d3e005dd04e4",
            "564026e0d10043b3890276fac6f86310",
            "a316ec20fe60430193f40fad4bc4170e",
            "c4e8d2349c6b43f4a64c66ec9c7878b0",
            "ef017610e4774db88a6cf0b324e79cc7",
            "a2b1d8d83ab14dea97f7c3cb57051282",
            "7684c2ec81a6465f839ab2bf5c137966",
            "11d2c5da9752460fa839c0736a4d08a8",
            "c28fdd0db72a4a1181ee3caecf16a2ff",
            "45b7ca3623994d438346cac56f329b5d",
            "d6fd2c237ef74f74aa8e341131ed5365",
            "4ac30bd73c054779abb9424dc670a663",
            "8f32aeaec9d9422a83b3784f38a39dd7",
            "396868b60bc443cc82d55e97dca2297a",
            "28bb1e86150e4d32a27bb9c102900d0e",
            "f56b978c42594dafa286839bc932b385",
            "281f2b5f21034635870fc9be16836d15",
            "a523f3bc5be642d3b4e6099986f12673",
            "fe2ad8a8ceb84133a772e8efb2365626",
            "7340381940414d6fb3e3863fd4918abf",
            "6066d648f6c14172977b5ed3d7ab3756",
            "c5077efa48a142f7843bba9de12012ae",
            "388a1b86e1434804ba98ba95a53a3335",
            "2208e4a6ee284ba48d8c2b47a728f7f9"
          ]
        },
        "id": "GqgLkgZOAwbE",
        "outputId": "3010f10b-f65c-48ef-c336-edc9847ee05e"
      },
      "outputs": [
        {
          "output_type": "stream",
          "name": "stderr",
          "text": [
            "/usr/local/lib/python3.10/dist-packages/huggingface_hub/utils/_token.py:88: UserWarning: \n",
            "The secret `HF_TOKEN` does not exist in your Colab secrets.\n",
            "To authenticate with the Hugging Face Hub, create a token in your settings tab (https://huggingface.co/settings/tokens), set it as secret in your Google Colab and restart your session.\n",
            "You will be able to reuse this secret in all of your notebooks.\n",
            "Please note that authentication is recommended but still optional to access public models or datasets.\n",
            "  warnings.warn(\n"
          ]
        },
        {
          "output_type": "display_data",
          "data": {
            "text/plain": [
              "tokenizer_config.json:   0%|          | 0.00/28.0 [00:00<?, ?B/s]"
            ],
            "application/vnd.jupyter.widget-view+json": {
              "version_major": 2,
              "version_minor": 0,
              "model_id": "1adef65ba13b4dc8a166ff667ccd1081"
            }
          },
          "metadata": {}
        },
        {
          "output_type": "display_data",
          "data": {
            "text/plain": [
              "vocab.txt:   0%|          | 0.00/232k [00:00<?, ?B/s]"
            ],
            "application/vnd.jupyter.widget-view+json": {
              "version_major": 2,
              "version_minor": 0,
              "model_id": "0d32f7333f6b4ec8ac4fef25ee3a8f50"
            }
          },
          "metadata": {}
        },
        {
          "output_type": "display_data",
          "data": {
            "text/plain": [
              "tokenizer.json:   0%|          | 0.00/466k [00:00<?, ?B/s]"
            ],
            "application/vnd.jupyter.widget-view+json": {
              "version_major": 2,
              "version_minor": 0,
              "model_id": "a316ec20fe60430193f40fad4bc4170e"
            }
          },
          "metadata": {}
        },
        {
          "output_type": "display_data",
          "data": {
            "text/plain": [
              "config.json:   0%|          | 0.00/570 [00:00<?, ?B/s]"
            ],
            "application/vnd.jupyter.widget-view+json": {
              "version_major": 2,
              "version_minor": 0,
              "model_id": "396868b60bc443cc82d55e97dca2297a"
            }
          },
          "metadata": {}
        },
        {
          "output_type": "stream",
          "name": "stderr",
          "text": [
            "Truncation was not explicitly activated but `max_length` is provided a specific value, please use `truncation=True` to explicitly truncate examples to max length. Defaulting to 'longest_first' truncation strategy. If you encode pairs of sequences (GLUE-style) with the tokenizer you can select this strategy more precisely by providing a specific strategy to `truncation`.\n"
          ]
        },
        {
          "output_type": "stream",
          "name": "stdout",
          "text": [
            "ids: tensor([  101, 25416,  9463,  1011, 10651,  1015,  1011,  2647,  2482,  4341,\n",
            "         2039,  2005,  4369,  3204,  2004, 18730,  8980,   102,     0,     0])\n",
            "mask: tensor([1, 1, 1, 1, 1, 1, 1, 1, 1, 1, 1, 1, 1, 1, 1, 1, 1, 1, 0, 0])\n",
            "labels: tensor([1., 0., 0., 0.])\n"
          ]
        },
        {
          "output_type": "stream",
          "name": "stderr",
          "text": [
            "/usr/local/lib/python3.10/dist-packages/transformers/tokenization_utils_base.py:2614: FutureWarning: The `pad_to_max_length` argument is deprecated and will be removed in a future version, use `padding=True` or `padding='longest'` to pad to the longest sequence in the batch, or use `padding='max_length'` to pad to a max length. In this case, you can give a specific length with `max_length` (e.g. `max_length=45`) or leave max_length to None to pad to the maximal input size of the model (e.g. 512 for Bert).\n",
            "  warnings.warn(\n"
          ]
        }
      ],
      "source": [
        "# 正解ラベルのone-hot化\n",
        "y_train = pd.get_dummies(train, columns=['CATEGORY'])[['CATEGORY_b', 'CATEGORY_e', 'CATEGORY_t', 'CATEGORY_m']].values\n",
        "y_valid = pd.get_dummies(valid, columns=['CATEGORY'])[['CATEGORY_b', 'CATEGORY_e', 'CATEGORY_t', 'CATEGORY_m']].values\n",
        "y_test = pd.get_dummies(test, columns=['CATEGORY'])[['CATEGORY_b', 'CATEGORY_e', 'CATEGORY_t', 'CATEGORY_m']].values\n",
        "\n",
        "# Datasetの作成\n",
        "max_len = 20\n",
        "tokenizer = BertTokenizer.from_pretrained('bert-base-uncased')\n",
        "dataset_train = NewsDataset(train['TITLE'], y_train, tokenizer, max_len)\n",
        "dataset_valid = NewsDataset(valid['TITLE'], y_valid, tokenizer, max_len)\n",
        "dataset_test = NewsDataset(test['TITLE'], y_test, tokenizer, max_len)\n",
        "\n",
        "for var in dataset_train[0]:\n",
        "  print(f'{var}: {dataset_train[0][var]}')"
      ]
    },
    {
      "cell_type": "code",
      "execution_count": 55,
      "metadata": {
        "id": "CgEB1JdtA2Hj"
      },
      "outputs": [],
      "source": [
        "# BERT分類モデルの定義\n",
        "class BERTClass(torch.nn.Module):\n",
        "  def __init__(self, drop_rate, otuput_size):\n",
        "    super().__init__()\n",
        "    self.bert = BertModel.from_pretrained('bert-base-uncased')\n",
        "    self.drop = torch.nn.Dropout(drop_rate)\n",
        "    self.fc = torch.nn.Linear(768, otuput_size)  # BERTの出力に合わせて768次元を指定\n",
        "\n",
        "  def forward(self, ids, mask):\n",
        "    _, out = self.bert(ids, attention_mask=mask, return_dict=False)\n",
        "    out = self.fc(self.drop(out))\n",
        "    return out"
      ]
    },
    {
      "cell_type": "code",
      "execution_count": 56,
      "metadata": {
        "id": "OwpDcDtbA8Ub"
      },
      "outputs": [],
      "source": [
        "def calculate_loss_and_accuracy(model, criterion, loader, device):\n",
        "  \"\"\" 損失・正解率を計算\"\"\"\n",
        "  model.eval()\n",
        "  loss = 0.0\n",
        "  total = 0\n",
        "  correct = 0\n",
        "  with torch.no_grad():\n",
        "    for data in loader:\n",
        "      # デバイスの指定\n",
        "      ids = data['ids'].to(device)\n",
        "      mask = data['mask'].to(device)\n",
        "      labels = data['labels'].to(device)\n",
        "\n",
        "      # 順伝播\n",
        "      outputs = model(ids, mask)\n",
        "\n",
        "      # 損失計算\n",
        "      loss += criterion(outputs, labels).item()\n",
        "\n",
        "      # 正解率計算\n",
        "      pred = torch.argmax(outputs, dim=-1).cpu().numpy() # バッチサイズの長さの予測ラベル配列\n",
        "      labels = torch.argmax(labels, dim=-1).cpu().numpy()  # バッチサイズの長さの正解ラベル配列\n",
        "      total += len(labels)\n",
        "      correct += (pred == labels).sum().item()\n",
        "\n",
        "  return loss / len(loader), correct / total\n",
        "\n",
        "\n",
        "def train_model(dataset_train, dataset_valid, batch_size, model, criterion, optimizer, num_epochs, device=None):\n",
        "  \"\"\"モデルの学習を実行し、損失・正解率のログを返す\"\"\"\n",
        "  # デバイスの指定\n",
        "  model.to(device)\n",
        "\n",
        "  # dataloaderの作成\n",
        "  dataloader_train = DataLoader(dataset_train, batch_size=batch_size, shuffle=True)\n",
        "  dataloader_valid = DataLoader(dataset_valid, batch_size=len(dataset_valid), shuffle=False)\n",
        "\n",
        "  # 学習\n",
        "  log_train = []\n",
        "  log_valid = []\n",
        "  for epoch in range(num_epochs):\n",
        "    # 開始時刻の記録\n",
        "    s_time = time.time()\n",
        "\n",
        "    # 訓練モードに設定\n",
        "    model.train()\n",
        "    for data in dataloader_train:\n",
        "      # デバイスの指定\n",
        "      ids = data['ids'].to(device)\n",
        "      mask = data['mask'].to(device)\n",
        "      labels = data['labels'].to(device)\n",
        "\n",
        "      # 勾配をゼロで初期化\n",
        "      optimizer.zero_grad()\n",
        "\n",
        "      # 順伝播 + 誤差逆伝播 + 重み更新\n",
        "      outputs = model(ids, mask)\n",
        "      loss = criterion(outputs, labels)\n",
        "      loss.backward()\n",
        "      optimizer.step()\n",
        "\n",
        "    # 損失と正解率の算出\n",
        "    loss_train, acc_train = calculate_loss_and_accuracy(model, criterion, dataloader_train, device)\n",
        "    loss_valid, acc_valid = calculate_loss_and_accuracy(model, criterion, dataloader_valid, device)\n",
        "    log_train.append([loss_train, acc_train])\n",
        "    log_valid.append([loss_valid, acc_valid])\n",
        "\n",
        "    # チェックポイントの保存\n",
        "    torch.save({'epoch': epoch, 'model_state_dict': model.state_dict(), 'optimizer_state_dict': optimizer.state_dict()}, f'checkpoint{epoch + 1}.pt')\n",
        "\n",
        "    # 終了時刻の記録\n",
        "    e_time = time.time()\n",
        "\n",
        "    # ログを出力\n",
        "    print(f'epoch: {epoch + 1}, loss_train: {loss_train:.4f}, accuracy_train: {acc_train:.4f}, loss_valid: {loss_valid:.4f}, accuracy_valid: {acc_valid:.4f}, {(e_time - s_time):.4f}sec')\n",
        "\n",
        "  return {'train': log_train, 'valid': log_valid}"
      ]
    },
    {
      "cell_type": "code",
      "execution_count": 57,
      "metadata": {
        "colab": {
          "base_uri": "https://localhost:8080/",
          "height": 120,
          "referenced_widgets": [
            "f02a431081694878a003651ddf5d71ca",
            "22a0b2d863ff4013aacc63cf695f89bf",
            "a35c7d02588e4cf786a7382ef47ef53b",
            "6de48f41319d4bc889e81b05a015d0b2",
            "394ba899b38143b6b53cf569f9643ea1",
            "4ba3ac7dcf494edf80ca9afa3e35123e",
            "5e915eb3a1d242ee86fad6a6ac26174b",
            "e0482b496d9b4083b4f99ce84931dff5",
            "e7e9e26416344f80b87ba779eaa8e743",
            "c4aaf611ad154b599a96fc0030923dfa",
            "130a6fd3b00a4014a8d3676641b529c8"
          ]
        },
        "id": "XPXVRvDRA-dS",
        "outputId": "e8ad71cc-8cf5-4ab9-d534-0e14d464d322"
      },
      "outputs": [
        {
          "output_type": "display_data",
          "data": {
            "text/plain": [
              "model.safetensors:   0%|          | 0.00/440M [00:00<?, ?B/s]"
            ],
            "application/vnd.jupyter.widget-view+json": {
              "version_major": 2,
              "version_minor": 0,
              "model_id": "f02a431081694878a003651ddf5d71ca"
            }
          },
          "metadata": {}
        },
        {
          "output_type": "stream",
          "name": "stdout",
          "text": [
            "epoch: 1, loss_train: 0.0810, accuracy_train: 0.9575, loss_valid: 0.1148, accuracy_valid: 0.9207, 66.3273sec\n",
            "epoch: 2, loss_train: 0.0446, accuracy_train: 0.9775, loss_valid: 0.1041, accuracy_valid: 0.9222, 66.8542sec\n",
            "epoch: 3, loss_train: 0.0267, accuracy_train: 0.9883, loss_valid: 0.1000, accuracy_valid: 0.9289, 72.2534sec\n",
            "epoch: 4, loss_train: 0.0174, accuracy_train: 0.9931, loss_valid: 0.1047, accuracy_valid: 0.9371, 71.6832sec\n"
          ]
        }
      ],
      "source": [
        "# パラメータの設定\n",
        "DROP_RATE = 0.4\n",
        "OUTPUT_SIZE = 4\n",
        "BATCH_SIZE = 32\n",
        "NUM_EPOCHS = 4\n",
        "LEARNING_RATE = 2e-5\n",
        "\n",
        "# モデルの定義\n",
        "model = BERTClass(DROP_RATE, OUTPUT_SIZE)\n",
        "\n",
        "# 損失関数の定義\n",
        "criterion = torch.nn.BCEWithLogitsLoss()\n",
        "\n",
        "# オプティマイザの定義\n",
        "optimizer = torch.optim.AdamW(params=model.parameters(), lr=LEARNING_RATE)\n",
        "\n",
        "# デバイスの指定\n",
        "device = 'cuda' if cuda.is_available() else 'cpu'\n",
        "\n",
        "# モデルの学習\n",
        "log = train_model(dataset_train, dataset_valid, BATCH_SIZE, model, criterion, optimizer, NUM_EPOCHS, device=device)"
      ]
    },
    {
      "cell_type": "code",
      "execution_count": 58,
      "metadata": {
        "colab": {
          "base_uri": "https://localhost:8080/",
          "height": 465
        },
        "id": "viCk4tcBBAKi",
        "outputId": "a105087e-0fcb-46a9-bb60-e892cc1770e0"
      },
      "outputs": [
        {
          "output_type": "display_data",
          "data": {
            "text/plain": [
              "<Figure size 1500x500 with 2 Axes>"
            ],
            "image/png": "[encoded data removed]"
          },
          "metadata": {}
        }
      ],
      "source": [
        "# ログの可視化\n",
        "x_axis = [x for x in range(1, len(log['train']) + 1)]\n",
        "fig, ax = plt.subplots(1, 2, figsize=(15, 5))\n",
        "ax[0].plot(x_axis, np.array(log['train']).T[0], label='train')\n",
        "ax[0].plot(x_axis, np.array(log['valid']).T[0], label='valid')\n",
        "ax[0].set_xlabel('epoch')\n",
        "ax[0].set_ylabel('loss')\n",
        "ax[0].legend()\n",
        "ax[1].plot(x_axis, np.array(log['train']).T[1], label='train')\n",
        "ax[1].plot(x_axis, np.array(log['valid']).T[1], label='valid')\n",
        "ax[1].set_xlabel('epoch')\n",
        "ax[1].set_ylabel('accuracy')\n",
        "ax[1].legend()\n",
        "plt.show()"
      ]
    },
    {
      "cell_type": "code",
      "execution_count": 59,
      "metadata": {
        "colab": {
          "base_uri": "https://localhost:8080/"
        },
        "id": "A2UH9k7aBEMS",
        "outputId": "e0c74bfc-217a-4a17-b3b2-8de1b17292b9"
      },
      "outputs": [
        {
          "output_type": "stream",
          "name": "stdout",
          "text": [
            "正解率（学習データ）：0.993\n",
            "正解率（検証データ）：0.937\n",
            "正解率（評価データ）：0.951\n"
          ]
        }
      ],
      "source": [
        "# 正解率の算出\n",
        "def calculate_accuracy(model, dataset, device):\n",
        "  # Dataloaderの作成\n",
        "  loader = DataLoader(dataset, batch_size=len(dataset), shuffle=False)\n",
        "\n",
        "  model.eval()\n",
        "  total = 0\n",
        "  correct = 0\n",
        "  with torch.no_grad():\n",
        "    for data in loader:\n",
        "      # デバイスの指定\n",
        "      ids = data['ids'].to(device)\n",
        "      mask = data['mask'].to(device)\n",
        "      labels = data['labels'].to(device)\n",
        "\n",
        "      # 順伝播 + 予測値の取得 + 正解数のカウント\n",
        "      outputs = model.forward(ids, mask)\n",
        "      pred = torch.argmax(outputs, dim=-1).cpu().numpy()\n",
        "      labels = torch.argmax(labels, dim=-1).cpu().numpy()\n",
        "      total += len(labels)\n",
        "      correct += (pred == labels).sum().item()\n",
        "\n",
        "  return correct / total\n",
        "\n",
        "print(f'正解率（学習データ）：{calculate_accuracy(model, dataset_train, device):.3f}')\n",
        "print(f'正解率（検証データ）：{calculate_accuracy(model, dataset_valid, device):.3f}')\n",
        "print(f'正解率（評価データ）：{calculate_accuracy(model, dataset_test, device):.3f}')"
      ]
    }
  ],
  "metadata": {
    "accelerator": "GPU",
    "colab": {
      "provenance": []
    },
    "kernelspec": {
      "display_name": "Python 3",
      "name": "python3"
    },
    "widgets": {
      "application/vnd.jupyter.widget-state+json": {
        "1adef65ba13b4dc8a166ff667ccd1081": {
          "model_module": "@jupyter-widgets/controls",
          "model_name": "HBoxModel",
          "model_module_version": "1.5.0",
          "state": {
            "_dom_classes": [],
            "_model_module": "@jupyter-widgets/controls",
            "_model_module_version": "1.5.0",
            "_model_name": "HBoxModel",
            "_view_count": null,
            "_view_module": "@jupyter-widgets/controls",
            "_view_module_version": "1.5.0",
            "_view_name": "HBoxView",
            "box_style": "",
            "children": [
              "IPY_MODEL_79129b2db9ae439699400401b03ca601",
              "IPY_MODEL_37868ee49a8b4d82837e4fd0c5cb308d",
              "IPY_MODEL_fd3ff49d68db487f82300b8210d78c85"
            ],
            "layout": "IPY_MODEL_32660e7937864c37a971e9ac88725003"
          }
        },
        "79129b2db9ae439699400401b03ca601": {
          "model_module": "@jupyter-widgets/controls",
          "model_name": "HTMLModel",
          "model_module_version": "1.5.0",
          "state": {
            "_dom_classes": [],
            "_model_module": "@jupyter-widgets/controls",
            "_model_module_version": "1.5.0",
            "_model_name": "HTMLModel",
            "_view_count": null,
            "_view_module": "@jupyter-widgets/controls",
            "_view_module_version": "1.5.0",
            "_view_name": "HTMLView",
            "description": "",
            "description_tooltip": null,
            "layout": "IPY_MODEL_21c9dd492a8e4917aa2a4467c99c39f4",
            "placeholder": "​",
            "style": "IPY_MODEL_e41bfc2ea1c2473b8252af8734f4c537",
            "value": "tokenizer_config.json: 100%"
          }
        },
        "37868ee49a8b4d82837e4fd0c5cb308d": {
          "model_module": "@jupyter-widgets/controls",
          "model_name": "FloatProgressModel",
          "model_module_version": "1.5.0",
          "state": {
            "_dom_classes": [],
            "_model_module": "@jupyter-widgets/controls",
            "_model_module_version": "1.5.0",
            "_model_name": "FloatProgressModel",
            "_view_count": null,
            "_view_module": "@jupyter-widgets/controls",
            "_view_module_version": "1.5.0",
            "_view_name": "ProgressView",
            "bar_style": "success",
            "description": "",
            "description_tooltip": null,
            "layout": "IPY_MODEL_0d11520a471348e0b90127a848e55525",
            "max": 28,
            "min": 0,
            "orientation": "horizontal",
            "style": "IPY_MODEL_56c98b6996634db1b7c11645f984b791",
            "value": 28
          }
        },
        "fd3ff49d68db487f82300b8210d78c85": {
          "model_module": "@jupyter-widgets/controls",
          "model_name": "HTMLModel",
          "model_module_version": "1.5.0",
          "state": {
            "_dom_classes": [],
            "_model_module": "@jupyter-widgets/controls",
            "_model_module_version": "1.5.0",
            "_model_name": "HTMLModel",
            "_view_count": null,
            "_view_module": "@jupyter-widgets/controls",
            "_view_module_version": "1.5.0",
            "_view_name": "HTMLView",
            "description": "",
            "description_tooltip": null,
            "layout": "IPY_MODEL_127d55717e784f18994add04b522cd75",
            "placeholder": "​",
            "style": "IPY_MODEL_33fd591864264bcd8f16bdacae7dc313",
            "value": " 28.0/28.0 [00:00&lt;00:00, 472B/s]"
          }
        },
        "32660e7937864c37a971e9ac88725003": {
          "model_module": "@jupyter-widgets/base",
          "model_name": "LayoutModel",
          "model_module_version": "1.2.0",
          "state": {
            "_model_module": "@jupyter-widgets/base",
            "_model_module_version": "1.2.0",
            "_model_name": "LayoutModel",
            "_view_count": null,
            "_view_module": "@jupyter-widgets/base",
            "_view_module_version": "1.2.0",
            "_view_name": "LayoutView",
            "align_content": null,
            "align_items": null,
            "align_self": null,
            "border": null,
            "bottom": null,
            "display": null,
            "flex": null,
            "flex_flow": null,
            "grid_area": null,
            "grid_auto_columns": null,
            "grid_auto_flow": null,
            "grid_auto_rows": null,
            "grid_column": null,
            "grid_gap": null,
            "grid_row": null,
            "grid_template_areas": null,
            "grid_template_columns": null,
            "grid_template_rows": null,
            "height": null,
            "justify_content": null,
            "justify_items": null,
            "left": null,
            "margin": null,
            "max_height": null,
            "max_width": null,
            "min_height": null,
            "min_width": null,
            "object_fit": null,
            "object_position": null,
            "order": null,
            "overflow": null,
            "overflow_x": null,
            "overflow_y": null,
            "padding": null,
            "right": null,
            "top": null,
            "visibility": null,
            "width": null
          }
        },
        "21c9dd492a8e4917aa2a4467c99c39f4": {
          "model_module": "@jupyter-widgets/base",
          "model_name": "LayoutModel",
          "model_module_version": "1.2.0",
          "state": {
            "_model_module": "@jupyter-widgets/base",
            "_model_module_version": "1.2.0",
            "_model_name": "LayoutModel",
            "_view_count": null,
            "_view_module": "@jupyter-widgets/base",
            "_view_module_version": "1.2.0",
            "_view_name": "LayoutView",
            "align_content": null,
            "align_items": null,
            "align_self": null,
            "border": null,
            "bottom": null,
            "display": null,
            "flex": null,
            "flex_flow": null,
            "grid_area": null,
            "grid_auto_columns": null,
            "grid_auto_flow": null,
            "grid_auto_rows": null,
            "grid_column": null,
            "grid_gap": null,
            "grid_row": null,
            "grid_template_areas": null,
            "grid_template_columns": null,
            "grid_template_rows": null,
            "height": null,
            "justify_content": null,
            "justify_items": null,
            "left": null,
            "margin": null,
            "max_height": null,
            "max_width": null,
            "min_height": null,
            "min_width": null,
            "object_fit": null,
            "object_position": null,
            "order": null,
            "overflow": null,
            "overflow_x": null,
            "overflow_y": null,
            "padding": null,
            "right": null,
            "top": null,
            "visibility": null,
            "width": null
          }
        },
        "e41bfc2ea1c2473b8252af8734f4c537": {
          "model_module": "@jupyter-widgets/controls",
          "model_name": "DescriptionStyleModel",
          "model_module_version": "1.5.0",
          "state": {
            "_model_module": "@jupyter-widgets/controls",
            "_model_module_version": "1.5.0",
            "_model_name": "DescriptionStyleModel",
            "_view_count": null,
            "_view_module": "@jupyter-widgets/base",
            "_view_module_version": "1.2.0",
            "_view_name": "StyleView",
            "description_width": ""
          }
        },
        "0d11520a471348e0b90127a848e55525": {
          "model_module": "@jupyter-widgets/base",
          "model_name": "LayoutModel",
          "model_module_version": "1.2.0",
          "state": {
            "_model_module": "@jupyter-widgets/base",
            "_model_module_version": "1.2.0",
            "_model_name": "LayoutModel",
            "_view_count": null,
            "_view_module": "@jupyter-widgets/base",
            "_view_module_version": "1.2.0",
            "_view_name": "LayoutView",
            "align_content": null,
            "align_items": null,
            "align_self": null,
            "border": null,
            "bottom": null,
            "display": null,
            "flex": null,
            "flex_flow": null,
            "grid_area": null,
            "grid_auto_columns": null,
            "grid_auto_flow": null,
            "grid_auto_rows": null,
            "grid_column": null,
            "grid_gap": null,
            "grid_row": null,
            "grid_template_areas": null,
            "grid_template_columns": null,
            "grid_template_rows": null,
            "height": null,
            "justify_content": null,
            "justify_items": null,
            "left": null,
            "margin": null,
            "max_height": null,
            "max_width": null,
            "min_height": null,
            "min_width": null,
            "object_fit": null,
            "object_position": null,
            "order": null,
            "overflow": null,
            "overflow_x": null,
            "overflow_y": null,
            "padding": null,
            "right": null,
            "top": null,
            "visibility": null,
            "width": null
          }
        },
        "56c98b6996634db1b7c11645f984b791": {
          "model_module": "@jupyter-widgets/controls",
          "model_name": "ProgressStyleModel",
          "model_module_version": "1.5.0",
          "state": {
            "_model_module": "@jupyter-widgets/controls",
            "_model_module_version": "1.5.0",
            "_model_name": "ProgressStyleModel",
            "_view_count": null,
            "_view_module": "@jupyter-widgets/base",
            "_view_module_version": "1.2.0",
            "_view_name": "StyleView",
            "bar_color": null,
            "description_width": ""
          }
        },
        "127d55717e784f18994add04b522cd75": {
          "model_module": "@jupyter-widgets/base",
          "model_name": "LayoutModel",
          "model_module_version": "1.2.0",
          "state": {
            "_model_module": "@jupyter-widgets/base",
            "_model_module_version": "1.2.0",
            "_model_name": "LayoutModel",
            "_view_count": null,
            "_view_module": "@jupyter-widgets/base",
            "_view_module_version": "1.2.0",
            "_view_name": "LayoutView",
            "align_content": null,
            "align_items": null,
            "align_self": null,
            "border": null,
            "bottom": null,
            "display": null,
            "flex": null,
            "flex_flow": null,
            "grid_area": null,
            "grid_auto_columns": null,
            "grid_auto_flow": null,
            "grid_auto_rows": null,
            "grid_column": null,
            "grid_gap": null,
            "grid_row": null,
            "grid_template_areas": null,
            "grid_template_columns": null,
            "grid_template_rows": null,
            "height": null,
            "justify_content": null,
            "justify_items": null,
            "left": null,
            "margin": null,
            "max_height": null,
            "max_width": null,
            "min_height": null,
            "min_width": null,
            "object_fit": null,
            "object_position": null,
            "order": null,
            "overflow": null,
            "overflow_x": null,
            "overflow_y": null,
            "padding": null,
            "right": null,
            "top": null,
            "visibility": null,
            "width": null
          }
        },
        "33fd591864264bcd8f16bdacae7dc313": {
          "model_module": "@jupyter-widgets/controls",
          "model_name": "DescriptionStyleModel",
          "model_module_version": "1.5.0",
          "state": {
            "_model_module": "@jupyter-widgets/controls",
            "_model_module_version": "1.5.0",
            "_model_name": "DescriptionStyleModel",
            "_view_count": null,
            "_view_module": "@jupyter-widgets/base",
            "_view_module_version": "1.2.0",
            "_view_name": "StyleView",
            "description_width": ""
          }
        },
        "0d32f7333f6b4ec8ac4fef25ee3a8f50": {
          "model_module": "@jupyter-widgets/controls",
          "model_name": "HBoxModel",
          "model_module_version": "1.5.0",
          "state": {
            "_dom_classes": [],
            "_model_module": "@jupyter-widgets/controls",
            "_model_module_version": "1.5.0",
            "_model_name": "HBoxModel",
            "_view_count": null,
            "_view_module": "@jupyter-widgets/controls",
            "_view_module_version": "1.5.0",
            "_view_name": "HBoxView",
            "box_style": "",
            "children": [
              "IPY_MODEL_abee72237a4b435baa4554e190afa805",
              "IPY_MODEL_f29efde6da8c4a5890d8481838b9b3f0",
              "IPY_MODEL_dd37c4214c9a419da2de8870e15abbd1"
            ],
            "layout": "IPY_MODEL_f16eba5de16c41d9b732c69c531d54e8"
          }
        },
        "abee72237a4b435baa4554e190afa805": {
          "model_module": "@jupyter-widgets/controls",
          "model_name": "HTMLModel",
          "model_module_version": "1.5.0",
          "state": {
            "_dom_classes": [],
            "_model_module": "@jupyter-widgets/controls",
            "_model_module_version": "1.5.0",
            "_model_name": "HTMLModel",
            "_view_count": null,
            "_view_module": "@jupyter-widgets/controls",
            "_view_module_version": "1.5.0",
            "_view_name": "HTMLView",
            "description": "",
            "description_tooltip": null,
            "layout": "IPY_MODEL_445ed5265bbe49a5a281fcc1c55841f9",
            "placeholder": "​",
            "style": "IPY_MODEL_fa2d731ca1db475f89f98cc15d0388a5",
            "value": "vocab.txt: 100%"
          }
        },
        "f29efde6da8c4a5890d8481838b9b3f0": {
          "model_module": "@jupyter-widgets/controls",
          "model_name": "FloatProgressModel",
          "model_module_version": "1.5.0",
          "state": {
            "_dom_classes": [],
            "_model_module": "@jupyter-widgets/controls",
            "_model_module_version": "1.5.0",
            "_model_name": "FloatProgressModel",
            "_view_count": null,
            "_view_module": "@jupyter-widgets/controls",
            "_view_module_version": "1.5.0",
            "_view_name": "ProgressView",
            "bar_style": "success",
            "description": "",
            "description_tooltip": null,
            "layout": "IPY_MODEL_876b7ab0b16d45f88494ed618638be58",
            "max": 231508,
            "min": 0,
            "orientation": "horizontal",
            "style": "IPY_MODEL_1f3981cebc164946884247ab55db3fd4",
            "value": 231508
          }
        },
        "dd37c4214c9a419da2de8870e15abbd1": {
          "model_module": "@jupyter-widgets/controls",
          "model_name": "HTMLModel",
          "model_module_version": "1.5.0",
          "state": {
            "_dom_classes": [],
            "_model_module": "@jupyter-widgets/controls",
            "_model_module_version": "1.5.0",
            "_model_name": "HTMLModel",
            "_view_count": null,
            "_view_module": "@jupyter-widgets/controls",
            "_view_module_version": "1.5.0",
            "_view_name": "HTMLView",
            "description": "",
            "description_tooltip": null,
            "layout": "IPY_MODEL_f22e4c61c6db4f9a89b6d3e005dd04e4",
            "placeholder": "​",
            "style": "IPY_MODEL_564026e0d10043b3890276fac6f86310",
            "value": " 232k/232k [00:00&lt;00:00, 1.98MB/s]"
          }
        },
        "f16eba5de16c41d9b732c69c531d54e8": {
          "model_module": "@jupyter-widgets/base",
          "model_name": "LayoutModel",
          "model_module_version": "1.2.0",
          "state": {
            "_model_module": "@jupyter-widgets/base",
            "_model_module_version": "1.2.0",
            "_model_name": "LayoutModel",
            "_view_count": null,
            "_view_module": "@jupyter-widgets/base",
            "_view_module_version": "1.2.0",
            "_view_name": "LayoutView",
            "align_content": null,
            "align_items": null,
            "align_self": null,
            "border": null,
            "bottom": null,
            "display": null,
            "flex": null,
            "flex_flow": null,
            "grid_area": null,
            "grid_auto_columns": null,
            "grid_auto_flow": null,
            "grid_auto_rows": null,
            "grid_column": null,
            "grid_gap": null,
            "grid_row": null,
            "grid_template_areas": null,
            "grid_template_columns": null,
            "grid_template_rows": null,
            "height": null,
            "justify_content": null,
            "justify_items": null,
            "left": null,
            "margin": null,
            "max_height": null,
            "max_width": null,
            "min_height": null,
            "min_width": null,
            "object_fit": null,
            "object_position": null,
            "order": null,
            "overflow": null,
            "overflow_x": null,
            "overflow_y": null,
            "padding": null,
            "right": null,
            "top": null,
            "visibility": null,
            "width": null
          }
        },
        "445ed5265bbe49a5a281fcc1c55841f9": {
          "model_module": "@jupyter-widgets/base",
          "model_name": "LayoutModel",
          "model_module_version": "1.2.0",
          "state": {
            "_model_module": "@jupyter-widgets/base",
            "_model_module_version": "1.2.0",
            "_model_name": "LayoutModel",
            "_view_count": null,
            "_view_module": "@jupyter-widgets/base",
            "_view_module_version": "1.2.0",
            "_view_name": "LayoutView",
            "align_content": null,
            "align_items": null,
            "align_self": null,
            "border": null,
            "bottom": null,
            "display": null,
            "flex": null,
            "flex_flow": null,
            "grid_area": null,
            "grid_auto_columns": null,
            "grid_auto_flow": null,
            "grid_auto_rows": null,
            "grid_column": null,
            "grid_gap": null,
            "grid_row": null,
            "grid_template_areas": null,
            "grid_template_columns": null,
            "grid_template_rows": null,
            "height": null,
            "justify_content": null,
            "justify_items": null,
            "left": null,
            "margin": null,
            "max_height": null,
            "max_width": null,
            "min_height": null,
            "min_width": null,
            "object_fit": null,
            "object_position": null,
            "order": null,
            "overflow": null,
            "overflow_x": null,
            "overflow_y": null,
            "padding": null,
            "right": null,
            "top": null,
            "visibility": null,
            "width": null
          }
        },
        "fa2d731ca1db475f89f98cc15d0388a5": {
          "model_module": "@jupyter-widgets/controls",
          "model_name": "DescriptionStyleModel",
          "model_module_version": "1.5.0",
          "state": {
            "_model_module": "@jupyter-widgets/controls",
            "_model_module_version": "1.5.0",
            "_model_name": "DescriptionStyleModel",
            "_view_count": null,
            "_view_module": "@jupyter-widgets/base",
            "_view_module_version": "1.2.0",
            "_view_name": "StyleView",
            "description_width": ""
          }
        },
        "876b7ab0b16d45f88494ed618638be58": {
          "model_module": "@jupyter-widgets/base",
          "model_name": "LayoutModel",
          "model_module_version": "1.2.0",
          "state": {
            "_model_module": "@jupyter-widgets/base",
            "_model_module_version": "1.2.0",
            "_model_name": "LayoutModel",
            "_view_count": null,
            "_view_module": "@jupyter-widgets/base",
            "_view_module_version": "1.2.0",
            "_view_name": "LayoutView",
            "align_content": null,
            "align_items": null,
            "align_self": null,
            "border": null,
            "bottom": null,
            "display": null,
            "flex": null,
            "flex_flow": null,
            "grid_area": null,
            "grid_auto_columns": null,
            "grid_auto_flow": null,
            "grid_auto_rows": null,
            "grid_column": null,
            "grid_gap": null,
            "grid_row": null,
            "grid_template_areas": null,
            "grid_template_columns": null,
            "grid_template_rows": null,
            "height": null,
            "justify_content": null,
            "justify_items": null,
            "left": null,
            "margin": null,
            "max_height": null,
            "max_width": null,
            "min_height": null,
            "min_width": null,
            "object_fit": null,
            "object_position": null,
            "order": null,
            "overflow": null,
            "overflow_x": null,
            "overflow_y": null,
            "padding": null,
            "right": null,
            "top": null,
            "visibility": null,
            "width": null
          }
        },
        "1f3981cebc164946884247ab55db3fd4": {
          "model_module": "@jupyter-widgets/controls",
          "model_name": "ProgressStyleModel",
          "model_module_version": "1.5.0",
          "state": {
            "_model_module": "@jupyter-widgets/controls",
            "_model_module_version": "1.5.0",
            "_model_name": "ProgressStyleModel",
            "_view_count": null,
            "_view_module": "@jupyter-widgets/base",
            "_view_module_version": "1.2.0",
            "_view_name": "StyleView",
            "bar_color": null,
            "description_width": ""
          }
        },
        "f22e4c61c6db4f9a89b6d3e005dd04e4": {
          "model_module": "@jupyter-widgets/base",
          "model_name": "LayoutModel",
          "model_module_version": "1.2.0",
          "state": {
            "_model_module": "@jupyter-widgets/base",
            "_model_module_version": "1.2.0",
            "_model_name": "LayoutModel",
            "_view_count": null,
            "_view_module": "@jupyter-widgets/base",
            "_view_module_version": "1.2.0",
            "_view_name": "LayoutView",
            "align_content": null,
            "align_items": null,
            "align_self": null,
            "border": null,
            "bottom": null,
            "display": null,
            "flex": null,
            "flex_flow": null,
            "grid_area": null,
            "grid_auto_columns": null,
            "grid_auto_flow": null,
            "grid_auto_rows": null,
            "grid_column": null,
            "grid_gap": null,
            "grid_row": null,
            "grid_template_areas": null,
            "grid_template_columns": null,
            "grid_template_rows": null,
            "height": null,
            "justify_content": null,
            "justify_items": null,
            "left": null,
            "margin": null,
            "max_height": null,
            "max_width": null,
            "min_height": null,
            "min_width": null,
            "object_fit": null,
            "object_position": null,
            "order": null,
            "overflow": null,
            "overflow_x": null,
            "overflow_y": null,
            "padding": null,
            "right": null,
            "top": null,
            "visibility": null,
            "width": null
          }
        },
        "564026e0d10043b3890276fac6f86310": {
          "model_module": "@jupyter-widgets/controls",
          "model_name": "DescriptionStyleModel",
          "model_module_version": "1.5.0",
          "state": {
            "_model_module": "@jupyter-widgets/controls",
            "_model_module_version": "1.5.0",
            "_model_name": "DescriptionStyleModel",
            "_view_count": null,
            "_view_module": "@jupyter-widgets/base",
            "_view_module_version": "1.2.0",
            "_view_name": "StyleView",
            "description_width": ""
          }
        },
        "a316ec20fe60430193f40fad4bc4170e": {
          "model_module": "@jupyter-widgets/controls",
          "model_name": "HBoxModel",
          "model_module_version": "1.5.0",
          "state": {
            "_dom_classes": [],
            "_model_module": "@jupyter-widgets/controls",
            "_model_module_version": "1.5.0",
            "_model_name": "HBoxModel",
            "_view_count": null,
            "_view_module": "@jupyter-widgets/controls",
            "_view_module_version": "1.5.0",
            "_view_name": "HBoxView",
            "box_style": "",
            "children": [
              "IPY_MODEL_c4e8d2349c6b43f4a64c66ec9c7878b0",
              "IPY_MODEL_ef017610e4774db88a6cf0b324e79cc7",
              "IPY_MODEL_a2b1d8d83ab14dea97f7c3cb57051282"
            ],
            "layout": "IPY_MODEL_7684c2ec81a6465f839ab2bf5c137966"
          }
        },
        "c4e8d2349c6b43f4a64c66ec9c7878b0": {
          "model_module": "@jupyter-widgets/controls",
          "model_name": "HTMLModel",
          "model_module_version": "1.5.0",
          "state": {
            "_dom_classes": [],
            "_model_module": "@jupyter-widgets/controls",
            "_model_module_version": "1.5.0",
            "_model_name": "HTMLModel",
            "_view_count": null,
            "_view_module": "@jupyter-widgets/controls",
            "_view_module_version": "1.5.0",
            "_view_name": "HTMLView",
            "description": "",
            "description_tooltip": null,
            "layout": "IPY_MODEL_11d2c5da9752460fa839c0736a4d08a8",
            "placeholder": "​",
            "style": "IPY_MODEL_c28fdd0db72a4a1181ee3caecf16a2ff",
            "value": "tokenizer.json: 100%"
          }
        },
        "ef017610e4774db88a6cf0b324e79cc7": {
          "model_module": "@jupyter-widgets/controls",
          "model_name": "FloatProgressModel",
          "model_module_version": "1.5.0",
          "state": {
            "_dom_classes": [],
            "_model_module": "@jupyter-widgets/controls",
            "_model_module_version": "1.5.0",
            "_model_name": "FloatProgressModel",
            "_view_count": null,
            "_view_module": "@jupyter-widgets/controls",
            "_view_module_version": "1.5.0",
            "_view_name": "ProgressView",
            "bar_style": "success",
            "description": "",
            "description_tooltip": null,
            "layout": "IPY_MODEL_45b7ca3623994d438346cac56f329b5d",
            "max": 466062,
            "min": 0,
            "orientation": "horizontal",
            "style": "IPY_MODEL_d6fd2c237ef74f74aa8e341131ed5365",
            "value": 466062
          }
        },
        "a2b1d8d83ab14dea97f7c3cb57051282": {
          "model_module": "@jupyter-widgets/controls",
          "model_name": "HTMLModel",
          "model_module_version": "1.5.0",
          "state": {
            "_dom_classes": [],
            "_model_module": "@jupyter-widgets/controls",
            "_model_module_version": "1.5.0",
            "_model_name": "HTMLModel",
            "_view_count": null,
            "_view_module": "@jupyter-widgets/controls",
            "_view_module_version": "1.5.0",
            "_view_name": "HTMLView",
            "description": "",
            "description_tooltip": null,
            "layout": "IPY_MODEL_4ac30bd73c054779abb9424dc670a663",
            "placeholder": "​",
            "style": "IPY_MODEL_8f32aeaec9d9422a83b3784f38a39dd7",
            "value": " 466k/466k [00:00&lt;00:00, 2.74MB/s]"
          }
        },
        "7684c2ec81a6465f839ab2bf5c137966": {
          "model_module": "@jupyter-widgets/base",
          "model_name": "LayoutModel",
          "model_module_version": "1.2.0",
          "state": {
            "_model_module": "@jupyter-widgets/base",
            "_model_module_version": "1.2.0",
            "_model_name": "LayoutModel",
            "_view_count": null,
            "_view_module": "@jupyter-widgets/base",
            "_view_module_version": "1.2.0",
            "_view_name": "LayoutView",
            "align_content": null,
            "align_items": null,
            "align_self": null,
            "border": null,
            "bottom": null,
            "display": null,
            "flex": null,
            "flex_flow": null,
            "grid_area": null,
            "grid_auto_columns": null,
            "grid_auto_flow": null,
            "grid_auto_rows": null,
            "grid_column": null,
            "grid_gap": null,
            "grid_row": null,
            "grid_template_areas": null,
            "grid_template_columns": null,
            "grid_template_rows": null,
            "height": null,
            "justify_content": null,
            "justify_items": null,
            "left": null,
            "margin": null,
            "max_height": null,
            "max_width": null,
            "min_height": null,
            "min_width": null,
            "object_fit": null,
            "object_position": null,
            "order": null,
            "overflow": null,
            "overflow_x": null,
            "overflow_y": null,
            "padding": null,
            "right": null,
            "top": null,
            "visibility": null,
            "width": null
          }
        },
        "11d2c5da9752460fa839c0736a4d08a8": {
          "model_module": "@jupyter-widgets/base",
          "model_name": "LayoutModel",
          "model_module_version": "1.2.0",
          "state": {
            "_model_module": "@jupyter-widgets/base",
            "_model_module_version": "1.2.0",
            "_model_name": "LayoutModel",
            "_view_count": null,
            "_view_module": "@jupyter-widgets/base",
            "_view_module_version": "1.2.0",
            "_view_name": "LayoutView",
            "align_content": null,
            "align_items": null,
            "align_self": null,
            "border": null,
            "bottom": null,
            "display": null,
            "flex": null,
            "flex_flow": null,
            "grid_area": null,
            "grid_auto_columns": null,
            "grid_auto_flow": null,
            "grid_auto_rows": null,
            "grid_column": null,
            "grid_gap": null,
            "grid_row": null,
            "grid_template_areas": null,
            "grid_template_columns": null,
            "grid_template_rows": null,
            "height": null,
            "justify_content": null,
            "justify_items": null,
            "left": null,
            "margin": null,
            "max_height": null,
            "max_width": null,
            "min_height": null,
            "min_width": null,
            "object_fit": null,
            "object_position": null,
            "order": null,
            "overflow": null,
            "overflow_x": null,
            "overflow_y": null,
            "padding": null,
            "right": null,
            "top": null,
            "visibility": null,
            "width": null
          }
        },
        "c28fdd0db72a4a1181ee3caecf16a2ff": {
          "model_module": "@jupyter-widgets/controls",
          "model_name": "DescriptionStyleModel",
          "model_module_version": "1.5.0",
          "state": {
            "_model_module": "@jupyter-widgets/controls",
            "_model_module_version": "1.5.0",
            "_model_name": "DescriptionStyleModel",
            "_view_count": null,
            "_view_module": "@jupyter-widgets/base",
            "_view_module_version": "1.2.0",
            "_view_name": "StyleView",
            "description_width": ""
          }
        },
        "45b7ca3623994d438346cac56f329b5d": {
          "model_module": "@jupyter-widgets/base",
          "model_name": "LayoutModel",
          "model_module_version": "1.2.0",
          "state": {
            "_model_module": "@jupyter-widgets/base",
            "_model_module_version": "1.2.0",
            "_model_name": "LayoutModel",
            "_view_count": null,
            "_view_module": "@jupyter-widgets/base",
            "_view_module_version": "1.2.0",
            "_view_name": "LayoutView",
            "align_content": null,
            "align_items": null,
            "align_self": null,
            "border": null,
            "bottom": null,
            "display": null,
            "flex": null,
            "flex_flow": null,
            "grid_area": null,
            "grid_auto_columns": null,
            "grid_auto_flow": null,
            "grid_auto_rows": null,
            "grid_column": null,
            "grid_gap": null,
            "grid_row": null,
            "grid_template_areas": null,
            "grid_template_columns": null,
            "grid_template_rows": null,
            "height": null,
            "justify_content": null,
            "justify_items": null,
            "left": null,
            "margin": null,
            "max_height": null,
            "max_width": null,
            "min_height": null,
            "min_width": null,
            "object_fit": null,
            "object_position": null,
            "order": null,
            "overflow": null,
            "overflow_x": null,
            "overflow_y": null,
            "padding": null,
            "right": null,
            "top": null,
            "visibility": null,
            "width": null
          }
        },
        "d6fd2c237ef74f74aa8e341131ed5365": {
          "model_module": "@jupyter-widgets/controls",
          "model_name": "ProgressStyleModel",
          "model_module_version": "1.5.0",
          "state": {
            "_model_module": "@jupyter-widgets/controls",
            "_model_module_version": "1.5.0",
            "_model_name": "ProgressStyleModel",
            "_view_count": null,
            "_view_module": "@jupyter-widgets/base",
            "_view_module_version": "1.2.0",
            "_view_name": "StyleView",
            "bar_color": null,
            "description_width": ""
          }
        },
        "4ac30bd73c054779abb9424dc670a663": {
          "model_module": "@jupyter-widgets/base",
          "model_name": "LayoutModel",
          "model_module_version": "1.2.0",
          "state": {
            "_model_module": "@jupyter-widgets/base",
            "_model_module_version": "1.2.0",
            "_model_name": "LayoutModel",
            "_view_count": null,
            "_view_module": "@jupyter-widgets/base",
            "_view_module_version": "1.2.0",
            "_view_name": "LayoutView",
            "align_content": null,
            "align_items": null,
            "align_self": null,
            "border": null,
            "bottom": null,
            "display": null,
            "flex": null,
            "flex_flow": null,
            "grid_area": null,
            "grid_auto_columns": null,
            "grid_auto_flow": null,
            "grid_auto_rows": null,
            "grid_column": null,
            "grid_gap": null,
            "grid_row": null,
            "grid_template_areas": null,
            "grid_template_columns": null,
            "grid_template_rows": null,
            "height": null,
            "justify_content": null,
            "justify_items": null,
            "left": null,
            "margin": null,
            "max_height": null,
            "max_width": null,
            "min_height": null,
            "min_width": null,
            "object_fit": null,
            "object_position": null,
            "order": null,
            "overflow": null,
            "overflow_x": null,
            "overflow_y": null,
            "padding": null,
            "right": null,
            "top": null,
            "visibility": null,
            "width": null
          }
        },
        "8f32aeaec9d9422a83b3784f38a39dd7": {
          "model_module": "@jupyter-widgets/controls",
          "model_name": "DescriptionStyleModel",
          "model_module_version": "1.5.0",
          "state": {
            "_model_module": "@jupyter-widgets/controls",
            "_model_module_version": "1.5.0",
            "_model_name": "DescriptionStyleModel",
            "_view_count": null,
            "_view_module": "@jupyter-widgets/base",
            "_view_module_version": "1.2.0",
            "_view_name": "StyleView",
            "description_width": ""
          }
        },
        "396868b60bc443cc82d55e97dca2297a": {
          "model_module": "@jupyter-widgets/controls",
          "model_name": "HBoxModel",
          "model_module_version": "1.5.0",
          "state": {
            "_dom_classes": [],
            "_model_module": "@jupyter-widgets/controls",
            "_model_module_version": "1.5.0",
            "_model_name": "HBoxModel",
            "_view_count": null,
            "_view_module": "@jupyter-widgets/controls",
            "_view_module_version": "1.5.0",
            "_view_name": "HBoxView",
            "box_style": "",
            "children": [
              "IPY_MODEL_28bb1e86150e4d32a27bb9c102900d0e",
              "IPY_MODEL_f56b978c42594dafa286839bc932b385",
              "IPY_MODEL_281f2b5f21034635870fc9be16836d15"
            ],
            "layout": "IPY_MODEL_a523f3bc5be642d3b4e6099986f12673"
          }
        },
        "28bb1e86150e4d32a27bb9c102900d0e": {
          "model_module": "@jupyter-widgets/controls",
          "model_name": "HTMLModel",
          "model_module_version": "1.5.0",
          "state": {
            "_dom_classes": [],
            "_model_module": "@jupyter-widgets/controls",
            "_model_module_version": "1.5.0",
            "_model_name": "HTMLModel",
            "_view_count": null,
            "_view_module": "@jupyter-widgets/controls",
            "_view_module_version": "1.5.0",
            "_view_name": "HTMLView",
            "description": "",
            "description_tooltip": null,
            "layout": "IPY_MODEL_fe2ad8a8ceb84133a772e8efb2365626",
            "placeholder": "​",
            "style": "IPY_MODEL_7340381940414d6fb3e3863fd4918abf",
            "value": "config.json: 100%"
          }
        },
        "f56b978c42594dafa286839bc932b385": {
          "model_module": "@jupyter-widgets/controls",
          "model_name": "FloatProgressModel",
          "model_module_version": "1.5.0",
          "state": {
            "_dom_classes": [],
            "_model_module": "@jupyter-widgets/controls",
            "_model_module_version": "1.5.0",
            "_model_name": "FloatProgressModel",
            "_view_count": null,
            "_view_module": "@jupyter-widgets/controls",
            "_view_module_version": "1.5.0",
            "_view_name": "ProgressView",
            "bar_style": "success",
            "description": "",
            "description_tooltip": null,
            "layout": "IPY_MODEL_6066d648f6c14172977b5ed3d7ab3756",
            "max": 570,
            "min": 0,
            "orientation": "horizontal",
            "style": "IPY_MODEL_c5077efa48a142f7843bba9de12012ae",
            "value": 570
          }
        },
        "281f2b5f21034635870fc9be16836d15": {
          "model_module": "@jupyter-widgets/controls",
          "model_name": "HTMLModel",
          "model_module_version": "1.5.0",
          "state": {
            "_dom_classes": [],
            "_model_module": "@jupyter-widgets/controls",
            "_model_module_version": "1.5.0",
            "_model_name": "HTMLModel",
            "_view_count": null,
            "_view_module": "@jupyter-widgets/controls",
            "_view_module_version": "1.5.0",
            "_view_name": "HTMLView",
            "description": "",
            "description_tooltip": null,
            "layout": "IPY_MODEL_388a1b86e1434804ba98ba95a53a3335",
            "placeholder": "​",
            "style": "IPY_MODEL_2208e4a6ee284ba48d8c2b47a728f7f9",
            "value": " 570/570 [00:00&lt;00:00, 10.0kB/s]"
          }
        },
        "a523f3bc5be642d3b4e6099986f12673": {
          "model_module": "@jupyter-widgets/base",
          "model_name": "LayoutModel",
          "model_module_version": "1.2.0",
          "state": {
            "_model_module": "@jupyter-widgets/base",
            "_model_module_version": "1.2.0",
            "_model_name": "LayoutModel",
            "_view_count": null,
            "_view_module": "@jupyter-widgets/base",
            "_view_module_version": "1.2.0",
            "_view_name": "LayoutView",
            "align_content": null,
            "align_items": null,
            "align_self": null,
            "border": null,
            "bottom": null,
            "display": null,
            "flex": null,
            "flex_flow": null,
            "grid_area": null,
            "grid_auto_columns": null,
            "grid_auto_flow": null,
            "grid_auto_rows": null,
            "grid_column": null,
            "grid_gap": null,
            "grid_row": null,
            "grid_template_areas": null,
            "grid_template_columns": null,
            "grid_template_rows": null,
            "height": null,
            "justify_content": null,
            "justify_items": null,
            "left": null,
            "margin": null,
            "max_height": null,
            "max_width": null,
            "min_height": null,
            "min_width": null,
            "object_fit": null,
            "object_position": null,
            "order": null,
            "overflow": null,
            "overflow_x": null,
            "overflow_y": null,
            "padding": null,
            "right": null,
            "top": null,
            "visibility": null,
            "width": null
          }
        },
        "fe2ad8a8ceb84133a772e8efb2365626": {
          "model_module": "@jupyter-widgets/base",
          "model_name": "LayoutModel",
          "model_module_version": "1.2.0",
          "state": {
            "_model_module": "@jupyter-widgets/base",
            "_model_module_version": "1.2.0",
            "_model_name": "LayoutModel",
            "_view_count": null,
            "_view_module": "@jupyter-widgets/base",
            "_view_module_version": "1.2.0",
            "_view_name": "LayoutView",
            "align_content": null,
            "align_items": null,
            "align_self": null,
            "border": null,
            "bottom": null,
            "display": null,
            "flex": null,
            "flex_flow": null,
            "grid_area": null,
            "grid_auto_columns": null,
            "grid_auto_flow": null,
            "grid_auto_rows": null,
            "grid_column": null,
            "grid_gap": null,
            "grid_row": null,
            "grid_template_areas": null,
            "grid_template_columns": null,
            "grid_template_rows": null,
            "height": null,
            "justify_content": null,
            "justify_items": null,
            "left": null,
            "margin": null,
            "max_height": null,
            "max_width": null,
            "min_height": null,
            "min_width": null,
            "object_fit": null,
            "object_position": null,
            "order": null,
            "overflow": null,
            "overflow_x": null,
            "overflow_y": null,
            "padding": null,
            "right": null,
            "top": null,
            "visibility": null,
            "width": null
          }
        },
        "7340381940414d6fb3e3863fd4918abf": {
          "model_module": "@jupyter-widgets/controls",
          "model_name": "DescriptionStyleModel",
          "model_module_version": "1.5.0",
          "state": {
            "_model_module": "@jupyter-widgets/controls",
            "_model_module_version": "1.5.0",
            "_model_name": "DescriptionStyleModel",
            "_view_count": null,
            "_view_module": "@jupyter-widgets/base",
            "_view_module_version": "1.2.0",
            "_view_name": "StyleView",
            "description_width": ""
          }
        },
        "6066d648f6c14172977b5ed3d7ab3756": {
          "model_module": "@jupyter-widgets/base",
          "model_name": "LayoutModel",
          "model_module_version": "1.2.0",
          "state": {
            "_model_module": "@jupyter-widgets/base",
            "_model_module_version": "1.2.0",
            "_model_name": "LayoutModel",
            "_view_count": null,
            "_view_module": "@jupyter-widgets/base",
            "_view_module_version": "1.2.0",
            "_view_name": "LayoutView",
            "align_content": null,
            "align_items": null,
            "align_self": null,
            "border": null,
            "bottom": null,
            "display": null,
            "flex": null,
            "flex_flow": null,
            "grid_area": null,
            "grid_auto_columns": null,
            "grid_auto_flow": null,
            "grid_auto_rows": null,
            "grid_column": null,
            "grid_gap": null,
            "grid_row": null,
            "grid_template_areas": null,
            "grid_template_columns": null,
            "grid_template_rows": null,
            "height": null,
            "justify_content": null,
            "justify_items": null,
            "left": null,
            "margin": null,
            "max_height": null,
            "max_width": null,
            "min_height": null,
            "min_width": null,
            "object_fit": null,
            "object_position": null,
            "order": null,
            "overflow": null,
            "overflow_x": null,
            "overflow_y": null,
            "padding": null,
            "right": null,
            "top": null,
            "visibility": null,
            "width": null
          }
        },
        "c5077efa48a142f7843bba9de12012ae": {
          "model_module": "@jupyter-widgets/controls",
          "model_name": "ProgressStyleModel",
          "model_module_version": "1.5.0",
          "state": {
            "_model_module": "@jupyter-widgets/controls",
            "_model_module_version": "1.5.0",
            "_model_name": "ProgressStyleModel",
            "_view_count": null,
            "_view_module": "@jupyter-widgets/base",
            "_view_module_version": "1.2.0",
            "_view_name": "StyleView",
            "bar_color": null,
            "description_width": ""
          }
        },
        "388a1b86e1434804ba98ba95a53a3335": {
          "model_module": "@jupyter-widgets/base",
          "model_name": "LayoutModel",
          "model_module_version": "1.2.0",
          "state": {
            "_model_module": "@jupyter-widgets/base",
            "_model_module_version": "1.2.0",
            "_model_name": "LayoutModel",
            "_view_count": null,
            "_view_module": "@jupyter-widgets/base",
            "_view_module_version": "1.2.0",
            "_view_name": "LayoutView",
            "align_content": null,
            "align_items": null,
            "align_self": null,
            "border": null,
            "bottom": null,
            "display": null,
            "flex": null,
            "flex_flow": null,
            "grid_area": null,
            "grid_auto_columns": null,
            "grid_auto_flow": null,
            "grid_auto_rows": null,
            "grid_column": null,
            "grid_gap": null,
            "grid_row": null,
            "grid_template_areas": null,
            "grid_template_columns": null,
            "grid_template_rows": null,
            "height": null,
            "justify_content": null,
            "justify_items": null,
            "left": null,
            "margin": null,
            "max_height": null,
            "max_width": null,
            "min_height": null,
            "min_width": null,
            "object_fit": null,
            "object_position": null,
            "order": null,
            "overflow": null,
            "overflow_x": null,
            "overflow_y": null,
            "padding": null,
            "right": null,
            "top": null,
            "visibility": null,
            "width": null
          }
        },
        "2208e4a6ee284ba48d8c2b47a728f7f9": {
          "model_module": "@jupyter-widgets/controls",
          "model_name": "DescriptionStyleModel",
          "model_module_version": "1.5.0",
          "state": {
            "_model_module": "@jupyter-widgets/controls",
            "_model_module_version": "1.5.0",
            "_model_name": "DescriptionStyleModel",
            "_view_count": null,
            "_view_module": "@jupyter-widgets/base",
            "_view_module_version": "1.2.0",
            "_view_name": "StyleView",
            "description_width": ""
          }
        },
        "f02a431081694878a003651ddf5d71ca": {
          "model_module": "@jupyter-widgets/controls",
          "model_name": "HBoxModel",
          "model_module_version": "1.5.0",
          "state": {
            "_dom_classes": [],
            "_model_module": "@jupyter-widgets/controls",
            "_model_module_version": "1.5.0",
            "_model_name": "HBoxModel",
            "_view_count": null,
            "_view_module": "@jupyter-widgets/controls",
            "_view_module_version": "1.5.0",
            "_view_name": "HBoxView",
            "box_style": "",
            "children": [
              "IPY_MODEL_22a0b2d863ff4013aacc63cf695f89bf",
              "IPY_MODEL_a35c7d02588e4cf786a7382ef47ef53b",
              "IPY_MODEL_6de48f41319d4bc889e81b05a015d0b2"
            ],
            "layout": "IPY_MODEL_394ba899b38143b6b53cf569f9643ea1"
          }
        },
        "22a0b2d863ff4013aacc63cf695f89bf": {
          "model_module": "@jupyter-widgets/controls",
          "model_name": "HTMLModel",
          "model_module_version": "1.5.0",
          "state": {
            "_dom_classes": [],
            "_model_module": "@jupyter-widgets/controls",
            "_model_module_version": "1.5.0",
            "_model_name": "HTMLModel",
            "_view_count": null,
            "_view_module": "@jupyter-widgets/controls",
            "_view_module_version": "1.5.0",
            "_view_name": "HTMLView",
            "description": "",
            "description_tooltip": null,
            "layout": "IPY_MODEL_4ba3ac7dcf494edf80ca9afa3e35123e",
            "placeholder": "​",
            "style": "IPY_MODEL_5e915eb3a1d242ee86fad6a6ac26174b",
            "value": "model.safetensors: 100%"
          }
        },
        "a35c7d02588e4cf786a7382ef47ef53b": {
          "model_module": "@jupyter-widgets/controls",
          "model_name": "FloatProgressModel",
          "model_module_version": "1.5.0",
          "state": {
            "_dom_classes": [],
            "_model_module": "@jupyter-widgets/controls",
            "_model_module_version": "1.5.0",
            "_model_name": "FloatProgressModel",
            "_view_count": null,
            "_view_module": "@jupyter-widgets/controls",
            "_view_module_version": "1.5.0",
            "_view_name": "ProgressView",
            "bar_style": "success",
            "description": "",
            "description_tooltip": null,
            "layout": "IPY_MODEL_e0482b496d9b4083b4f99ce84931dff5",
            "max": 440449768,
            "min": 0,
            "orientation": "horizontal",
            "style": "IPY_MODEL_e7e9e26416344f80b87ba779eaa8e743",
            "value": 440449768
          }
        },
        "6de48f41319d4bc889e81b05a015d0b2": {
          "model_module": "@jupyter-widgets/controls",
          "model_name": "HTMLModel",
          "model_module_version": "1.5.0",
          "state": {
            "_dom_classes": [],
            "_model_module": "@jupyter-widgets/controls",
            "_model_module_version": "1.5.0",
            "_model_name": "HTMLModel",
            "_view_count": null,
            "_view_module": "@jupyter-widgets/controls",
            "_view_module_version": "1.5.0",
            "_view_name": "HTMLView",
            "description": "",
            "description_tooltip": null,
            "layout": "IPY_MODEL_c4aaf611ad154b599a96fc0030923dfa",
            "placeholder": "​",
            "style": "IPY_MODEL_130a6fd3b00a4014a8d3676641b529c8",
            "value": " 440M/440M [00:01&lt;00:00, 241MB/s]"
          }
        },
        "394ba899b38143b6b53cf569f9643ea1": {
          "model_module": "@jupyter-widgets/base",
          "model_name": "LayoutModel",
          "model_module_version": "1.2.0",
          "state": {
            "_model_module": "@jupyter-widgets/base",
            "_model_module_version": "1.2.0",
            "_model_name": "LayoutModel",
            "_view_count": null,
            "_view_module": "@jupyter-widgets/base",
            "_view_module_version": "1.2.0",
            "_view_name": "LayoutView",
            "align_content": null,
            "align_items": null,
            "align_self": null,
            "border": null,
            "bottom": null,
            "display": null,
            "flex": null,
            "flex_flow": null,
            "grid_area": null,
            "grid_auto_columns": null,
            "grid_auto_flow": null,
            "grid_auto_rows": null,
            "grid_column": null,
            "grid_gap": null,
            "grid_row": null,
            "grid_template_areas": null,
            "grid_template_columns": null,
            "grid_template_rows": null,
            "height": null,
            "justify_content": null,
            "justify_items": null,
            "left": null,
            "margin": null,
            "max_height": null,
            "max_width": null,
            "min_height": null,
            "min_width": null,
            "object_fit": null,
            "object_position": null,
            "order": null,
            "overflow": null,
            "overflow_x": null,
            "overflow_y": null,
            "padding": null,
            "right": null,
            "top": null,
            "visibility": null,
            "width": null
          }
        },
        "4ba3ac7dcf494edf80ca9afa3e35123e": {
          "model_module": "@jupyter-widgets/base",
          "model_name": "LayoutModel",
          "model_module_version": "1.2.0",
          "state": {
            "_model_module": "@jupyter-widgets/base",
            "_model_module_version": "1.2.0",
            "_model_name": "LayoutModel",
            "_view_count": null,
            "_view_module": "@jupyter-widgets/base",
            "_view_module_version": "1.2.0",
            "_view_name": "LayoutView",
            "align_content": null,
            "align_items": null,
            "align_self": null,
            "border": null,
            "bottom": null,
            "display": null,
            "flex": null,
            "flex_flow": null,
            "grid_area": null,
            "grid_auto_columns": null,
            "grid_auto_flow": null,
            "grid_auto_rows": null,
            "grid_column": null,
            "grid_gap": null,
            "grid_row": null,
            "grid_template_areas": null,
            "grid_template_columns": null,
            "grid_template_rows": null,
            "height": null,
            "justify_content": null,
            "justify_items": null,
            "left": null,
            "margin": null,
            "max_height": null,
            "max_width": null,
            "min_height": null,
            "min_width": null,
            "object_fit": null,
            "object_position": null,
            "order": null,
            "overflow": null,
            "overflow_x": null,
            "overflow_y": null,
            "padding": null,
            "right": null,
            "top": null,
            "visibility": null,
            "width": null
          }
        },
        "5e915eb3a1d242ee86fad6a6ac26174b": {
          "model_module": "@jupyter-widgets/controls",
          "model_name": "DescriptionStyleModel",
          "model_module_version": "1.5.0",
          "state": {
            "_model_module": "@jupyter-widgets/controls",
            "_model_module_version": "1.5.0",
            "_model_name": "DescriptionStyleModel",
            "_view_count": null,
            "_view_module": "@jupyter-widgets/base",
            "_view_module_version": "1.2.0",
            "_view_name": "StyleView",
            "description_width": ""
          }
        },
        "e0482b496d9b4083b4f99ce84931dff5": {
          "model_module": "@jupyter-widgets/base",
          "model_name": "LayoutModel",
          "model_module_version": "1.2.0",
          "state": {
            "_model_module": "@jupyter-widgets/base",
            "_model_module_version": "1.2.0",
            "_model_name": "LayoutModel",
            "_view_count": null,
            "_view_module": "@jupyter-widgets/base",
            "_view_module_version": "1.2.0",
            "_view_name": "LayoutView",
            "align_content": null,
            "align_items": null,
            "align_self": null,
            "border": null,
            "bottom": null,
            "display": null,
            "flex": null,
            "flex_flow": null,
            "grid_area": null,
            "grid_auto_columns": null,
            "grid_auto_flow": null,
            "grid_auto_rows": null,
            "grid_column": null,
            "grid_gap": null,
            "grid_row": null,
            "grid_template_areas": null,
            "grid_template_columns": null,
            "grid_template_rows": null,
            "height": null,
            "justify_content": null,
            "justify_items": null,
            "left": null,
            "margin": null,
            "max_height": null,
            "max_width": null,
            "min_height": null,
            "min_width": null,
            "object_fit": null,
            "object_position": null,
            "order": null,
            "overflow": null,
            "overflow_x": null,
            "overflow_y": null,
            "padding": null,
            "right": null,
            "top": null,
            "visibility": null,
            "width": null
          }
        },
        "e7e9e26416344f80b87ba779eaa8e743": {
          "model_module": "@jupyter-widgets/controls",
          "model_name": "ProgressStyleModel",
          "model_module_version": "1.5.0",
          "state": {
            "_model_module": "@jupyter-widgets/controls",
            "_model_module_version": "1.5.0",
            "_model_name": "ProgressStyleModel",
            "_view_count": null,
            "_view_module": "@jupyter-widgets/base",
            "_view_module_version": "1.2.0",
            "_view_name": "StyleView",
            "bar_color": null,
            "description_width": ""
          }
        },
        "c4aaf611ad154b599a96fc0030923dfa": {
          "model_module": "@jupyter-widgets/base",
          "model_name": "LayoutModel",
          "model_module_version": "1.2.0",
          "state": {
            "_model_module": "@jupyter-widgets/base",
            "_model_module_version": "1.2.0",
            "_model_name": "LayoutModel",
            "_view_count": null,
            "_view_module": "@jupyter-widgets/base",
            "_view_module_version": "1.2.0",
            "_view_name": "LayoutView",
            "align_content": null,
            "align_items": null,
            "align_self": null,
            "border": null,
            "bottom": null,
            "display": null,
            "flex": null,
            "flex_flow": null,
            "grid_area": null,
            "grid_auto_columns": null,
            "grid_auto_flow": null,
            "grid_auto_rows": null,
            "grid_column": null,
            "grid_gap": null,
            "grid_row": null,
            "grid_template_areas": null,
            "grid_template_columns": null,
            "grid_template_rows": null,
            "height": null,
            "justify_content": null,
            "justify_items": null,
            "left": null,
            "margin": null,
            "max_height": null,
            "max_width": null,
            "min_height": null,
            "min_width": null,
            "object_fit": null,
            "object_position": null,
            "order": null,
            "overflow": null,
            "overflow_x": null,
            "overflow_y": null,
            "padding": null,
            "right": null,
            "top": null,
            "visibility": null,
            "width": null
          }
        },
        "130a6fd3b00a4014a8d3676641b529c8": {
          "model_module": "@jupyter-widgets/controls",
          "model_name": "DescriptionStyleModel",
          "model_module_version": "1.5.0",
          "state": {
            "_model_module": "@jupyter-widgets/controls",
            "_model_module_version": "1.5.0",
            "_model_name": "DescriptionStyleModel",
            "_view_count": null,
            "_view_module": "@jupyter-widgets/base",
            "_view_module_version": "1.2.0",
            "_view_name": "StyleView",
            "description_width": ""
          }
        }
      }
    }
  },
  "nbformat": 4,
  "nbformat_minor": 0
}