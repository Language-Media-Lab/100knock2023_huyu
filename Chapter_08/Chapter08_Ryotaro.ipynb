{
  "nbformat": 4,
  "nbformat_minor": 0,
  "metadata": {
    "colab": {
      "provenance": []
    },
    "kernelspec": {
      "name": "python3",
      "display_name": "Python 3"
    },
    "language_info": {
      "name": "python"
    }
  },
  "cells": [
    {
      "cell_type": "markdown",
      "source": [
        "# **第8章: ニューラルネット**"
      ],
      "metadata": {
        "id": "2ZwNoon0shwJ"
      }
    },
    {
      "cell_type": "markdown",
      "source": [
        "**setup**"
      ],
      "metadata": {
        "id": "5QphDugNslsu"
      }
    },
    {
      "cell_type": "code",
      "execution_count": null,
      "metadata": {
        "colab": {
          "base_uri": "https://localhost:8080/"
        },
        "id": "2CS6iwvCq3Iu",
        "outputId": "8e032855-1347-426c-ed18-daa538bea057"
      },
      "outputs": [
        {
          "output_type": "stream",
          "name": "stdout",
          "text": [
            "--2023-12-26 05:55:29--  https://archive.ics.uci.edu/ml/machine-learning-databases/00359/NewsAggregatorDataset.zip\n",
            "Resolving archive.ics.uci.edu (archive.ics.uci.edu)... 128.195.10.252\n",
            "Connecting to archive.ics.uci.edu (archive.ics.uci.edu)|128.195.10.252|:443... connected.\n",
            "HTTP request sent, awaiting response... 200 OK\n",
            "Length: unspecified\n",
            "Saving to: ‘NewsAggregatorDataset.zip’\n",
            "\n",
            "NewsAggregatorDatas     [     <=>            ]  27.87M  27.5MB/s    in 1.0s    \n",
            "\n",
            "2023-12-26 05:55:30 (27.5 MB/s) - ‘NewsAggregatorDataset.zip’ saved [29224203]\n",
            "\n",
            "Archive:  ./NewsAggregatorDataset.zip\n",
            "  inflating: 2pageSessions.csv       \n",
            "   creating: __MACOSX/\n",
            "  inflating: __MACOSX/._2pageSessions.csv  \n",
            "  inflating: newsCorpora.csv         \n",
            "  inflating: __MACOSX/._newsCorpora.csv  \n",
            "  inflating: readme.txt              \n",
            "  inflating: __MACOSX/._readme.txt   \n"
          ]
        }
      ],
      "source": [
        "#ファイルのダウンロード、解凍\n",
        "!wget https://archive.ics.uci.edu/ml/machine-learning-databases/00359/NewsAggregatorDataset.zip\n",
        "!unzip ./NewsAggregatorDataset.zip"
      ]
    },
    {
      "cell_type": "code",
      "source": [
        "from google.colab import drive\n",
        "drive.mount('/content/drive')"
      ],
      "metadata": {
        "colab": {
          "base_uri": "https://localhost:8080/"
        },
        "id": "Ws3DZu1csMoX",
        "outputId": "838b1e44-2628-4028-946b-f6ff0b2f0f61"
      },
      "execution_count": null,
      "outputs": [
        {
          "output_type": "stream",
          "name": "stdout",
          "text": [
            "Mounted at /content/drive\n"
          ]
        }
      ]
    },
    {
      "cell_type": "markdown",
      "source": [
        "**70. 単語ベクトルの和による特徴量**"
      ],
      "metadata": {
        "id": "8ZDmELR0sn9M"
      }
    },
    {
      "cell_type": "code",
      "source": [
        "# 単語ベクトルのロード\n",
        "from gensim.models import KeyedVectors\n",
        "\n",
        "file = 'drive/MyDrive/content/GoogleNews-vectors-negative300.bin.gz'\n",
        "model = KeyedVectors.load_word2vec_format(file, binary=True)\n",
        "\n",
        "# データのロード\n",
        "import pandas as pd\n",
        "import re\n",
        "import numpy as np\n",
        "\n",
        "# ファイル読み込み\n",
        "file = './newsCorpora.csv'\n",
        "data = pd.read_csv(file, encoding='utf-8', header=None, sep='\\t', names=['ID', 'TITLE', 'URL', 'PUBLISHER', 'CATEGORY', 'STORY', 'HOSTNAME', 'TIMESTAMP'])\n",
        "data = data.replace('\"', \"'\")\n",
        "# 特定のpublisherのみ抽出\n",
        "publishers = ['Reuters', 'Huffington Post', 'Businessweek', 'Contactmusic.com', 'Daily Mail']\n",
        "data = data.loc[data['PUBLISHER'].isin(publishers), ['TITLE', 'CATEGORY']].reset_index(drop=True)\n",
        "\n",
        "# 学習用、検証用、評価用に分割する\n",
        "from sklearn.model_selection import train_test_split\n",
        "\n",
        "train, valid_test = train_test_split(data, test_size=0.2, shuffle=True, random_state=64, stratify=data['CATEGORY'])\n",
        "valid, test = train_test_split(valid_test, test_size=0.5, shuffle=True, random_state=64, stratify=valid_test['CATEGORY'])\n",
        "\n",
        "train = train.reset_index(drop=True)\n",
        "valid = valid.reset_index(drop=True)\n",
        "test = test.reset_index(drop=True)\n",
        "\n",
        "# データ数の確認\n",
        "print('学習データ')\n",
        "print(train['CATEGORY'].value_counts())\n",
        "print('検証データ')\n",
        "print(valid['CATEGORY'].value_counts())\n",
        "print('評価データ')\n",
        "print(test['CATEGORY'].value_counts())\n",
        "\n",
        "import re\n",
        "from nltk import stem\n",
        "\n",
        "# データの結合\n",
        "df = pd.concat([train, valid, test], axis=0).reset_index(drop=True)\n",
        "\n",
        "# 前処理\n",
        "def preprocessing(text):\n",
        "    text_clean = re.sub(r'[\\\"\\'.,:;\\(\\)#\\|\\*\\+\\!\\?#$%&/\\]\\[\\{\\}]', '', text)\n",
        "    text_clean = re.sub('[0-9]+', '0', text_clean)\n",
        "    text_clean = re.sub('\\s-\\s', ' ', text_clean)\n",
        "    return text_clean\n",
        "\n",
        "df['TITLE'] = df['TITLE'].apply(preprocessing)"
      ],
      "metadata": {
        "colab": {
          "base_uri": "https://localhost:8080/"
        },
        "id": "kcIuDRIErzPc",
        "outputId": "108953e9-307b-4dfe-ad0d-b58cd0a3c6f4"
      },
      "execution_count": null,
      "outputs": [
        {
          "output_type": "stream",
          "name": "stdout",
          "text": [
            "学習データ\n",
            "b    4502\n",
            "e    4223\n",
            "t    1219\n",
            "m     728\n",
            "Name: CATEGORY, dtype: int64\n",
            "検証データ\n",
            "b    562\n",
            "e    528\n",
            "t    153\n",
            "m     91\n",
            "Name: CATEGORY, dtype: int64\n",
            "評価データ\n",
            "b    563\n",
            "e    528\n",
            "t    152\n",
            "m     91\n",
            "Name: CATEGORY, dtype: int64\n"
          ]
        }
      ]
    },
    {
      "cell_type": "code",
      "source": [
        "import numpy as np\n",
        "# 平均単語ベクトルの取得\n",
        "def w2v(text):\n",
        "    words = text.rstrip().split()\n",
        "    vec = [model[word] for word in words if word in model]\n",
        "    return np.array(sum(vec) / len(vec))\n",
        "\n",
        "vecs = np.array([])\n",
        "for text in df['TITLE']:\n",
        "    if len(vecs) == 0:\n",
        "        vecs = w2v(text)\n",
        "    else:\n",
        "        vecs = np.vstack([vecs, w2v(text)])\n",
        "\n",
        "# 特徴ベクトルのテンソル化\n",
        "import torch\n",
        "\n",
        "# 乱数のシードを設定\n",
        "torch.manual_seed(1234)\n",
        "np.random.seed(1234)\n",
        "\n",
        "X_train = torch.from_numpy(vecs[:len(train), :])\n",
        "X_valid = torch.from_numpy(vecs[len(train):len(train)+ len(valid), :])\n",
        "X_test = torch.from_numpy(vecs[len(train)+ len(valid):, :])\n",
        "print(X_train.size())\n",
        "print(X_train)"
      ],
      "metadata": {
        "colab": {
          "base_uri": "https://localhost:8080/"
        },
        "id": "QGgzB8HkseI1",
        "outputId": "7ae65aff-7061-41e8-99f8-3df153dba8de"
      },
      "execution_count": null,
      "outputs": [
        {
          "output_type": "stream",
          "name": "stdout",
          "text": [
            "torch.Size([10672, 300])\n",
            "tensor([[ 0.0368,  0.0300, -0.0738,  ..., -0.1523,  0.0419, -0.0774],\n",
            "        [ 0.0002, -0.0056, -0.0824,  ..., -0.0544,  0.0776, -0.0214],\n",
            "        [ 0.0266, -0.0166, -0.0877,  ..., -0.0522,  0.0517,  0.0093],\n",
            "        ...,\n",
            "        [-0.0291,  0.0529, -0.1453,  ...,  0.0494,  0.1548, -0.0910],\n",
            "        [-0.0269,  0.1204, -0.0289,  ..., -0.0062,  0.0739, -0.0327],\n",
            "        [ 0.0361,  0.1236,  0.0260,  ..., -0.0099, -0.0193,  0.0262]])\n"
          ]
        }
      ]
    },
    {
      "cell_type": "code",
      "source": [
        "# ターゲットのテンソル化\n",
        "category_dict = {'b': 0, 't': 1, 'e':2, 'm':3}\n",
        "Y_train = torch.from_numpy(train['CATEGORY'].map(category_dict).values)\n",
        "Y_valid = torch.from_numpy(valid['CATEGORY'].map(category_dict).values)\n",
        "Y_test = torch.from_numpy(test['CATEGORY'].map(category_dict).values)\n",
        "# 保存\n",
        "torch.save(X_train, './X_train.pt')\n",
        "torch.save(X_valid, './X_valid.pt')\n",
        "torch.save(X_test, './X_test.pt')\n",
        "torch.save(Y_train, './y_train.pt')\n",
        "torch.save(Y_valid, './y_valid.pt')\n",
        "torch.save(Y_test, './y_test.pt')"
      ],
      "metadata": {
        "id": "6vu87DMCswwY"
      },
      "execution_count": null,
      "outputs": []
    },
    {
      "cell_type": "markdown",
      "source": [
        "**71. 単層ニューラルネットワークによる予測**"
      ],
      "metadata": {
        "id": "Td4iQQPss0fN"
      }
    },
    {
      "cell_type": "code",
      "source": [
        "# モデルの構築\n",
        "from torch import nn\n",
        "\n",
        "class SLNet(nn.Module):\n",
        "    def __init__(self, input_size, output_size):\n",
        "        super().__init__()\n",
        "        self.fc = nn.Linear(input_size, output_size)\n",
        "\n",
        "    def forward(self, x):\n",
        "        logits = self.fc(x)\n",
        "        return logits\n",
        "\n",
        "model = SLNet(300, 4)\n",
        "print(model)"
      ],
      "metadata": {
        "colab": {
          "base_uri": "https://localhost:8080/"
        },
        "id": "5UlHKEkZs0AP",
        "outputId": "6819b6d9-3937-413a-b1c7-3fe89dc3e618"
      },
      "execution_count": null,
      "outputs": [
        {
          "output_type": "stream",
          "name": "stdout",
          "text": [
            "SLNet(\n",
            "  (fc): Linear(in_features=300, out_features=4, bias=True)\n",
            ")\n"
          ]
        }
      ]
    },
    {
      "cell_type": "code",
      "source": [
        "logits = model(X_train[0])\n",
        "y_hat_1 = nn.Softmax(dim=-1)(logits)\n",
        "print(logits)\n",
        "print(y_hat_1)"
      ],
      "metadata": {
        "colab": {
          "base_uri": "https://localhost:8080/"
        },
        "id": "I5VoC4ics5Uu",
        "outputId": "2ae2724a-1ebc-49d6-dabc-71119b2ea983"
      },
      "execution_count": null,
      "outputs": [
        {
          "output_type": "stream",
          "name": "stdout",
          "text": [
            "tensor([-0.0176,  0.0697,  0.0920,  0.0596], grad_fn=<ViewBackward0>)\n",
            "tensor([0.2332, 0.2545, 0.2603, 0.2520], grad_fn=<SoftmaxBackward0>)\n"
          ]
        }
      ]
    },
    {
      "cell_type": "code",
      "source": [
        "logits = model(X_train[:4])\n",
        "Y_hat = nn.Softmax(dim=1)(logits)\n",
        "print(logits)\n",
        "print(Y_hat)"
      ],
      "metadata": {
        "colab": {
          "base_uri": "https://localhost:8080/"
        },
        "id": "0SGk6xw_s6eW",
        "outputId": "5566d644-1aad-4d16-adc1-95cc8b6ca0bc"
      },
      "execution_count": null,
      "outputs": [
        {
          "output_type": "stream",
          "name": "stdout",
          "text": [
            "tensor([[-0.0176,  0.0697,  0.0920,  0.0596],\n",
            "        [-0.0210,  0.0704,  0.0814,  0.0636],\n",
            "        [ 0.0360,  0.1010,  0.0704,  0.0456],\n",
            "        [ 0.0362,  0.1266,  0.0222,  0.1343]], grad_fn=<AddmmBackward0>)\n",
            "tensor([[0.2332, 0.2545, 0.2603, 0.2520],\n",
            "        [0.2330, 0.2553, 0.2581, 0.2536],\n",
            "        [0.2432, 0.2595, 0.2517, 0.2455],\n",
            "        [0.2390, 0.2616, 0.2357, 0.2637]], grad_fn=<SoftmaxBackward0>)\n"
          ]
        }
      ]
    },
    {
      "cell_type": "markdown",
      "source": [
        "**72. 損失と勾配の計算**"
      ],
      "metadata": {
        "id": "C8MTuqKgswaM"
      }
    },
    {
      "cell_type": "code",
      "source": [
        "# x_1のロスを求める\n",
        "criterion = nn.CrossEntropyLoss()\n",
        "logits = model(X_train[0])\n",
        "loss = criterion(logits, Y_train[0])\n",
        "print(\"損失: \", loss.item())\n",
        "model.zero_grad()\n",
        "loss.backward()\n",
        "print(\"勾配: \")\n",
        "print(model.fc.weight.grad)"
      ],
      "metadata": {
        "colab": {
          "base_uri": "https://localhost:8080/"
        },
        "id": "lTmmrfuGtH1k",
        "outputId": "0c5db1da-1178-433a-e09e-b3bbbe42768d"
      },
      "execution_count": null,
      "outputs": [
        {
          "output_type": "stream",
          "name": "stdout",
          "text": [
            "損失:  1.3460214138031006\n",
            "勾配: \n",
            "tensor([[ 0.0086,  0.0070, -0.0172,  ..., -0.0355,  0.0098, -0.0181],\n",
            "        [ 0.0094,  0.0076, -0.0188,  ..., -0.0388,  0.0107, -0.0197],\n",
            "        [-0.0273, -0.0222,  0.0546,  ...,  0.1127, -0.0310,  0.0573],\n",
            "        [ 0.0093,  0.0076, -0.0186,  ..., -0.0384,  0.0106, -0.0195]])\n"
          ]
        }
      ]
    },
    {
      "cell_type": "code",
      "source": [
        "# x_1~x_4のロスを求める\n",
        "logits = model(X_train[:4])\n",
        "loss = criterion(logits, Y_train[:4])\n",
        "print(\"損失: \", loss.item())\n",
        "model.zero_grad()\n",
        "loss.backward()\n",
        "print(\"勾配: \")\n",
        "print(model.fc.weight.grad)"
      ],
      "metadata": {
        "colab": {
          "base_uri": "https://localhost:8080/"
        },
        "id": "huHCBqE6tIRd",
        "outputId": "a490c2ae-0364-4aae-aaf2-6f9fc6951404"
      },
      "execution_count": null,
      "outputs": [
        {
          "output_type": "stream",
          "name": "stdout",
          "text": [
            "損失:  1.3807432651519775\n",
            "勾配: \n",
            "tensor([[ 5.0444e-03,  3.9170e-03,  7.1611e-03,  ..., -2.0513e-03,\n",
            "         -4.2177e-03,  5.3509e-04],\n",
            "        [ 3.9538e-05, -6.0439e-03, -1.8717e-02,  ..., -1.5257e-02,\n",
            "         -4.6948e-03, -6.8699e-03],\n",
            "        [-1.0491e-02, -7.2170e-04,  2.5712e-02,  ...,  3.4016e-02,\n",
            "         -7.4130e-03,  1.1578e-02],\n",
            "        [ 5.4069e-03,  2.8486e-03, -1.4156e-02,  ..., -1.6707e-02,\n",
            "          1.6325e-02, -5.2435e-03]])\n"
          ]
        }
      ]
    },
    {
      "cell_type": "markdown",
      "source": [
        "**73. 確率的勾配降下法による学習**"
      ],
      "metadata": {
        "id": "kycFr_h0tLFt"
      }
    },
    {
      "cell_type": "code",
      "source": [
        "# データセットを作成する\n",
        "import torch.utils.data as data\n",
        "\n",
        "class NewsDataset(data.Dataset):\n",
        "    \"\"\"\n",
        "    newsのDatasetクラス\n",
        "\n",
        "    Attributes\n",
        "    ----------------------------\n",
        "    X : テンソル\n",
        "        単語ベクトルの平均をまとめたテンソル\n",
        "    y : テンソル\n",
        "        カテゴリをラベル化したテンソル\n",
        "    phase : 'train' or 'val'\n",
        "        学習か訓練かを設定する\n",
        "    \"\"\"\n",
        "    def __init__(self, X, y, phase='train'):\n",
        "        self.X = X\n",
        "        self.y = y\n",
        "        self.phase = phase\n",
        "\n",
        "    def __len__(self):\n",
        "        \"\"\"全データサイズを返す\"\"\"\n",
        "        return len(self.y)\n",
        "\n",
        "    def __getitem__(self, idx):\n",
        "        \"\"\"idxに対応するテンソル形式のデータとラベルを取得\"\"\"\n",
        "        return self.X[idx], self.y[idx]\n",
        "\n",
        "train_dataset = NewsDataset(X_train, Y_train, phase='train')\n",
        "valid_dataset = NewsDataset(X_valid, Y_valid, phase='val')\n",
        "test_dataset = NewsDataset(X_test, Y_test, phase='val')\n",
        "\n",
        "# 動作確認\n",
        "idx = 0\n",
        "print(train_dataset.__getitem__(idx)[0].size())\n",
        "print(train_dataset.__getitem__(idx)[1])\n",
        "print(valid_dataset.__getitem__(idx)[0].size())\n",
        "print(valid_dataset.__getitem__(idx)[1])\n",
        "print(test_dataset.__getitem__(idx)[0].size())\n",
        "print(test_dataset.__getitem__(idx)[1])"
      ],
      "metadata": {
        "colab": {
          "base_uri": "https://localhost:8080/"
        },
        "id": "huR8t1h3tLyS",
        "outputId": "7733bcb3-c049-4649-a2e2-43f8a69d877a"
      },
      "execution_count": null,
      "outputs": [
        {
          "output_type": "stream",
          "name": "stdout",
          "text": [
            "torch.Size([300])\n",
            "tensor(2)\n",
            "torch.Size([300])\n",
            "tensor(3)\n",
            "torch.Size([300])\n",
            "tensor(2)\n"
          ]
        }
      ]
    },
    {
      "cell_type": "code",
      "source": [
        "# DataLoaderを作成\n",
        "batch_size = 1\n",
        "\n",
        "train_dataloader = data.DataLoader(\n",
        "            train_dataset, batch_size=batch_size, shuffle=True)\n",
        "valid_dataloader = data.DataLoader(\n",
        "            valid_dataset, batch_size=len(valid_dataset), shuffle=False)\n",
        "test_dataloader = data.DataLoader(\n",
        "            test_dataset, batch_size=len(test_dataset), shuffle=False)\n",
        "\n",
        "dataloaders_dict = {'train': train_dataloader,\n",
        "                    'val': valid_dataloader,\n",
        "                    'test': test_dataloader,\n",
        "                   }\n",
        "\n",
        "# 動作確認\n",
        "batch_iter = iter(dataloaders_dict['train'])\n",
        "inputs, labels = next(batch_iter)\n",
        "print(inputs.size())\n",
        "print(labels)"
      ],
      "metadata": {
        "colab": {
          "base_uri": "https://localhost:8080/"
        },
        "id": "DlI6mRuptR0s",
        "outputId": "a99237de-d81c-4ea6-ae4f-d21c6aaf194a"
      },
      "execution_count": null,
      "outputs": [
        {
          "output_type": "stream",
          "name": "stdout",
          "text": [
            "torch.Size([1, 300])\n",
            "tensor([2])\n"
          ]
        }
      ]
    },
    {
      "cell_type": "code",
      "source": [
        "from tqdm import tqdm\n",
        "# 学習\n",
        "\n",
        "# モデルの定義\n",
        "net = SLNet(300, 4)\n",
        "net.train()\n",
        "\n",
        "# 損失関数の定義\n",
        "criterion = nn.CrossEntropyLoss()\n",
        "\n",
        "# 最適化手法の定義\n",
        "optimizer = torch.optim.SGD(net.parameters(), lr=0.01, momentum=0.9)\n",
        "\n",
        "# 学習用の関数を定義\n",
        "def train_model(net, dataloaders_dict, criterion, optimizer, num_epochs):\n",
        "\n",
        "    # epochのループ\n",
        "    for epoch in range(num_epochs):\n",
        "        print('Epoch {} / {}'.format(epoch + 1, num_epochs))\n",
        "        print('--------------------------------------------')\n",
        "\n",
        "        # epochごとの学習と検証のループ\n",
        "        for phase in ['train', 'val']:\n",
        "            if phase == 'train':\n",
        "                net.train() # 訓練モード\n",
        "            else:\n",
        "                net.eval() # 検証モード\n",
        "\n",
        "            epoch_loss = 0.0 # epochの損失和\n",
        "            epoch_corrects = 0 # epochの正解数\n",
        "\n",
        "            # データローダーからミニバッチを取り出すループ\n",
        "            for inputs, labels in tqdm(dataloaders_dict[phase]):\n",
        "                optimizer.zero_grad() # optimizerを初期化\n",
        "\n",
        "                # 順伝播計算(forward)\n",
        "                with torch.set_grad_enabled(phase == 'train'):\n",
        "                    outputs = net(inputs)\n",
        "                    loss = criterion(outputs, labels) # 損失を計算\n",
        "                    _, preds = torch.max(outputs, 1) # ラベルを予想\n",
        "\n",
        "                    # 訓練時は逆伝播\n",
        "                    if phase == 'train':\n",
        "                        loss.backward()\n",
        "                        optimizer.step()\n",
        "\n",
        "                    # イテレーション結果の計算\n",
        "                    # lossの合計を更新\n",
        "                    epoch_loss += loss.item() * inputs.size(0)\n",
        "                    # 正解数の合計を更新\n",
        "                    epoch_corrects += torch.sum(preds == labels.data)\n",
        "\n",
        "            # epochごとのlossと正解率の表示\n",
        "            epoch_loss = epoch_loss / len(dataloaders_dict[phase].dataset)\n",
        "            epoch_acc = epoch_corrects.double() / len(dataloaders_dict[phase].dataset)\n",
        "\n",
        "            print('{} Loss: {:.4f}, Acc: {:.4f}'.format(phase, epoch_loss, epoch_acc))\n",
        "\n",
        "\n",
        "# 学習を実行する\n",
        "num_epochs = 10\n",
        "train_model(net, dataloaders_dict, criterion, optimizer, num_epochs=num_epochs)"
      ],
      "metadata": {
        "colab": {
          "base_uri": "https://localhost:8080/"
        },
        "id": "hRQ13kdRtUKR",
        "outputId": "44430c2b-8cad-4585-a850-83a1600a550a"
      },
      "execution_count": null,
      "outputs": [
        {
          "output_type": "stream",
          "name": "stdout",
          "text": [
            "Epoch 1 / 10\n",
            "--------------------------------------------\n"
          ]
        },
        {
          "output_type": "stream",
          "name": "stderr",
          "text": [
            "100%|██████████| 10672/10672 [00:10<00:00, 1048.87it/s]\n"
          ]
        },
        {
          "output_type": "stream",
          "name": "stdout",
          "text": [
            "train Loss: 0.4169, Acc: 0.8569\n"
          ]
        },
        {
          "output_type": "stream",
          "name": "stderr",
          "text": [
            "100%|██████████| 1/1 [00:00<00:00, 55.36it/s]\n"
          ]
        },
        {
          "output_type": "stream",
          "name": "stdout",
          "text": [
            "val Loss: 0.3204, Acc: 0.8936\n",
            "Epoch 2 / 10\n",
            "--------------------------------------------\n"
          ]
        },
        {
          "output_type": "stream",
          "name": "stderr",
          "text": [
            "100%|██████████| 10672/10672 [00:11<00:00, 970.13it/s] \n"
          ]
        },
        {
          "output_type": "stream",
          "name": "stdout",
          "text": [
            "train Loss: 0.3108, Acc: 0.8925\n"
          ]
        },
        {
          "output_type": "stream",
          "name": "stderr",
          "text": [
            "100%|██████████| 1/1 [00:00<00:00, 50.68it/s]\n"
          ]
        },
        {
          "output_type": "stream",
          "name": "stdout",
          "text": [
            "val Loss: 0.2800, Acc: 0.9055\n",
            "Epoch 3 / 10\n",
            "--------------------------------------------\n"
          ]
        },
        {
          "output_type": "stream",
          "name": "stderr",
          "text": [
            "100%|██████████| 10672/10672 [00:12<00:00, 882.21it/s]\n"
          ]
        },
        {
          "output_type": "stream",
          "name": "stdout",
          "text": [
            "train Loss: 0.2897, Acc: 0.8996\n"
          ]
        },
        {
          "output_type": "stream",
          "name": "stderr",
          "text": [
            "100%|██████████| 1/1 [00:00<00:00, 19.24it/s]\n"
          ]
        },
        {
          "output_type": "stream",
          "name": "stdout",
          "text": [
            "val Loss: 0.2809, Acc: 0.9063\n",
            "Epoch 4 / 10\n",
            "--------------------------------------------\n"
          ]
        },
        {
          "output_type": "stream",
          "name": "stderr",
          "text": [
            "100%|██████████| 10672/10672 [00:09<00:00, 1112.44it/s]\n"
          ]
        },
        {
          "output_type": "stream",
          "name": "stdout",
          "text": [
            "train Loss: 0.2794, Acc: 0.9027\n"
          ]
        },
        {
          "output_type": "stream",
          "name": "stderr",
          "text": [
            "100%|██████████| 1/1 [00:00<00:00, 35.33it/s]\n"
          ]
        },
        {
          "output_type": "stream",
          "name": "stdout",
          "text": [
            "val Loss: 0.2728, Acc: 0.9123\n",
            "Epoch 5 / 10\n",
            "--------------------------------------------\n"
          ]
        },
        {
          "output_type": "stream",
          "name": "stderr",
          "text": [
            "100%|██████████| 10672/10672 [00:10<00:00, 1009.24it/s]\n"
          ]
        },
        {
          "output_type": "stream",
          "name": "stdout",
          "text": [
            "train Loss: 0.2718, Acc: 0.9055\n"
          ]
        },
        {
          "output_type": "stream",
          "name": "stderr",
          "text": [
            "100%|██████████| 1/1 [00:00<00:00, 59.20it/s]\n"
          ]
        },
        {
          "output_type": "stream",
          "name": "stdout",
          "text": [
            "val Loss: 0.2681, Acc: 0.9100\n",
            "Epoch 6 / 10\n",
            "--------------------------------------------\n"
          ]
        },
        {
          "output_type": "stream",
          "name": "stderr",
          "text": [
            "100%|██████████| 10672/10672 [00:07<00:00, 1349.34it/s]\n"
          ]
        },
        {
          "output_type": "stream",
          "name": "stdout",
          "text": [
            "train Loss: 0.2642, Acc: 0.9096\n"
          ]
        },
        {
          "output_type": "stream",
          "name": "stderr",
          "text": [
            "100%|██████████| 1/1 [00:00<00:00, 50.16it/s]\n"
          ]
        },
        {
          "output_type": "stream",
          "name": "stdout",
          "text": [
            "val Loss: 0.2768, Acc: 0.9078\n",
            "Epoch 7 / 10\n",
            "--------------------------------------------\n"
          ]
        },
        {
          "output_type": "stream",
          "name": "stderr",
          "text": [
            "100%|██████████| 10672/10672 [00:10<00:00, 1057.51it/s]\n"
          ]
        },
        {
          "output_type": "stream",
          "name": "stdout",
          "text": [
            "train Loss: 0.2600, Acc: 0.9117\n"
          ]
        },
        {
          "output_type": "stream",
          "name": "stderr",
          "text": [
            "100%|██████████| 1/1 [00:00<00:00, 49.58it/s]\n"
          ]
        },
        {
          "output_type": "stream",
          "name": "stdout",
          "text": [
            "val Loss: 0.2788, Acc: 0.9055\n",
            "Epoch 8 / 10\n",
            "--------------------------------------------\n"
          ]
        },
        {
          "output_type": "stream",
          "name": "stderr",
          "text": [
            "100%|██████████| 10672/10672 [00:10<00:00, 1060.54it/s]\n"
          ]
        },
        {
          "output_type": "stream",
          "name": "stdout",
          "text": [
            "train Loss: 0.2576, Acc: 0.9116\n"
          ]
        },
        {
          "output_type": "stream",
          "name": "stderr",
          "text": [
            "100%|██████████| 1/1 [00:00<00:00, 30.41it/s]\n"
          ]
        },
        {
          "output_type": "stream",
          "name": "stdout",
          "text": [
            "val Loss: 0.2700, Acc: 0.9085\n",
            "Epoch 9 / 10\n",
            "--------------------------------------------\n"
          ]
        },
        {
          "output_type": "stream",
          "name": "stderr",
          "text": [
            "100%|██████████| 10672/10672 [00:09<00:00, 1171.90it/s]\n"
          ]
        },
        {
          "output_type": "stream",
          "name": "stdout",
          "text": [
            "train Loss: 0.2551, Acc: 0.9125\n"
          ]
        },
        {
          "output_type": "stream",
          "name": "stderr",
          "text": [
            "100%|██████████| 1/1 [00:00<00:00, 47.42it/s]\n"
          ]
        },
        {
          "output_type": "stream",
          "name": "stdout",
          "text": [
            "val Loss: 0.2748, Acc: 0.9160\n",
            "Epoch 10 / 10\n",
            "--------------------------------------------\n"
          ]
        },
        {
          "output_type": "stream",
          "name": "stderr",
          "text": [
            "100%|██████████| 10672/10672 [00:11<00:00, 924.36it/s] \n"
          ]
        },
        {
          "output_type": "stream",
          "name": "stdout",
          "text": [
            "train Loss: 0.2530, Acc: 0.9136\n"
          ]
        },
        {
          "output_type": "stream",
          "name": "stderr",
          "text": [
            "100%|██████████| 1/1 [00:00<00:00, 51.29it/s]"
          ]
        },
        {
          "output_type": "stream",
          "name": "stdout",
          "text": [
            "val Loss: 0.2691, Acc: 0.9115\n"
          ]
        },
        {
          "output_type": "stream",
          "name": "stderr",
          "text": [
            "\n"
          ]
        }
      ]
    },
    {
      "cell_type": "markdown",
      "source": [
        "**74. 正解率の計測**"
      ],
      "metadata": {
        "id": "YrP5Q8cOtOqa"
      }
    },
    {
      "cell_type": "code",
      "source": [
        "def calc_acc(net, dataloader):\n",
        "    net.eval()\n",
        "    corrects = 0\n",
        "    with torch.no_grad():\n",
        "        for inputs, labels in dataloader:\n",
        "            outputs = net(inputs)\n",
        "            _, preds = torch.max(outputs, 1) # ラベルを予想\n",
        "            corrects += torch.sum(preds == labels.data)\n",
        "    return corrects / len(dataloader.dataset)\n",
        "\n",
        "acc_train = calc_acc(net, train_dataloader)\n",
        "acc_valid = calc_acc(net, valid_dataloader)\n",
        "acc_test = calc_acc(net, test_dataloader)\n",
        "print('学習データの正解率: {:.4f}'.format(acc_train))\n",
        "print('検証データの正解率: {:.4f}'.format(acc_valid))\n",
        "print('テストデータの正解率: {:.4f}'.format(acc_test))"
      ],
      "metadata": {
        "colab": {
          "base_uri": "https://localhost:8080/"
        },
        "id": "7rHj8g2atRem",
        "outputId": "15b539b9-9451-468c-8cb9-7ae66daf07d0"
      },
      "execution_count": null,
      "outputs": [
        {
          "output_type": "stream",
          "name": "stdout",
          "text": [
            "学習データの正解率: 0.9198\n",
            "検証データの正解率: 0.9115\n",
            "テストデータの正解率: 0.8958\n"
          ]
        }
      ]
    },
    {
      "cell_type": "markdown",
      "source": [
        "**75. 損失と正解率のプロット** ・ **76. チェックポイント**"
      ],
      "metadata": {
        "id": "fMEosfC9taYA"
      }
    },
    {
      "cell_type": "code",
      "source": [
        "# 学習用の関数を定義\n",
        "def train_model(net, dataloaders_dict, criterion, optimizer, num_epochs):\n",
        "    train_loss = []\n",
        "    train_acc = []\n",
        "    valid_loss = []\n",
        "    valid_acc = []\n",
        "    # epochのループ\n",
        "    for epoch in range(num_epochs):\n",
        "        print('Epoch {} / {}'.format(epoch + 1, num_epochs))\n",
        "        print('--------------------------------------------')\n",
        "\n",
        "        # epochごとの学習と検証のループ\n",
        "        for phase in ['train', 'val']:\n",
        "            if phase == 'train':\n",
        "                net.train() # 訓練モード\n",
        "            else:\n",
        "                net.eval() # 検証モード\n",
        "\n",
        "            epoch_loss = 0.0 # epochの損失和\n",
        "            epoch_corrects = 0 # epochの正解数\n",
        "\n",
        "            # データローダーからミニバッチを取り出すループ\n",
        "            for inputs, labels in tqdm(dataloaders_dict[phase]):\n",
        "                optimizer.zero_grad() # optimizerを初期化\n",
        "\n",
        "                # 順伝播計算(forward)\n",
        "                with torch.set_grad_enabled(phase == 'train'):\n",
        "                    outputs = net(inputs)\n",
        "                    loss = criterion(outputs, labels) # 損失を計算\n",
        "                    _, preds = torch.max(outputs, 1) # ラベルを予想\n",
        "\n",
        "                    # 訓練時は逆伝播\n",
        "                    if phase == 'train':\n",
        "                        loss.backward()\n",
        "                        optimizer.step()\n",
        "\n",
        "                    # イテレーション結果の計算\n",
        "                    # lossの合計を更新\n",
        "                    epoch_loss += loss.item() * inputs.size(0)\n",
        "                    # 正解数の合計を更新\n",
        "                    epoch_corrects += torch.sum(preds == labels.data)\n",
        "\n",
        "            # epochごとのlossと正解率の表示\n",
        "            epoch_loss = epoch_loss / len(dataloaders_dict[phase].dataset)\n",
        "            epoch_acc = epoch_corrects.double() / len(dataloaders_dict[phase].dataset)\n",
        "            if phase == 'train':\n",
        "                train_loss.append(epoch_loss)\n",
        "                train_acc.append(epoch_acc)\n",
        "            else:\n",
        "                valid_loss.append(epoch_loss)\n",
        "                valid_acc.append(epoch_acc)\n",
        "\n",
        "            print('{} Loss: {:.4f}, Acc: {:.4f}'.format(phase, epoch_loss, epoch_acc))\n",
        "\n",
        "        # チェックポイントの保存\n",
        "        torch.save({'epoch': epoch,\n",
        "                    'model_state_dict': model.state_dict(),\n",
        "                    'optimizer_state_dict': optimizer.state_dict()\n",
        "                   },\n",
        "                   './checkpoint{}.pt'.format(epoch + 1))\n",
        "    return train_loss, train_acc, valid_loss, valid_acc\n",
        "\n",
        "# 学習を実行する\n",
        "\n",
        "# モデルの定義\n",
        "net = SLNet(300, 4)\n",
        "net.train()\n",
        "\n",
        "# 損失関数の定義\n",
        "criterion = nn.CrossEntropyLoss()\n",
        "\n",
        "# 最適化手法の定義\n",
        "optimizer = torch.optim.SGD(net.parameters(), lr=0.01, momentum=0.9)\n",
        "\n",
        "num_epochs = 10\n",
        "train_loss, train_acc, valid_loss, valid_acc = train_model(net,\n",
        "            dataloaders_dict, criterion, optimizer, num_epochs=num_epochs)"
      ],
      "metadata": {
        "colab": {
          "base_uri": "https://localhost:8080/"
        },
        "id": "sP8KW7BLtdJY",
        "outputId": "8aed1f01-3ae3-4368-e7b2-ae9678db785b"
      },
      "execution_count": null,
      "outputs": [
        {
          "output_type": "stream",
          "name": "stdout",
          "text": [
            "Epoch 1 / 10\n",
            "--------------------------------------------\n"
          ]
        },
        {
          "output_type": "stream",
          "name": "stderr",
          "text": [
            "100%|██████████| 10672/10672 [00:09<00:00, 1149.84it/s]\n"
          ]
        },
        {
          "output_type": "stream",
          "name": "stdout",
          "text": [
            "train Loss: 0.4170, Acc: 0.8580\n"
          ]
        },
        {
          "output_type": "stream",
          "name": "stderr",
          "text": [
            "100%|██████████| 1/1 [00:00<00:00, 48.42it/s]\n"
          ]
        },
        {
          "output_type": "stream",
          "name": "stdout",
          "text": [
            "val Loss: 0.3112, Acc: 0.8988\n",
            "Epoch 2 / 10\n",
            "--------------------------------------------\n"
          ]
        },
        {
          "output_type": "stream",
          "name": "stderr",
          "text": [
            "100%|██████████| 10672/10672 [00:08<00:00, 1294.80it/s]\n"
          ]
        },
        {
          "output_type": "stream",
          "name": "stdout",
          "text": [
            "train Loss: 0.3098, Acc: 0.8943\n"
          ]
        },
        {
          "output_type": "stream",
          "name": "stderr",
          "text": [
            "100%|██████████| 1/1 [00:00<00:00, 69.47it/s]\n"
          ]
        },
        {
          "output_type": "stream",
          "name": "stdout",
          "text": [
            "val Loss: 0.2807, Acc: 0.9085\n",
            "Epoch 3 / 10\n",
            "--------------------------------------------\n"
          ]
        },
        {
          "output_type": "stream",
          "name": "stderr",
          "text": [
            "100%|██████████| 10672/10672 [00:10<00:00, 1014.78it/s]\n"
          ]
        },
        {
          "output_type": "stream",
          "name": "stdout",
          "text": [
            "train Loss: 0.2902, Acc: 0.8979\n"
          ]
        },
        {
          "output_type": "stream",
          "name": "stderr",
          "text": [
            "100%|██████████| 1/1 [00:00<00:00, 70.71it/s]\n"
          ]
        },
        {
          "output_type": "stream",
          "name": "stdout",
          "text": [
            "val Loss: 0.2864, Acc: 0.9003\n",
            "Epoch 4 / 10\n",
            "--------------------------------------------\n"
          ]
        },
        {
          "output_type": "stream",
          "name": "stderr",
          "text": [
            "100%|██████████| 10672/10672 [00:08<00:00, 1291.44it/s]\n"
          ]
        },
        {
          "output_type": "stream",
          "name": "stdout",
          "text": [
            "train Loss: 0.2784, Acc: 0.9047\n"
          ]
        },
        {
          "output_type": "stream",
          "name": "stderr",
          "text": [
            "100%|██████████| 1/1 [00:00<00:00, 40.40it/s]\n"
          ]
        },
        {
          "output_type": "stream",
          "name": "stdout",
          "text": [
            "val Loss: 0.2801, Acc: 0.9078\n",
            "Epoch 5 / 10\n",
            "--------------------------------------------\n"
          ]
        },
        {
          "output_type": "stream",
          "name": "stderr",
          "text": [
            "100%|██████████| 10672/10672 [00:12<00:00, 862.62it/s]\n"
          ]
        },
        {
          "output_type": "stream",
          "name": "stdout",
          "text": [
            "train Loss: 0.2696, Acc: 0.9048\n"
          ]
        },
        {
          "output_type": "stream",
          "name": "stderr",
          "text": [
            "100%|██████████| 1/1 [00:00<00:00, 50.94it/s]\n"
          ]
        },
        {
          "output_type": "stream",
          "name": "stdout",
          "text": [
            "val Loss: 0.2740, Acc: 0.9078\n",
            "Epoch 6 / 10\n",
            "--------------------------------------------\n"
          ]
        },
        {
          "output_type": "stream",
          "name": "stderr",
          "text": [
            "100%|██████████| 10672/10672 [00:12<00:00, 886.21it/s] \n"
          ]
        },
        {
          "output_type": "stream",
          "name": "stdout",
          "text": [
            "train Loss: 0.2650, Acc: 0.9076\n"
          ]
        },
        {
          "output_type": "stream",
          "name": "stderr",
          "text": [
            "100%|██████████| 1/1 [00:00<00:00, 58.85it/s]\n"
          ]
        },
        {
          "output_type": "stream",
          "name": "stdout",
          "text": [
            "val Loss: 0.2704, Acc: 0.9123\n",
            "Epoch 7 / 10\n",
            "--------------------------------------------\n"
          ]
        },
        {
          "output_type": "stream",
          "name": "stderr",
          "text": [
            "100%|██████████| 10672/10672 [00:08<00:00, 1212.56it/s]\n"
          ]
        },
        {
          "output_type": "stream",
          "name": "stdout",
          "text": [
            "train Loss: 0.2611, Acc: 0.9100\n"
          ]
        },
        {
          "output_type": "stream",
          "name": "stderr",
          "text": [
            "100%|██████████| 1/1 [00:00<00:00, 40.15it/s]\n"
          ]
        },
        {
          "output_type": "stream",
          "name": "stdout",
          "text": [
            "val Loss: 0.2705, Acc: 0.9100\n",
            "Epoch 8 / 10\n",
            "--------------------------------------------\n"
          ]
        },
        {
          "output_type": "stream",
          "name": "stderr",
          "text": [
            "100%|██████████| 10672/10672 [00:09<00:00, 1122.43it/s]\n"
          ]
        },
        {
          "output_type": "stream",
          "name": "stdout",
          "text": [
            "train Loss: 0.2590, Acc: 0.9111\n"
          ]
        },
        {
          "output_type": "stream",
          "name": "stderr",
          "text": [
            "100%|██████████| 1/1 [00:00<00:00, 58.60it/s]\n"
          ]
        },
        {
          "output_type": "stream",
          "name": "stdout",
          "text": [
            "val Loss: 0.2827, Acc: 0.9018\n",
            "Epoch 9 / 10\n",
            "--------------------------------------------\n"
          ]
        },
        {
          "output_type": "stream",
          "name": "stderr",
          "text": [
            "100%|██████████| 10672/10672 [00:10<00:00, 1036.64it/s]\n"
          ]
        },
        {
          "output_type": "stream",
          "name": "stdout",
          "text": [
            "train Loss: 0.2549, Acc: 0.9116\n"
          ]
        },
        {
          "output_type": "stream",
          "name": "stderr",
          "text": [
            "100%|██████████| 1/1 [00:00<00:00,  3.02it/s]\n"
          ]
        },
        {
          "output_type": "stream",
          "name": "stdout",
          "text": [
            "val Loss: 0.2690, Acc: 0.9100\n",
            "Epoch 10 / 10\n",
            "--------------------------------------------\n"
          ]
        },
        {
          "output_type": "stream",
          "name": "stderr",
          "text": [
            "100%|██████████| 10672/10672 [00:09<00:00, 1074.48it/s]\n"
          ]
        },
        {
          "output_type": "stream",
          "name": "stdout",
          "text": [
            "train Loss: 0.2520, Acc: 0.9126\n"
          ]
        },
        {
          "output_type": "stream",
          "name": "stderr",
          "text": [
            "100%|██████████| 1/1 [00:00<00:00, 38.32it/s]"
          ]
        },
        {
          "output_type": "stream",
          "name": "stdout",
          "text": [
            "val Loss: 0.2738, Acc: 0.9085\n"
          ]
        },
        {
          "output_type": "stream",
          "name": "stderr",
          "text": [
            "\n"
          ]
        }
      ]
    },
    {
      "cell_type": "code",
      "source": [
        "import matplotlib.pyplot as plt\n",
        "\n",
        "fig, ax = plt.subplots(1,2, figsize=(10, 5))\n",
        "epochs = np.arange(num_epochs)\n",
        "ax[0].plot(epochs, train_loss, label='train')\n",
        "ax[0].plot(epochs, valid_loss, label='valid')\n",
        "ax[0].set_title('loss')\n",
        "ax[0].set_xlabel('epoch')\n",
        "ax[0].set_ylabel('loss')\n",
        "ax[1].plot(epochs, train_acc, label='train')\n",
        "ax[1].plot(epochs, valid_acc, label='valid')\n",
        "ax[1].set_title('acc')\n",
        "ax[1].set_xlabel('epoch')\n",
        "ax[1].set_ylabel('acc')\n",
        "ax[0].legend(loc='best')\n",
        "ax[1].legend(loc='best')\n",
        "plt.tight_layout()\n",
        "plt.savefig('fig74.png')"
      ],
      "metadata": {
        "colab": {
          "base_uri": "https://localhost:8080/",
          "height": 387
        },
        "id": "rHyVQ-7ethI7",
        "outputId": "229be264-cf5f-40f6-d4a2-c5f93efc7e86"
      },
      "execution_count": null,
      "outputs": [
        {
          "output_type": "display_data",
          "data": {
            "text/plain": [
              "<Figure size 1000x500 with 2 Axes>"
            ],
            "image/png": "[encoded data removed]"
          },
          "metadata": {}
        }
      ]
    },
    {
      "cell_type": "markdown",
      "source": [
        "**77. ミニバッチ化**"
      ],
      "metadata": {
        "id": "9k6nvOgatlnq"
      }
    },
    {
      "cell_type": "code",
      "source": [
        "import time\n",
        "\n",
        "# 学習用の関数を定義\n",
        "def train_model(net, dataloaders_dict, criterion, optimizer, num_epochs):\n",
        "    train_loss = []\n",
        "    train_acc = []\n",
        "    valid_loss = []\n",
        "    valid_acc = []\n",
        "    # epochのループ\n",
        "    for epoch in range(num_epochs):\n",
        "        # 開始時刻の記録\n",
        "        start = time.time()\n",
        "        print('Epoch {} / {}'.format(epoch + 1, num_epochs))\n",
        "        print('--------------------------------------------')\n",
        "\n",
        "        # epochごとの学習と検証のループ\n",
        "        for phase in ['train', 'val']:\n",
        "            if phase == 'train':\n",
        "                net.train() # 訓練モード\n",
        "            else:\n",
        "                net.eval() # 検証モード\n",
        "\n",
        "            epoch_loss = 0.0 # epochの損失和\n",
        "            epoch_corrects = 0 # epochの正解数\n",
        "\n",
        "            # データローダーからミニバッチを取り出すループ\n",
        "            for inputs, labels in tqdm(dataloaders_dict[phase]):\n",
        "                optimizer.zero_grad() # optimizerを初期化\n",
        "\n",
        "                # 順伝播計算(forward)\n",
        "                with torch.set_grad_enabled(phase == 'train'):\n",
        "                    outputs = net(inputs)\n",
        "                    loss = criterion(outputs, labels) # 損失を計算\n",
        "                    _, preds = torch.max(outputs, 1) # ラベルを予想\n",
        "\n",
        "                    # 訓練時は逆伝播\n",
        "                    if phase == 'train':\n",
        "                        loss.backward()\n",
        "                        optimizer.step()\n",
        "\n",
        "                    # イテレーション結果の計算\n",
        "                    # lossの合計を更新\n",
        "                    epoch_loss += loss.item() * inputs.size(0)\n",
        "                    # 正解数の合計を更新\n",
        "                    epoch_corrects += torch.sum(preds == labels.data)\n",
        "\n",
        "            # epochごとのlossと正解率の表示\n",
        "            epoch_loss = epoch_loss / len(dataloaders_dict[phase].dataset)\n",
        "            epoch_acc = epoch_corrects.double() / len(dataloaders_dict[phase].dataset)\n",
        "            if phase == 'train':\n",
        "                train_loss.append(epoch_loss)\n",
        "                train_acc.append(epoch_acc)\n",
        "            else:\n",
        "                valid_loss.append(epoch_loss)\n",
        "                valid_acc.append(epoch_acc)\n",
        "\n",
        "            print('{} Loss: {:.4f}, Acc: {:.4f}'.format(phase, epoch_loss, epoch_acc))\n",
        "        # 修了時刻の記録\n",
        "        end = time.time()\n",
        "        calc_time = end - start\n",
        "        print('batch_size {} calc_time: {:.4f} sec'.format(batch_size, calc_time))\n",
        "    return train_loss, train_acc, valid_loss, valid_acc, calc_time\n",
        "\n",
        "\n",
        "# 学習を実行する\n",
        "batch_sizes = [1, 2, 4, 8, 16, 32, 64, 128, 256, 512, 1024, 2048]\n",
        "cpu_times = []\n",
        "for batch_size in batch_sizes:\n",
        "    print('batch_size: {}'.format(batch_size))\n",
        "    # DataLoaderを作成\n",
        "    train_dataloader = data.DataLoader(\n",
        "                train_dataset, batch_size=batch_size, shuffle=True)\n",
        "    valid_dataloader = data.DataLoader(\n",
        "                valid_dataset, batch_size=len(valid_dataset), shuffle=False)\n",
        "    test_dataloader = data.DataLoader(\n",
        "                test_dataset, batch_size=len(test_dataset), shuffle=False)\n",
        "\n",
        "    dataloaders_dict = {'train': train_dataloader,\n",
        "                        'val': valid_dataloader,\n",
        "                        'test': test_dataloader,\n",
        "                       }\n",
        "    # モデルの定義\n",
        "    net = SLNet(300, 4)\n",
        "    net.train()\n",
        "\n",
        "    # 損失関数の定義\n",
        "    criterion = nn.CrossEntropyLoss()\n",
        "\n",
        "    # 最適化手法の定義\n",
        "    optimizer = torch.optim.SGD(net.parameters(), lr=0.01, momentum=0.9)\n",
        "\n",
        "    num_epochs = 1\n",
        "    train_loss, train_acc, valid_loss, valid_acc, calc_time = \\\n",
        "                        train_model(net, dataloaders_dict, criterion, optimizer,\n",
        "                                    num_epochs=num_epochs)\n",
        "    cpu_times.append(calc_time)"
      ],
      "metadata": {
        "colab": {
          "base_uri": "https://localhost:8080/"
        },
        "id": "nv45xzORt_2S",
        "outputId": "e839af53-1b62-4845-c086-78290fd1676c"
      },
      "execution_count": null,
      "outputs": [
        {
          "output_type": "stream",
          "name": "stdout",
          "text": [
            "batch_size: 1\n",
            "Epoch 1 / 1\n",
            "--------------------------------------------\n"
          ]
        },
        {
          "output_type": "stream",
          "name": "stderr",
          "text": [
            "100%|██████████| 10672/10672 [00:12<00:00, 887.61it/s]\n"
          ]
        },
        {
          "output_type": "stream",
          "name": "stdout",
          "text": [
            "train Loss: 0.4176, Acc: 0.8601\n"
          ]
        },
        {
          "output_type": "stream",
          "name": "stderr",
          "text": [
            "100%|██████████| 1/1 [00:00<00:00, 46.86it/s]\n"
          ]
        },
        {
          "output_type": "stream",
          "name": "stdout",
          "text": [
            "val Loss: 0.3085, Acc: 0.8988\n",
            "batch_size 1 calc_time: 12.0686 sec\n",
            "batch_size: 2\n",
            "Epoch 1 / 1\n",
            "--------------------------------------------\n"
          ]
        },
        {
          "output_type": "stream",
          "name": "stderr",
          "text": [
            "100%|██████████| 5336/5336 [00:04<00:00, 1216.88it/s]\n"
          ]
        },
        {
          "output_type": "stream",
          "name": "stdout",
          "text": [
            "train Loss: 0.4760, Acc: 0.8415\n"
          ]
        },
        {
          "output_type": "stream",
          "name": "stderr",
          "text": [
            "100%|██████████| 1/1 [00:00<00:00, 41.52it/s]\n"
          ]
        },
        {
          "output_type": "stream",
          "name": "stdout",
          "text": [
            "val Loss: 0.3490, Acc: 0.8861\n",
            "batch_size 2 calc_time: 4.4398 sec\n",
            "batch_size: 4\n",
            "Epoch 1 / 1\n",
            "--------------------------------------------\n"
          ]
        },
        {
          "output_type": "stream",
          "name": "stderr",
          "text": [
            "100%|██████████| 2668/2668 [00:02<00:00, 936.31it/s]\n"
          ]
        },
        {
          "output_type": "stream",
          "name": "stdout",
          "text": [
            "train Loss: 0.5625, Acc: 0.8117\n"
          ]
        },
        {
          "output_type": "stream",
          "name": "stderr",
          "text": [
            "100%|██████████| 1/1 [00:00<00:00, 52.77it/s]\n"
          ]
        },
        {
          "output_type": "stream",
          "name": "stdout",
          "text": [
            "val Loss: 0.4072, Acc: 0.8696\n",
            "batch_size 4 calc_time: 2.8864 sec\n",
            "batch_size: 8\n",
            "Epoch 1 / 1\n",
            "--------------------------------------------\n"
          ]
        },
        {
          "output_type": "stream",
          "name": "stderr",
          "text": [
            "100%|██████████| 1334/1334 [00:01<00:00, 909.96it/s]\n"
          ]
        },
        {
          "output_type": "stream",
          "name": "stdout",
          "text": [
            "train Loss: 0.6576, Acc: 0.7841\n"
          ]
        },
        {
          "output_type": "stream",
          "name": "stderr",
          "text": [
            "100%|██████████| 1/1 [00:00<00:00, 36.08it/s]\n"
          ]
        },
        {
          "output_type": "stream",
          "name": "stdout",
          "text": [
            "val Loss: 0.4920, Acc: 0.8388\n",
            "batch_size 8 calc_time: 1.5165 sec\n",
            "batch_size: 16\n",
            "Epoch 1 / 1\n",
            "--------------------------------------------\n"
          ]
        },
        {
          "output_type": "stream",
          "name": "stderr",
          "text": [
            "100%|██████████| 667/667 [00:00<00:00, 992.54it/s] \n"
          ]
        },
        {
          "output_type": "stream",
          "name": "stdout",
          "text": [
            "train Loss: 0.7705, Acc: 0.7624\n"
          ]
        },
        {
          "output_type": "stream",
          "name": "stderr",
          "text": [
            "100%|██████████| 1/1 [00:00<00:00, 85.22it/s]\n"
          ]
        },
        {
          "output_type": "stream",
          "name": "stdout",
          "text": [
            "val Loss: 0.5953, Acc: 0.7954\n",
            "batch_size 16 calc_time: 0.7050 sec\n",
            "batch_size: 32\n",
            "Epoch 1 / 1\n",
            "--------------------------------------------\n"
          ]
        },
        {
          "output_type": "stream",
          "name": "stderr",
          "text": [
            "100%|██████████| 334/334 [00:00<00:00, 963.34it/s]\n"
          ]
        },
        {
          "output_type": "stream",
          "name": "stdout",
          "text": [
            "train Loss: 0.8868, Acc: 0.7508\n"
          ]
        },
        {
          "output_type": "stream",
          "name": "stderr",
          "text": [
            "100%|██████████| 1/1 [00:00<00:00, 65.20it/s]\n"
          ]
        },
        {
          "output_type": "stream",
          "name": "stdout",
          "text": [
            "val Loss: 0.7116, Acc: 0.7856\n",
            "batch_size 32 calc_time: 0.3758 sec\n",
            "batch_size: 64\n",
            "Epoch 1 / 1\n",
            "--------------------------------------------\n"
          ]
        },
        {
          "output_type": "stream",
          "name": "stderr",
          "text": [
            "100%|██████████| 167/167 [00:00<00:00, 779.81it/s]\n"
          ]
        },
        {
          "output_type": "stream",
          "name": "stdout",
          "text": [
            "train Loss: 0.9956, Acc: 0.7522\n"
          ]
        },
        {
          "output_type": "stream",
          "name": "stderr",
          "text": [
            "100%|██████████| 1/1 [00:00<00:00, 85.01it/s]\n"
          ]
        },
        {
          "output_type": "stream",
          "name": "stdout",
          "text": [
            "val Loss: 0.8310, Acc: 0.7841\n",
            "batch_size 64 calc_time: 0.2394 sec\n",
            "batch_size: 128\n",
            "Epoch 1 / 1\n",
            "--------------------------------------------\n"
          ]
        },
        {
          "output_type": "stream",
          "name": "stderr",
          "text": [
            "100%|██████████| 84/84 [00:00<00:00, 488.39it/s]\n"
          ]
        },
        {
          "output_type": "stream",
          "name": "stdout",
          "text": [
            "train Loss: 1.1095, Acc: 0.6996\n"
          ]
        },
        {
          "output_type": "stream",
          "name": "stderr",
          "text": [
            "100%|██████████| 1/1 [00:00<00:00, 51.94it/s]\n"
          ]
        },
        {
          "output_type": "stream",
          "name": "stdout",
          "text": [
            "val Loss: 0.9534, Acc: 0.7856\n",
            "batch_size 128 calc_time: 0.2073 sec\n",
            "batch_size: 256\n",
            "Epoch 1 / 1\n",
            "--------------------------------------------\n"
          ]
        },
        {
          "output_type": "stream",
          "name": "stderr",
          "text": [
            "100%|██████████| 42/42 [00:00<00:00, 315.29it/s]\n"
          ]
        },
        {
          "output_type": "stream",
          "name": "stdout",
          "text": [
            "train Loss: 1.2147, Acc: 0.6605\n"
          ]
        },
        {
          "output_type": "stream",
          "name": "stderr",
          "text": [
            "100%|██████████| 1/1 [00:00<00:00, 55.02it/s]\n"
          ]
        },
        {
          "output_type": "stream",
          "name": "stdout",
          "text": [
            "val Loss: 1.0620, Acc: 0.7886\n",
            "batch_size 256 calc_time: 0.1683 sec\n",
            "batch_size: 512\n",
            "Epoch 1 / 1\n",
            "--------------------------------------------\n"
          ]
        },
        {
          "output_type": "stream",
          "name": "stderr",
          "text": [
            "100%|██████████| 21/21 [00:00<00:00, 165.27it/s]\n"
          ]
        },
        {
          "output_type": "stream",
          "name": "stdout",
          "text": [
            "train Loss: 1.3152, Acc: 0.4808\n"
          ]
        },
        {
          "output_type": "stream",
          "name": "stderr",
          "text": [
            "100%|██████████| 1/1 [00:00<00:00, 61.83it/s]\n"
          ]
        },
        {
          "output_type": "stream",
          "name": "stdout",
          "text": [
            "val Loss: 1.1996, Acc: 0.7151\n",
            "batch_size 512 calc_time: 0.1608 sec\n",
            "batch_size: 1024\n",
            "Epoch 1 / 1\n",
            "--------------------------------------------\n"
          ]
        },
        {
          "output_type": "stream",
          "name": "stderr",
          "text": [
            "100%|██████████| 11/11 [00:00<00:00, 110.69it/s]\n"
          ]
        },
        {
          "output_type": "stream",
          "name": "stdout",
          "text": [
            "train Loss: 1.3611, Acc: 0.3568\n"
          ]
        },
        {
          "output_type": "stream",
          "name": "stderr",
          "text": [
            "100%|██████████| 1/1 [00:00<00:00, 62.54it/s]\n"
          ]
        },
        {
          "output_type": "stream",
          "name": "stdout",
          "text": [
            "val Loss: 1.3023, Acc: 0.5502\n",
            "batch_size 1024 calc_time: 0.1323 sec\n",
            "batch_size: 2048\n",
            "Epoch 1 / 1\n",
            "--------------------------------------------\n"
          ]
        },
        {
          "output_type": "stream",
          "name": "stderr",
          "text": [
            "100%|██████████| 6/6 [00:00<00:00, 56.98it/s]\n"
          ]
        },
        {
          "output_type": "stream",
          "name": "stdout",
          "text": [
            "train Loss: 1.3706, Acc: 0.3756\n"
          ]
        },
        {
          "output_type": "stream",
          "name": "stderr",
          "text": [
            "100%|██████████| 1/1 [00:00<00:00, 70.13it/s]"
          ]
        },
        {
          "output_type": "stream",
          "name": "stdout",
          "text": [
            "val Loss: 1.3446, Acc: 0.5817\n",
            "batch_size 2048 calc_time: 0.1402 sec\n"
          ]
        },
        {
          "output_type": "stream",
          "name": "stderr",
          "text": [
            "\n"
          ]
        }
      ]
    },
    {
      "cell_type": "markdown",
      "source": [
        "**78. GPU上での学習**"
      ],
      "metadata": {
        "id": "HLi50zTwt4h5"
      }
    },
    {
      "cell_type": "code",
      "source": [
        "# 学習用の関数を定義\n",
        "def train_model(net, dataloaders_dict, criterion, optimizer, num_epochs):\n",
        "\n",
        "    # 初期設定\n",
        "    # GPUが使えるか確認\n",
        "    device = torch.device(\"cuda:0\" if torch.cuda.is_available() else \"cpu\")\n",
        "    print(\"使用デバイス:\", device)\n",
        "\n",
        "    # ネットワークをgpuへ\n",
        "    net.to(device)\n",
        "\n",
        "    # ネットワークがある程度固定なら高速化させる\n",
        "    torch.backends.cudnn.benchmark = True\n",
        "\n",
        "    train_loss = []\n",
        "    train_acc = []\n",
        "    valid_loss = []\n",
        "    valid_acc = []\n",
        "    # epochのループ\n",
        "    for epoch in range(num_epochs):\n",
        "        # 開始時刻の記録\n",
        "        start = time.time()\n",
        "        print('Epoch {} / {}'.format(epoch + 1, num_epochs))\n",
        "        print('--------------------------------------------')\n",
        "\n",
        "        # epochごとの学習と検証のループ\n",
        "        for phase in ['train', 'val']:\n",
        "            if phase == 'train':\n",
        "                net.train() # 訓練モード\n",
        "            else:\n",
        "                net.eval() # 検証モード\n",
        "\n",
        "            epoch_loss = 0.0 # epochの損失和\n",
        "            epoch_corrects = 0 # epochの正解数\n",
        "\n",
        "            # データローダーからミニバッチを取り出すループ\n",
        "            for inputs, labels in tqdm(dataloaders_dict[phase]):\n",
        "                # GPUが使えるならGPUにおっくる\n",
        "                inputs = inputs.to(device)\n",
        "                labels = labels.to(device)\n",
        "                optimizer.zero_grad() # optimizerを初期化\n",
        "\n",
        "                # 順伝播計算(forward)\n",
        "                with torch.set_grad_enabled(phase == 'train'):\n",
        "                    outputs = net(inputs)\n",
        "                    loss = criterion(outputs, labels) # 損失を計算\n",
        "                    _, preds = torch.max(outputs, 1) # ラベルを予想\n",
        "\n",
        "                    # 訓練時は逆伝播\n",
        "                    if phase == 'train':\n",
        "                        loss.backward()\n",
        "                        optimizer.step()\n",
        "\n",
        "                    # イテレーション結果の計算\n",
        "                    # lossの合計を更新\n",
        "                    epoch_loss += loss.item() * inputs.size(0)\n",
        "                    # 正解数の合計を更新\n",
        "                    epoch_corrects += torch.sum(preds == labels.data)\n",
        "\n",
        "            # epochごとのlossと正解率の表示\n",
        "            epoch_loss = epoch_loss / len(dataloaders_dict[phase].dataset)\n",
        "            epoch_acc = epoch_corrects.double() / len(dataloaders_dict[phase].dataset)\n",
        "            if phase == 'train':\n",
        "                train_loss.append(epoch_loss)\n",
        "                train_acc.append(epoch_acc)\n",
        "            else:\n",
        "                valid_loss.append(epoch_loss)\n",
        "                valid_acc.append(epoch_acc)\n",
        "\n",
        "            print('{} Loss: {:.4f}, Acc: {:.4f}'.format(phase, epoch_loss, epoch_acc))\n",
        "        # 修了時刻の記録\n",
        "        end = time.time()\n",
        "        calc_time = end - start\n",
        "        print('batch_size {} calc_time: {:.4f} sec'.format(batch_size, calc_time))\n",
        "    return train_loss, train_acc, valid_loss, valid_acc, calc_time"
      ],
      "metadata": {
        "id": "avRPTQmJuC_C"
      },
      "execution_count": null,
      "outputs": []
    },
    {
      "cell_type": "markdown",
      "source": [
        "**79. 多層ニューラルネットワーク**"
      ],
      "metadata": {
        "id": "IkLbgBUluKs0"
      }
    },
    {
      "cell_type": "code",
      "source": [
        "class MLNet(nn.Module):\n",
        "    def __init__(self, input_size, mid_size, output_size):\n",
        "        super().__init__()\n",
        "        self.layers = nn.Sequential(\n",
        "                    nn.Linear(input_size, mid_size),\n",
        "                    nn.BatchNorm1d(mid_size),\n",
        "                    nn.ReLU(),\n",
        "                    nn.Linear(mid_size, mid_size),\n",
        "                    nn.BatchNorm1d(mid_size),\n",
        "                    nn.ReLU(),\n",
        "                    nn.Linear(mid_size, output_size),\n",
        "                    )\n",
        "\n",
        "    def forward(self, x):\n",
        "        logits = self.layers(x)\n",
        "        return logits\n",
        "\n",
        "net = MLNet(300, 256, 4)\n",
        "print(net)"
      ],
      "metadata": {
        "colab": {
          "base_uri": "https://localhost:8080/"
        },
        "id": "qh_-UimhuNsN",
        "outputId": "232fcebc-2660-4b15-8467-bbe8c69a8577"
      },
      "execution_count": null,
      "outputs": [
        {
          "output_type": "stream",
          "name": "stdout",
          "text": [
            "MLNet(\n",
            "  (layers): Sequential(\n",
            "    (0): Linear(in_features=300, out_features=256, bias=True)\n",
            "    (1): BatchNorm1d(256, eps=1e-05, momentum=0.1, affine=True, track_running_stats=True)\n",
            "    (2): ReLU()\n",
            "    (3): Linear(in_features=256, out_features=256, bias=True)\n",
            "    (4): BatchNorm1d(256, eps=1e-05, momentum=0.1, affine=True, track_running_stats=True)\n",
            "    (5): ReLU()\n",
            "    (6): Linear(in_features=256, out_features=4, bias=True)\n",
            "  )\n",
            ")\n"
          ]
        }
      ]
    },
    {
      "cell_type": "code",
      "source": [
        "# 学習用の関数を定義\n",
        "def train_model(net, dataloaders_dict, criterion, optimizer, num_epochs):\n",
        "\n",
        "    # 初期設定\n",
        "    # GPUが使えるか確認\n",
        "    device = torch.device(\"cuda:0\" if torch.cuda.is_available() else \"cpu\")\n",
        "    print(\"使用デバイス:\", device)\n",
        "\n",
        "    # ネットワークをgpuへ\n",
        "    net.to(device)\n",
        "\n",
        "    # ネットワークがある程度固定なら高速化させる\n",
        "    torch.backends.cudnn.benchmark = False\n",
        "    torch.backends.cudnn.deterministic = True\n",
        "\n",
        "    train_loss = []\n",
        "    train_acc = []\n",
        "    valid_loss = []\n",
        "    valid_acc = []\n",
        "    scheduler = torch.optim.lr_scheduler.CosineAnnealingLR(optimizer, num_epochs, eta_min=1e-6, last_epoch=-1)\n",
        "\n",
        "    # epochのループ\n",
        "    for epoch in range(num_epochs):\n",
        "        # epochごとの学習と検証のループ\n",
        "        for phase in ['train', 'val']:\n",
        "            if phase == 'train':\n",
        "                net.train() # 訓練モード\n",
        "            else:\n",
        "                net.eval() # 検証モード\n",
        "\n",
        "            epoch_loss = 0.0 # epochの損失和\n",
        "            epoch_corrects = 0 # epochの正解数\n",
        "\n",
        "            # データローダーからミニバッチを取り出すループ\n",
        "            for inputs, labels in dataloaders_dict[phase]:\n",
        "                # GPUが使えるならGPUにおっくる\n",
        "                inputs = inputs.to(device)\n",
        "                labels = labels.to(device)\n",
        "                optimizer.zero_grad() # optimizerを初期化\n",
        "\n",
        "                # 順伝播計算(forward)\n",
        "                with torch.set_grad_enabled(phase == 'train'):\n",
        "                    outputs = net(inputs)\n",
        "                    loss = criterion(outputs, labels) # 損失を計算\n",
        "                    _, preds = torch.max(outputs, 1) # ラベルを予想\n",
        "\n",
        "                    # 訓練時は逆伝播\n",
        "                    if phase == 'train':\n",
        "                        loss.backward()\n",
        "                        optimizer.step()\n",
        "\n",
        "                    # イテレーション結果の計算\n",
        "                    # lossの合計を更新\n",
        "                    epoch_loss += loss.item() * inputs.size(0)\n",
        "                    # 正解数の合計を更新\n",
        "                    epoch_corrects += torch.sum(preds == labels.data)\n",
        "\n",
        "            # epochごとのlossと正解率の表示\n",
        "            epoch_loss = epoch_loss / len(dataloaders_dict[phase].dataset)\n",
        "            epoch_acc = epoch_corrects.double() / len(dataloaders_dict[phase].dataset)\n",
        "            if phase == 'train':\n",
        "                train_loss.append(epoch_loss)\n",
        "                train_acc.append(epoch_acc.cpu())\n",
        "            else:\n",
        "                valid_loss.append(epoch_loss)\n",
        "                valid_acc.append(epoch_acc.cpu())\n",
        "\n",
        "        print('Epoch {} / {} (train) Loss: {:.4f}, Acc: {:.4f}, (val) Loss: {:.4f}, Acc: {:.4f}'.format(epoch + 1, num_epochs, train_loss[-1], train_acc[-1], valid_loss[-1], valid_acc[-1]))\n",
        "        scheduler.step()\n",
        "    return train_loss, train_acc, valid_loss, valid_acc\n",
        "\n",
        "batch_size = 2048\n",
        "num_epochs = 200\n",
        "\n",
        "# DataLoaderを作成\n",
        "train_dataloader = data.DataLoader(\n",
        "            train_dataset, batch_size=batch_size, shuffle=True)\n",
        "valid_dataloader = data.DataLoader(\n",
        "            valid_dataset, batch_size=len(valid_dataset), shuffle=False)\n",
        "test_dataloader = data.DataLoader(\n",
        "            test_dataset, batch_size=len(test_dataset), shuffle=False)\n",
        "\n",
        "dataloaders_dict = {'train': train_dataloader,\n",
        "                    'val': valid_dataloader,\n",
        "                    'test': test_dataloader,\n",
        "                   }\n",
        "# モデルの定義\n",
        "net = MLNet(300, 256, 4)\n",
        "net.train()\n",
        "\n",
        "# 損失関数の定義\n",
        "criterion = nn.CrossEntropyLoss()\n",
        "\n",
        "# 最適化手法の定義\n",
        "optimizer = torch.optim.Adam(net.parameters(), lr=0.0001)\n",
        "\n",
        "train_loss, train_acc, valid_loss, valid_acc = \\\n",
        "            train_model(net, dataloaders_dict, criterion, optimizer,\n",
        "                        num_epochs=num_epochs)"
      ],
      "metadata": {
        "colab": {
          "base_uri": "https://localhost:8080/"
        },
        "id": "TPAurVs4uQ0n",
        "outputId": "85fb4223-f012-45c3-baa7-e7e75575d85d"
      },
      "execution_count": null,
      "outputs": [
        {
          "output_type": "stream",
          "name": "stdout",
          "text": [
            "使用デバイス: cpu\n",
            "Epoch 1 / 200 (train) Loss: 1.3614, Acc: 0.3371, (val) Loss: 1.3807, Acc: 0.3696\n",
            "Epoch 2 / 200 (train) Loss: 1.1171, Acc: 0.5986, (val) Loss: 1.3544, Acc: 0.4213\n",
            "Epoch 3 / 200 (train) Loss: 0.9321, Acc: 0.7401, (val) Loss: 1.3080, Acc: 0.4235\n",
            "Epoch 4 / 200 (train) Loss: 0.7970, Acc: 0.7829, (val) Loss: 1.2369, Acc: 0.4655\n",
            "Epoch 5 / 200 (train) Loss: 0.7015, Acc: 0.8000, (val) Loss: 1.1400, Acc: 0.6469\n",
            "Epoch 6 / 200 (train) Loss: 0.6331, Acc: 0.8114, (val) Loss: 1.0216, Acc: 0.7549\n",
            "Epoch 7 / 200 (train) Loss: 0.5834, Acc: 0.8214, (val) Loss: 0.8903, Acc: 0.7909\n",
            "Epoch 8 / 200 (train) Loss: 0.5448, Acc: 0.8322, (val) Loss: 0.7611, Acc: 0.8231\n",
            "Epoch 9 / 200 (train) Loss: 0.5138, Acc: 0.8425, (val) Loss: 0.6514, Acc: 0.8456\n",
            "Epoch 10 / 200 (train) Loss: 0.4865, Acc: 0.8534, (val) Loss: 0.5663, Acc: 0.8576\n",
            "Epoch 11 / 200 (train) Loss: 0.4640, Acc: 0.8612, (val) Loss: 0.5065, Acc: 0.8666\n",
            "Epoch 12 / 200 (train) Loss: 0.4437, Acc: 0.8674, (val) Loss: 0.4654, Acc: 0.8726\n",
            "Epoch 13 / 200 (train) Loss: 0.4257, Acc: 0.8735, (val) Loss: 0.4367, Acc: 0.8771\n",
            "Epoch 14 / 200 (train) Loss: 0.4105, Acc: 0.8778, (val) Loss: 0.4160, Acc: 0.8861\n",
            "Epoch 15 / 200 (train) Loss: 0.3976, Acc: 0.8812, (val) Loss: 0.4004, Acc: 0.8906\n",
            "Epoch 16 / 200 (train) Loss: 0.3834, Acc: 0.8839, (val) Loss: 0.3876, Acc: 0.8921\n",
            "Epoch 17 / 200 (train) Loss: 0.3714, Acc: 0.8869, (val) Loss: 0.3770, Acc: 0.8951\n",
            "Epoch 18 / 200 (train) Loss: 0.3606, Acc: 0.8906, (val) Loss: 0.3677, Acc: 0.8996\n",
            "Epoch 19 / 200 (train) Loss: 0.3510, Acc: 0.8935, (val) Loss: 0.3592, Acc: 0.9003\n",
            "Epoch 20 / 200 (train) Loss: 0.3416, Acc: 0.8952, (val) Loss: 0.3512, Acc: 0.8996\n",
            "Epoch 21 / 200 (train) Loss: 0.3334, Acc: 0.8958, (val) Loss: 0.3443, Acc: 0.9010\n",
            "Epoch 22 / 200 (train) Loss: 0.3261, Acc: 0.8978, (val) Loss: 0.3383, Acc: 0.9010\n",
            "Epoch 23 / 200 (train) Loss: 0.3181, Acc: 0.9017, (val) Loss: 0.3325, Acc: 0.9018\n",
            "Epoch 24 / 200 (train) Loss: 0.3117, Acc: 0.9033, (val) Loss: 0.3272, Acc: 0.9003\n",
            "Epoch 25 / 200 (train) Loss: 0.3053, Acc: 0.9051, (val) Loss: 0.3226, Acc: 0.9048\n",
            "Epoch 26 / 200 (train) Loss: 0.2982, Acc: 0.9070, (val) Loss: 0.3179, Acc: 0.9048\n",
            "Epoch 27 / 200 (train) Loss: 0.2929, Acc: 0.9099, (val) Loss: 0.3134, Acc: 0.9055\n",
            "Epoch 28 / 200 (train) Loss: 0.2875, Acc: 0.9115, (val) Loss: 0.3090, Acc: 0.9055\n",
            "Epoch 29 / 200 (train) Loss: 0.2825, Acc: 0.9111, (val) Loss: 0.3053, Acc: 0.9085\n",
            "Epoch 30 / 200 (train) Loss: 0.2765, Acc: 0.9149, (val) Loss: 0.3022, Acc: 0.9078\n",
            "Epoch 31 / 200 (train) Loss: 0.2718, Acc: 0.9148, (val) Loss: 0.2986, Acc: 0.9085\n",
            "Epoch 32 / 200 (train) Loss: 0.2680, Acc: 0.9174, (val) Loss: 0.2954, Acc: 0.9108\n",
            "Epoch 33 / 200 (train) Loss: 0.2624, Acc: 0.9192, (val) Loss: 0.2929, Acc: 0.9093\n",
            "Epoch 34 / 200 (train) Loss: 0.2583, Acc: 0.9196, (val) Loss: 0.2900, Acc: 0.9093\n",
            "Epoch 35 / 200 (train) Loss: 0.2546, Acc: 0.9219, (val) Loss: 0.2874, Acc: 0.9108\n",
            "Epoch 36 / 200 (train) Loss: 0.2497, Acc: 0.9234, (val) Loss: 0.2859, Acc: 0.9108\n",
            "Epoch 37 / 200 (train) Loss: 0.2459, Acc: 0.9239, (val) Loss: 0.2837, Acc: 0.9138\n",
            "Epoch 38 / 200 (train) Loss: 0.2422, Acc: 0.9250, (val) Loss: 0.2822, Acc: 0.9153\n",
            "Epoch 39 / 200 (train) Loss: 0.2388, Acc: 0.9263, (val) Loss: 0.2805, Acc: 0.9153\n",
            "Epoch 40 / 200 (train) Loss: 0.2351, Acc: 0.9283, (val) Loss: 0.2784, Acc: 0.9153\n",
            "Epoch 41 / 200 (train) Loss: 0.2318, Acc: 0.9297, (val) Loss: 0.2764, Acc: 0.9153\n",
            "Epoch 42 / 200 (train) Loss: 0.2280, Acc: 0.9295, (val) Loss: 0.2747, Acc: 0.9168\n",
            "Epoch 43 / 200 (train) Loss: 0.2246, Acc: 0.9312, (val) Loss: 0.2728, Acc: 0.9175\n",
            "Epoch 44 / 200 (train) Loss: 0.2216, Acc: 0.9312, (val) Loss: 0.2716, Acc: 0.9183\n",
            "Epoch 45 / 200 (train) Loss: 0.2179, Acc: 0.9337, (val) Loss: 0.2704, Acc: 0.9183\n",
            "Epoch 46 / 200 (train) Loss: 0.2150, Acc: 0.9345, (val) Loss: 0.2692, Acc: 0.9168\n",
            "Epoch 47 / 200 (train) Loss: 0.2117, Acc: 0.9359, (val) Loss: 0.2677, Acc: 0.9175\n",
            "Epoch 48 / 200 (train) Loss: 0.2087, Acc: 0.9368, (val) Loss: 0.2662, Acc: 0.9183\n",
            "Epoch 49 / 200 (train) Loss: 0.2058, Acc: 0.9384, (val) Loss: 0.2649, Acc: 0.9183\n",
            "Epoch 50 / 200 (train) Loss: 0.2034, Acc: 0.9382, (val) Loss: 0.2636, Acc: 0.9183\n",
            "Epoch 51 / 200 (train) Loss: 0.2001, Acc: 0.9405, (val) Loss: 0.2624, Acc: 0.9175\n",
            "Epoch 52 / 200 (train) Loss: 0.1981, Acc: 0.9406, (val) Loss: 0.2614, Acc: 0.9183\n",
            "Epoch 53 / 200 (train) Loss: 0.1945, Acc: 0.9422, (val) Loss: 0.2608, Acc: 0.9168\n",
            "Epoch 54 / 200 (train) Loss: 0.1920, Acc: 0.9429, (val) Loss: 0.2602, Acc: 0.9175\n",
            "Epoch 55 / 200 (train) Loss: 0.1895, Acc: 0.9423, (val) Loss: 0.2595, Acc: 0.9168\n",
            "Epoch 56 / 200 (train) Loss: 0.1874, Acc: 0.9445, (val) Loss: 0.2585, Acc: 0.9175\n",
            "Epoch 57 / 200 (train) Loss: 0.1847, Acc: 0.9442, (val) Loss: 0.2575, Acc: 0.9190\n",
            "Epoch 58 / 200 (train) Loss: 0.1823, Acc: 0.9458, (val) Loss: 0.2566, Acc: 0.9175\n",
            "Epoch 59 / 200 (train) Loss: 0.1793, Acc: 0.9484, (val) Loss: 0.2562, Acc: 0.9183\n",
            "Epoch 60 / 200 (train) Loss: 0.1773, Acc: 0.9476, (val) Loss: 0.2553, Acc: 0.9190\n",
            "Epoch 61 / 200 (train) Loss: 0.1751, Acc: 0.9483, (val) Loss: 0.2544, Acc: 0.9190\n",
            "Epoch 62 / 200 (train) Loss: 0.1722, Acc: 0.9501, (val) Loss: 0.2533, Acc: 0.9183\n",
            "Epoch 63 / 200 (train) Loss: 0.1708, Acc: 0.9507, (val) Loss: 0.2524, Acc: 0.9205\n",
            "Epoch 64 / 200 (train) Loss: 0.1681, Acc: 0.9516, (val) Loss: 0.2523, Acc: 0.9198\n",
            "Epoch 65 / 200 (train) Loss: 0.1655, Acc: 0.9527, (val) Loss: 0.2526, Acc: 0.9198\n",
            "Epoch 66 / 200 (train) Loss: 0.1640, Acc: 0.9541, (val) Loss: 0.2526, Acc: 0.9190\n",
            "Epoch 67 / 200 (train) Loss: 0.1616, Acc: 0.9541, (val) Loss: 0.2521, Acc: 0.9175\n",
            "Epoch 68 / 200 (train) Loss: 0.1598, Acc: 0.9552, (val) Loss: 0.2514, Acc: 0.9213\n",
            "Epoch 69 / 200 (train) Loss: 0.1577, Acc: 0.9566, (val) Loss: 0.2502, Acc: 0.9228\n",
            "Epoch 70 / 200 (train) Loss: 0.1557, Acc: 0.9571, (val) Loss: 0.2492, Acc: 0.9220\n",
            "Epoch 71 / 200 (train) Loss: 0.1534, Acc: 0.9577, (val) Loss: 0.2489, Acc: 0.9198\n",
            "Epoch 72 / 200 (train) Loss: 0.1514, Acc: 0.9595, (val) Loss: 0.2486, Acc: 0.9220\n",
            "Epoch 73 / 200 (train) Loss: 0.1494, Acc: 0.9606, (val) Loss: 0.2486, Acc: 0.9228\n",
            "Epoch 74 / 200 (train) Loss: 0.1482, Acc: 0.9601, (val) Loss: 0.2482, Acc: 0.9213\n",
            "Epoch 75 / 200 (train) Loss: 0.1458, Acc: 0.9616, (val) Loss: 0.2478, Acc: 0.9228\n",
            "Epoch 76 / 200 (train) Loss: 0.1441, Acc: 0.9614, (val) Loss: 0.2472, Acc: 0.9228\n",
            "Epoch 77 / 200 (train) Loss: 0.1425, Acc: 0.9624, (val) Loss: 0.2472, Acc: 0.9220\n",
            "Epoch 78 / 200 (train) Loss: 0.1404, Acc: 0.9626, (val) Loss: 0.2470, Acc: 0.9198\n",
            "Epoch 79 / 200 (train) Loss: 0.1383, Acc: 0.9642, (val) Loss: 0.2473, Acc: 0.9205\n",
            "Epoch 80 / 200 (train) Loss: 0.1372, Acc: 0.9644, (val) Loss: 0.2465, Acc: 0.9235\n",
            "Epoch 81 / 200 (train) Loss: 0.1352, Acc: 0.9662, (val) Loss: 0.2460, Acc: 0.9213\n",
            "Epoch 82 / 200 (train) Loss: 0.1339, Acc: 0.9665, (val) Loss: 0.2460, Acc: 0.9198\n",
            "Epoch 83 / 200 (train) Loss: 0.1319, Acc: 0.9669, (val) Loss: 0.2456, Acc: 0.9205\n",
            "Epoch 84 / 200 (train) Loss: 0.1300, Acc: 0.9681, (val) Loss: 0.2455, Acc: 0.9205\n",
            "Epoch 85 / 200 (train) Loss: 0.1287, Acc: 0.9680, (val) Loss: 0.2454, Acc: 0.9235\n",
            "Epoch 86 / 200 (train) Loss: 0.1272, Acc: 0.9693, (val) Loss: 0.2447, Acc: 0.9235\n",
            "Epoch 87 / 200 (train) Loss: 0.1257, Acc: 0.9698, (val) Loss: 0.2442, Acc: 0.9220\n",
            "Epoch 88 / 200 (train) Loss: 0.1238, Acc: 0.9702, (val) Loss: 0.2437, Acc: 0.9220\n",
            "Epoch 89 / 200 (train) Loss: 0.1228, Acc: 0.9712, (val) Loss: 0.2437, Acc: 0.9205\n",
            "Epoch 90 / 200 (train) Loss: 0.1215, Acc: 0.9714, (val) Loss: 0.2434, Acc: 0.9213\n",
            "Epoch 91 / 200 (train) Loss: 0.1198, Acc: 0.9720, (val) Loss: 0.2432, Acc: 0.9228\n",
            "Epoch 92 / 200 (train) Loss: 0.1181, Acc: 0.9727, (val) Loss: 0.2435, Acc: 0.9220\n",
            "Epoch 93 / 200 (train) Loss: 0.1171, Acc: 0.9734, (val) Loss: 0.2432, Acc: 0.9220\n",
            "Epoch 94 / 200 (train) Loss: 0.1163, Acc: 0.9738, (val) Loss: 0.2430, Acc: 0.9228\n",
            "Epoch 95 / 200 (train) Loss: 0.1149, Acc: 0.9745, (val) Loss: 0.2424, Acc: 0.9220\n",
            "Epoch 96 / 200 (train) Loss: 0.1132, Acc: 0.9754, (val) Loss: 0.2421, Acc: 0.9213\n",
            "Epoch 97 / 200 (train) Loss: 0.1122, Acc: 0.9758, (val) Loss: 0.2417, Acc: 0.9235\n",
            "Epoch 98 / 200 (train) Loss: 0.1107, Acc: 0.9759, (val) Loss: 0.2416, Acc: 0.9198\n",
            "Epoch 99 / 200 (train) Loss: 0.1092, Acc: 0.9772, (val) Loss: 0.2416, Acc: 0.9228\n",
            "Epoch 100 / 200 (train) Loss: 0.1081, Acc: 0.9777, (val) Loss: 0.2419, Acc: 0.9220\n",
            "Epoch 101 / 200 (train) Loss: 0.1072, Acc: 0.9779, (val) Loss: 0.2416, Acc: 0.9235\n",
            "Epoch 102 / 200 (train) Loss: 0.1061, Acc: 0.9776, (val) Loss: 0.2413, Acc: 0.9228\n",
            "Epoch 103 / 200 (train) Loss: 0.1046, Acc: 0.9784, (val) Loss: 0.2415, Acc: 0.9220\n",
            "Epoch 104 / 200 (train) Loss: 0.1036, Acc: 0.9789, (val) Loss: 0.2413, Acc: 0.9220\n",
            "Epoch 105 / 200 (train) Loss: 0.1024, Acc: 0.9796, (val) Loss: 0.2416, Acc: 0.9220\n",
            "Epoch 106 / 200 (train) Loss: 0.1016, Acc: 0.9799, (val) Loss: 0.2417, Acc: 0.9243\n",
            "Epoch 107 / 200 (train) Loss: 0.1004, Acc: 0.9801, (val) Loss: 0.2415, Acc: 0.9228\n",
            "Epoch 108 / 200 (train) Loss: 0.0993, Acc: 0.9806, (val) Loss: 0.2410, Acc: 0.9228\n",
            "Epoch 109 / 200 (train) Loss: 0.0984, Acc: 0.9804, (val) Loss: 0.2406, Acc: 0.9235\n",
            "Epoch 110 / 200 (train) Loss: 0.0976, Acc: 0.9810, (val) Loss: 0.2406, Acc: 0.9228\n",
            "Epoch 111 / 200 (train) Loss: 0.0970, Acc: 0.9808, (val) Loss: 0.2405, Acc: 0.9235\n",
            "Epoch 112 / 200 (train) Loss: 0.0955, Acc: 0.9814, (val) Loss: 0.2404, Acc: 0.9235\n",
            "Epoch 113 / 200 (train) Loss: 0.0947, Acc: 0.9818, (val) Loss: 0.2401, Acc: 0.9243\n",
            "Epoch 114 / 200 (train) Loss: 0.0940, Acc: 0.9822, (val) Loss: 0.2401, Acc: 0.9235\n",
            "Epoch 115 / 200 (train) Loss: 0.0932, Acc: 0.9820, (val) Loss: 0.2400, Acc: 0.9235\n",
            "Epoch 116 / 200 (train) Loss: 0.0922, Acc: 0.9826, (val) Loss: 0.2401, Acc: 0.9235\n",
            "Epoch 117 / 200 (train) Loss: 0.0915, Acc: 0.9829, (val) Loss: 0.2401, Acc: 0.9228\n",
            "Epoch 118 / 200 (train) Loss: 0.0909, Acc: 0.9829, (val) Loss: 0.2399, Acc: 0.9250\n",
            "Epoch 119 / 200 (train) Loss: 0.0902, Acc: 0.9833, (val) Loss: 0.2407, Acc: 0.9228\n",
            "Epoch 120 / 200 (train) Loss: 0.0891, Acc: 0.9839, (val) Loss: 0.2406, Acc: 0.9235\n",
            "Epoch 121 / 200 (train) Loss: 0.0883, Acc: 0.9839, (val) Loss: 0.2400, Acc: 0.9243\n",
            "Epoch 122 / 200 (train) Loss: 0.0876, Acc: 0.9838, (val) Loss: 0.2395, Acc: 0.9243\n",
            "Epoch 123 / 200 (train) Loss: 0.0871, Acc: 0.9839, (val) Loss: 0.2396, Acc: 0.9243\n",
            "Epoch 124 / 200 (train) Loss: 0.0862, Acc: 0.9850, (val) Loss: 0.2400, Acc: 0.9228\n",
            "Epoch 125 / 200 (train) Loss: 0.0855, Acc: 0.9847, (val) Loss: 0.2403, Acc: 0.9220\n",
            "Epoch 126 / 200 (train) Loss: 0.0848, Acc: 0.9851, (val) Loss: 0.2404, Acc: 0.9228\n",
            "Epoch 127 / 200 (train) Loss: 0.0843, Acc: 0.9850, (val) Loss: 0.2401, Acc: 0.9228\n",
            "Epoch 128 / 200 (train) Loss: 0.0837, Acc: 0.9854, (val) Loss: 0.2396, Acc: 0.9228\n",
            "Epoch 129 / 200 (train) Loss: 0.0830, Acc: 0.9856, (val) Loss: 0.2394, Acc: 0.9228\n",
            "Epoch 130 / 200 (train) Loss: 0.0823, Acc: 0.9858, (val) Loss: 0.2393, Acc: 0.9243\n",
            "Epoch 131 / 200 (train) Loss: 0.0817, Acc: 0.9857, (val) Loss: 0.2395, Acc: 0.9235\n",
            "Epoch 132 / 200 (train) Loss: 0.0811, Acc: 0.9864, (val) Loss: 0.2392, Acc: 0.9235\n",
            "Epoch 133 / 200 (train) Loss: 0.0807, Acc: 0.9865, (val) Loss: 0.2395, Acc: 0.9213\n",
            "Epoch 134 / 200 (train) Loss: 0.0802, Acc: 0.9858, (val) Loss: 0.2395, Acc: 0.9228\n",
            "Epoch 135 / 200 (train) Loss: 0.0796, Acc: 0.9861, (val) Loss: 0.2393, Acc: 0.9220\n",
            "Epoch 136 / 200 (train) Loss: 0.0792, Acc: 0.9865, (val) Loss: 0.2390, Acc: 0.9228\n",
            "Epoch 137 / 200 (train) Loss: 0.0787, Acc: 0.9871, (val) Loss: 0.2391, Acc: 0.9235\n",
            "Epoch 138 / 200 (train) Loss: 0.0783, Acc: 0.9872, (val) Loss: 0.2396, Acc: 0.9235\n",
            "Epoch 139 / 200 (train) Loss: 0.0778, Acc: 0.9873, (val) Loss: 0.2397, Acc: 0.9228\n",
            "Epoch 140 / 200 (train) Loss: 0.0772, Acc: 0.9875, (val) Loss: 0.2398, Acc: 0.9220\n",
            "Epoch 141 / 200 (train) Loss: 0.0772, Acc: 0.9871, (val) Loss: 0.2395, Acc: 0.9228\n",
            "Epoch 142 / 200 (train) Loss: 0.0766, Acc: 0.9876, (val) Loss: 0.2396, Acc: 0.9235\n",
            "Epoch 143 / 200 (train) Loss: 0.0759, Acc: 0.9879, (val) Loss: 0.2398, Acc: 0.9243\n",
            "Epoch 144 / 200 (train) Loss: 0.0757, Acc: 0.9881, (val) Loss: 0.2400, Acc: 0.9235\n",
            "Epoch 145 / 200 (train) Loss: 0.0760, Acc: 0.9879, (val) Loss: 0.2405, Acc: 0.9243\n",
            "Epoch 146 / 200 (train) Loss: 0.0751, Acc: 0.9876, (val) Loss: 0.2403, Acc: 0.9243\n",
            "Epoch 147 / 200 (train) Loss: 0.0751, Acc: 0.9878, (val) Loss: 0.2398, Acc: 0.9243\n",
            "Epoch 148 / 200 (train) Loss: 0.0740, Acc: 0.9881, (val) Loss: 0.2400, Acc: 0.9235\n",
            "Epoch 149 / 200 (train) Loss: 0.0743, Acc: 0.9883, (val) Loss: 0.2396, Acc: 0.9243\n",
            "Epoch 150 / 200 (train) Loss: 0.0740, Acc: 0.9883, (val) Loss: 0.2397, Acc: 0.9243\n",
            "Epoch 151 / 200 (train) Loss: 0.0734, Acc: 0.9885, (val) Loss: 0.2395, Acc: 0.9243\n",
            "Epoch 152 / 200 (train) Loss: 0.0728, Acc: 0.9884, (val) Loss: 0.2396, Acc: 0.9243\n",
            "Epoch 153 / 200 (train) Loss: 0.0728, Acc: 0.9881, (val) Loss: 0.2394, Acc: 0.9243\n",
            "Epoch 154 / 200 (train) Loss: 0.0725, Acc: 0.9890, (val) Loss: 0.2394, Acc: 0.9243\n",
            "Epoch 155 / 200 (train) Loss: 0.0719, Acc: 0.9888, (val) Loss: 0.2396, Acc: 0.9235\n",
            "Epoch 156 / 200 (train) Loss: 0.0724, Acc: 0.9885, (val) Loss: 0.2396, Acc: 0.9235\n",
            "Epoch 157 / 200 (train) Loss: 0.0717, Acc: 0.9885, (val) Loss: 0.2392, Acc: 0.9258\n",
            "Epoch 158 / 200 (train) Loss: 0.0715, Acc: 0.9887, (val) Loss: 0.2392, Acc: 0.9235\n",
            "Epoch 159 / 200 (train) Loss: 0.0715, Acc: 0.9887, (val) Loss: 0.2393, Acc: 0.9250\n",
            "Epoch 160 / 200 (train) Loss: 0.0714, Acc: 0.9888, (val) Loss: 0.2396, Acc: 0.9243\n",
            "Epoch 161 / 200 (train) Loss: 0.0709, Acc: 0.9888, (val) Loss: 0.2393, Acc: 0.9243\n",
            "Epoch 162 / 200 (train) Loss: 0.0707, Acc: 0.9892, (val) Loss: 0.2394, Acc: 0.9235\n",
            "Epoch 163 / 200 (train) Loss: 0.0707, Acc: 0.9889, (val) Loss: 0.2396, Acc: 0.9235\n",
            "Epoch 164 / 200 (train) Loss: 0.0704, Acc: 0.9890, (val) Loss: 0.2394, Acc: 0.9235\n",
            "Epoch 165 / 200 (train) Loss: 0.0707, Acc: 0.9892, (val) Loss: 0.2398, Acc: 0.9228\n",
            "Epoch 166 / 200 (train) Loss: 0.0700, Acc: 0.9888, (val) Loss: 0.2396, Acc: 0.9243\n",
            "Epoch 167 / 200 (train) Loss: 0.0700, Acc: 0.9893, (val) Loss: 0.2392, Acc: 0.9235\n",
            "Epoch 168 / 200 (train) Loss: 0.0700, Acc: 0.9891, (val) Loss: 0.2393, Acc: 0.9243\n",
            "Epoch 169 / 200 (train) Loss: 0.0701, Acc: 0.9896, (val) Loss: 0.2394, Acc: 0.9235\n",
            "Epoch 170 / 200 (train) Loss: 0.0696, Acc: 0.9888, (val) Loss: 0.2394, Acc: 0.9235\n",
            "Epoch 171 / 200 (train) Loss: 0.0697, Acc: 0.9892, (val) Loss: 0.2391, Acc: 0.9250\n",
            "Epoch 172 / 200 (train) Loss: 0.0695, Acc: 0.9891, (val) Loss: 0.2388, Acc: 0.9243\n",
            "Epoch 173 / 200 (train) Loss: 0.0691, Acc: 0.9892, (val) Loss: 0.2387, Acc: 0.9250\n",
            "Epoch 174 / 200 (train) Loss: 0.0688, Acc: 0.9896, (val) Loss: 0.2390, Acc: 0.9235\n",
            "Epoch 175 / 200 (train) Loss: 0.0689, Acc: 0.9891, (val) Loss: 0.2390, Acc: 0.9235\n",
            "Epoch 176 / 200 (train) Loss: 0.0690, Acc: 0.9896, (val) Loss: 0.2387, Acc: 0.9235\n",
            "Epoch 177 / 200 (train) Loss: 0.0692, Acc: 0.9896, (val) Loss: 0.2390, Acc: 0.9235\n",
            "Epoch 178 / 200 (train) Loss: 0.0687, Acc: 0.9891, (val) Loss: 0.2388, Acc: 0.9235\n",
            "Epoch 179 / 200 (train) Loss: 0.0687, Acc: 0.9895, (val) Loss: 0.2387, Acc: 0.9243\n",
            "Epoch 180 / 200 (train) Loss: 0.0691, Acc: 0.9893, (val) Loss: 0.2385, Acc: 0.9243\n",
            "Epoch 181 / 200 (train) Loss: 0.0684, Acc: 0.9899, (val) Loss: 0.2389, Acc: 0.9235\n",
            "Epoch 182 / 200 (train) Loss: 0.0684, Acc: 0.9896, (val) Loss: 0.2391, Acc: 0.9235\n",
            "Epoch 183 / 200 (train) Loss: 0.0686, Acc: 0.9895, (val) Loss: 0.2394, Acc: 0.9228\n",
            "Epoch 184 / 200 (train) Loss: 0.0686, Acc: 0.9893, (val) Loss: 0.2397, Acc: 0.9250\n",
            "Epoch 185 / 200 (train) Loss: 0.0681, Acc: 0.9897, (val) Loss: 0.2394, Acc: 0.9235\n",
            "Epoch 186 / 200 (train) Loss: 0.0679, Acc: 0.9893, (val) Loss: 0.2389, Acc: 0.9235\n",
            "Epoch 187 / 200 (train) Loss: 0.0683, Acc: 0.9898, (val) Loss: 0.2388, Acc: 0.9243\n",
            "Epoch 188 / 200 (train) Loss: 0.0678, Acc: 0.9897, (val) Loss: 0.2387, Acc: 0.9243\n",
            "Epoch 189 / 200 (train) Loss: 0.0676, Acc: 0.9897, (val) Loss: 0.2392, Acc: 0.9250\n",
            "Epoch 190 / 200 (train) Loss: 0.0680, Acc: 0.9896, (val) Loss: 0.2389, Acc: 0.9250\n",
            "Epoch 191 / 200 (train) Loss: 0.0681, Acc: 0.9893, (val) Loss: 0.2391, Acc: 0.9250\n",
            "Epoch 192 / 200 (train) Loss: 0.0680, Acc: 0.9899, (val) Loss: 0.2392, Acc: 0.9250\n",
            "Epoch 193 / 200 (train) Loss: 0.0680, Acc: 0.9895, (val) Loss: 0.2393, Acc: 0.9243\n",
            "Epoch 194 / 200 (train) Loss: 0.0679, Acc: 0.9893, (val) Loss: 0.2390, Acc: 0.9235\n",
            "Epoch 195 / 200 (train) Loss: 0.0677, Acc: 0.9904, (val) Loss: 0.2392, Acc: 0.9228\n",
            "Epoch 196 / 200 (train) Loss: 0.0677, Acc: 0.9898, (val) Loss: 0.2390, Acc: 0.9243\n",
            "Epoch 197 / 200 (train) Loss: 0.0679, Acc: 0.9898, (val) Loss: 0.2392, Acc: 0.9243\n",
            "Epoch 198 / 200 (train) Loss: 0.0680, Acc: 0.9894, (val) Loss: 0.2393, Acc: 0.9235\n",
            "Epoch 199 / 200 (train) Loss: 0.0678, Acc: 0.9896, (val) Loss: 0.2393, Acc: 0.9235\n",
            "Epoch 200 / 200 (train) Loss: 0.0682, Acc: 0.9897, (val) Loss: 0.2394, Acc: 0.9235\n"
          ]
        }
      ]
    },
    {
      "cell_type": "code",
      "source": [
        "def calc_acc(net, dataloader):\n",
        "    device = torch.device(\"cuda:0\" if torch.cuda.is_available() else \"cpu\")\n",
        "    net.eval()\n",
        "    corrects = 0\n",
        "    with torch.no_grad():\n",
        "        for inputs, labels in dataloader:\n",
        "            inputs = inputs.to(device)\n",
        "            labels = labels.to(device)\n",
        "            outputs = net(inputs)\n",
        "            _, preds = torch.max(outputs, 1) # ラベルを予想\n",
        "            corrects += torch.sum(preds == labels.data).cpu()\n",
        "    return corrects / len(dataloader.dataset)\n",
        "\n",
        "acc_train = calc_acc(net, train_dataloader)\n",
        "acc_valid = calc_acc(net, valid_dataloader)\n",
        "acc_test = calc_acc(net, test_dataloader)\n",
        "print('学習データの正解率: {:.4f}'.format(acc_train))\n",
        "print('検証データの正解率: {:.4f}'.format(acc_valid))\n",
        "print('テストデータの正解率: {:.4f}'.format(acc_test))\n",
        "\n",
        "fig, ax = plt.subplots(1,2, figsize=(10, 5))\n",
        "epochs = np.arange(num_epochs)\n",
        "ax[0].plot(epochs, train_loss, label='train')\n",
        "ax[0].plot(epochs, valid_loss, label='valid')\n",
        "ax[0].set_title('loss')\n",
        "ax[0].set_xlabel('epoch')\n",
        "ax[0].set_ylabel('loss')\n",
        "ax[1].plot(epochs, train_acc, label='train')\n",
        "ax[1].plot(epochs, valid_acc, label='valid')\n",
        "ax[1].set_title('acc')\n",
        "ax[1].set_xlabel('epoch')\n",
        "ax[1].set_ylabel('acc')\n",
        "ax[0].legend(loc='best')\n",
        "ax[1].legend(loc='best')\n",
        "plt.tight_layout()\n",
        "plt.savefig('fig79.png')\n",
        "plt.show()"
      ],
      "metadata": {
        "colab": {
          "base_uri": "https://localhost:8080/"
        },
        "id": "SRYDmBdNuu0W",
        "outputId": "0ed49774-4c57-4462-df10-d2c985d3fa2d"
      },
      "execution_count": null,
      "outputs": [
        {
          "output_type": "stream",
          "name": "stdout",
          "text": [
            "学習データの正解率: 0.9898\n",
            "検証データの正解率: 0.9235\n",
            "テストデータの正解率: 0.8943\n"
          ]
        },
        {
          "output_type": "display_data",
          "data": {
            "text/plain": [
              "<Figure size 1000x500 with 2 Axes>"
            ],
            "image/png": "[encoded data removed]"
          },
          "metadata": {}
        }
      ]
    }
  ]
}