{
  "nbformat": 4,
  "nbformat_minor": 0,
  "metadata": {
    "colab": {
      "provenance": [],
      "gpuType": "T4"
    },
    "kernelspec": {
      "name": "python3",
      "display_name": "Python 3"
    },
    "language_info": {
      "name": "python"
    },
    "accelerator": "GPU"
  },
  "cells": [
    {
      "cell_type": "markdown",
      "source": [
        "# 第8章: ニューラルネット\n",
        "第6章で取り組んだニュース記事のカテゴリ分類を題材として，ニューラルネットワークでカテゴリ分類モデルを実装する．なお，この章ではPyTorch, TensorFlow, Chainerなどの機械学習プラットフォームを活用せよ．\n",
        "\n",
        "\n",
        "---\n",
        "\n",
        "\n",
        "\n",
        "自然言語100本ノック　https://nlp100.github.io/ja/　\\\n",
        "解答解説　https://kakedashi-engineer.appspot.com/nlp100/\n",
        "\n",
        "\n",
        "---\n",
        "\n"
      ],
      "metadata": {
        "id": "G27HblkqdaHc"
      }
    },
    {
      "cell_type": "markdown",
      "source": [
        "# **70. 単語ベクトルの和による特徴量**\n",
        "- 問題50で構築した学習データ，検証データ，評価データを行列・ベクトルに変換したい．例えば，学習データについて，すべての事例xi\n",
        "の特徴ベクトルxi\n",
        "を並べた行列X\n",
        "と，正解ラベルを並べた行列（ベクトル）Y\n",
        "を作成したい"
      ],
      "metadata": {
        "id": "cFB9FDlKdR0m"
      }
    },
    {
      "cell_type": "code",
      "source": [
        "# データのダウンロード\n",
        "!wget https://archive.ics.uci.edu/ml/machine-learning-databases/00359/NewsAggregatorDataset.zip\n",
        "!unzip NewsAggregatorDataset.zip"
      ],
      "metadata": {
        "id": "fYbUrGInJ4SD",
        "colab": {
          "base_uri": "https://localhost:8080/"
        },
        "outputId": "1e50e139-8f9c-43a4-ad7f-15936b6a0cb3"
      },
      "execution_count": null,
      "outputs": [
        {
          "output_type": "stream",
          "name": "stdout",
          "text": [
            "--2024-01-05 03:54:59--  https://archive.ics.uci.edu/ml/machine-learning-databases/00359/NewsAggregatorDataset.zip\n",
            "Resolving archive.ics.uci.edu (archive.ics.uci.edu)... 128.195.10.252\n",
            "Connecting to archive.ics.uci.edu (archive.ics.uci.edu)|128.195.10.252|:443... connected.\n",
            "HTTP request sent, awaiting response... 200 OK\n",
            "Length: unspecified\n",
            "Saving to: ‘NewsAggregatorDataset.zip.2’\n",
            "\n",
            "NewsAggregatorDatas     [    <=>             ]  27.87M  36.4MB/s    in 0.8s    \n",
            "\n",
            "2024-01-05 03:55:00 (36.4 MB/s) - ‘NewsAggregatorDataset.zip.2’ saved [29224203]\n",
            "\n",
            "Archive:  NewsAggregatorDataset.zip\n",
            "replace 2pageSessions.csv? [y]es, [n]o, [A]ll, [N]one, [r]ename: "
          ]
        }
      ]
    },
    {
      "cell_type": "code",
      "source": [
        "# 読込時のエラー回避のためダブルクォーテーションをシングルクォーテーションに置換\n",
        "!sed -e 's/\"/'\\''/g' ./newsCorpora.csv > ./newsCorpora_re.csv"
      ],
      "metadata": {
        "id": "N3ELCZpYJ4Pa"
      },
      "execution_count": null,
      "outputs": []
    },
    {
      "cell_type": "code",
      "source": [
        "import pandas as pd\n",
        "from sklearn.model_selection import train_test_split\n",
        "\n",
        "# データの読込\n",
        "df = pd.read_csv('./newsCorpora_re.csv', header=None, sep='\\t', names=['ID', 'TITLE', 'URL', 'PUBLISHER', 'CATEGORY', 'STORY', 'HOSTNAME', 'TIMESTAMP'])\n",
        "\n",
        "# データの抽出\n",
        "df = df.loc[df['PUBLISHER'].isin(['Reuters', 'Huffington Post', 'Businessweek', 'Contactmusic.com', 'Daily Mail']), ['TITLE', 'CATEGORY']]\n",
        "\n",
        "# データの分割\n",
        "train, valid_test = train_test_split(df, test_size=0.2, shuffle=True, random_state=123, stratify=df['CATEGORY'])\n",
        "valid, test = train_test_split(valid_test, test_size=0.5, shuffle=True, random_state=123, stratify=valid_test['CATEGORY'])\n",
        "\n",
        "# 事例数の確認\n",
        "print('【学習データ】')\n",
        "print(train['CATEGORY'].value_counts())\n",
        "print('【検証データ】')\n",
        "print(valid['CATEGORY'].value_counts())\n",
        "print('【評価データ】')\n",
        "print(test['CATEGORY'].value_counts())\n"
      ],
      "metadata": {
        "colab": {
          "base_uri": "https://localhost:8080/"
        },
        "id": "p7V4qL-vJ4NS",
        "outputId": "60e49c62-cccb-4e4d-ba83-e6dec89e9b2d"
      },
      "execution_count": null,
      "outputs": [
        {
          "output_type": "stream",
          "name": "stdout",
          "text": [
            "【学習データ】\n",
            "b    4501\n",
            "e    4235\n",
            "t    1220\n",
            "m     728\n",
            "Name: CATEGORY, dtype: int64\n",
            "【検証データ】\n",
            "b    563\n",
            "e    529\n",
            "t    153\n",
            "m     91\n",
            "Name: CATEGORY, dtype: int64\n",
            "【評価データ】\n",
            "b    563\n",
            "e    530\n",
            "t    152\n",
            "m     91\n",
            "Name: CATEGORY, dtype: int64\n"
          ]
        }
      ]
    },
    {
      "cell_type": "code",
      "source": [
        "#第7章の問題60でも利用した学習済み単語ベクトルをダウンロードし、ロード\n",
        "\n",
        "!pip install -U --no-cache-dir gdown --pre"
      ],
      "metadata": {
        "colab": {
          "base_uri": "https://localhost:8080/"
        },
        "id": "8KTkKuhFJ4LD",
        "outputId": "6bebdb20-d158-466b-b98b-30e7ccb5d085"
      },
      "execution_count": null,
      "outputs": [
        {
          "output_type": "stream",
          "name": "stdout",
          "text": [
            "Requirement already satisfied: gdown in /usr/local/lib/python3.10/dist-packages (4.7.1)\n",
            "Requirement already satisfied: filelock in /usr/local/lib/python3.10/dist-packages (from gdown) (3.13.1)\n",
            "Requirement already satisfied: requests[socks] in /usr/local/lib/python3.10/dist-packages (from gdown) (2.31.0)\n",
            "Requirement already satisfied: six in /usr/local/lib/python3.10/dist-packages (from gdown) (1.16.0)\n",
            "Requirement already satisfied: tqdm in /usr/local/lib/python3.10/dist-packages (from gdown) (4.66.1)\n",
            "Requirement already satisfied: beautifulsoup4 in /usr/local/lib/python3.10/dist-packages (from gdown) (4.11.2)\n",
            "Requirement already satisfied: soupsieve>1.2 in /usr/local/lib/python3.10/dist-packages (from beautifulsoup4->gdown) (2.5)\n",
            "Requirement already satisfied: charset-normalizer<4,>=2 in /usr/local/lib/python3.10/dist-packages (from requests[socks]->gdown) (3.3.2)\n",
            "Requirement already satisfied: idna<4,>=2.5 in /usr/local/lib/python3.10/dist-packages (from requests[socks]->gdown) (3.6)\n",
            "Requirement already satisfied: urllib3<3,>=1.21.1 in /usr/local/lib/python3.10/dist-packages (from requests[socks]->gdown) (2.0.7)\n",
            "Requirement already satisfied: certifi>=2017.4.17 in /usr/local/lib/python3.10/dist-packages (from requests[socks]->gdown) (2023.11.17)\n",
            "Requirement already satisfied: PySocks!=1.5.7,>=1.5.6 in /usr/local/lib/python3.10/dist-packages (from requests[socks]->gdown) (1.7.1)\n"
          ]
        }
      ]
    },
    {
      "cell_type": "code",
      "source": [
        "import gdown\n",
        "from gensim.models import KeyedVectors\n",
        "\n",
        "# 学習済み単語ベクトルのダウンロード\n",
        "url = \"https://drive.google.com/uc?id=0B7XkCwpI5KDYNlNUTTlSS21pQmM\"\n",
        "output = 'GoogleNews-vectors-negative300.bin.gz'\n",
        "gdown.download(url, output, quiet=True)\n",
        "\n",
        "# ダウンロードファイルのロード\n",
        "model = KeyedVectors.load_word2vec_format('GoogleNews-vectors-negative300.bin.gz', binary=True)"
      ],
      "metadata": {
        "id": "-nlnIYRYK3xt"
      },
      "execution_count": null,
      "outputs": []
    },
    {
      "cell_type": "markdown",
      "source": [
        "特徴ベクトルとラベルベクトルを作成し、保存。 なお、このあとPyTorchによるニューラルネットのインプットとして利用するため、Tensor型に変換。\n",
        "Tensor型 Pytorchの用意した特殊な型。Numpyのndarrayと似ている。GPUで扱えるのが特徴。"
      ],
      "metadata": {
        "id": "5jkt0x1CMHuq"
      }
    },
    {
      "cell_type": "code",
      "source": [
        "import string\n",
        "import torch\n",
        "\n",
        "def transform_w2v(text):\n",
        "  table = str.maketrans(string.punctuation, ' '*len(string.punctuation))\n",
        "  words = text.translate(table).split()  # 記号をスペースに置換後、スペースで分割してリスト化\n",
        "  vec = [model[word] for word in words if word in model]  # 1語ずつベクトル化\n",
        "\n",
        "  return torch.tensor(sum(vec) / len(vec))  # 平均ベクトルをTensor型に変換して出力"
      ],
      "metadata": {
        "id": "Q1G18ORlMEE8"
      },
      "execution_count": null,
      "outputs": []
    },
    {
      "cell_type": "code",
      "source": [
        "# 特徴ベクトルの作成\n",
        "X_train = torch.stack([transform_w2v(text) for text in train['TITLE']])\n",
        "X_valid = torch.stack([transform_w2v(text) for text in valid['TITLE']])\n",
        "X_test = torch.stack([transform_w2v(text) for text in test['TITLE']])\n",
        "\n",
        "print(X_train.size())\n",
        "print(X_train)"
      ],
      "metadata": {
        "colab": {
          "base_uri": "https://localhost:8080/"
        },
        "id": "cOF3p0GnMS_B",
        "outputId": "98ee6218-d086-4dfd-b882-e14c452c8e77"
      },
      "execution_count": null,
      "outputs": [
        {
          "output_type": "stream",
          "name": "stdout",
          "text": [
            "torch.Size([10684, 300])\n",
            "tensor([[ 0.0837,  0.0056,  0.0068,  ...,  0.0751,  0.0433, -0.0868],\n",
            "        [ 0.0272,  0.0266, -0.0947,  ..., -0.1046, -0.0489, -0.0092],\n",
            "        [ 0.0577, -0.0159, -0.0780,  ..., -0.0421,  0.1229,  0.0876],\n",
            "        ...,\n",
            "        [ 0.0392, -0.0052,  0.0686,  ..., -0.0175,  0.0061, -0.0224],\n",
            "        [ 0.0798,  0.1017,  0.1066,  ..., -0.0752,  0.0623,  0.1138],\n",
            "        [ 0.1664,  0.0451,  0.0508,  ..., -0.0531, -0.0183, -0.0039]])\n"
          ]
        }
      ]
    },
    {
      "cell_type": "code",
      "source": [
        "X_valid.shape"
      ],
      "metadata": {
        "colab": {
          "base_uri": "https://localhost:8080/"
        },
        "id": "sWzKK_5iNhND",
        "outputId": "ad00523b-3a1d-492e-a8b6-981d18eeccc9"
      },
      "execution_count": 117,
      "outputs": [
        {
          "output_type": "execute_result",
          "data": {
            "text/plain": [
              "torch.Size([1336, 300])"
            ]
          },
          "metadata": {},
          "execution_count": 117
        }
      ]
    },
    {
      "cell_type": "code",
      "source": [
        "# 保存\n",
        "torch.save(X_train, 'X_train.pt')\n",
        "torch.save(X_valid, 'X_valid.pt')\n",
        "torch.save(X_test, 'X_test.pt')\n",
        "torch.save(y_train, 'y_train.pt')\n",
        "torch.save(y_valid, 'y_valid.pt')\n",
        "torch.save(y_test, 'y_test.pt')# ラベルベクトルの作成\n",
        "category_dict = {'b': 0, 't': 1, 'e':2, 'm':3}\n",
        "y_train = torch.tensor(train['CATEGORY'].map(lambda x: category_dict[x]).values)\n",
        "#CATEGORY列の各要素が、category_dictによってマップされ、新たなシリーズとして取得され、\n",
        "#さらに、.valueでNumpy配列にしてから、tensor型にしている。ややこしい。\n",
        "y_valid = torch.tensor(valid['CATEGORY'].map(lambda x: category_dict[x]).values)\n",
        "y_test = torch.tensor(test['CATEGORY'].map(lambda x: category_dict[x]).values)\n",
        "\n",
        "print(y_train.size())\n",
        "print(y_train)\n"
      ],
      "metadata": {
        "colab": {
          "base_uri": "https://localhost:8080/"
        },
        "id": "cHDW8E76MUjQ",
        "outputId": "4fbbddb7-e3b5-4d72-ede3-59ae2678d86e"
      },
      "execution_count": null,
      "outputs": [
        {
          "output_type": "stream",
          "name": "stdout",
          "text": [
            "torch.Size([10684])\n",
            "tensor([0, 1, 3,  ..., 0, 3, 2])\n"
          ]
        }
      ]
    },
    {
      "cell_type": "markdown",
      "source": [
        "# 71. 単層ニューラルネットワークによる予測"
      ],
      "metadata": {
        "id": "vY7cnJ8pMgbD"
      }
    },
    {
      "cell_type": "code",
      "source": [
        "from torch import nn\n",
        "\n",
        "class SLPNet(nn.Module):\n",
        "  #使用するオブジェクトを定義していく\n",
        "  def __init__(self, input_size, output_size):\n",
        "    super().__init__()\n",
        "    #書き方の決まり\n",
        "    self.fc = nn.Linear(input_size, output_size, bias=False)\n",
        "    nn.init.normal_(self.fc.weight, 0.0, 1.0)  # 正規乱数で重みを初期化\n",
        "\n",
        "  #順伝播\n",
        "  def forward(self, x):\n",
        "    x = self.fc(x)\n",
        "    return x"
      ],
      "metadata": {
        "id": "KNQOeNqWMqEH"
      },
      "execution_count": null,
      "outputs": []
    },
    {
      "cell_type": "code",
      "source": [
        "torch.manual_seed(0)\n",
        "\n",
        "#インスタンス化\n",
        "model = SLPNet(300, 4)  # 単層ニューラルネットワークの初期化\n",
        "y_hat_1 = torch.softmax(model(X_train[:1]), dim=-1) #最後の次元に対してsoftmaxを適用する。(今回は1×4だから最後の次元は4)\n",
        "print(y_hat_1) #未学習の行列Wでx1を分類したときに各カテゴリに属する確率"
      ],
      "metadata": {
        "colab": {
          "base_uri": "https://localhost:8080/"
        },
        "id": "pxYtfGJuMqy2",
        "outputId": "1737936b-341b-4801-92d3-b11145219752"
      },
      "execution_count": null,
      "outputs": [
        {
          "output_type": "stream",
          "name": "stdout",
          "text": [
            "tensor([[0.4273, 0.0958, 0.2492, 0.2277]], grad_fn=<SoftmaxBackward0>)\n"
          ]
        }
      ]
    },
    {
      "cell_type": "code",
      "source": [
        "model"
      ],
      "metadata": {
        "colab": {
          "base_uri": "https://localhost:8080/"
        },
        "id": "PYPUOzlsMqwd",
        "outputId": "bb3c9129-39d2-42ef-9c44-52b9dfc77786"
      },
      "execution_count": null,
      "outputs": [
        {
          "output_type": "execute_result",
          "data": {
            "text/plain": [
              "SLPNet(\n",
              "  (fc): Linear(in_features=300, out_features=4, bias=False)\n",
              ")"
            ]
          },
          "metadata": {},
          "execution_count": 86
        }
      ]
    },
    {
      "cell_type": "code",
      "source": [
        "Y_hat = torch.softmax(model.forward(X_train[:4]), dim=-1)\n",
        "print(Y_hat) #x1～x4を分類したときに各カテゴリに属する確率"
      ],
      "metadata": {
        "colab": {
          "base_uri": "https://localhost:8080/"
        },
        "id": "R9uT6k1IMqt1",
        "outputId": "14c4301a-5fd9-47b8-bef3-ea9c06702b3f"
      },
      "execution_count": null,
      "outputs": [
        {
          "output_type": "stream",
          "name": "stdout",
          "text": [
            "tensor([[0.4273, 0.0958, 0.2492, 0.2277],\n",
            "        [0.2445, 0.2431, 0.0197, 0.4927],\n",
            "        [0.7853, 0.1132, 0.0291, 0.0724],\n",
            "        [0.5279, 0.2319, 0.0873, 0.1529]], grad_fn=<SoftmaxBackward0>)\n"
          ]
        }
      ]
    },
    {
      "cell_type": "markdown",
      "source": [
        "# 72. 損失と勾配の計算\n",
        "- 学習データの事例x1\n",
        "と事例集合x1,x2,x3,x4\n",
        "に対して，クロスエントロピー損失と，行列W\n",
        "に対する勾配を計算せよ．"
      ],
      "metadata": {
        "id": "OJ8Th3qcMqq_"
      }
    },
    {
      "cell_type": "markdown",
      "source": [
        "nnパッケージのCrossEntropyLossを使用する。これを用いることで、最後の次元の平均損失を計算することができる。"
      ],
      "metadata": {
        "id": "Dcnn7CwSu-rH"
      }
    },
    {
      "cell_type": "code",
      "source": [
        "criterion = nn.CrossEntropyLoss()"
      ],
      "metadata": {
        "id": "Nvozob6pMqov"
      },
      "execution_count": null,
      "outputs": []
    },
    {
      "cell_type": "code",
      "source": [
        "l_1 = criterion(model(X_train[:1]), y_train[:1])  # 損失を計算。入力ベクトルはsoftmax前の値\n",
        "model.zero_grad()  # 勾配をゼロで初期化←初期状態ではNoneだった\n",
        "l_1.backward()  # 勾配を計算。誤差逆伝播法かな\n",
        "print(f'損失: {l_1:.4f}')\n",
        "print(f'勾配:\\n{model.fc.weight.grad}')"
      ],
      "metadata": {
        "colab": {
          "base_uri": "https://localhost:8080/"
        },
        "id": "cE5aPU-AMqmG",
        "outputId": "b02cec57-8d0f-4fac-9561-5d05a6965ff8"
      },
      "execution_count": null,
      "outputs": [
        {
          "output_type": "stream",
          "name": "stdout",
          "text": [
            "損失: 0.8503\n",
            "勾配:\n",
            "tensor([[-0.0479, -0.0032, -0.0039,  ..., -0.0430, -0.0248,  0.0497],\n",
            "        [ 0.0080,  0.0005,  0.0007,  ...,  0.0072,  0.0041, -0.0083],\n",
            "        [ 0.0208,  0.0014,  0.0017,  ...,  0.0187,  0.0108, -0.0216],\n",
            "        [ 0.0190,  0.0013,  0.0016,  ...,  0.0171,  0.0099, -0.0198]])\n"
          ]
        }
      ]
    },
    {
      "cell_type": "code",
      "source": [
        "l = criterion(model(X_train[:4]), y_train[:4])\n",
        "model.zero_grad()\n",
        "l.backward()\n",
        "print(f'損失: {l:.4f}')\n",
        "print(f'勾配:\\n{model.fc.weight.grad}')"
      ],
      "metadata": {
        "colab": {
          "base_uri": "https://localhost:8080/"
        },
        "id": "FM9P0y4CMqjq",
        "outputId": "7f573c62-463b-49fb-b573-a0e515d2404e"
      },
      "execution_count": null,
      "outputs": [
        {
          "output_type": "stream",
          "name": "stdout",
          "text": [
            "損失: 1.8321\n",
            "勾配:\n",
            "tensor([[-0.0063,  0.0042, -0.0139,  ..., -0.0272,  0.0201,  0.0263],\n",
            "        [-0.0047, -0.0025,  0.0195,  ...,  0.0196,  0.0160,  0.0009],\n",
            "        [ 0.0184, -0.0110, -0.0148,  ...,  0.0070, -0.0055, -0.0001],\n",
            "        [-0.0074,  0.0092,  0.0092,  ...,  0.0006, -0.0306, -0.0272]])\n"
          ]
        }
      ]
    },
    {
      "cell_type": "markdown",
      "source": [
        "# 73. 確率的勾配降下法による学習Permalink\n",
        "- 確率的勾配降下法（SGD: Stochastic Gradient Descent）を用いて，行列W\n",
        "を学習せよ．なお，学習は適当な基準で終了させればよい（例えば「100エポックで終了」など）．"
      ],
      "metadata": {
        "id": "Bkp9Rsb2WN6B"
      }
    },
    {
      "cell_type": "markdown",
      "source": [
        "学習に当たり、DatasetとDataloaderを準備。 Datasetは特徴ベクトルとラベルベクトルを合わせて保持することができる型で、以下のクラスを用いてもとのTensorを変換する。"
      ],
      "metadata": {
        "id": "AVicoslE4LY2"
      }
    },
    {
      "cell_type": "code",
      "source": [
        "from torch.utils.data import Dataset\n",
        "\n",
        "class NewsDataset(Dataset):\n",
        "  def __init__(self, X, y):  # datasetの構成要素を指定\n",
        "    self.X = X\n",
        "    self.y = y\n",
        "\n",
        "  def __len__(self):  # len(dataset)で返す値を指定\n",
        "    return len(self.y)\n",
        "\n",
        "  def __getitem__(self, idx):  # dataset[idx]で返す値を指定\n",
        "    return [self.X[idx], self.y[idx]]"
      ],
      "metadata": {
        "id": "cCsuKRrtMqhc"
      },
      "execution_count": null,
      "outputs": []
    },
    {
      "cell_type": "markdown",
      "source": [
        "変換後、DataLoaderを作成。DataloaderはDatasetを入力とし、指定したサイズ(batch_size)にまとめたデータを順に取り出すことができる。ここではbatch_size=1としているので、1つずつデータを取り出すDataloaderを作成することを意味。 なお、Dataloaderはfor文で順に取り出すか、またはnext(iter(Dataloader))で次のかたまりを呼び出すことが可能。\n",
        "\n",
        "> インデントされたブロック"
      ],
      "metadata": {
        "id": "GU_zAD7u4QQK"
      }
    },
    {
      "cell_type": "code",
      "source": [
        "from torch.utils.data import DataLoader\n",
        "\n",
        "# Datasetの作成\n",
        "dataset_train = NewsDataset(X_train, y_train)\n",
        "dataset_valid = NewsDataset(X_valid, y_valid)\n",
        "dataset_test = NewsDataset(X_test, y_test)\n",
        "\n",
        "# Dataloaderの作成\n",
        "dataloader_train = DataLoader(dataset_train, batch_size=1, shuffle=True)\n",
        "dataloader_valid = DataLoader(dataset_valid, batch_size=len(dataset_valid), shuffle=False)\n",
        "dataloader_test = DataLoader(dataset_test, batch_size=len(dataset_test), shuffle=False)\n"
      ],
      "metadata": {
        "id": "SQjzqp8iMqei"
      },
      "execution_count": null,
      "outputs": []
    },
    {
      "cell_type": "markdown",
      "source": [
        "データの準備ができたので、行列W を学習。 モデルの定義、損失関数の定義は前問と同様です。今回は計算した勾配から重みも更新するため、オプティマイザも定義。ここでは指示に従いSGDをセットしていく。\n",
        "\n",
        "- 対象の設定や構造などを調整し、より好ましい状態に組み替える「最適化」（optimization）を行うためのソフトウェアや機能のこと。"
      ],
      "metadata": {
        "id": "GfCz7kb74f2w"
      }
    },
    {
      "cell_type": "code",
      "source": [
        "# モデルの定義\n",
        "model = SLPNet(300, 4)\n",
        "\n",
        "# 損失関数の定義\n",
        "criterion = nn.CrossEntropyLoss()\n",
        "\n",
        "# オプティマイザの定義\n",
        "optimizer = torch.optim.SGD(model.parameters(), lr=1e-1)\n",
        "\n",
        "# 学習\n",
        "num_epochs = 10\n",
        "for epoch in range(num_epochs):\n",
        "  # 訓練モードに設定\n",
        "  model.train()\n",
        "  loss_train = 0.0\n",
        "  for i, (inputs, labels) in enumerate(dataloader_train):\n",
        "    # 勾配をゼロで初期化\n",
        "    optimizer.zero_grad()\n",
        "\n",
        "    # 順伝播 + 誤差逆伝播 + 重み更新\n",
        "    outputs = model(inputs)\n",
        "    loss = criterion(outputs, labels)\n",
        "    loss.backward()\n",
        "    optimizer.step()\n",
        "\n",
        "    # 損失を記録\n",
        "    loss_train += loss.item()\n",
        "\n",
        "  # バッチ単位の平均損失計算\n",
        "  loss_train = loss_train / i\n",
        "\n",
        "  # 検証データの損失計算\n",
        "  model.eval()\n",
        "  with torch.no_grad():\n",
        "    inputs, labels = next(iter(dataloader_valid))\n",
        "    outputs = model(inputs)\n",
        "    loss_valid = criterion(outputs, labels)\n",
        "\n",
        "  # ログを出力\n",
        "  print(f'epoch: {epoch + 1}, loss_train: {loss_train:.4f}, loss_valid: {loss_valid:.4f}')"
      ],
      "metadata": {
        "colab": {
          "base_uri": "https://localhost:8080/"
        },
        "id": "w_J1FZBjMqbi",
        "outputId": "c50df0e7-3891-4c44-c111-e94686f035d7"
      },
      "execution_count": null,
      "outputs": [
        {
          "output_type": "stream",
          "name": "stdout",
          "text": [
            "epoch: 1, loss_train: 0.4527, loss_valid: 0.3751\n",
            "epoch: 2, loss_train: 0.3061, loss_valid: 0.3292\n",
            "epoch: 3, loss_train: 0.2799, loss_valid: 0.3206\n",
            "epoch: 4, loss_train: 0.2650, loss_valid: 0.3146\n",
            "epoch: 5, loss_train: 0.2558, loss_valid: 0.3075\n",
            "epoch: 6, loss_train: 0.2482, loss_valid: 0.3109\n",
            "epoch: 7, loss_train: 0.2433, loss_valid: 0.3063\n",
            "epoch: 8, loss_train: 0.2388, loss_valid: 0.3059\n",
            "epoch: 9, loss_train: 0.2359, loss_valid: 0.3062\n",
            "epoch: 10, loss_train: 0.2324, loss_valid: 0.3075\n"
          ]
        }
      ]
    },
    {
      "cell_type": "markdown",
      "source": [
        "# 74. 正解率の計測\n",
        "- 問題73で求めた行列を用いて学習データおよび評価データの事例を分類したとき，その正解率をそれぞれ求めよ．"
      ],
      "metadata": {
        "id": "-YjzMvQSXDE-"
      }
    },
    {
      "cell_type": "code",
      "source": [
        "#学習したモデルとDataloaderを入力として、正解率を算出する関数を定義\n",
        "def calculate_accuracy(model, loader):\n",
        "  model.eval() #モデルの挙動が学習モードから評価モードに変更\n",
        "  total = 0\n",
        "  correct = 0\n",
        "  with torch.no_grad(): #評価の際は勾配情報が不要であり、逆伝播の計算を行わないことで無駄な計算を避けることができる。\n",
        "    for inputs, labels in loader:\n",
        "      outputs = model(inputs)\n",
        "      pred = torch.argmax(outputs, dim=-1)\n",
        "      total += len(inputs)\n",
        "      correct += (pred == labels).sum().item()\n",
        "\n",
        "  return correct / total"
      ],
      "metadata": {
        "id": "Uyzkg2QgMqY-"
      },
      "execution_count": null,
      "outputs": []
    },
    {
      "cell_type": "code",
      "source": [
        "acc_train = calculate_accuracy(model, dataloader_train)\n",
        "acc_test = calculate_accuracy(model, dataloader_test)\n",
        "print(f'正解率（学習データ）：{acc_train:.3f}')\n",
        "print(f'正解率（評価データ）：{acc_test:.3f}')"
      ],
      "metadata": {
        "colab": {
          "base_uri": "https://localhost:8080/"
        },
        "id": "YMZfInhbXJjR",
        "outputId": "416b5baa-567e-42c6-dec7-a1258ee07886"
      },
      "execution_count": null,
      "outputs": [
        {
          "output_type": "stream",
          "name": "stdout",
          "text": [
            "正解率（学習データ）：0.924\n",
            "正解率（評価データ）：0.903\n"
          ]
        }
      ]
    },
    {
      "cell_type": "markdown",
      "source": [
        "# 75. 損失と正解率のプロット\n",
        "- 問題73のコードを改変し，各エポックのパラメータ更新が完了するたびに，訓練データでの損失，正解率，検証データでの損失，正解率をグラフにプロットし，学習の進捗状況を確認できるようにせよ．"
      ],
      "metadata": {
        "id": "8yVzz08xXLz7"
      }
    },
    {
      "cell_type": "code",
      "source": [
        "#前問の関数を損失も計算できるように改変し、エポック毎に適用することで損失と正解率を記録\n",
        "def calculate_loss_and_accuracy(model, criterion, loader):\n",
        "  model.eval()\n",
        "  loss = 0.0\n",
        "  total = 0\n",
        "  correct = 0\n",
        "  with torch.no_grad():\n",
        "    for inputs, labels in loader:\n",
        "      outputs = model(inputs)\n",
        "      loss += criterion(outputs, labels).item()\n",
        "      pred = torch.argmax(outputs, dim=-1)\n",
        "      total += len(inputs)\n",
        "      correct += (pred == labels).sum().item()\n",
        "\n",
        "  return loss / len(loader), correct / total"
      ],
      "metadata": {
        "id": "iZ48hAa3YWVH"
      },
      "execution_count": null,
      "outputs": []
    },
    {
      "cell_type": "code",
      "source": [
        "\n",
        "# モデルの定義\n",
        "model = SLPNet(300, 4)\n",
        "\n",
        "# 損失関数の定義\n",
        "criterion = nn.CrossEntropyLoss()\n",
        "\n",
        "# オプティマイザの定義\n",
        "optimizer = torch.optim.SGD(model.parameters(), lr=1e-1)\n",
        "\n",
        "# 学習\n",
        "num_epochs = 30\n",
        "log_train = []\n",
        "log_valid = []\n",
        "for epoch in range(num_epochs):\n",
        "  # 訓練モードに設定\n",
        "  model.train()\n",
        "  for inputs, labels in dataloader_train:\n",
        "    # 勾配をゼロで初期化\n",
        "    optimizer.zero_grad()\n",
        "\n",
        "    # 順伝播 + 誤差逆伝播 + 重み更新\n",
        "    outputs = model(inputs)\n",
        "    loss = criterion(outputs, labels)\n",
        "    loss.backward()\n",
        "    optimizer.step()\n",
        "\n",
        "     # 損失と正解率の算出\n",
        "  loss_train, acc_train = calculate_loss_and_accuracy(model, criterion, dataloader_train)\n",
        "  loss_valid, acc_valid = calculate_loss_and_accuracy(model, criterion, dataloader_valid)\n",
        "  log_train.append([loss_train, acc_train])\n",
        "  log_valid.append([loss_valid, acc_valid])\n",
        "\n",
        "  # ログを出力\n",
        "  print(f'epoch: {epoch + 1}, loss_train: {loss_train:.4f}, accuracy_train: {acc_train:.4f}, loss_valid: {loss_valid:.4f}, accuracy_vaild:  {acc_valid:.4f}')"
      ],
      "metadata": {
        "colab": {
          "base_uri": "https://localhost:8080/"
        },
        "id": "mRJneGFSYWzL",
        "outputId": "06fd3c1d-2665-4981-d4e0-b99e5aeb1b5f"
      },
      "execution_count": null,
      "outputs": [
        {
          "output_type": "stream",
          "name": "stdout",
          "text": [
            "epoch: 1, loss_train: 0.3360, accuracy_train: 0.8881, loss_valid: 0.3615, accuracy_vaild:  0.8802\n",
            "epoch: 2, loss_train: 0.2862, accuracy_train: 0.9065, loss_valid: 0.3240, accuracy_vaild:  0.8885\n",
            "epoch: 3, loss_train: 0.2662, accuracy_train: 0.9126, loss_valid: 0.3117, accuracy_vaild:  0.8937\n",
            "epoch: 4, loss_train: 0.2554, accuracy_train: 0.9155, loss_valid: 0.3106, accuracy_vaild:  0.8967\n",
            "epoch: 5, loss_train: 0.2454, accuracy_train: 0.9184, loss_valid: 0.3046, accuracy_vaild:  0.8990\n",
            "epoch: 6, loss_train: 0.2423, accuracy_train: 0.9160, loss_valid: 0.3099, accuracy_vaild:  0.8960\n",
            "epoch: 7, loss_train: 0.2345, accuracy_train: 0.9227, loss_valid: 0.3042, accuracy_vaild:  0.8990\n",
            "epoch: 8, loss_train: 0.2334, accuracy_train: 0.9219, loss_valid: 0.3047, accuracy_vaild:  0.8952\n",
            "epoch: 9, loss_train: 0.2270, accuracy_train: 0.9247, loss_valid: 0.3019, accuracy_vaild:  0.8967\n",
            "epoch: 10, loss_train: 0.2327, accuracy_train: 0.9213, loss_valid: 0.3135, accuracy_vaild:  0.8937\n",
            "epoch: 11, loss_train: 0.2229, accuracy_train: 0.9255, loss_valid: 0.3049, accuracy_vaild:  0.8922\n",
            "epoch: 12, loss_train: 0.2204, accuracy_train: 0.9253, loss_valid: 0.3071, accuracy_vaild:  0.8930\n",
            "epoch: 13, loss_train: 0.2261, accuracy_train: 0.9222, loss_valid: 0.3145, accuracy_vaild:  0.8922\n",
            "epoch: 14, loss_train: 0.2197, accuracy_train: 0.9256, loss_valid: 0.3120, accuracy_vaild:  0.8937\n",
            "epoch: 15, loss_train: 0.2185, accuracy_train: 0.9251, loss_valid: 0.3132, accuracy_vaild:  0.8930\n",
            "epoch: 16, loss_train: 0.2148, accuracy_train: 0.9285, loss_valid: 0.3101, accuracy_vaild:  0.8922\n",
            "epoch: 17, loss_train: 0.2152, accuracy_train: 0.9293, loss_valid: 0.3120, accuracy_vaild:  0.8930\n",
            "epoch: 18, loss_train: 0.2171, accuracy_train: 0.9266, loss_valid: 0.3166, accuracy_vaild:  0.8937\n",
            "epoch: 19, loss_train: 0.2173, accuracy_train: 0.9260, loss_valid: 0.3183, accuracy_vaild:  0.8907\n",
            "epoch: 20, loss_train: 0.2122, accuracy_train: 0.9284, loss_valid: 0.3150, accuracy_vaild:  0.8915\n",
            "epoch: 21, loss_train: 0.2133, accuracy_train: 0.9279, loss_valid: 0.3165, accuracy_vaild:  0.8930\n",
            "epoch: 22, loss_train: 0.2115, accuracy_train: 0.9282, loss_valid: 0.3192, accuracy_vaild:  0.8915\n",
            "epoch: 23, loss_train: 0.2121, accuracy_train: 0.9276, loss_valid: 0.3224, accuracy_vaild:  0.8922\n",
            "epoch: 24, loss_train: 0.2114, accuracy_train: 0.9282, loss_valid: 0.3215, accuracy_vaild:  0.8922\n",
            "epoch: 25, loss_train: 0.2095, accuracy_train: 0.9286, loss_valid: 0.3211, accuracy_vaild:  0.8900\n",
            "epoch: 26, loss_train: 0.2087, accuracy_train: 0.9301, loss_valid: 0.3203, accuracy_vaild:  0.8907\n",
            "epoch: 27, loss_train: 0.2122, accuracy_train: 0.9275, loss_valid: 0.3269, accuracy_vaild:  0.8922\n",
            "epoch: 28, loss_train: 0.2082, accuracy_train: 0.9313, loss_valid: 0.3223, accuracy_vaild:  0.8930\n",
            "epoch: 29, loss_train: 0.2095, accuracy_train: 0.9301, loss_valid: 0.3244, accuracy_vaild:  0.8922\n",
            "epoch: 30, loss_train: 0.2085, accuracy_train: 0.9296, loss_valid: 0.3266, accuracy_vaild:  0.8922\n"
          ]
        }
      ]
    },
    {
      "cell_type": "code",
      "source": [
        "from matplotlib import pyplot as plt\n",
        "import numpy as np\n",
        "\n",
        "# 視覚化\n",
        "fig, ax = plt.subplots(1, 2, figsize=(15, 5))\n",
        "ax[0].plot(np.array(log_train).T[0], label='train')\n",
        "ax[0].plot(np.array(log_valid).T[0], label='valid')\n",
        "ax[0].set_xlabel('epoch')\n",
        "ax[0].set_ylabel('loss')\n",
        "ax[0].legend()\n",
        "ax[1].plot(np.array(log_train).T[1], label='train')\n",
        "ax[1].plot(np.array(log_valid).T[1], label='valid')\n",
        "ax[1].set_xlabel('epoch')\n",
        "ax[1].set_ylabel('accuracy')\n",
        "ax[1].legend()\n",
        "plt.show()"
      ],
      "metadata": {
        "colab": {
          "base_uri": "https://localhost:8080/",
          "height": 465
        },
        "id": "KfGPx0grZOvs",
        "outputId": "52dc93b5-4faf-466a-b3ad-9761f8e9fdab"
      },
      "execution_count": null,
      "outputs": [
        {
          "output_type": "display_data",
          "data": {
            "text/plain": [
              "<Figure size 1500x500 with 2 Axes>"
            ],
            "image/png": "[encoded data removed]"
          },
          "metadata": {}
        }
      ]
    },
    {
      "cell_type": "markdown",
      "source": [
        "# 76. チェックポイント\n",
        "- 問題75のコードを改変し，各エポックのパラメータ更新が完了するたびに，チェックポイント（学習途中のパラメータ（重み行列など）の値や最適化アルゴリズムの内部状態）をファイルに書き出せ．"
      ],
      "metadata": {
        "id": "ceQ_AdfJaE1O"
      }
    },
    {
      "cell_type": "markdown",
      "source": [
        "学習途中のパラメータはmodel.state_dict()、最適化アルゴリズムの内部状態はoptimizer.state_dict()でアクセス可能なため、各エポックでエポック数と合わせて保存する処理を追加。 なお、出力は前問と同様。"
      ],
      "metadata": {
        "id": "rM5qx5PN9Y4t"
      }
    },
    {
      "cell_type": "code",
      "source": [
        "# モデルの定義\n",
        "model = SLPNet(300, 4)\n",
        "\n",
        "# 損失関数の定義\n",
        "criterion = nn.CrossEntropyLoss()\n",
        "\n",
        "# オプティマイザの定義\n",
        "optimizer = torch.optim.SGD(model.parameters(), lr=1e-1)\n",
        "\n",
        "# 学習\n",
        "num_epochs = 10\n",
        "log_train = []\n",
        "log_valid = []\n",
        "for epoch in range(num_epochs):\n",
        "  # 訓練モードに設定\n",
        "  model.train()\n",
        "  for inputs, labels in dataloader_train:\n",
        "    # 勾配をゼロで初期化\n",
        "    optimizer.zero_grad()\n",
        "\n",
        "    # 順伝播 + 誤差逆伝播 + 重み更新\n",
        "    outputs = model(inputs)\n",
        "    loss = criterion(outputs, labels)\n",
        "    loss.backward()\n",
        "    optimizer.step()\n",
        "\n",
        "  # 損失と正解率の算出\n",
        "  loss_train, acc_train = calculate_loss_and_accuracy(model, criterion, dataloader_train)\n",
        "  loss_valid, acc_valid = calculate_loss_and_accuracy(model, criterion, dataloader_valid)\n",
        "  log_train.append([loss_train, acc_train])\n",
        "  log_valid.append([loss_valid, acc_valid])\n",
        "\n",
        "  # チェックポイントの保存\n",
        "  torch.save({'epoch': epoch, 'model_state_dict': model.state_dict(), 'optimizer_state_dict': optimizer.state_dict()}, f'checkpoint{epoch + 1}.pt')\n",
        "\n",
        "  # ログを出力\n",
        "  print(f'epoch: {epoch + 1}, loss_train: {loss_train:.4f}, accuracy_train: {acc_train:.4f}, loss_valid: {loss_valid:.4f}, accuracy_vaild:  {acc_valid:.4f}')\n"
      ],
      "metadata": {
        "colab": {
          "base_uri": "https://localhost:8080/"
        },
        "id": "QWTi4UQyZUHc",
        "outputId": "64881793-b93a-4a27-ab43-05f3bc128e5b"
      },
      "execution_count": null,
      "outputs": [
        {
          "output_type": "stream",
          "name": "stdout",
          "text": [
            "epoch: 1, loss_train: 0.3256, accuracy_train: 0.8869, loss_valid: 0.3526, accuracy_vaild:  0.8780\n",
            "epoch: 2, loss_train: 0.2851, accuracy_train: 0.9046, loss_valid: 0.3273, accuracy_vaild:  0.8892\n",
            "epoch: 3, loss_train: 0.2680, accuracy_train: 0.9113, loss_valid: 0.3195, accuracy_vaild:  0.8915\n",
            "epoch: 4, loss_train: 0.2520, accuracy_train: 0.9136, loss_valid: 0.3080, accuracy_vaild:  0.8975\n",
            "epoch: 5, loss_train: 0.2442, accuracy_train: 0.9175, loss_valid: 0.3066, accuracy_vaild:  0.8997\n",
            "epoch: 6, loss_train: 0.2384, accuracy_train: 0.9220, loss_valid: 0.3076, accuracy_vaild:  0.8982\n",
            "epoch: 7, loss_train: 0.2334, accuracy_train: 0.9225, loss_valid: 0.3077, accuracy_vaild:  0.9012\n",
            "epoch: 8, loss_train: 0.2309, accuracy_train: 0.9219, loss_valid: 0.3083, accuracy_vaild:  0.8930\n",
            "epoch: 9, loss_train: 0.2267, accuracy_train: 0.9235, loss_valid: 0.3079, accuracy_vaild:  0.8945\n",
            "epoch: 10, loss_train: 0.2308, accuracy_train: 0.9226, loss_valid: 0.3134, accuracy_vaild:  0.8922\n"
          ]
        }
      ]
    },
    {
      "cell_type": "markdown",
      "source": [
        "# 77. ミニバッチ化\n",
        "- 問題76のコードを改変し，B\n",
        "事例ごとに損失・勾配を計算し，行列W\n",
        "の値を更新せよ（ミニバッチ化）．B\n",
        "の値を1,2,4,8,…\n",
        "と変化させながら，1エポックの学習に要する時間を比較せよ．"
      ],
      "metadata": {
        "id": "CQT5fBxmbZVP"
      }
    },
    {
      "cell_type": "markdown",
      "source": [
        "バッチサイズを変えるごとにすべての処理を書くのは大変なので、Dataloaderの作成以降の処理をtrain_modelとして関数化し、バッチサイズを含むいくつかのパラメータを引数として設定。"
      ],
      "metadata": {
        "id": "X_fjLHHA9_jH"
      }
    },
    {
      "cell_type": "code",
      "source": [
        "import time\n",
        "\n",
        "def train_model(dataset_train, dataset_valid, batch_size, model, criterion, optimizer, num_epochs):\n",
        "  # dataloaderの作成\n",
        "  dataloader_train = DataLoader(dataset_train, batch_size=batch_size, shuffle=True)\n",
        "  dataloader_valid = DataLoader(dataset_valid, batch_size=len(dataset_valid), shuffle=False)\n",
        "\n",
        "  # 学習\n",
        "  log_train = []\n",
        "  log_valid = []\n",
        "  for epoch in range(num_epochs):\n",
        "    # 開始時刻の記録\n",
        "    s_time = time.time()\n",
        "\n",
        "    # 訓練モードに設定\n",
        "    model.train()\n",
        "    for inputs, labels in dataloader_train:\n",
        "      # 勾配をゼロで初期化\n",
        "      optimizer.zero_grad()\n",
        "\n",
        "      # 順伝播 + 誤差逆伝播 + 重み更新\n",
        "      outputs = model(inputs)\n",
        "      loss = criterion(outputs, labels)\n",
        "      loss.backward()\n",
        "      optimizer.step()\n",
        "\n",
        "\n",
        "    # 損失と正解率の算出\n",
        "    loss_train, acc_train = calculate_loss_and_accuracy(model, criterion, dataloader_train)\n",
        "    loss_valid, acc_valid = calculate_loss_and_accuracy(model, criterion, dataloader_valid)\n",
        "    log_train.append([loss_train, acc_train])\n",
        "    log_valid.append([loss_valid, acc_valid])\n",
        "\n",
        "    # チェックポイントの保存\n",
        "    torch.save({'epoch': epoch, 'model_state_dict': model.state_dict(), 'optimizer_state_dict': optimizer.state_dict()}, f'checkpoint{epoch + 1}.pt')\n",
        "\n",
        "    # 終了時刻の記録\n",
        "    e_time = time.time()\n",
        "\n",
        "    # ログを出力\n",
        "    print(f'epoch: {epoch + 1}, loss_train: {loss_train:.4f}, accuracy_train: {acc_train:.4f}, loss_valid: {loss_valid:.4f}, accuracy_valid: {acc_valid:.4f}, {(e_time - s_time):.4f}sec')\n",
        "\n",
        "  return {'train': log_train, 'valid': log_valid}\n"
      ],
      "metadata": {
        "id": "x7TPrD83cAjT"
      },
      "execution_count": null,
      "outputs": []
    },
    {
      "cell_type": "markdown",
      "source": [
        "バッチサイズを変えながら、処理時間を計測"
      ],
      "metadata": {
        "id": "BGq_AtqL-QzW"
      }
    },
    {
      "cell_type": "code",
      "source": [
        "# datasetの作成\n",
        "dataset_train = NewsDataset(X_train, y_train)\n",
        "dataset_valid = NewsDataset(X_valid, y_valid)\n",
        "\n",
        "# モデルの定義\n",
        "model = SLPNet(300, 4)\n",
        "\n",
        "# 損失関数の定義\n",
        "criterion = nn.CrossEntropyLoss()\n",
        "\n",
        "# オプティマイザの定義\n",
        "optimizer = torch.optim.SGD(model.parameters(), lr=1e-1)\n",
        "\n",
        "# モデルの学習\n",
        "for batch_size in [2 ** i for i in range(11)]:\n",
        "  print(f'バッチサイズ: {batch_size}')\n",
        "  log = train_model(dataset_train, dataset_valid, batch_size, model, criterion, optimizer, 1)"
      ],
      "metadata": {
        "colab": {
          "base_uri": "https://localhost:8080/"
        },
        "id": "9KdcR4jVcBQP",
        "outputId": "c87df989-75a4-4d8e-b476-fb793628bfde"
      },
      "execution_count": null,
      "outputs": [
        {
          "output_type": "stream",
          "name": "stdout",
          "text": [
            "バッチサイズ: 1\n",
            "epoch: 1, loss_train: 0.3267, accuracy_train: 0.8887, loss_valid: 0.3520, accuracy_valid: 0.8780, 6.9054sec\n",
            "バッチサイズ: 2\n",
            "epoch: 1, loss_train: 0.2992, accuracy_train: 0.8973, loss_valid: 0.3292, accuracy_valid: 0.8832, 3.5461sec\n",
            "バッチサイズ: 4\n",
            "epoch: 1, loss_train: 0.2899, accuracy_train: 0.9008, loss_valid: 0.3242, accuracy_valid: 0.8870, 2.0910sec\n",
            "バッチサイズ: 8\n",
            "epoch: 1, loss_train: 0.2861, accuracy_train: 0.9016, loss_valid: 0.3219, accuracy_valid: 0.8900, 1.3737sec\n",
            "バッチサイズ: 16\n",
            "epoch: 1, loss_train: 0.2846, accuracy_train: 0.9028, loss_valid: 0.3208, accuracy_valid: 0.8892, 0.6948sec\n",
            "バッチサイズ: 32\n",
            "epoch: 1, loss_train: 0.2835, accuracy_train: 0.9026, loss_valid: 0.3203, accuracy_valid: 0.8907, 0.3946sec\n",
            "バッチサイズ: 64\n",
            "epoch: 1, loss_train: 0.2831, accuracy_train: 0.9029, loss_valid: 0.3201, accuracy_valid: 0.8900, 0.2710sec\n",
            "バッチサイズ: 128\n",
            "epoch: 1, loss_train: 0.2826, accuracy_train: 0.9028, loss_valid: 0.3199, accuracy_valid: 0.8900, 0.2017sec\n",
            "バッチサイズ: 256\n",
            "epoch: 1, loss_train: 0.2823, accuracy_train: 0.9028, loss_valid: 0.3199, accuracy_valid: 0.8907, 0.1802sec\n",
            "バッチサイズ: 512\n",
            "epoch: 1, loss_train: 0.2825, accuracy_train: 0.9028, loss_valid: 0.3199, accuracy_valid: 0.8907, 0.1714sec\n",
            "バッチサイズ: 1024\n",
            "epoch: 1, loss_train: 0.2856, accuracy_train: 0.9028, loss_valid: 0.3199, accuracy_valid: 0.8907, 0.1499sec\n"
          ]
        }
      ]
    },
    {
      "cell_type": "markdown",
      "source": [
        "78. **GPU上での学習Permalink**\n",
        "- 問題77のコードを改変し，GPU上で学習を実行せよ"
      ],
      "metadata": {
        "id": "TtzvFLzYdOk-"
      }
    },
    {
      "cell_type": "markdown",
      "source": [
        "\n",
        "\n",
        "```\n",
        "torch.cuba.is_available()\n",
        "```\n",
        "\n"
      ],
      "metadata": {
        "id": "j277Ut23_ltI"
      }
    },
    {
      "cell_type": "markdown",
      "source": [
        "GPUを指定する引数deviceをcalculate_loss_and_accuracy、train_modelに追加する。 それぞれの関数内で、モデルおよび入力TensorをGPUに送る処理を追加し、deviceにcudaを指定すればGPUを使用することができる。"
      ],
      "metadata": {
        "id": "dpNWO7HR-7ej"
      }
    },
    {
      "cell_type": "code",
      "source": [
        "def calculate_loss_and_accuracy(model, criterion, loader, device):\n",
        "  model.eval()\n",
        "  loss = 0.0\n",
        "  total = 0\n",
        "  correct = 0\n",
        "  with torch.no_grad():\n",
        "    for inputs, labels in loader:\n",
        "      inputs = inputs.to(device)\n",
        "      labels = labels.to(device)\n",
        "      outputs = model(inputs)\n",
        "      loss += criterion(outputs, labels).item()\n",
        "      pred = torch.argmax(outputs, dim=-1)\n",
        "      total += len(inputs)\n",
        "      correct += (pred == labels).sum().item()\n",
        "\n",
        "  return loss / len(loader), correct / total\n",
        "\n",
        "\n",
        "def train_model(dataset_train, dataset_valid, batch_size, model, criterion, optimizer, num_epochs, device = torch.device):\n",
        "  # GPUに送る\n",
        "  model.to(device)\n",
        "\n",
        "    # dataloaderの作成\n",
        "  dataloader_train = DataLoader(dataset_train, batch_size=batch_size, shuffle=True)\n",
        "  dataloader_valid = DataLoader(dataset_valid, batch_size=len(dataset_valid), shuffle=False)\n",
        "\n",
        "  # 学習\n",
        "  log_train = []\n",
        "  log_valid = []\n",
        "  for epoch in range(num_epochs):\n",
        "    # 開始時刻の記録\n",
        "    s_time = time.time()\n",
        "\n",
        "    # 訓練モードに設定\n",
        "    model.train()\n",
        "    for inputs, labels in dataloader_train:\n",
        "      # 勾配をゼロで初期化\n",
        "      optimizer.zero_grad()\n",
        "\n",
        "      # 順伝播 + 誤差逆伝播 + 重み更新\n",
        "      inputs = inputs.to(device)\n",
        "      labels = labels.to(device)\n",
        "      outputs = model.forward(inputs)\n",
        "      loss = criterion(outputs, labels)\n",
        "      loss.backward()\n",
        "      optimizer.step()\n",
        "\n",
        "\n",
        "    # 損失と正解率の算出\n",
        "    loss_train, acc_train = calculate_loss_and_accuracy(model, criterion, dataloader_train, device)\n",
        "    loss_valid, acc_valid = calculate_loss_and_accuracy(model, criterion, dataloader_valid, device)\n",
        "    log_train.append([loss_train, acc_train])\n",
        "    log_valid.append([loss_valid, acc_valid])\n",
        "\n",
        "    # チェックポイントの保存\n",
        "    torch.save({'epoch': epoch, 'model_state_dict': model.state_dict(), 'optimizer_state_dict': optimizer.state_dict()}, f'checkpoint{epoch + 1}.pt')\n",
        "\n",
        "    # 終了時刻の記録\n",
        "    e_time = time.time()\n",
        "\n",
        "    # ログを出力\n",
        "    print(f'epoch: {epoch + 1}, loss_train: {loss_train:.4f}, accuracy_train: {acc_train:.4f}, loss_valid: {loss_valid:.4f}, accuracy_valid: {acc_valid:.4f}, {(e_time - s_time):.4f}sec')\n",
        "\n",
        "  return {'train': log_train, 'valid': log_valid}\n"
      ],
      "metadata": {
        "id": "YAolrQ92cBOM"
      },
      "execution_count": null,
      "outputs": []
    },
    {
      "cell_type": "code",
      "source": [
        "# datasetの作成\n",
        "dataset_train = NewsDataset(X_train, y_train)\n",
        "dataset_valid = NewsDataset(X_valid, y_valid)\n",
        "\n",
        "# モデルの定義\n",
        "model = SLPNet(300, 4)\n",
        "\n",
        "# 損失関数の定義\n",
        "criterion = nn.CrossEntropyLoss()\n",
        "\n",
        "# オプティマイザの定義\n",
        "optimizer = torch.optim.SGD(model.parameters(), lr=1e-1)\n",
        "\n",
        "# デバイスの指定\n",
        "device = torch.device('cuda')\n",
        "\n",
        "# モデルの学習\n",
        "for batch_size in [2 ** i for i in range(11)]:\n",
        "  print(f'バッチサイズ: {batch_size}')\n",
        "  log = train_model(dataset_train, dataset_valid, batch_size, model, criterion, optimizer, 1, device=device)"
      ],
      "metadata": {
        "colab": {
          "base_uri": "https://localhost:8080/"
        },
        "id": "px92UA-xcBMA",
        "outputId": "89ddf096-9a15-445d-abae-80aeabc9af60"
      },
      "execution_count": null,
      "outputs": [
        {
          "output_type": "stream",
          "name": "stdout",
          "text": [
            "バッチサイズ: 1\n",
            "epoch: 1, loss_train: 0.3236, accuracy_train: 0.8898, loss_valid: 0.3492, accuracy_valid: 0.8780, 13.4116sec\n",
            "バッチサイズ: 2\n",
            "epoch: 1, loss_train: 0.2959, accuracy_train: 0.8991, loss_valid: 0.3303, accuracy_valid: 0.8877, 6.5970sec\n",
            "バッチサイズ: 4\n",
            "epoch: 1, loss_train: 0.2879, accuracy_train: 0.9015, loss_valid: 0.3245, accuracy_valid: 0.8945, 3.7843sec\n",
            "バッチサイズ: 8\n",
            "epoch: 1, loss_train: 0.2837, accuracy_train: 0.9034, loss_valid: 0.3222, accuracy_valid: 0.8922, 1.7954sec\n",
            "バッチサイズ: 16\n",
            "epoch: 1, loss_train: 0.2819, accuracy_train: 0.9042, loss_valid: 0.3205, accuracy_valid: 0.8915, 0.9677sec\n",
            "バッチサイズ: 32\n",
            "epoch: 1, loss_train: 0.2811, accuracy_train: 0.9047, loss_valid: 0.3201, accuracy_valid: 0.8930, 0.5560sec\n",
            "バッチサイズ: 64\n",
            "epoch: 1, loss_train: 0.2807, accuracy_train: 0.9047, loss_valid: 0.3198, accuracy_valid: 0.8915, 0.3804sec\n",
            "バッチサイズ: 128\n",
            "epoch: 1, loss_train: 0.2809, accuracy_train: 0.9047, loss_valid: 0.3197, accuracy_valid: 0.8915, 0.2695sec\n",
            "バッチサイズ: 256\n",
            "epoch: 1, loss_train: 0.2804, accuracy_train: 0.9047, loss_valid: 0.3196, accuracy_valid: 0.8915, 0.3772sec\n",
            "バッチサイズ: 512\n",
            "epoch: 1, loss_train: 0.2803, accuracy_train: 0.9046, loss_valid: 0.3196, accuracy_valid: 0.8915, 0.1663sec\n",
            "バッチサイズ: 1024\n",
            "epoch: 1, loss_train: 0.2813, accuracy_train: 0.9046, loss_valid: 0.3196, accuracy_valid: 0.8915, 0.1633sec\n"
          ]
        }
      ]
    },
    {
      "cell_type": "markdown",
      "source": [
        "# 79. 多層ニューラルネットワーク\n",
        "- 問題78のコードを改変し，バイアス項の導入や多層化など，ニューラルネットワークの形状を変更しながら，高性能なカテゴリ分類器を構築せよ．"
      ],
      "metadata": {
        "id": "FWGY-O-pd00d"
      }
    },
    {
      "cell_type": "markdown",
      "source": [
        "多層ニューラルネットワークMLPNetを新たに定義する。このネットワークは入力層 -> 中間層 -> 出力層の構成とし、中間層のあとにバッチノーマライゼーションを行うことととする。 また、train_modelでは新たに学習の打ち切り基準を導入し、今回はシンプルに、検証データの損失が3エポック連続で低下しなかった場合に打ち切るルールとする。 さらに、学習率を徐々に下げるスケジューラも追加し、汎化性能の向上を狙います。"
      ],
      "metadata": {
        "id": "0dxvugKNAkT_"
      }
    },
    {
      "cell_type": "code",
      "source": [
        "from torch.nn import functional as F\n",
        "\n",
        "class MLPNet(nn.Module):\n",
        "  def __init__(self, input_size, mid_size, output_size, mid_layers):\n",
        "    super().__init__()\n",
        "    self.mid_layers = mid_layers\n",
        "    self.fc = nn.Linear(input_size, mid_size)\n",
        "    self.fc_mid = nn.Linear(mid_size, mid_size)\n",
        "    self.fc_out = nn.Linear(mid_size, output_size)\n",
        "    self.bn = nn.BatchNorm1d(mid_size)#中間層の出力サイズ mid_size に対してバッチ正規化を行う\n",
        "    #バッチ正規化とは、各ミニバッチ内での入力の平均を0にし、標準偏差を1にする正規化である。\n",
        "\n",
        "  def forward(self, x):\n",
        "    x = F.relu(self.fc(x))\n",
        "    for _ in range(self.mid_layers):\n",
        "      x = F.relu(self.bn(self.fc_mid(x)))\n",
        "    x = F.relu(self.fc_out(x))\n",
        "\n",
        "    return x"
      ],
      "metadata": {
        "id": "kTHNvAG9cBJm"
      },
      "execution_count": null,
      "outputs": []
    },
    {
      "cell_type": "code",
      "source": [
        "from torch import optim\n",
        "\n",
        "def calculate_loss_and_accuracy(model, criterion, loader, device):\n",
        "  model.eval()\n",
        "  loss = 0.0\n",
        "  total = 0\n",
        "  correct = 0\n",
        "  with torch.no_grad():\n",
        "    for inputs, labels in loader:\n",
        "      inputs = inputs.to(device)\n",
        "      labels = labels.to(device)\n",
        "      outputs = model(inputs)\n",
        "      loss += criterion(outputs, labels).item()\n",
        "      pred = torch.argmax(outputs, dim=-1)\n",
        "      total += len(inputs)\n",
        "      correct += (pred == labels).sum().item()\n",
        "\n",
        "  return loss / len(loader), correct / total\n",
        "\n",
        "def train_model(dataset_train, dataset_valid, batch_size, model, criterion, optimizer, num_epochs, device=None):\n",
        "  # GPUに送る\n",
        "  model.to(device)\n",
        "\n",
        "  # dataloaderの作成\n",
        "  dataloader_train = DataLoader(dataset_train, batch_size=batch_size, shuffle=True)\n",
        "  dataloader_valid = DataLoader(dataset_valid, batch_size=len(dataset_valid), shuffle=False)\n",
        "\n",
        "  # スケジューラの設定 (局所的な最適解を避ける効果が期待されるスケジューラ。学習率を上げるらしい。)\n",
        "  scheduler = optim.lr_scheduler.CosineAnnealingLR(optimizer, num_epochs, eta_min=1e-5, last_epoch=-1)\n",
        "\n",
        "  # 学習\n",
        "  log_train = []\n",
        "  log_valid = []\n",
        "  for epoch in range(num_epochs):\n",
        "    # 開始時刻の記録\n",
        "    s_time = time.time()\n",
        "\n",
        "    # 訓練モードに設定\n",
        "    model.train()\n",
        "    for inputs, labels in dataloader_train:\n",
        "      # 勾配をゼロで初期化\n",
        "      optimizer.zero_grad()\n",
        "\n",
        "      # 順伝播 + 誤差逆伝播 + 重み更新\n",
        "      inputs = inputs.to(device)\n",
        "      labels = labels.to(device)\n",
        "      outputs = model.forward(inputs)\n",
        "      loss = criterion(outputs, labels)\n",
        "      loss.backward()\n",
        "      optimizer.step()\n",
        "\n",
        "    # 損失と正解率の算出\n",
        "    loss_train, acc_train = calculate_loss_and_accuracy(model, criterion, dataloader_train, device)\n",
        "    loss_valid, acc_valid = calculate_loss_and_accuracy(model, criterion, dataloader_valid, device)\n",
        "    log_train.append([loss_train, acc_train])\n",
        "    log_valid.append([loss_valid, acc_valid])\n",
        "\n",
        "     # チェックポイントの保存\n",
        "    torch.save({'epoch': epoch, 'model_state_dict': model.state_dict(), 'optimizer_state_dict': optimizer.state_dict()}, f'checkpoint{epoch + 1}.pt')\n",
        "\n",
        "    # 終了時刻の記録\n",
        "    e_time = time.time()\n",
        "\n",
        "    # ログを出力\n",
        "    print(f'epoch: {epoch + 1}, loss_train: {loss_train:.4f}, accuracy_train: {acc_train:.4f}, loss_valid: {loss_valid:.4f}, accuracy_valid: {acc_valid:.4f}, {(e_time - s_time):.4f}sec')\n",
        "\n",
        "    # 検証データの損失が3エポック連続で低下しなかった場合は学習終了\n",
        "    if epoch > 2 and log_valid[epoch - 3][0] <= log_valid[epoch - 2][0] <= log_valid[epoch - 1][0] <= log_valid[epoch][0]:\n",
        "      break\n",
        "\n",
        "    # スケジューラを1ステップ進める\n",
        "    scheduler.step()\n",
        "\n",
        "  return {'train': log_train, 'valid': log_valid}\n",
        "\n",
        "\n"
      ],
      "metadata": {
        "id": "LC3LdUoAcBHL"
      },
      "execution_count": null,
      "outputs": []
    },
    {
      "cell_type": "code",
      "source": [
        "# datasetの作成\n",
        "dataset_train = NewsDataset(X_train, y_train)\n",
        "dataset_valid = NewsDataset(X_valid, y_valid)\n",
        "\n",
        "# モデルの定義\n",
        "model = MLPNet(300, 200, 4, 1)\n",
        "\n",
        "# 損失関数の定義\n",
        "criterion = nn.CrossEntropyLoss()\n",
        "\n",
        "# オプティマイザの定義\n",
        "optimizer = torch.optim.SGD(model.parameters(), lr=1e-3)\n",
        "\n",
        "# デバイスの指定\n",
        "device = torch.device('cuda')\n",
        "\n",
        "# モデルの学習\n",
        "log = train_model(dataset_train, dataset_valid, 64, model, criterion, optimizer, 1000, device)"
      ],
      "metadata": {
        "id": "1eAypykBcBFG",
        "colab": {
          "base_uri": "https://localhost:8080/"
        },
        "outputId": "5e7e5bc0-9f6e-4090-a77a-7836e91ac4d5"
      },
      "execution_count": null,
      "outputs": [
        {
          "output_type": "stream",
          "name": "stdout",
          "text": [
            "epoch: 1, loss_train: 1.0387, accuracy_train: 0.6754, loss_valid: 1.0333, accuracy_valid: 0.6751, 1.0427sec\n",
            "epoch: 2, loss_train: 0.7660, accuracy_train: 0.7595, loss_valid: 0.7637, accuracy_valid: 0.7590, 0.5208sec\n",
            "epoch: 3, loss_train: 0.6621, accuracy_train: 0.7732, loss_valid: 0.6627, accuracy_valid: 0.7732, 0.6452sec\n",
            "epoch: 4, loss_train: 0.6078, accuracy_train: 0.7862, loss_valid: 0.6102, accuracy_valid: 0.7837, 0.6999sec\n",
            "epoch: 5, loss_train: 0.5668, accuracy_train: 0.7995, loss_valid: 0.5709, accuracy_valid: 0.8001, 0.6838sec\n",
            "epoch: 6, loss_train: 0.5342, accuracy_train: 0.8112, loss_valid: 0.5408, accuracy_valid: 0.8084, 0.9577sec\n",
            "epoch: 7, loss_train: 0.5072, accuracy_train: 0.8190, loss_valid: 0.5155, accuracy_valid: 0.8211, 0.5635sec\n",
            "epoch: 8, loss_train: 0.4846, accuracy_train: 0.8294, loss_valid: 0.4958, accuracy_valid: 0.8263, 0.5090sec\n",
            "epoch: 9, loss_train: 0.4607, accuracy_train: 0.8385, loss_valid: 0.4737, accuracy_valid: 0.8338, 0.5296sec\n",
            "epoch: 10, loss_train: 0.4404, accuracy_train: 0.8468, loss_valid: 0.4553, accuracy_valid: 0.8421, 0.5226sec\n",
            "epoch: 11, loss_train: 0.4201, accuracy_train: 0.8583, loss_valid: 0.4373, accuracy_valid: 0.8466, 0.5346sec\n",
            "epoch: 12, loss_train: 0.4060, accuracy_train: 0.8676, loss_valid: 0.4246, accuracy_valid: 0.8593, 0.7771sec\n",
            "epoch: 13, loss_train: 0.3892, accuracy_train: 0.8755, loss_valid: 0.4100, accuracy_valid: 0.8638, 1.1945sec\n",
            "epoch: 14, loss_train: 0.3778, accuracy_train: 0.8787, loss_valid: 0.4003, accuracy_valid: 0.8675, 1.1846sec\n",
            "epoch: 15, loss_train: 0.3659, accuracy_train: 0.8842, loss_valid: 0.3906, accuracy_valid: 0.8705, 0.7300sec\n",
            "epoch: 16, loss_train: 0.3546, accuracy_train: 0.8870, loss_valid: 0.3808, accuracy_valid: 0.8750, 0.5468sec\n",
            "epoch: 17, loss_train: 0.3452, accuracy_train: 0.8899, loss_valid: 0.3728, accuracy_valid: 0.8772, 0.5168sec\n",
            "epoch: 18, loss_train: 0.3366, accuracy_train: 0.8921, loss_valid: 0.3665, accuracy_valid: 0.8772, 0.5146sec\n",
            "epoch: 19, loss_train: 0.3274, accuracy_train: 0.8960, loss_valid: 0.3586, accuracy_valid: 0.8862, 0.5206sec\n",
            "epoch: 20, loss_train: 0.3228, accuracy_train: 0.8951, loss_valid: 0.3558, accuracy_valid: 0.8817, 0.5205sec\n",
            "epoch: 21, loss_train: 0.3160, accuracy_train: 0.8971, loss_valid: 0.3501, accuracy_valid: 0.8885, 0.5267sec\n",
            "epoch: 22, loss_train: 0.3087, accuracy_train: 0.9007, loss_valid: 0.3446, accuracy_valid: 0.8870, 0.6041sec\n",
            "epoch: 23, loss_train: 0.3028, accuracy_train: 0.9013, loss_valid: 0.3405, accuracy_valid: 0.8885, 0.6982sec\n",
            "epoch: 24, loss_train: 0.2979, accuracy_train: 0.9037, loss_valid: 0.3366, accuracy_valid: 0.8892, 0.6787sec\n",
            "epoch: 25, loss_train: 0.2947, accuracy_train: 0.9062, loss_valid: 0.3341, accuracy_valid: 0.8930, 0.6943sec\n",
            "epoch: 26, loss_train: 0.2894, accuracy_train: 0.9073, loss_valid: 0.3308, accuracy_valid: 0.8892, 0.6667sec\n",
            "epoch: 27, loss_train: 0.2860, accuracy_train: 0.9083, loss_valid: 0.3284, accuracy_valid: 0.8915, 0.5279sec\n",
            "epoch: 28, loss_train: 0.2817, accuracy_train: 0.9088, loss_valid: 0.3257, accuracy_valid: 0.8937, 0.5336sec\n",
            "epoch: 29, loss_train: 0.2778, accuracy_train: 0.9093, loss_valid: 0.3238, accuracy_valid: 0.8900, 0.5276sec\n",
            "epoch: 30, loss_train: 0.2755, accuracy_train: 0.9108, loss_valid: 0.3223, accuracy_valid: 0.8907, 0.5476sec\n",
            "epoch: 31, loss_train: 0.2706, accuracy_train: 0.9111, loss_valid: 0.3195, accuracy_valid: 0.8900, 0.5248sec\n",
            "epoch: 32, loss_train: 0.2678, accuracy_train: 0.9132, loss_valid: 0.3178, accuracy_valid: 0.8900, 0.5335sec\n",
            "epoch: 33, loss_train: 0.2651, accuracy_train: 0.9134, loss_valid: 0.3164, accuracy_valid: 0.8930, 0.5329sec\n",
            "epoch: 34, loss_train: 0.2622, accuracy_train: 0.9146, loss_valid: 0.3149, accuracy_valid: 0.8900, 0.5266sec\n",
            "epoch: 35, loss_train: 0.2585, accuracy_train: 0.9155, loss_valid: 0.3134, accuracy_valid: 0.8907, 0.5204sec\n",
            "epoch: 36, loss_train: 0.2571, accuracy_train: 0.9152, loss_valid: 0.3129, accuracy_valid: 0.8907, 0.5379sec\n",
            "epoch: 37, loss_train: 0.2537, accuracy_train: 0.9170, loss_valid: 0.3105, accuracy_valid: 0.8915, 0.5096sec\n",
            "epoch: 38, loss_train: 0.2520, accuracy_train: 0.9182, loss_valid: 0.3100, accuracy_valid: 0.8907, 0.5319sec\n",
            "epoch: 39, loss_train: 0.2481, accuracy_train: 0.9184, loss_valid: 0.3084, accuracy_valid: 0.8930, 0.5186sec\n",
            "epoch: 40, loss_train: 0.2480, accuracy_train: 0.9198, loss_valid: 0.3087, accuracy_valid: 0.8952, 0.5436sec\n",
            "epoch: 41, loss_train: 0.2443, accuracy_train: 0.9204, loss_valid: 0.3064, accuracy_valid: 0.8907, 0.5236sec\n",
            "epoch: 42, loss_train: 0.2410, accuracy_train: 0.9203, loss_valid: 0.3053, accuracy_valid: 0.8922, 0.5224sec\n",
            "epoch: 43, loss_train: 0.2395, accuracy_train: 0.9215, loss_valid: 0.3049, accuracy_valid: 0.8937, 0.5086sec\n",
            "epoch: 44, loss_train: 0.2375, accuracy_train: 0.9210, loss_valid: 0.3039, accuracy_valid: 0.8930, 0.5252sec\n",
            "epoch: 45, loss_train: 0.2350, accuracy_train: 0.9236, loss_valid: 0.3026, accuracy_valid: 0.8945, 0.6038sec\n",
            "epoch: 46, loss_train: 0.2343, accuracy_train: 0.9247, loss_valid: 0.3027, accuracy_valid: 0.8960, 0.7005sec\n",
            "epoch: 47, loss_train: 0.2332, accuracy_train: 0.9238, loss_valid: 0.3031, accuracy_valid: 0.8982, 0.6930sec\n",
            "epoch: 48, loss_train: 0.2301, accuracy_train: 0.9257, loss_valid: 0.3016, accuracy_valid: 0.8945, 0.6866sec\n",
            "epoch: 49, loss_train: 0.2285, accuracy_train: 0.9245, loss_valid: 0.3011, accuracy_valid: 0.8930, 0.6507sec\n",
            "epoch: 50, loss_train: 0.2277, accuracy_train: 0.9261, loss_valid: 0.3004, accuracy_valid: 0.8945, 0.5388sec\n",
            "epoch: 51, loss_train: 0.2236, accuracy_train: 0.9266, loss_valid: 0.2989, accuracy_valid: 0.8945, 0.5364sec\n",
            "epoch: 52, loss_train: 0.2231, accuracy_train: 0.9278, loss_valid: 0.3004, accuracy_valid: 0.8975, 0.5419sec\n",
            "epoch: 53, loss_train: 0.2230, accuracy_train: 0.9277, loss_valid: 0.3011, accuracy_valid: 0.9012, 0.5250sec\n",
            "epoch: 54, loss_train: 0.2208, accuracy_train: 0.9289, loss_valid: 0.2997, accuracy_valid: 0.8952, 0.5399sec\n",
            "epoch: 55, loss_train: 0.2179, accuracy_train: 0.9287, loss_valid: 0.2979, accuracy_valid: 0.8967, 0.5205sec\n",
            "epoch: 56, loss_train: 0.2156, accuracy_train: 0.9299, loss_valid: 0.2972, accuracy_valid: 0.8982, 0.5388sec\n",
            "epoch: 57, loss_train: 0.2137, accuracy_train: 0.9299, loss_valid: 0.2974, accuracy_valid: 0.8990, 0.5278sec\n",
            "epoch: 58, loss_train: 0.2146, accuracy_train: 0.9295, loss_valid: 0.2976, accuracy_valid: 0.8967, 0.5409sec\n",
            "epoch: 59, loss_train: 0.2131, accuracy_train: 0.9299, loss_valid: 0.2978, accuracy_valid: 0.8945, 0.5221sec\n"
          ]
        }
      ]
    },
    {
      "cell_type": "code",
      "source": [
        "fig, ax = plt.subplots(1, 2, figsize=(15, 5))\n",
        "ax[0].plot(np.array(log['train']).T[0], label='train')\n",
        "ax[0].plot(np.array(log['valid']).T[0], label='valid')\n",
        "ax[0].set_xlabel('epoch')\n",
        "ax[0].set_ylabel('loss')\n",
        "ax[0].legend()\n",
        "ax[1].plot(np.array(log['train']).T[1], label='train')\n",
        "ax[1].plot(np.array(log['valid']).T[1], label='valid')\n",
        "ax[1].set_xlabel('epoch')\n",
        "ax[1].set_ylabel('accuracy')\n",
        "ax[1].legend()\n",
        "plt.show()"
      ],
      "metadata": {
        "id": "U5uBZeyMcBCs",
        "colab": {
          "base_uri": "https://localhost:8080/",
          "height": 465
        },
        "outputId": "a00a2c7a-aeb2-4e39-fd5d-cc26902bcb44"
      },
      "execution_count": null,
      "outputs": [
        {
          "output_type": "display_data",
          "data": {
            "text/plain": [
              "<Figure size 1500x500 with 2 Axes>"
            ],
            "image/png": "[encoded data removed]"
          },
          "metadata": {}
        }
      ]
    },
    {
      "cell_type": "code",
      "source": [
        "def calculate_accuracy(model, loader, device):\n",
        "  model.eval()\n",
        "  total = 0\n",
        "  correct = 0\n",
        "  with torch.no_grad():\n",
        "    for inputs, labels in loader:\n",
        "      inputs = inputs.to(device)\n",
        "      labels = labels.to(device)\n",
        "      outputs = model(inputs)\n",
        "      pred = torch.argmax(outputs, dim=-1)\n",
        "      total += len(inputs)\n",
        "      correct += (pred == labels).sum().item()\n",
        "\n",
        "  return correct / total"
      ],
      "metadata": {
        "id": "gOz6LlKqcBAV"
      },
      "execution_count": null,
      "outputs": []
    },
    {
      "cell_type": "code",
      "source": [
        "# 正解率の確認\n",
        "acc_train = calculate_accuracy(model, dataloader_train, device)\n",
        "acc_test = calculate_accuracy(model, dataloader_test, device)\n",
        "print(f'正解率（学習データ）：{acc_train:.3f}')\n",
        "print(f'正解率（評価データ）：{acc_test:.3f}')"
      ],
      "metadata": {
        "id": "B6qthEx4cA-C",
        "colab": {
          "base_uri": "https://localhost:8080/"
        },
        "outputId": "c4b30f1e-bc61-45da-8c1b-162b8eeaa02c"
      },
      "execution_count": null,
      "outputs": [
        {
          "output_type": "stream",
          "name": "stdout",
          "text": [
            "正解率（学習データ）：0.930\n",
            "正解率（評価データ）：0.910\n"
          ]
        }
      ]
    },
    {
      "cell_type": "code",
      "source": [],
      "metadata": {
        "id": "8IPVNxmUcA78"
      },
      "execution_count": null,
      "outputs": []
    }
  ]
}