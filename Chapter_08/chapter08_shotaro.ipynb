{
  "cells": [
    {
      "cell_type": "markdown",
      "metadata": {
        "id": "64goMTtIMeuB"
      },
      "source": [
        "# 8章"
      ]
    },
    {
      "cell_type": "markdown",
      "metadata": {
        "id": "PuY2qlQZiZ-R"
      },
      "source": [
        "以下のサイトを参考にコードを記述。\n",
        "\n",
        "https://mori-memo.hateblo.jp/archive/category/%E8%A8%80%E8%AA%9E%E5%87%A6%E7%90%86100%E6%9C%AC%E3%83%8E%E3%83%83%E3%82%AF"
      ]
    },
    {
      "cell_type": "code",
      "execution_count": null,
      "metadata": {
        "colab": {
          "base_uri": "https://localhost:8080/"
        },
        "id": "OugTFwtuOC79",
        "outputId": "470b943e-2089-4aee-8952-fbe9b6056d3e"
      },
      "outputs": [
        {
          "output_type": "stream",
          "name": "stdout",
          "text": [
            "--2024-01-04 15:11:28--  https://archive.ics.uci.edu/ml/machine-learning-databases/00359/NewsAggregatorDataset.zip\n",
            "Resolving archive.ics.uci.edu (archive.ics.uci.edu)... 128.195.10.252\n",
            "Connecting to archive.ics.uci.edu (archive.ics.uci.edu)|128.195.10.252|:443... connected.\n",
            "HTTP request sent, awaiting response... 200 OK\n",
            "Length: unspecified\n",
            "Saving to: ‘NewsAggregatorDataset.zip.3’\n",
            "\n",
            "NewsAggregatorDatas     [          <=>       ]  27.87M  10.6MB/s    in 2.6s    \n",
            "\n",
            "2024-01-04 15:11:31 (10.6 MB/s) - ‘NewsAggregatorDataset.zip.3’ saved [29224203]\n",
            "\n",
            "Archive:  NewsAggregatorDataset.zip\n",
            "replace 2pageSessions.csv? [y]es, [n]o, [A]ll, [N]one, [r]ename: "
          ]
        }
      ],
      "source": [
        "!wget https://archive.ics.uci.edu/ml/machine-learning-databases/00359/NewsAggregatorDataset.zip\n",
        "!unzip NewsAggregatorDataset.zip"
      ]
    },
    {
      "cell_type": "code",
      "execution_count": null,
      "metadata": {
        "id": "iMQuOTcdxlP4"
      },
      "outputs": [],
      "source": [
        "!sed -e 's/\"/'\\''/g' ./newsCorpora.csv > ./newsCorpora_re.csv"
      ]
    },
    {
      "cell_type": "code",
      "execution_count": null,
      "metadata": {
        "colab": {
          "base_uri": "https://localhost:8080/"
        },
        "id": "VM2_91gqQN_O",
        "outputId": "76b8a9bf-65d7-4978-a492-1cbed65dfef1"
      },
      "outputs": [
        {
          "output_type": "stream",
          "name": "stdout",
          "text": [
            "【学習データ】\n",
            "b    4501\n",
            "e    4235\n",
            "t    1220\n",
            "m     728\n",
            "Name: CATEGORY, dtype: int64\n",
            "【検証データ】\n",
            "b    563\n",
            "e    529\n",
            "t    153\n",
            "m     91\n",
            "Name: CATEGORY, dtype: int64\n",
            "【評価データ】\n",
            "b    563\n",
            "e    530\n",
            "t    152\n",
            "m     91\n",
            "Name: CATEGORY, dtype: int64\n"
          ]
        }
      ],
      "source": [
        "import pandas as pd\n",
        "from sklearn.model_selection import train_test_split\n",
        "\n",
        "# データの読込\n",
        "df = pd.read_csv('./newsCorpora_re.csv', header=None, sep='\\t', names=['ID', 'TITLE', 'URL', 'PUBLISHER', 'CATEGORY', 'STORY', 'HOSTNAME', 'TIMESTAMP'])\n",
        "\n",
        "# データの抽出\n",
        "df = df.loc[df['PUBLISHER'].isin(['Reuters', 'Huffington Post', 'Businessweek', 'Contactmusic.com', 'Daily Mail']), ['TITLE', 'CATEGORY']]\n",
        "\n",
        "# データの分割\n",
        "train, valid_test = train_test_split(df, test_size=0.2, shuffle=True, random_state=123, stratify=df['CATEGORY'])\n",
        "valid, test = train_test_split(valid_test, test_size=0.5, shuffle=True, random_state=123, stratify=valid_test['CATEGORY'])\n",
        "\n",
        "# 事例数の確認\n",
        "print('【学習データ】')\n",
        "print(train['CATEGORY'].value_counts())\n",
        "print('【検証データ】')\n",
        "print(valid['CATEGORY'].value_counts())\n",
        "print('【評価データ】')\n",
        "print(test['CATEGORY'].value_counts())\n"
      ]
    },
    {
      "cell_type": "code",
      "execution_count": null,
      "metadata": {
        "colab": {
          "base_uri": "https://localhost:8080/"
        },
        "id": "tyFUZiF0sOy4",
        "outputId": "6d050629-f180-44b4-c461-08a9dbabccfe"
      },
      "outputs": [
        {
          "output_type": "stream",
          "name": "stdout",
          "text": [
            "Drive already mounted at /content/drive; to attempt to forcibly remount, call drive.mount(\"/content/drive\", force_remount=True).\n"
          ]
        }
      ],
      "source": [
        "zdffrom google.colab import drive\n",
        "drive.mount('/content/drive')\n",
        "from gensim.models import KeyedVectors\n",
        "model = KeyedVectors.load_word2vec_format('drive/MyDrive/100knock/GoogleNews-vectors-negative300.bin.gz', binary=True)"
      ]
    },
    {
      "cell_type": "code",
      "execution_count": null,
      "metadata": {
        "id": "WWVLUZv6tgaN"
      },
      "outputs": [],
      "source": [
        "import string\n",
        "import torch\n",
        "\n",
        "def transform_w2v(text):\n",
        "  table = str.maketrans(string.punctuation, ' '*len(string.punctuation))\n",
        "  words = text.translate(table).split()  # 記号をスペースに置換後、スペースで分割してリスト化\n",
        "  vec = [model[word] for word in words if word in model]  # 1語ずつベクトル化\n",
        "\n",
        "  return torch.tensor(sum(vec) / len(vec))  # 平均ベクトルをTensor型に変換して出力"
      ]
    },
    {
      "cell_type": "code",
      "execution_count": null,
      "metadata": {
        "colab": {
          "base_uri": "https://localhost:8080/"
        },
        "id": "83g5KcVfuaGz",
        "outputId": "db8d21a3-6d20-4560-b893-06fde7200675"
      },
      "outputs": [
        {
          "output_type": "stream",
          "name": "stdout",
          "text": [
            "torch.Size([10684, 300])\n",
            "tensor([[ 0.0837,  0.0056,  0.0068,  ...,  0.0751,  0.0433, -0.0868],\n",
            "        [ 0.0272,  0.0266, -0.0947,  ..., -0.1046, -0.0489, -0.0092],\n",
            "        [ 0.0577, -0.0159, -0.0780,  ..., -0.0421,  0.1229,  0.0876],\n",
            "        ...,\n",
            "        [ 0.0392, -0.0052,  0.0686,  ..., -0.0175,  0.0061, -0.0224],\n",
            "        [ 0.0798,  0.1017,  0.1066,  ..., -0.0752,  0.0623,  0.1138],\n",
            "        [ 0.1664,  0.0451,  0.0508,  ..., -0.0531, -0.0183, -0.0039]])\n"
          ]
        }
      ],
      "source": [
        "# 特徴ベクトルの作成\n",
        "X_train = torch.stack([transform_w2v(text) for text in train['TITLE']])\n",
        "X_valid = torch.stack([transform_w2v(text) for text in valid['TITLE']])\n",
        "X_test = torch.stack([transform_w2v(text) for text in test['TITLE']])\n",
        "\n",
        "print(X_train.size())\n",
        "print(X_train)\n"
      ]
    },
    {
      "cell_type": "code",
      "execution_count": null,
      "metadata": {
        "colab": {
          "base_uri": "https://localhost:8080/"
        },
        "id": "QTfeIxg3fQmj",
        "outputId": "436fa7c6-13d2-4cb3-bbdb-520698352d61"
      },
      "outputs": [
        {
          "output_type": "stream",
          "name": "stdout",
          "text": [
            "torch.Size([10684])\n",
            "tensor([0, 1, 3,  ..., 0, 3, 2])\n"
          ]
        }
      ],
      "source": [
        "# ラベルベクトルの作成\n",
        "category_dict = {'b': 0, 't': 1, 'e':2, 'm':3}\n",
        "y_train = torch.tensor(train['CATEGORY'].map(lambda x: category_dict[x]).values)\n",
        "y_valid = torch.tensor(valid['CATEGORY'].map(lambda x: category_dict[x]).values)\n",
        "y_test = torch.tensor(test['CATEGORY'].map(lambda x: category_dict[x]).values)\n",
        "\n",
        "print(y_train.size())\n",
        "print(y_train)"
      ]
    },
    {
      "cell_type": "code",
      "execution_count": null,
      "metadata": {
        "id": "kH0-X54Oyg4Y"
      },
      "outputs": [],
      "source": [
        "# 保存\n",
        "torch.save(X_train, 'X_train.pt')\n",
        "torch.save(X_valid, 'X_valid.pt')\n",
        "torch.save(X_test, 'X_test.pt')\n",
        "torch.save(y_train, 'y_train.pt')\n",
        "torch.save(y_valid, 'y_valid.pt')\n",
        "torch.save(y_test, 'y_test.pt')"
      ]
    },
    {
      "cell_type": "code",
      "execution_count": null,
      "metadata": {
        "id": "UmuNqiNtyleo"
      },
      "outputs": [],
      "source": [
        "from torch import nn\n",
        "\n",
        "class SLPNet(nn.Module):\n",
        "  def __init__(self, input_size, output_size):\n",
        "    super().__init__()\n",
        "    self.fc = nn.Linear(input_size, output_size, bias=False)\n",
        "    nn.init.normal_(self.fc.weight, 0.0, 1.0)  # 正規乱数で重みを初期化\n",
        "\n",
        "  def forward(self, x):\n",
        "    x = self.fc(x)\n",
        "    return x"
      ]
    },
    {
      "cell_type": "code",
      "execution_count": null,
      "metadata": {
        "colab": {
          "base_uri": "https://localhost:8080/"
        },
        "id": "ysR-y2G1zc9w",
        "outputId": "5df08732-2720-4e87-fbda-3298eb39c172"
      },
      "outputs": [
        {
          "output_type": "stream",
          "name": "stdout",
          "text": [
            "tensor([[0.4706, 0.1677, 0.1792, 0.1824]], grad_fn=<SoftmaxBackward0>)\n",
            "tensor([[0.4706, 0.1677, 0.1792, 0.1824],\n",
            "        [0.0094, 0.8939, 0.0866, 0.0101],\n",
            "        [0.1284, 0.1007, 0.2062, 0.5646],\n",
            "        [0.7295, 0.1283, 0.0890, 0.0531]], grad_fn=<SoftmaxBackward0>)\n"
          ]
        }
      ],
      "source": [
        "model = SLPNet(300, 4)  # 単層ニューラルネットワークの初期化\n",
        "y_hat_1 = torch.softmax(model(X_train[:1]), dim=-1)\n",
        "print(y_hat_1)\n",
        "Y_hat = torch.softmax(model.forward(X_train[:4]), dim=-1)\n",
        "print(Y_hat)"
      ]
    },
    {
      "cell_type": "code",
      "execution_count": null,
      "metadata": {
        "colab": {
          "base_uri": "https://localhost:8080/"
        },
        "id": "SlWD4cAiMxRo",
        "outputId": "78c039dd-bcab-46d1-f683-f13980f00566"
      },
      "outputs": [
        {
          "output_type": "stream",
          "name": "stdout",
          "text": [
            "損失: 0.7536\n",
            "勾配:\n",
            "tensor([[-0.0443, -0.0030, -0.0036,  ..., -0.0398, -0.0229,  0.0459],\n",
            "        [ 0.0140,  0.0009,  0.0011,  ...,  0.0126,  0.0073, -0.0146],\n",
            "        [ 0.0150,  0.0010,  0.0012,  ...,  0.0135,  0.0078, -0.0156],\n",
            "        [ 0.0153,  0.0010,  0.0012,  ...,  0.0137,  0.0079, -0.0158]])\n"
          ]
        }
      ],
      "source": [
        "criterion = nn.CrossEntropyLoss()\n",
        "l_1 = criterion(model(X_train[:1]), y_train[:1])  # 入力ベクトルはsoftmax前の値\n",
        "model.zero_grad()  # 勾配をゼロで初期化\n",
        "l_1.backward()  # 勾配を計算\n",
        "print(f'損失: {l_1:.4f}')\n",
        "print(f'勾配:\\n{model.fc.weight.grad}')"
      ]
    },
    {
      "cell_type": "code",
      "execution_count": null,
      "metadata": {
        "colab": {
          "base_uri": "https://localhost:8080/"
        },
        "id": "eS6XtBXlu4TT",
        "outputId": "d78619a7-b1d9-47ad-890b-8431721ca04d"
      },
      "outputs": [
        {
          "output_type": "stream",
          "name": "stdout",
          "text": [
            "損失: 0.9640\n",
            "勾配:\n",
            "tensor([[-0.0193,  0.0079,  0.0077,  ..., -0.0140,  0.0052,  0.0105],\n",
            "        [ 0.0025,  0.0007,  0.0028,  ...,  0.0044,  0.0075, -0.0018],\n",
            "        [ 0.0200, -0.0113, -0.0199,  ...,  0.0020, -0.0017,  0.0051],\n",
            "        [-0.0031,  0.0027,  0.0094,  ...,  0.0076, -0.0110, -0.0138]])\n"
          ]
        }
      ],
      "source": [
        "l = criterion(model(X_train[:4]), y_train[:4])\n",
        "model.zero_grad()\n",
        "l.backward()\n",
        "print(f'損失: {l:.4f}')\n",
        "print(f'勾配:\\n{model.fc.weight.grad}')"
      ]
    },
    {
      "cell_type": "code",
      "execution_count": null,
      "metadata": {
        "id": "oltcMUzwM3BO"
      },
      "outputs": [],
      "source": [
        "from torch.utils.data import Dataset\n",
        "\n",
        "class NewsDataset(Dataset):\n",
        "  def __init__(self, X, y):  # datasetの構成要素を指定\n",
        "    self.X = X\n",
        "    self.y = y\n",
        "\n",
        "  def __len__(self):  # len(dataset)で返す値を指定\n",
        "    return len(self.y)\n",
        "\n",
        "  def __getitem__(self, idx):  # dataset[idx]で返す値を指定\n",
        "    return [self.X[idx], self.y[idx]]\n",
        "from torch.utils.data import DataLoader\n",
        "\n",
        "# Datasetの作成\n",
        "dataset_train = NewsDataset(X_train, y_train)\n",
        "dataset_valid = NewsDataset(X_valid, y_valid)\n",
        "dataset_test = NewsDataset(X_test, y_test)\n",
        "\n",
        "# Dataloaderの作成\n",
        "dataloader_train = DataLoader(dataset_train, batch_size=1, shuffle=True)\n",
        "dataloader_valid = DataLoader(dataset_valid, batch_size=len(dataset_valid), shuffle=False)\n",
        "dataloader_test = DataLoader(dataset_test, batch_size=len(dataset_test), shuffle=False)"
      ]
    },
    {
      "cell_type": "code",
      "execution_count": null,
      "metadata": {
        "colab": {
          "base_uri": "https://localhost:8080/"
        },
        "id": "5domppYqa0EN",
        "outputId": "158d3295-d94e-4662-a5e6-6d51495dd1f0"
      },
      "outputs": [
        {
          "output_type": "stream",
          "name": "stdout",
          "text": [
            "epoch: 1, loss_train: 0.4512, loss_valid: 0.3500\n",
            "epoch: 2, loss_train: 0.3089, loss_valid: 0.3231\n",
            "epoch: 3, loss_train: 0.2808, loss_valid: 0.3152\n",
            "epoch: 4, loss_train: 0.2660, loss_valid: 0.3079\n",
            "epoch: 5, loss_train: 0.2565, loss_valid: 0.3045\n",
            "epoch: 6, loss_train: 0.2490, loss_valid: 0.3075\n",
            "epoch: 7, loss_train: 0.2443, loss_valid: 0.3081\n",
            "epoch: 8, loss_train: 0.2398, loss_valid: 0.3031\n",
            "epoch: 9, loss_train: 0.2359, loss_valid: 0.3071\n",
            "epoch: 10, loss_train: 0.2329, loss_valid: 0.3084\n"
          ]
        }
      ],
      "source": [
        "# モデルの定義\n",
        "model = SLPNet(300, 4)\n",
        "\n",
        "# 損失関数の定義\n",
        "criterion = nn.CrossEntropyLoss()\n",
        "\n",
        "# オプティマイザの定義\n",
        "optimizer = torch.optim.SGD(model.parameters(), lr=1e-1)\n",
        "\n",
        "# 学習\n",
        "num_epochs = 10\n",
        "for epoch in range(num_epochs):\n",
        "  # 訓練モードに設定\n",
        "  model.train()\n",
        "  loss_train = 0.0\n",
        "  for i, (inputs, labels) in enumerate(dataloader_train):\n",
        "    # 勾配をゼロで初期化\n",
        "    optimizer.zero_grad()\n",
        "\n",
        "    # 順伝播 + 誤差逆伝播 + 重み更新\n",
        "    outputs = model(inputs)\n",
        "    loss = criterion(outputs, labels)\n",
        "    loss.backward()\n",
        "    optimizer.step()\n",
        "\n",
        "    # 損失を記録\n",
        "    loss_train += loss.item()\n",
        "\n",
        "  # バッチ単位の平均損失計算\n",
        "  loss_train = loss_train / i\n",
        "\n",
        "  # 検証データの損失計算\n",
        "  model.eval()\n",
        "  with torch.no_grad():\n",
        "    inputs, labels = next(iter(dataloader_valid))\n",
        "    outputs = model(inputs)\n",
        "    loss_valid = criterion(outputs, labels)\n",
        "\n",
        "  # ログを出力\n",
        "  print(f'epoch: {epoch + 1}, loss_train: {loss_train:.4f}, loss_valid: {loss_valid:.4f}')"
      ]
    },
    {
      "cell_type": "code",
      "execution_count": null,
      "metadata": {
        "colab": {
          "base_uri": "https://localhost:8080/"
        },
        "id": "cVCLmY4oMjpO",
        "outputId": "24ec22de-5729-47a7-c18c-49d01c173e92"
      },
      "outputs": [
        {
          "output_type": "stream",
          "name": "stdout",
          "text": [
            "正解率（学習データ）：0.922\n",
            "正解率（評価データ）：0.906\n"
          ]
        }
      ],
      "source": [
        "def calculate_accuracy(model, loader):\n",
        "  model.eval()\n",
        "  total = 0\n",
        "  correct = 0\n",
        "  with torch.no_grad():\n",
        "    for inputs, labels in loader:\n",
        "      outputs = model(inputs)\n",
        "      pred = torch.argmax(outputs, dim=-1)\n",
        "      total += len(inputs)\n",
        "      correct += (pred == labels).sum().item()\n",
        "\n",
        "  return correct / total\n",
        "\n",
        "acc_train = calculate_accuracy(model, dataloader_train)\n",
        "acc_test = calculate_accuracy(model, dataloader_test)\n",
        "print(f'正解率（学習データ）：{acc_train:.3f}')\n",
        "print(f'正解率（評価データ）：{acc_test:.3f}')"
      ]
    },
    {
      "cell_type": "code",
      "execution_count": null,
      "metadata": {
        "colab": {
          "base_uri": "https://localhost:8080/"
        },
        "id": "KJAwKpMYMjxn",
        "outputId": "32f45b2e-cc99-4b63-a474-e755cd6a8e49"
      },
      "outputs": [
        {
          "output_type": "stream",
          "name": "stdout",
          "text": [
            "epoch: 1, loss_train: 0.3280, accuracy_train: 0.8867, loss_valid: 0.3613, accuracy_valid: 0.8720\n",
            "epoch: 2, loss_train: 0.2840, accuracy_train: 0.9035, loss_valid: 0.3239, accuracy_valid: 0.8877\n",
            "epoch: 3, loss_train: 0.2684, accuracy_train: 0.9071, loss_valid: 0.3199, accuracy_valid: 0.8900\n",
            "epoch: 4, loss_train: 0.2522, accuracy_train: 0.9161, loss_valid: 0.3109, accuracy_valid: 0.8900\n",
            "epoch: 5, loss_train: 0.2432, accuracy_train: 0.9179, loss_valid: 0.3051, accuracy_valid: 0.8930\n",
            "epoch: 6, loss_train: 0.2368, accuracy_train: 0.9196, loss_valid: 0.3045, accuracy_valid: 0.8990\n",
            "epoch: 7, loss_train: 0.2347, accuracy_train: 0.9223, loss_valid: 0.3041, accuracy_valid: 0.8990\n",
            "epoch: 8, loss_train: 0.2291, accuracy_train: 0.9228, loss_valid: 0.3040, accuracy_valid: 0.8982\n",
            "epoch: 9, loss_train: 0.2269, accuracy_train: 0.9230, loss_valid: 0.3075, accuracy_valid: 0.8967\n",
            "epoch: 10, loss_train: 0.2247, accuracy_train: 0.9261, loss_valid: 0.3052, accuracy_valid: 0.8960\n",
            "epoch: 11, loss_train: 0.2235, accuracy_train: 0.9252, loss_valid: 0.3090, accuracy_valid: 0.8937\n",
            "epoch: 12, loss_train: 0.2226, accuracy_train: 0.9255, loss_valid: 0.3082, accuracy_valid: 0.8960\n",
            "epoch: 13, loss_train: 0.2193, accuracy_train: 0.9261, loss_valid: 0.3090, accuracy_valid: 0.8967\n",
            "epoch: 14, loss_train: 0.2166, accuracy_train: 0.9278, loss_valid: 0.3081, accuracy_valid: 0.8960\n",
            "epoch: 15, loss_train: 0.2179, accuracy_train: 0.9267, loss_valid: 0.3124, accuracy_valid: 0.8907\n",
            "epoch: 16, loss_train: 0.2157, accuracy_train: 0.9280, loss_valid: 0.3121, accuracy_valid: 0.8930\n",
            "epoch: 17, loss_train: 0.2160, accuracy_train: 0.9283, loss_valid: 0.3144, accuracy_valid: 0.8937\n",
            "epoch: 18, loss_train: 0.2149, accuracy_train: 0.9269, loss_valid: 0.3149, accuracy_valid: 0.8907\n",
            "epoch: 19, loss_train: 0.2154, accuracy_train: 0.9275, loss_valid: 0.3179, accuracy_valid: 0.8930\n",
            "epoch: 20, loss_train: 0.2137, accuracy_train: 0.9286, loss_valid: 0.3174, accuracy_valid: 0.8945\n",
            "epoch: 21, loss_train: 0.2105, accuracy_train: 0.9289, loss_valid: 0.3159, accuracy_valid: 0.8930\n",
            "epoch: 22, loss_train: 0.2107, accuracy_train: 0.9292, loss_valid: 0.3194, accuracy_valid: 0.8937\n",
            "epoch: 23, loss_train: 0.2118, accuracy_train: 0.9291, loss_valid: 0.3196, accuracy_valid: 0.8945\n",
            "epoch: 24, loss_train: 0.2127, accuracy_train: 0.9303, loss_valid: 0.3215, accuracy_valid: 0.8930\n",
            "epoch: 25, loss_train: 0.2091, accuracy_train: 0.9299, loss_valid: 0.3211, accuracy_valid: 0.8930\n",
            "epoch: 26, loss_train: 0.2100, accuracy_train: 0.9291, loss_valid: 0.3235, accuracy_valid: 0.8930\n",
            "epoch: 27, loss_train: 0.2083, accuracy_train: 0.9306, loss_valid: 0.3224, accuracy_valid: 0.8907\n",
            "epoch: 28, loss_train: 0.2068, accuracy_train: 0.9307, loss_valid: 0.3214, accuracy_valid: 0.8922\n",
            "epoch: 29, loss_train: 0.2090, accuracy_train: 0.9276, loss_valid: 0.3266, accuracy_valid: 0.8922\n",
            "epoch: 30, loss_train: 0.2067, accuracy_train: 0.9306, loss_valid: 0.3246, accuracy_valid: 0.8930\n"
          ]
        }
      ],
      "source": [
        "def calculate_loss_and_accuracy(model, criterion, loader):\n",
        "  model.eval()\n",
        "  loss = 0.0\n",
        "  total = 0\n",
        "  correct = 0\n",
        "  with torch.no_grad():\n",
        "    for inputs, labels in loader:\n",
        "      outputs = model(inputs)\n",
        "      loss += criterion(outputs, labels).item()\n",
        "      pred = torch.argmax(outputs, dim=-1)\n",
        "      total += len(inputs)\n",
        "      correct += (pred == labels).sum().item()\n",
        "\n",
        "  return loss / len(loader), correct / total\n",
        "\n",
        "# モデルの定義\n",
        "model = SLPNet(300, 4)\n",
        "\n",
        "# 損失関数の定義\n",
        "criterion = nn.CrossEntropyLoss()\n",
        "\n",
        "# オプティマイザの定義\n",
        "optimizer = torch.optim.SGD(model.parameters(), lr=1e-1)\n",
        "\n",
        "# 学習\n",
        "num_epochs = 30\n",
        "log_train = []\n",
        "log_valid = []\n",
        "for epoch in range(num_epochs):\n",
        "  # 訓練モードに設定\n",
        "  model.train()\n",
        "  for inputs, labels in dataloader_train:\n",
        "    # 勾配をゼロで初期化\n",
        "    optimizer.zero_grad()\n",
        "\n",
        "    # 順伝播 + 誤差逆伝播 + 重み更新\n",
        "    outputs = model(inputs)\n",
        "    loss = criterion(outputs, labels)\n",
        "    loss.backward()\n",
        "    optimizer.step()\n",
        "\n",
        "  # 損失と正解率の算出\n",
        "  loss_train, acc_train = calculate_loss_and_accuracy(model, criterion, dataloader_train)\n",
        "  loss_valid, acc_valid = calculate_loss_and_accuracy(model, criterion, dataloader_valid)\n",
        "  log_train.append([loss_train, acc_train])\n",
        "  log_valid.append([loss_valid, acc_valid])\n",
        "\n",
        "  # ログを出力\n",
        "  print(f'epoch: {epoch + 1}, loss_train: {loss_train:.4f}, accuracy_train: {acc_train:.4f}, loss_valid: {loss_valid:.4f}, accuracy_valid: {acc_valid:.4f}')"
      ]
    },
    {
      "cell_type": "code",
      "execution_count": null,
      "metadata": {
        "colab": {
          "base_uri": "https://localhost:8080/",
          "height": 465
        },
        "id": "uUPpIYoVMj0n",
        "outputId": "9580fb29-478e-4516-eb77-7f64bbf3401b"
      },
      "outputs": [
        {
          "output_type": "display_data",
          "data": {
            "text/plain": [
              "<Figure size 1500x500 with 2 Axes>"
            ],
            "image/png": "[encoded data removed]"
          },
          "metadata": {}
        }
      ],
      "source": [
        "from matplotlib import pyplot as plt\n",
        "import numpy as np\n",
        "\n",
        "# 視覚化\n",
        "fig, ax = plt.subplots(1, 2, figsize=(15, 5))\n",
        "ax[0].plot(np.array(log_train).T[0], label='train')\n",
        "ax[0].plot(np.array(log_valid).T[0], label='valid')\n",
        "ax[0].set_xlabel('epoch')\n",
        "ax[0].set_ylabel('loss')\n",
        "ax[0].legend()\n",
        "ax[1].plot(np.array(log_train).T[1], label='train')\n",
        "ax[1].plot(np.array(log_valid).T[1], label='valid')\n",
        "ax[1].set_xlabel('epoch')\n",
        "ax[1].set_ylabel('accuracy')\n",
        "ax[1].legend()\n",
        "plt.show()"
      ]
    },
    {
      "cell_type": "code",
      "execution_count": null,
      "metadata": {
        "colab": {
          "base_uri": "https://localhost:8080/"
        },
        "id": "a5ImehV01EF0",
        "outputId": "b53c52bb-47fd-4770-da04-2fa3647966a2"
      },
      "outputs": [
        {
          "output_type": "stream",
          "name": "stdout",
          "text": [
            "epoch: 1, loss_train: 0.3343, accuracy_train: 0.8857, loss_valid: 0.3584, accuracy_valid: 0.8862\n",
            "epoch: 2, loss_train: 0.2881, accuracy_train: 0.9014, loss_valid: 0.3234, accuracy_valid: 0.8877\n",
            "epoch: 3, loss_train: 0.2673, accuracy_train: 0.9098, loss_valid: 0.3096, accuracy_valid: 0.8930\n",
            "epoch: 4, loss_train: 0.2551, accuracy_train: 0.9145, loss_valid: 0.3040, accuracy_valid: 0.8982\n",
            "epoch: 5, loss_train: 0.2472, accuracy_train: 0.9180, loss_valid: 0.3011, accuracy_valid: 0.8990\n",
            "epoch: 6, loss_train: 0.2406, accuracy_train: 0.9198, loss_valid: 0.2997, accuracy_valid: 0.8945\n",
            "epoch: 7, loss_train: 0.2352, accuracy_train: 0.9231, loss_valid: 0.2981, accuracy_valid: 0.8937\n",
            "epoch: 8, loss_train: 0.2320, accuracy_train: 0.9236, loss_valid: 0.2980, accuracy_valid: 0.8945\n",
            "epoch: 9, loss_train: 0.2287, accuracy_train: 0.9239, loss_valid: 0.2993, accuracy_valid: 0.8937\n",
            "epoch: 10, loss_train: 0.2302, accuracy_train: 0.9235, loss_valid: 0.3036, accuracy_valid: 0.8982\n"
          ]
        }
      ],
      "source": [
        "# モデルの定義\n",
        "model = SLPNet(300, 4)\n",
        "\n",
        "# 損失関数の定義\n",
        "criterion = nn.CrossEntropyLoss()\n",
        "\n",
        "# オプティマイザの定義\n",
        "optimizer = torch.optim.SGD(model.parameters(), lr=1e-1)\n",
        "\n",
        "# 学習\n",
        "num_epochs = 10\n",
        "log_train = []\n",
        "log_valid = []\n",
        "for epoch in range(num_epochs):\n",
        "  # 訓練モードに設定\n",
        "  model.train()\n",
        "  for inputs, labels in dataloader_train:\n",
        "    # 勾配をゼロで初期化\n",
        "    optimizer.zero_grad()\n",
        "\n",
        "    # 順伝播 + 誤差逆伝播 + 重み更新\n",
        "    outputs = model(inputs)\n",
        "    loss = criterion(outputs, labels)\n",
        "    loss.backward()\n",
        "    optimizer.step()\n",
        "\n",
        "  # 損失と正解率の算出\n",
        "  loss_train, acc_train = calculate_loss_and_accuracy(model, criterion, dataloader_train)\n",
        "  loss_valid, acc_valid = calculate_loss_and_accuracy(model, criterion, dataloader_valid)\n",
        "  log_train.append([loss_train, acc_train])\n",
        "  log_valid.append([loss_valid, acc_valid])\n",
        "\n",
        "  # チェックポイントの保存\n",
        "  torch.save({'epoch': epoch, 'model_state_dict': model.state_dict(), 'optimizer_state_dict': optimizer.state_dict()}, f'checkpoint{epoch + 1}.pt')\n",
        "\n",
        "  # ログを出力\n",
        "  print(f'epoch: {epoch + 1}, loss_train: {loss_train:.4f}, accuracy_train: {acc_train:.4f}, loss_valid: {loss_valid:.4f}, accuracy_valid: {acc_valid:.4f}')\n"
      ]
    },
    {
      "cell_type": "code",
      "execution_count": null,
      "metadata": {
        "id": "4zXAz7K_vsSv"
      },
      "outputs": [],
      "source": [
        "import time\n",
        "\n",
        "def train_model(dataset_train, dataset_valid, batch_size, model, criterion, optimizer, num_epochs):\n",
        "  # dataloaderの作成\n",
        "  dataloader_train = DataLoader(dataset_train, batch_size=batch_size, shuffle=True)\n",
        "  dataloader_valid = DataLoader(dataset_valid, batch_size=len(dataset_valid), shuffle=False)\n",
        "\n",
        "  # 学習\n",
        "  log_train = []\n",
        "  log_valid = []\n",
        "  for epoch in range(num_epochs):\n",
        "    # 開始時刻の記録\n",
        "    s_time = time.time()\n",
        "\n",
        "    # 訓練モードに設定\n",
        "    model.train()\n",
        "    for inputs, labels in dataloader_train:\n",
        "      # 勾配をゼロで初期化\n",
        "      optimizer.zero_grad()\n",
        "\n",
        "      # 順伝播 + 誤差逆伝播 + 重み更新\n",
        "      outputs = model(inputs)\n",
        "      loss = criterion(outputs, labels)\n",
        "      loss.backward()\n",
        "      optimizer.step()\n",
        "\n",
        "    # 損失と正解率の算出\n",
        "    loss_train, acc_train = calculate_loss_and_accuracy(model, criterion, dataloader_train)\n",
        "    loss_valid, acc_valid = calculate_loss_and_accuracy(model, criterion, dataloader_valid)\n",
        "    log_train.append([loss_train, acc_train])\n",
        "    log_valid.append([loss_valid, acc_valid])\n",
        "\n",
        "    # チェックポイントの保存\n",
        "    torch.save({'epoch': epoch, 'model_state_dict': model.state_dict(), 'optimizer_state_dict': optimizer.state_dict()}, f'checkpoint{epoch + 1}.pt')\n",
        "\n",
        "    # 終了時刻の記録\n",
        "    e_time = time.time()\n",
        "\n",
        "    # ログを出力\n",
        "    print(f'epoch: {epoch + 1}, loss_train: {loss_train:.4f}, accuracy_train: {acc_train:.4f}, loss_valid: {loss_valid:.4f}, accuracy_valid: {acc_valid:.4f}, {(e_time - s_time):.4f}sec')\n",
        "\n",
        "  return {'train': log_train, 'valid': log_valid}"
      ]
    },
    {
      "cell_type": "code",
      "execution_count": null,
      "metadata": {
        "id": "sYgr5yytK7iz",
        "colab": {
          "base_uri": "https://localhost:8080/"
        },
        "outputId": "2ba3d17b-69e4-4a23-d7df-a93524198742"
      },
      "outputs": [
        {
          "output_type": "stream",
          "name": "stdout",
          "text": [
            "バッチサイズ: 1\n",
            "epoch: 1, loss_train: 0.3289, accuracy_train: 0.8892, loss_valid: 0.3551, accuracy_valid: 0.8817, 7.2069sec\n",
            "バッチサイズ: 2\n",
            "epoch: 1, loss_train: 0.3007, accuracy_train: 0.8994, loss_valid: 0.3302, accuracy_valid: 0.8855, 5.0481sec\n",
            "バッチサイズ: 4\n",
            "epoch: 1, loss_train: 0.2922, accuracy_train: 0.9033, loss_valid: 0.3237, accuracy_valid: 0.8892, 2.4755sec\n",
            "バッチサイズ: 8\n",
            "epoch: 1, loss_train: 0.2885, accuracy_train: 0.9028, loss_valid: 0.3234, accuracy_valid: 0.8922, 1.2321sec\n",
            "バッチサイズ: 16\n",
            "epoch: 1, loss_train: 0.2861, accuracy_train: 0.9047, loss_valid: 0.3207, accuracy_valid: 0.8922, 0.7623sec\n",
            "バッチサイズ: 32\n",
            "epoch: 1, loss_train: 0.2851, accuracy_train: 0.9060, loss_valid: 0.3200, accuracy_valid: 0.8922, 0.6912sec\n",
            "バッチサイズ: 64\n",
            "epoch: 1, loss_train: 0.2846, accuracy_train: 0.9056, loss_valid: 0.3199, accuracy_valid: 0.8930, 0.3322sec\n",
            "バッチサイズ: 128\n",
            "epoch: 1, loss_train: 0.2844, accuracy_train: 0.9057, loss_valid: 0.3197, accuracy_valid: 0.8930, 0.2452sec\n",
            "バッチサイズ: 256\n",
            "epoch: 1, loss_train: 0.2850, accuracy_train: 0.9057, loss_valid: 0.3197, accuracy_valid: 0.8930, 0.1948sec\n",
            "バッチサイズ: 512\n",
            "epoch: 1, loss_train: 0.2843, accuracy_train: 0.9057, loss_valid: 0.3196, accuracy_valid: 0.8930, 0.1715sec\n",
            "バッチサイズ: 1024\n",
            "epoch: 1, loss_train: 0.2844, accuracy_train: 0.9057, loss_valid: 0.3196, accuracy_valid: 0.8930, 0.1588sec\n"
          ]
        }
      ],
      "source": [
        "# datasetの作成\n",
        "dataset_train = NewsDataset(X_train, y_train)\n",
        "dataset_valid = NewsDataset(X_valid, y_valid)\n",
        "\n",
        "# モデルの定義\n",
        "model = SLPNet(300, 4)\n",
        "\n",
        "# 損失関数の定義\n",
        "criterion = nn.CrossEntropyLoss()\n",
        "\n",
        "# オプティマイザの定義\n",
        "optimizer = torch.optim.SGD(model.parameters(), lr=1e-1)\n",
        "\n",
        "# モデルの学習\n",
        "for batch_size in [2 ** i for i in range(11)]:\n",
        "  print(f'バッチサイズ: {batch_size}')\n",
        "  log = train_model(dataset_train, dataset_valid, batch_size, model, criterion, optimizer, 1)\n"
      ]
    },
    {
      "cell_type": "code",
      "execution_count": null,
      "metadata": {
        "id": "qDwXXp6XvyKq"
      },
      "outputs": [],
      "source": [
        "def calculate_loss_and_accuracy(model, criterion, loader, device):\n",
        "  model.eval()\n",
        "  loss = 0.0\n",
        "  total = 0\n",
        "  correct = 0\n",
        "  with torch.no_grad():\n",
        "    for inputs, labels in loader:\n",
        "      inputs = inputs.to(device)\n",
        "      labels = labels.to(device)\n",
        "      outputs = model(inputs)\n",
        "      loss += criterion(outputs, labels).item()\n",
        "      pred = torch.argmax(outputs, dim=-1)\n",
        "      total += len(inputs)\n",
        "      correct += (pred == labels).sum().item()\n",
        "  return loss / len(loader), correct / total\n",
        "\n",
        "def train_model(dataset_train, dataset_valid, batch_size, model, criterion, optimizer, num_epochs, device=None):\n",
        "  # GPUに送る\n",
        "  model.to(device)\n",
        "\n",
        "  # dataloaderの作成\n",
        "  dataloader_train = DataLoader(dataset_train, batch_size=batch_size, shuffle=True)\n",
        "  dataloader_valid = DataLoader(dataset_valid, batch_size=len(dataset_valid), shuffle=False)\n",
        "\n",
        "  # 学習\n",
        "  log_train = []\n",
        "  log_valid = []\n",
        "  for epoch in range(num_epochs):\n",
        "    # 開始時刻の記録\n",
        "    s_time = time.time()\n",
        "\n",
        "    # 訓練モードに設定\n",
        "    model.train()\n",
        "    for inputs, labels in dataloader_train:\n",
        "      # 勾配をゼロで初期化\n",
        "      optimizer.zero_grad()\n",
        "\n",
        "      # 順伝播 + 誤差逆伝播 + 重み更新\n",
        "      inputs = inputs.to(device)\n",
        "      labels = labels.to(device)\n",
        "      outputs = model.forward(inputs)\n",
        "      loss = criterion(outputs, labels)\n",
        "      loss.backward()\n",
        "      optimizer.step()\n",
        "\n",
        "    # 損失と正解率の算出\n",
        "    loss_train, acc_train = calculate_loss_and_accuracy(model, criterion, dataloader_train, device)\n",
        "    loss_valid, acc_valid = calculate_loss_and_accuracy(model, criterion, dataloader_valid, device)\n",
        "    log_train.append([loss_train, acc_train])\n",
        "    log_valid.append([loss_valid, acc_valid])\n",
        "\n",
        "    # チェックポイントの保存\n",
        "    torch.save({'epoch': epoch, 'model_state_dict': model.state_dict(), 'optimizer_state_dict': optimizer.state_dict()}, f'checkpoint{epoch + 1}.pt')\n",
        "\n",
        "    # 終了時刻の記録\n",
        "    e_time = time.time()\n",
        "\n",
        "    # ログを出力\n",
        "    print(f'epoch: {epoch + 1}, loss_train: {loss_train:.4f}, accuracy_train: {acc_train:.4f}, loss_valid: {loss_valid:.4f}, accuracy_valid: {acc_valid:.4f}, {(e_time - s_time):.4f}sec')\n",
        "\n",
        "  return {'train': log_train, 'valid': log_valid}"
      ]
    },
    {
      "cell_type": "code",
      "execution_count": null,
      "metadata": {
        "id": "kUqSlFiAv1hs",
        "colab": {
          "base_uri": "https://localhost:8080/"
        },
        "outputId": "fd7860b9-a657-47f0-bc8f-18624dabfed4"
      },
      "outputs": [
        {
          "output_type": "stream",
          "name": "stdout",
          "text": [
            "バッチサイズ: 1\n",
            "epoch: 1, loss_train: 0.3202, accuracy_train: 0.8877, loss_valid: 0.3484, accuracy_valid: 0.8787, 16.6805sec\n",
            "バッチサイズ: 2\n",
            "epoch: 1, loss_train: 0.2942, accuracy_train: 0.8983, loss_valid: 0.3272, accuracy_valid: 0.8900, 7.2480sec\n",
            "バッチサイズ: 4\n",
            "epoch: 1, loss_train: 0.2853, accuracy_train: 0.9012, loss_valid: 0.3216, accuracy_valid: 0.8892, 3.4529sec\n",
            "バッチサイズ: 8\n",
            "epoch: 1, loss_train: 0.2814, accuracy_train: 0.9021, loss_valid: 0.3192, accuracy_valid: 0.8900, 1.7914sec\n",
            "バッチサイズ: 16\n",
            "epoch: 1, loss_train: 0.2797, accuracy_train: 0.9030, loss_valid: 0.3184, accuracy_valid: 0.8915, 0.9997sec\n",
            "バッチサイズ: 32\n",
            "epoch: 1, loss_train: 0.2790, accuracy_train: 0.9039, loss_valid: 0.3178, accuracy_valid: 0.8915, 0.5653sec\n",
            "バッチサイズ: 64\n",
            "epoch: 1, loss_train: 0.2786, accuracy_train: 0.9040, loss_valid: 0.3176, accuracy_valid: 0.8915, 0.3577sec\n",
            "バッチサイズ: 128\n",
            "epoch: 1, loss_train: 0.2787, accuracy_train: 0.9042, loss_valid: 0.3175, accuracy_valid: 0.8915, 0.2432sec\n",
            "バッチサイズ: 256\n",
            "epoch: 1, loss_train: 0.2781, accuracy_train: 0.9042, loss_valid: 0.3174, accuracy_valid: 0.8915, 0.4028sec\n",
            "バッチサイズ: 512\n",
            "epoch: 1, loss_train: 0.2780, accuracy_train: 0.9042, loss_valid: 0.3174, accuracy_valid: 0.8915, 0.1671sec\n",
            "バッチサイズ: 1024\n",
            "epoch: 1, loss_train: 0.2776, accuracy_train: 0.9042, loss_valid: 0.3174, accuracy_valid: 0.8915, 0.1666sec\n"
          ]
        }
      ],
      "source": [
        "# datasetの作成\n",
        "dataset_train = NewsDataset(X_train, y_train)\n",
        "dataset_valid = NewsDataset(X_valid, y_valid)\n",
        "\n",
        "# モデルの定義\n",
        "model = SLPNet(300, 4)\n",
        "\n",
        "# 損失関数の定義\n",
        "criterion = nn.CrossEntropyLoss()\n",
        "\n",
        "# オプティマイザの定義\n",
        "optimizer = torch.optim.SGD(model.parameters(), lr=1e-1)\n",
        "\n",
        "# デバイスの指定\n",
        "device = torch.device('cuda')\n",
        "\n",
        "# モデルの学習\n",
        "for batch_size in [2 ** i for i in range(11)]:\n",
        "  print(f'バッチサイズ: {batch_size}')\n",
        "  log = train_model(dataset_train, dataset_valid, batch_size, model, criterion, optimizer, 1, device=device)\n"
      ]
    },
    {
      "cell_type": "code",
      "execution_count": null,
      "metadata": {
        "id": "1uXXat77v69d"
      },
      "outputs": [],
      "source": [
        "from torch.nn import functional as F\n",
        "\n",
        "class MLPNet(nn.Module):\n",
        "  def __init__(self, input_size, mid_size, output_size, mid_layers):\n",
        "    super().__init__()\n",
        "    self.mid_layers = mid_layers\n",
        "    self.fc = nn.Linear(input_size, mid_size)\n",
        "    self.fc_mid = nn.Linear(mid_size, mid_size)\n",
        "    self.fc_out = nn.Linear(mid_size, output_size)\n",
        "    self.bn = nn.BatchNorm1d(mid_size)\n",
        "\n",
        "  def forward(self, x):\n",
        "    x = F.relu(self.fc(x))\n",
        "    for _ in range(self.mid_layers):\n",
        "      x = F.relu(self.bn(self.fc_mid(x)))\n",
        "    x = F.relu(self.fc_out(x))\n",
        "\n",
        "    return x"
      ]
    },
    {
      "cell_type": "code",
      "execution_count": null,
      "metadata": {
        "id": "Y5xU-hRWv-U5"
      },
      "outputs": [],
      "source": [
        "from torch import optim\n",
        "\n",
        "def calculate_loss_and_accuracy(model, criterion, loader, device):\n",
        "  model.eval()\n",
        "  loss = 0.0\n",
        "  total = 0\n",
        "  correct = 0\n",
        "  with torch.no_grad():\n",
        "    for inputs, labels in loader:\n",
        "      inputs = inputs.to(device)\n",
        "      labels = labels.to(device)\n",
        "      outputs = model(inputs)\n",
        "      loss += criterion(outputs, labels).item()\n",
        "      pred = torch.argmax(outputs, dim=-1)\n",
        "      total += len(inputs)\n",
        "      correct += (pred == labels).sum().item()\n",
        "\n",
        "  return loss / len(loader), correct / total\n",
        "\n",
        "\n",
        "def train_model(dataset_train, dataset_valid, batch_size, model, criterion, optimizer, num_epochs, device=None):\n",
        "  # GPUに送る\n",
        "  model.to(device)\n",
        "\n",
        "  # dataloaderの作成\n",
        "  dataloader_train = DataLoader(dataset_train, batch_size=batch_size, shuffle=True)\n",
        "  dataloader_valid = DataLoader(dataset_valid, batch_size=len(dataset_valid), shuffle=False)\n",
        "\n",
        "  # スケジューラの設定\n",
        "  scheduler = optim.lr_scheduler.CosineAnnealingLR(optimizer, num_epochs, eta_min=1e-5, last_epoch=-1)\n",
        "\n",
        "  # 学習\n",
        "  log_train = []\n",
        "  log_valid = []\n",
        "  for epoch in range(num_epochs):\n",
        "    # 開始時刻の記録\n",
        "    s_time = time.time()\n",
        "\n",
        "    # 訓練モードに設定\n",
        "    model.train()\n",
        "    for inputs, labels in dataloader_train:\n",
        "      # 勾配をゼロで初期化\n",
        "      optimizer.zero_grad()\n",
        "\n",
        "      # 順伝播 + 誤差逆伝播 + 重み更新\n",
        "      inputs = inputs.to(device)\n",
        "      labels = labels.to(device)\n",
        "      outputs = model.forward(inputs)\n",
        "      loss = criterion(outputs, labels)\n",
        "      loss.backward()\n",
        "      optimizer.step()\n",
        "\n",
        "    # 損失と正解率の算出\n",
        "    loss_train, acc_train = calculate_loss_and_accuracy(model, criterion, dataloader_train, device)\n",
        "    loss_valid, acc_valid = calculate_loss_and_accuracy(model, criterion, dataloader_valid, device)\n",
        "    log_train.append([loss_train, acc_train])\n",
        "    log_valid.append([loss_valid, acc_valid])\n",
        "\n",
        "    # チェックポイントの保存\n",
        "    torch.save({'epoch': epoch, 'model_state_dict': model.state_dict(), 'optimizer_state_dict': optimizer.state_dict()}, f'checkpoint{epoch + 1}.pt')\n",
        "\n",
        "    # 終了時刻の記録\n",
        "    e_time = time.time()\n",
        "\n",
        "    # ログを出力\n",
        "    print(f'epoch: {epoch + 1}, loss_train: {loss_train:.4f}, accuracy_train: {acc_train:.4f}, loss_valid: {loss_valid:.4f}, accuracy_valid: {acc_valid:.4f}, {(e_time - s_time):.4f}sec')\n",
        "\n",
        "    # 検証データの損失が3エポック連続で低下しなかった場合は学習終了\n",
        "    if epoch > 2 and log_valid[epoch - 3][0] <= log_valid[epoch - 2][0] <= log_valid[epoch - 1][0] <= log_valid[epoch][0]:\n",
        "      break\n",
        "\n",
        "    # スケジューラを1ステップ進める\n",
        "    scheduler.step()\n",
        "\n",
        "  return {'train': log_train, 'valid': log_valid}"
      ]
    },
    {
      "cell_type": "code",
      "execution_count": null,
      "metadata": {
        "id": "Qr2rvhEDwAiy",
        "colab": {
          "base_uri": "https://localhost:8080/"
        },
        "outputId": "ac706c5e-e719-433c-83ea-7c9ed2ba5f69"
      },
      "outputs": [
        {
          "output_type": "stream",
          "name": "stdout",
          "text": [
            "epoch: 1, loss_train: 0.9079, accuracy_train: 0.7530, loss_valid: 0.9032, accuracy_valid: 0.7635, 0.5893sec\n",
            "epoch: 2, loss_train: 0.7327, accuracy_train: 0.7705, loss_valid: 0.7280, accuracy_valid: 0.7725, 0.6047sec\n",
            "epoch: 3, loss_train: 0.6559, accuracy_train: 0.7779, loss_valid: 0.6532, accuracy_valid: 0.7769, 0.6759sec\n",
            "epoch: 4, loss_train: 0.6074, accuracy_train: 0.7854, loss_valid: 0.6066, accuracy_valid: 0.7822, 0.6757sec\n",
            "epoch: 5, loss_train: 0.5673, accuracy_train: 0.7924, loss_valid: 0.5688, accuracy_valid: 0.7912, 0.6993sec\n",
            "epoch: 6, loss_train: 0.5353, accuracy_train: 0.8041, loss_valid: 0.5391, accuracy_valid: 0.8054, 0.7013sec\n",
            "epoch: 7, loss_train: 0.5084, accuracy_train: 0.8179, loss_valid: 0.5142, accuracy_valid: 0.8129, 0.6768sec\n",
            "epoch: 8, loss_train: 0.4840, accuracy_train: 0.8299, loss_valid: 0.4922, accuracy_valid: 0.8226, 0.7314sec\n",
            "epoch: 9, loss_train: 0.4605, accuracy_train: 0.8423, loss_valid: 0.4710, accuracy_valid: 0.8331, 0.5406sec\n",
            "epoch: 10, loss_train: 0.4409, accuracy_train: 0.8521, loss_valid: 0.4529, accuracy_valid: 0.8436, 0.5140sec\n",
            "epoch: 11, loss_train: 0.4232, accuracy_train: 0.8604, loss_valid: 0.4373, accuracy_valid: 0.8570, 0.5358sec\n",
            "epoch: 12, loss_train: 0.4094, accuracy_train: 0.8695, loss_valid: 0.4251, accuracy_valid: 0.8630, 0.5096sec\n",
            "epoch: 13, loss_train: 0.3929, accuracy_train: 0.8731, loss_valid: 0.4105, accuracy_valid: 0.8675, 0.5080sec\n",
            "epoch: 14, loss_train: 0.3791, accuracy_train: 0.8782, loss_valid: 0.3989, accuracy_valid: 0.8713, 0.5127sec\n",
            "epoch: 15, loss_train: 0.3680, accuracy_train: 0.8822, loss_valid: 0.3894, accuracy_valid: 0.8757, 0.5327sec\n",
            "epoch: 16, loss_train: 0.3580, accuracy_train: 0.8846, loss_valid: 0.3813, accuracy_valid: 0.8705, 0.5051sec\n",
            "epoch: 17, loss_train: 0.3477, accuracy_train: 0.8870, loss_valid: 0.3730, accuracy_valid: 0.8780, 0.5231sec\n",
            "epoch: 18, loss_train: 0.3387, accuracy_train: 0.8909, loss_valid: 0.3653, accuracy_valid: 0.8795, 0.5199sec\n",
            "epoch: 19, loss_train: 0.3326, accuracy_train: 0.8911, loss_valid: 0.3606, accuracy_valid: 0.8832, 0.5210sec\n",
            "epoch: 20, loss_train: 0.3250, accuracy_train: 0.8932, loss_valid: 0.3553, accuracy_valid: 0.8750, 0.5087sec\n",
            "epoch: 21, loss_train: 0.3195, accuracy_train: 0.8941, loss_valid: 0.3515, accuracy_valid: 0.8802, 0.5174sec\n",
            "epoch: 22, loss_train: 0.3123, accuracy_train: 0.8963, loss_valid: 0.3458, accuracy_valid: 0.8817, 0.5150sec\n",
            "epoch: 23, loss_train: 0.3085, accuracy_train: 0.8974, loss_valid: 0.3428, accuracy_valid: 0.8817, 0.5200sec\n",
            "epoch: 24, loss_train: 0.3046, accuracy_train: 0.8983, loss_valid: 0.3403, accuracy_valid: 0.8817, 0.4921sec\n",
            "epoch: 25, loss_train: 0.2994, accuracy_train: 0.8990, loss_valid: 0.3380, accuracy_valid: 0.8787, 0.5055sec\n",
            "epoch: 26, loss_train: 0.2929, accuracy_train: 0.9002, loss_valid: 0.3330, accuracy_valid: 0.8862, 0.5089sec\n",
            "epoch: 27, loss_train: 0.2883, accuracy_train: 0.9031, loss_valid: 0.3299, accuracy_valid: 0.8885, 0.5300sec\n",
            "epoch: 28, loss_train: 0.2856, accuracy_train: 0.9029, loss_valid: 0.3288, accuracy_valid: 0.8825, 0.6177sec\n",
            "epoch: 29, loss_train: 0.2820, accuracy_train: 0.9055, loss_valid: 0.3257, accuracy_valid: 0.8877, 0.7068sec\n",
            "epoch: 30, loss_train: 0.2771, accuracy_train: 0.9078, loss_valid: 0.3237, accuracy_valid: 0.8870, 0.6688sec\n",
            "epoch: 31, loss_train: 0.2754, accuracy_train: 0.9073, loss_valid: 0.3222, accuracy_valid: 0.8862, 0.6769sec\n",
            "epoch: 32, loss_train: 0.2719, accuracy_train: 0.9086, loss_valid: 0.3210, accuracy_valid: 0.8862, 0.6866sec\n",
            "epoch: 33, loss_train: 0.2686, accuracy_train: 0.9103, loss_valid: 0.3179, accuracy_valid: 0.8892, 0.6872sec\n",
            "epoch: 34, loss_train: 0.2652, accuracy_train: 0.9098, loss_valid: 0.3169, accuracy_valid: 0.8885, 0.7273sec\n",
            "epoch: 35, loss_train: 0.2631, accuracy_train: 0.9112, loss_valid: 0.3155, accuracy_valid: 0.8885, 0.5252sec\n",
            "epoch: 36, loss_train: 0.2600, accuracy_train: 0.9122, loss_valid: 0.3142, accuracy_valid: 0.8900, 0.5400sec\n",
            "epoch: 37, loss_train: 0.2585, accuracy_train: 0.9121, loss_valid: 0.3140, accuracy_valid: 0.8907, 0.5095sec\n",
            "epoch: 38, loss_train: 0.2550, accuracy_train: 0.9142, loss_valid: 0.3115, accuracy_valid: 0.8915, 0.5006sec\n",
            "epoch: 39, loss_train: 0.2529, accuracy_train: 0.9140, loss_valid: 0.3123, accuracy_valid: 0.8900, 0.5217sec\n",
            "epoch: 40, loss_train: 0.2499, accuracy_train: 0.9141, loss_valid: 0.3105, accuracy_valid: 0.8930, 0.5018sec\n",
            "epoch: 41, loss_train: 0.2471, accuracy_train: 0.9169, loss_valid: 0.3087, accuracy_valid: 0.8945, 0.5023sec\n",
            "epoch: 42, loss_train: 0.2460, accuracy_train: 0.9169, loss_valid: 0.3089, accuracy_valid: 0.8937, 0.5125sec\n",
            "epoch: 43, loss_train: 0.2440, accuracy_train: 0.9165, loss_valid: 0.3083, accuracy_valid: 0.8945, 0.5185sec\n",
            "epoch: 44, loss_train: 0.2411, accuracy_train: 0.9193, loss_valid: 0.3063, accuracy_valid: 0.8960, 0.5121sec\n",
            "epoch: 45, loss_train: 0.2397, accuracy_train: 0.9189, loss_valid: 0.3063, accuracy_valid: 0.8960, 0.5098sec\n",
            "epoch: 46, loss_train: 0.2370, accuracy_train: 0.9214, loss_valid: 0.3050, accuracy_valid: 0.8945, 0.6960sec\n",
            "epoch: 47, loss_train: 0.2351, accuracy_train: 0.9226, loss_valid: 0.3045, accuracy_valid: 0.8937, 0.5090sec\n",
            "epoch: 48, loss_train: 0.2331, accuracy_train: 0.9221, loss_valid: 0.3041, accuracy_valid: 0.8945, 0.5080sec\n",
            "epoch: 49, loss_train: 0.2316, accuracy_train: 0.9230, loss_valid: 0.3036, accuracy_valid: 0.8982, 0.5191sec\n",
            "epoch: 50, loss_train: 0.2303, accuracy_train: 0.9240, loss_valid: 0.3031, accuracy_valid: 0.8960, 0.5317sec\n",
            "epoch: 51, loss_train: 0.2300, accuracy_train: 0.9227, loss_valid: 0.3046, accuracy_valid: 0.8915, 0.5264sec\n",
            "epoch: 52, loss_train: 0.2276, accuracy_train: 0.9246, loss_valid: 0.3029, accuracy_valid: 0.8937, 0.5129sec\n",
            "epoch: 53, loss_train: 0.2243, accuracy_train: 0.9270, loss_valid: 0.3012, accuracy_valid: 0.8967, 0.5222sec\n",
            "epoch: 54, loss_train: 0.2225, accuracy_train: 0.9276, loss_valid: 0.3002, accuracy_valid: 0.8960, 0.7303sec\n",
            "epoch: 55, loss_train: 0.2220, accuracy_train: 0.9272, loss_valid: 0.3010, accuracy_valid: 0.8937, 0.6891sec\n",
            "epoch: 56, loss_train: 0.2198, accuracy_train: 0.9288, loss_valid: 0.3001, accuracy_valid: 0.8930, 0.7101sec\n",
            "epoch: 57, loss_train: 0.2182, accuracy_train: 0.9293, loss_valid: 0.2993, accuracy_valid: 0.8930, 0.6755sec\n",
            "epoch: 58, loss_train: 0.2160, accuracy_train: 0.9281, loss_valid: 0.2997, accuracy_valid: 0.8975, 0.6780sec\n",
            "epoch: 59, loss_train: 0.2162, accuracy_train: 0.9291, loss_valid: 0.2997, accuracy_valid: 0.8922, 0.6856sec\n",
            "epoch: 60, loss_train: 0.2133, accuracy_train: 0.9301, loss_valid: 0.2988, accuracy_valid: 0.8945, 0.6209sec\n",
            "epoch: 61, loss_train: 0.2135, accuracy_train: 0.9297, loss_valid: 0.2995, accuracy_valid: 0.8945, 0.5518sec\n",
            "epoch: 62, loss_train: 0.2133, accuracy_train: 0.9300, loss_valid: 0.3008, accuracy_valid: 0.8997, 0.5227sec\n",
            "epoch: 63, loss_train: 0.2101, accuracy_train: 0.9313, loss_valid: 0.2979, accuracy_valid: 0.8952, 0.5131sec\n",
            "epoch: 64, loss_train: 0.2081, accuracy_train: 0.9319, loss_valid: 0.2979, accuracy_valid: 0.8982, 0.5278sec\n",
            "epoch: 65, loss_train: 0.2063, accuracy_train: 0.9322, loss_valid: 0.2980, accuracy_valid: 0.8975, 0.5169sec\n",
            "epoch: 66, loss_train: 0.2054, accuracy_train: 0.9320, loss_valid: 0.2971, accuracy_valid: 0.8960, 0.5118sec\n",
            "epoch: 67, loss_train: 0.2039, accuracy_train: 0.9319, loss_valid: 0.2975, accuracy_valid: 0.8945, 0.5072sec\n",
            "epoch: 68, loss_train: 0.2019, accuracy_train: 0.9326, loss_valid: 0.2979, accuracy_valid: 0.8975, 0.5184sec\n",
            "epoch: 69, loss_train: 0.2011, accuracy_train: 0.9333, loss_valid: 0.2969, accuracy_valid: 0.8960, 0.5236sec\n",
            "epoch: 70, loss_train: 0.2000, accuracy_train: 0.9338, loss_valid: 0.2962, accuracy_valid: 0.8960, 0.5224sec\n",
            "epoch: 71, loss_train: 0.1978, accuracy_train: 0.9341, loss_valid: 0.2966, accuracy_valid: 0.8967, 0.5066sec\n",
            "epoch: 72, loss_train: 0.1977, accuracy_train: 0.9346, loss_valid: 0.2970, accuracy_valid: 0.8945, 0.5269sec\n",
            "epoch: 73, loss_train: 0.1962, accuracy_train: 0.9347, loss_valid: 0.2967, accuracy_valid: 0.8945, 0.5033sec\n",
            "epoch: 74, loss_train: 0.1938, accuracy_train: 0.9353, loss_valid: 0.2962, accuracy_valid: 0.8960, 0.5227sec\n",
            "epoch: 75, loss_train: 0.1963, accuracy_train: 0.9346, loss_valid: 0.2989, accuracy_valid: 0.8930, 0.5250sec\n",
            "epoch: 76, loss_train: 0.1915, accuracy_train: 0.9364, loss_valid: 0.2963, accuracy_valid: 0.8952, 0.5319sec\n",
            "epoch: 77, loss_train: 0.1913, accuracy_train: 0.9384, loss_valid: 0.2955, accuracy_valid: 0.8967, 0.5199sec\n",
            "epoch: 78, loss_train: 0.1906, accuracy_train: 0.9364, loss_valid: 0.2968, accuracy_valid: 0.8982, 0.5479sec\n",
            "epoch: 79, loss_train: 0.1890, accuracy_train: 0.9378, loss_valid: 0.2961, accuracy_valid: 0.8930, 0.5997sec\n",
            "epoch: 80, loss_train: 0.1867, accuracy_train: 0.9385, loss_valid: 0.2955, accuracy_valid: 0.8952, 0.6809sec\n",
            "epoch: 81, loss_train: 0.1862, accuracy_train: 0.9379, loss_valid: 0.2963, accuracy_valid: 0.8937, 0.7306sec\n",
            "epoch: 82, loss_train: 0.1847, accuracy_train: 0.9391, loss_valid: 0.2950, accuracy_valid: 0.8960, 0.7198sec\n",
            "epoch: 83, loss_train: 0.1831, accuracy_train: 0.9387, loss_valid: 0.2962, accuracy_valid: 0.8930, 0.7348sec\n",
            "epoch: 84, loss_train: 0.1823, accuracy_train: 0.9404, loss_valid: 0.2967, accuracy_valid: 0.8945, 0.6951sec\n",
            "epoch: 85, loss_train: 0.1812, accuracy_train: 0.9400, loss_valid: 0.2958, accuracy_valid: 0.8952, 0.6914sec\n",
            "epoch: 86, loss_train: 0.1798, accuracy_train: 0.9414, loss_valid: 0.2944, accuracy_valid: 0.8960, 0.5609sec\n",
            "epoch: 87, loss_train: 0.1783, accuracy_train: 0.9426, loss_valid: 0.2944, accuracy_valid: 0.8967, 0.5265sec\n",
            "epoch: 88, loss_train: 0.1781, accuracy_train: 0.9420, loss_valid: 0.2949, accuracy_valid: 0.8952, 0.5188sec\n",
            "epoch: 89, loss_train: 0.1765, accuracy_train: 0.9429, loss_valid: 0.2949, accuracy_valid: 0.8967, 0.5173sec\n",
            "epoch: 90, loss_train: 0.1750, accuracy_train: 0.9421, loss_valid: 0.2950, accuracy_valid: 0.8960, 0.5173sec\n",
            "epoch: 91, loss_train: 0.1741, accuracy_train: 0.9432, loss_valid: 0.2943, accuracy_valid: 0.8967, 0.5355sec\n",
            "epoch: 92, loss_train: 0.1725, accuracy_train: 0.9429, loss_valid: 0.2950, accuracy_valid: 0.8960, 0.5208sec\n",
            "epoch: 93, loss_train: 0.1720, accuracy_train: 0.9439, loss_valid: 0.2944, accuracy_valid: 0.8960, 0.5465sec\n",
            "epoch: 94, loss_train: 0.1716, accuracy_train: 0.9436, loss_valid: 0.2961, accuracy_valid: 0.9012, 0.5084sec\n",
            "epoch: 95, loss_train: 0.1701, accuracy_train: 0.9439, loss_valid: 0.2944, accuracy_valid: 0.8952, 0.5192sec\n",
            "epoch: 96, loss_train: 0.1684, accuracy_train: 0.9448, loss_valid: 0.2940, accuracy_valid: 0.8990, 0.5158sec\n",
            "epoch: 97, loss_train: 0.1674, accuracy_train: 0.9451, loss_valid: 0.2946, accuracy_valid: 0.8982, 0.5119sec\n",
            "epoch: 98, loss_train: 0.1666, accuracy_train: 0.9447, loss_valid: 0.2945, accuracy_valid: 0.8960, 0.7757sec\n",
            "epoch: 99, loss_train: 0.1669, accuracy_train: 0.9450, loss_valid: 0.2960, accuracy_valid: 0.8960, 0.8062sec\n",
            "epoch: 100, loss_train: 0.1643, accuracy_train: 0.9465, loss_valid: 0.2938, accuracy_valid: 0.8975, 0.5760sec\n",
            "epoch: 101, loss_train: 0.1627, accuracy_train: 0.9464, loss_valid: 0.2942, accuracy_valid: 0.9004, 0.7468sec\n",
            "epoch: 102, loss_train: 0.1621, accuracy_train: 0.9468, loss_valid: 0.2940, accuracy_valid: 0.8990, 0.5158sec\n",
            "epoch: 103, loss_train: 0.1622, accuracy_train: 0.9480, loss_valid: 0.2943, accuracy_valid: 0.8967, 0.5676sec\n",
            "epoch: 104, loss_train: 0.1615, accuracy_train: 0.9467, loss_valid: 0.2968, accuracy_valid: 0.8952, 0.6780sec\n",
            "epoch: 105, loss_train: 0.1590, accuracy_train: 0.9478, loss_valid: 0.2944, accuracy_valid: 0.9004, 0.6641sec\n",
            "epoch: 106, loss_train: 0.1576, accuracy_train: 0.9483, loss_valid: 0.2941, accuracy_valid: 0.8997, 0.6936sec\n",
            "epoch: 107, loss_train: 0.1574, accuracy_train: 0.9496, loss_valid: 0.2941, accuracy_valid: 0.8997, 0.6861sec\n",
            "epoch: 108, loss_train: 0.1561, accuracy_train: 0.9501, loss_valid: 0.2952, accuracy_valid: 0.8982, 0.6669sec\n",
            "epoch: 109, loss_train: 0.1547, accuracy_train: 0.9500, loss_valid: 0.2943, accuracy_valid: 0.8967, 0.9158sec\n",
            "epoch: 110, loss_train: 0.1550, accuracy_train: 0.9485, loss_valid: 0.2964, accuracy_valid: 0.9012, 0.5350sec\n",
            "epoch: 111, loss_train: 0.1542, accuracy_train: 0.9492, loss_valid: 0.2950, accuracy_valid: 0.8990, 0.5066sec\n",
            "epoch: 112, loss_train: 0.1510, accuracy_train: 0.9512, loss_valid: 0.2941, accuracy_valid: 0.9004, 0.5357sec\n",
            "epoch: 113, loss_train: 0.1515, accuracy_train: 0.9521, loss_valid: 0.2952, accuracy_valid: 0.8997, 0.5356sec\n",
            "epoch: 114, loss_train: 0.1501, accuracy_train: 0.9515, loss_valid: 0.2952, accuracy_valid: 0.8982, 0.5369sec\n",
            "epoch: 115, loss_train: 0.1491, accuracy_train: 0.9514, loss_valid: 0.2950, accuracy_valid: 0.8997, 0.5285sec\n",
            "epoch: 116, loss_train: 0.1486, accuracy_train: 0.9526, loss_valid: 0.2965, accuracy_valid: 0.9004, 0.5134sec\n",
            "epoch: 117, loss_train: 0.1465, accuracy_train: 0.9546, loss_valid: 0.2939, accuracy_valid: 0.8997, 0.5072sec\n",
            "epoch: 118, loss_train: 0.1463, accuracy_train: 0.9535, loss_valid: 0.2947, accuracy_valid: 0.9034, 0.5303sec\n",
            "epoch: 119, loss_train: 0.1449, accuracy_train: 0.9547, loss_valid: 0.2944, accuracy_valid: 0.9012, 0.5455sec\n",
            "epoch: 120, loss_train: 0.1436, accuracy_train: 0.9546, loss_valid: 0.2956, accuracy_valid: 0.9004, 0.5199sec\n",
            "epoch: 121, loss_train: 0.1428, accuracy_train: 0.9548, loss_valid: 0.2950, accuracy_valid: 0.9004, 0.5155sec\n",
            "epoch: 122, loss_train: 0.1414, accuracy_train: 0.9555, loss_valid: 0.2952, accuracy_valid: 0.9012, 0.5320sec\n",
            "epoch: 123, loss_train: 0.1417, accuracy_train: 0.9562, loss_valid: 0.2958, accuracy_valid: 0.8997, 0.5292sec\n",
            "epoch: 124, loss_train: 0.1398, accuracy_train: 0.9564, loss_valid: 0.2957, accuracy_valid: 0.9004, 0.5201sec\n",
            "epoch: 125, loss_train: 0.1392, accuracy_train: 0.9570, loss_valid: 0.2969, accuracy_valid: 0.9042, 0.5250sec\n",
            "epoch: 126, loss_train: 0.1387, accuracy_train: 0.9568, loss_valid: 0.2960, accuracy_valid: 0.8982, 0.5072sec\n",
            "epoch: 127, loss_train: 0.1371, accuracy_train: 0.9575, loss_valid: 0.2954, accuracy_valid: 0.8997, 0.5403sec\n",
            "epoch: 128, loss_train: 0.1358, accuracy_train: 0.9576, loss_valid: 0.2961, accuracy_valid: 0.8990, 0.5008sec\n",
            "epoch: 129, loss_train: 0.1350, accuracy_train: 0.9574, loss_valid: 0.2963, accuracy_valid: 0.9004, 0.7114sec\n",
            "epoch: 130, loss_train: 0.1342, accuracy_train: 0.9586, loss_valid: 0.2961, accuracy_valid: 0.9012, 0.6843sec\n",
            "epoch: 131, loss_train: 0.1335, accuracy_train: 0.9591, loss_valid: 0.2957, accuracy_valid: 0.9004, 0.6919sec\n",
            "epoch: 132, loss_train: 0.1324, accuracy_train: 0.9595, loss_valid: 0.2961, accuracy_valid: 0.8997, 0.7286sec\n",
            "epoch: 133, loss_train: 0.1311, accuracy_train: 0.9612, loss_valid: 0.2965, accuracy_valid: 0.9004, 0.6741sec\n",
            "epoch: 134, loss_train: 0.1302, accuracy_train: 0.9606, loss_valid: 0.2964, accuracy_valid: 0.9012, 0.6833sec\n",
            "epoch: 135, loss_train: 0.1299, accuracy_train: 0.9603, loss_valid: 0.2963, accuracy_valid: 0.9019, 0.6352sec\n",
            "epoch: 136, loss_train: 0.1295, accuracy_train: 0.9597, loss_valid: 0.2983, accuracy_valid: 0.9004, 0.4998sec\n",
            "epoch: 137, loss_train: 0.1274, accuracy_train: 0.9618, loss_valid: 0.2965, accuracy_valid: 0.9004, 0.5231sec\n",
            "epoch: 138, loss_train: 0.1270, accuracy_train: 0.9620, loss_valid: 0.2980, accuracy_valid: 0.8997, 0.5017sec\n",
            "epoch: 139, loss_train: 0.1263, accuracy_train: 0.9616, loss_valid: 0.2979, accuracy_valid: 0.9012, 0.5197sec\n",
            "epoch: 140, loss_train: 0.1259, accuracy_train: 0.9628, loss_valid: 0.2976, accuracy_valid: 0.8982, 0.5172sec\n",
            "epoch: 141, loss_train: 0.1242, accuracy_train: 0.9627, loss_valid: 0.2975, accuracy_valid: 0.9019, 0.5198sec\n",
            "epoch: 142, loss_train: 0.1229, accuracy_train: 0.9633, loss_valid: 0.2979, accuracy_valid: 0.8982, 0.5085sec\n",
            "epoch: 143, loss_train: 0.1219, accuracy_train: 0.9649, loss_valid: 0.2975, accuracy_valid: 0.9019, 0.5204sec\n",
            "epoch: 144, loss_train: 0.1214, accuracy_train: 0.9651, loss_valid: 0.2978, accuracy_valid: 0.9012, 0.5182sec\n",
            "epoch: 145, loss_train: 0.1204, accuracy_train: 0.9657, loss_valid: 0.2974, accuracy_valid: 0.9012, 0.5078sec\n",
            "epoch: 146, loss_train: 0.1197, accuracy_train: 0.9666, loss_valid: 0.2989, accuracy_valid: 0.9019, 0.5207sec\n",
            "epoch: 147, loss_train: 0.1192, accuracy_train: 0.9664, loss_valid: 0.2971, accuracy_valid: 0.9019, 0.5470sec\n",
            "epoch: 148, loss_train: 0.1171, accuracy_train: 0.9671, loss_valid: 0.2969, accuracy_valid: 0.9019, 0.5315sec\n",
            "epoch: 149, loss_train: 0.1169, accuracy_train: 0.9666, loss_valid: 0.2973, accuracy_valid: 0.9019, 0.5191sec\n",
            "epoch: 150, loss_train: 0.1163, accuracy_train: 0.9671, loss_valid: 0.2992, accuracy_valid: 0.9004, 0.5196sec\n",
            "epoch: 151, loss_train: 0.1147, accuracy_train: 0.9677, loss_valid: 0.2989, accuracy_valid: 0.9012, 0.5386sec\n",
            "epoch: 152, loss_train: 0.1141, accuracy_train: 0.9686, loss_valid: 0.2990, accuracy_valid: 0.9027, 0.5291sec\n",
            "epoch: 153, loss_train: 0.1125, accuracy_train: 0.9681, loss_valid: 0.2990, accuracy_valid: 0.9034, 0.5271sec\n",
            "epoch: 154, loss_train: 0.1126, accuracy_train: 0.9694, loss_valid: 0.2996, accuracy_valid: 0.9012, 0.5453sec\n"
          ]
        }
      ],
      "source": [
        "# datasetの作成\n",
        "dataset_train = NewsDataset(X_train, y_train)\n",
        "dataset_valid = NewsDataset(X_valid, y_valid)\n",
        "\n",
        "# モデルの定義\n",
        "model = MLPNet(300, 200, 4, 1)\n",
        "\n",
        "# 損失関数の定義\n",
        "criterion = nn.CrossEntropyLoss()\n",
        "\n",
        "# オプティマイザの定義\n",
        "optimizer = torch.optim.SGD(model.parameters(), lr=1e-3)\n",
        "\n",
        "# デバイスの指定\n",
        "device = torch.device('cuda')\n",
        "\n",
        "# モデルの学習\n",
        "log = train_model(dataset_train, dataset_valid, 64, model, criterion, optimizer, 1000, device)\n"
      ]
    },
    {
      "cell_type": "code",
      "execution_count": null,
      "metadata": {
        "id": "6rNhtn4F6g77",
        "colab": {
          "base_uri": "https://localhost:8080/",
          "height": 465
        },
        "outputId": "840cfb5a-b68f-4241-fa2d-24574246e80e"
      },
      "outputs": [
        {
          "output_type": "display_data",
          "data": {
            "text/plain": [
              "<Figure size 1500x500 with 2 Axes>"
            ],
            "image/png": "[encoded data removed]"
          },
          "metadata": {}
        }
      ],
      "source": [
        "from matplotlib import pyplot as plt\n",
        "import numpy as np\n",
        "\n",
        "\n",
        "# 視覚化\n",
        "fig, ax = plt.subplots(1, 2, figsize=(15, 5))\n",
        "ax[0].plot(np.array(log_train).T[0], label='train')\n",
        "ax[0].plot(np.array(log_valid).T[0], label='valid')\n",
        "ax[0].set_xlabel('epoch')\n",
        "ax[0].set_ylabel('loss')\n",
        "ax[0].legend()\n",
        "ax[1].plot(np.array(log_train).T[1], label='train')\n",
        "ax[1].plot(np.array(log_valid).T[1], label='valid')\n",
        "ax[1].set_xlabel('epoch')\n",
        "ax[1].set_ylabel('accuracy')\n",
        "ax[1].legend()\n",
        "plt.show()"
      ]
    },
    {
      "cell_type": "code",
      "execution_count": null,
      "metadata": {
        "id": "nz1DkOsm6uGq"
      },
      "outputs": [],
      "source": [
        "def calculate_accuracy(model, loader, device):\n",
        "  model.eval()\n",
        "  total = 0\n",
        "  correct = 0\n",
        "  with torch.no_grad():\n",
        "    for inputs, labels in loader:\n",
        "      inputs = inputs.to(device)\n",
        "      labels = labels.to(device)\n",
        "      outputs = model(inputs)\n",
        "      pred = torch.argmax(outputs, dim=-1)\n",
        "      total += len(inputs)\n",
        "      correct += (pred == labels).sum().item()\n",
        "\n",
        "  return correct / total"
      ]
    },
    {
      "cell_type": "code",
      "execution_count": null,
      "metadata": {
        "id": "erAFJ0WG6u9y",
        "colab": {
          "base_uri": "https://localhost:8080/"
        },
        "outputId": "81b23f94-c495-4344-d7e3-11f9782c566e"
      },
      "outputs": [
        {
          "output_type": "stream",
          "name": "stdout",
          "text": [
            "正解率（学習データ）：0.969\n",
            "正解率（評価データ）：0.912\n"
          ]
        }
      ],
      "source": [
        "# 正解率の確認\n",
        "acc_train = calculate_accuracy(model, dataloader_train, device)\n",
        "acc_test = calculate_accuracy(model, dataloader_test, device)\n",
        "print(f'正解率（学習データ）：{acc_train:.3f}')\n",
        "print(f'正解率（評価データ）：{acc_test:.3f}')"
      ]
    }
  ],
  "metadata": {
    "accelerator": "GPU",
    "colab": {
      "provenance": []
    },
    "kernelspec": {
      "display_name": "Python 3",
      "name": "python3"
    },
    "language_info": {
      "name": "python"
    }
  },
  "nbformat": 4,
  "nbformat_minor": 0
}