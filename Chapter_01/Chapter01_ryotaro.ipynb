{
  "nbformat": 4,
  "nbformat_minor": 0,
  "metadata": {
    "colab": {
      "provenance": []
    },
    "kernelspec": {
      "name": "python3",
      "display_name": "Python 3"
    },
    "language_info": {
      "name": "python"
    }
  },
  "cells": [
    {
      "cell_type": "code",
      "execution_count": null,
      "metadata": {
        "colab": {
          "base_uri": "https://localhost:8080/"
        },
        "id": "VZ4x-xlR3J4n",
        "outputId": "9e670fbe-d78b-4e30-c9f7-d7af39748677"
      },
      "outputs": [
        {
          "output_type": "stream",
          "name": "stdout",
          "text": [
            "desserts\n"
          ]
        }
      ],
      "source": [
        "text = \"stressed\"\n",
        "print(text[::-1])"
      ]
    },
    {
      "cell_type": "code",
      "source": [
        "text = \"パタトクカシーー\"\n",
        "print(text[1::2])"
      ],
      "metadata": {
        "colab": {
          "base_uri": "https://localhost:8080/"
        },
        "id": "ZG4HpZ7e3y8V",
        "outputId": "83520614-6174-403b-9de2-ddb058154613"
      },
      "execution_count": null,
      "outputs": [
        {
          "output_type": "stream",
          "name": "stdout",
          "text": [
            "タクシー\n"
          ]
        }
      ]
    },
    {
      "cell_type": "code",
      "source": [
        "text1 = \"パトカー\"\n",
        "text2 = \"タクシー\"\n",
        "\n",
        "lis = []\n",
        "for x, y in zip(text1, text2):\n",
        "  lis.append(x)\n",
        "  lis.append(y)\n",
        "\n",
        "lis_link = \"\".join(lis)\n",
        "print(lis_link)"
      ],
      "metadata": {
        "colab": {
          "base_uri": "https://localhost:8080/"
        },
        "id": "AldCliMc4PXW",
        "outputId": "eb9c239a-f46c-40d0-dc93-28ff6d21e944"
      },
      "execution_count": null,
      "outputs": [
        {
          "output_type": "stream",
          "name": "stdout",
          "text": [
            "パタトクカシーー\n"
          ]
        }
      ]
    },
    {
      "cell_type": "code",
      "source": [
        "text = \"Now I need a drink, alcoholic of course, after the heavy lectures involving quantum mechanics.\"\n",
        "text = text.replace(\",\", \"\").replace(\".\", \"\")\n",
        "\n",
        "lis = []\n",
        "for x in text.split():\n",
        "  lis.append(len(x))\n",
        "\n",
        "print(lis)"
      ],
      "metadata": {
        "colab": {
          "base_uri": "https://localhost:8080/"
        },
        "id": "a8-NGP_W5gvL",
        "outputId": "f2b999c0-2ef0-4613-a902-d6d2c1056a61"
      },
      "execution_count": null,
      "outputs": [
        {
          "output_type": "stream",
          "name": "stdout",
          "text": [
            "[3, 1, 4, 1, 5, 9, 2, 6, 5, 3, 5, 8, 9, 7, 9]\n"
          ]
        }
      ]
    },
    {
      "cell_type": "code",
      "source": [
        "text = \"Hi He Lied Because Boron Could Not Oxidize Fluorine. New Nations Might Also Sign Peace Security Clause. Arthur King Can.\"\n",
        "text = text.replace(\",\",\"\").replace(\".\",\"\")\n",
        "\n",
        "num = [1, 5, 6, 7, 8, 9, 15, 16, 19]\n",
        "\n",
        "dic = {}\n",
        "\n",
        "lis = text.split()\n",
        "\n",
        "for i, w in enumerate(lis):\n",
        "  if (i+1) in num:\n",
        "    dic[w[0]] = i + 1\n",
        "  else:\n",
        "    dic[w[:2]] = i + 1\n",
        "\n",
        "\n",
        "print(dic)"
      ],
      "metadata": {
        "colab": {
          "base_uri": "https://localhost:8080/"
        },
        "id": "2zRyiByW6x8B",
        "outputId": "ef74ccf4-a0c3-47f1-99e1-2932891697d3"
      },
      "execution_count": null,
      "outputs": [
        {
          "output_type": "stream",
          "name": "stdout",
          "text": [
            "{'H': 1, 'He': 2, 'Li': 3, 'Be': 4, 'B': 5, 'C': 6, 'N': 7, 'O': 8, 'F': 9, 'Ne': 10, 'Na': 11, 'Mi': 12, 'Al': 13, 'Si': 14, 'P': 15, 'S': 16, 'Cl': 17, 'Ar': 18, 'K': 19, 'Ca': 20}\n"
          ]
        }
      ]
    },
    {
      "cell_type": "code",
      "source": [
        "text = \"I am an NLPer\"\n",
        "\n",
        "def ngram(n, word):\n",
        "    lis = []\n",
        "    for i in range(len(word) - n + 1):\n",
        "        lis.append(word[i:i+n])\n",
        "    return lis\n",
        "\n",
        "print(f\"単語bi-gram：{ngram(2, text.split())}\")\n",
        "print(f\"文字bi-gram：{ngram(2, text)}\")"
      ],
      "metadata": {
        "colab": {
          "base_uri": "https://localhost:8080/"
        },
        "id": "fRQbBBXn-etb",
        "outputId": "8cc28f54-a14b-4206-9d93-4a4286b1a43e"
      },
      "execution_count": null,
      "outputs": [
        {
          "output_type": "stream",
          "name": "stdout",
          "text": [
            "単語bi-gram：[['I', 'am'], ['am', 'an'], ['an', 'NLPer']]\n",
            "文字bi-gram：['I ', ' a', 'am', 'm ', ' a', 'an', 'n ', ' N', 'NL', 'LP', 'Pe', 'er']\n"
          ]
        }
      ]
    },
    {
      "cell_type": "code",
      "source": [
        "text1 = \"paraparaparadise\"\n",
        "text2 = \"paragraph\"\n",
        "\n",
        "X = set(ngram(2, text1))\n",
        "Y = set(ngram(2, text2))\n",
        "\n",
        "print(f\"X：{X}\")\n",
        "print(f\"Y：{Y}\")\n",
        "print(f\"和集合：{X | Y}\")\n",
        "print(f\"積集合：{X & Y}\")\n",
        "print(f\"差集合：{X - Y}\")"
      ],
      "metadata": {
        "colab": {
          "base_uri": "https://localhost:8080/"
        },
        "id": "3Di-cPaWCwPi",
        "outputId": "58ca132f-4501-4742-fe5f-657644792ac7"
      },
      "execution_count": null,
      "outputs": [
        {
          "output_type": "stream",
          "name": "stdout",
          "text": [
            "X：{'ap', 'ar', 'is', 'ra', 'se', 'pa', 'ad', 'di'}\n",
            "Y：{'ap', 'ar', 'gr', 'ph', 'ra', 'pa', 'ag'}\n",
            "和集合：{'ap', 'ar', 'gr', 'ph', 'is', 'ra', 'se', 'pa', 'ad', 'ag', 'di'}\n",
            "積集合：{'ap', 'ar', 'pa', 'ra'}\n",
            "差集合：{'is', 'se', 'ad', 'di'}\n"
          ]
        }
      ]
    },
    {
      "cell_type": "code",
      "source": [
        "#\"se\"がXに含まれるか判定\n",
        "\n",
        "if \"se\" in X:\n",
        "    print(\"Xに存在します\")\n",
        "else:\n",
        "    print(\"Xに存在しません\")"
      ],
      "metadata": {
        "colab": {
          "base_uri": "https://localhost:8080/"
        },
        "id": "hWZu0sMBCwJe",
        "outputId": "8c31a310-fc96-4ecd-ece0-87500a3a75d9"
      },
      "execution_count": null,
      "outputs": [
        {
          "output_type": "stream",
          "name": "stdout",
          "text": [
            "Xに存在します\n"
          ]
        }
      ]
    },
    {
      "cell_type": "code",
      "source": [
        "#\"se\"がYに含まれるか判定\n",
        "\n",
        "if \"se\" in Y:\n",
        "    print(\"Yに存在します\")\n",
        "else:\n",
        "    print(\"Yに存在しません\")"
      ],
      "metadata": {
        "colab": {
          "base_uri": "https://localhost:8080/"
        },
        "id": "UTN61oNUCv6X",
        "outputId": "c51ad896-eb2b-48f7-b3a7-c35e2228d187"
      },
      "execution_count": null,
      "outputs": [
        {
          "output_type": "stream",
          "name": "stdout",
          "text": [
            "Yに存在しません\n"
          ]
        }
      ]
    },
    {
      "cell_type": "code",
      "source": [
        "def fun(x, y, z):\n",
        "    print(f\"{x}時の{y}は{z}\")\n",
        "\n",
        "fun(12, \"気温\", 22.4)"
      ],
      "metadata": {
        "colab": {
          "base_uri": "https://localhost:8080/"
        },
        "id": "wa842mI1EiuK",
        "outputId": "6ece484c-0d09-4f11-822c-639cf5a03339"
      },
      "execution_count": null,
      "outputs": [
        {
          "output_type": "stream",
          "name": "stdout",
          "text": [
            "12時の気温は22.4\n"
          ]
        }
      ]
    },
    {
      "cell_type": "code",
      "source": [
        "text = \"Hello World\"\n",
        "\n",
        "def cipher(w):\n",
        "    lis = []\n",
        "    for i in w:\n",
        "        if i.islower():\n",
        "            i = chr(219 - ord(i))\n",
        "        lis.append(i)\n",
        "    return \"\".join(lis)\n",
        "\n",
        "enc = cipher(text)\n",
        "\n",
        "print(f\"暗号化：{enc}\")\n",
        "print(f\"復号化：{cipher(enc)}\")"
      ],
      "metadata": {
        "colab": {
          "base_uri": "https://localhost:8080/"
        },
        "id": "ouYy8MueEioR",
        "outputId": "89e030aa-749d-4de6-8f4d-ba2f7d5cea46"
      },
      "execution_count": null,
      "outputs": [
        {
          "output_type": "stream",
          "name": "stdout",
          "text": [
            "暗号化：Hvool Wliow\n",
            "復号化：Hello World\n"
          ]
        }
      ]
    },
    {
      "cell_type": "code",
      "source": [
        "import random\n",
        "\n",
        "text1 = \"I couldn’t believe that I could actually understand what I was reading : the phenomenal power of the human mind .\"\n",
        "\n",
        "lis = []\n",
        "for i in text1.split():\n",
        "    if len(i) > 4:\n",
        "        i = i[0] + \"\".join(random.sample(i[1:-1], len(i) - 2)) + i[-1]\n",
        "    lis.append(i)\n",
        "\n",
        "print(\" \".join(lis))"
      ],
      "metadata": {
        "colab": {
          "base_uri": "https://localhost:8080/"
        },
        "id": "8CDVeZNCEiif",
        "outputId": "5c8afc95-4558-498c-c967-b6a309d25fe7"
      },
      "execution_count": null,
      "outputs": [
        {
          "output_type": "stream",
          "name": "stdout",
          "text": [
            "I cnu’ldot beivele that I cloud auctlaly ueranntdsd what I was ridaneg : the pemoehnnal poewr of the haumn mind .\n"
          ]
        }
      ]
    },
    {
      "cell_type": "code",
      "source": [],
      "metadata": {
        "id": "KhCqi7EcEiZN"
      },
      "execution_count": null,
      "outputs": []
    }
  ]
}