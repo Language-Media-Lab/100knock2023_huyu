{
  "nbformat": 4,
  "nbformat_minor": 0,
  "metadata": {
    "colab": {
      "provenance": []
    },
    "kernelspec": {
      "name": "python3",
      "display_name": "Python 3"
    },
    "language_info": {
      "name": "python"
    }
  },
  "cells": [
    {
      "cell_type": "markdown",
      "source": [
        "1章"
      ],
      "metadata": {
        "id": "64goMTtIMeuB"
      }
    },
    {
      "cell_type": "code",
      "source": [
        "s=\"stressed\"\n",
        "reversed_s=\"\"\n",
        "n=len(s)\n",
        "for i in range(n):\n",
        "    reversed_s+=s[n-i-1]\n",
        "print(reversed_s)"
      ],
      "metadata": {
        "colab": {
          "base_uri": "https://localhost:8080/"
        },
        "id": "SlWD4cAiMxRo",
        "outputId": "219111af-edc3-4fe4-e6c2-87687bc19b57"
      },
      "execution_count": null,
      "outputs": [
        {
          "output_type": "stream",
          "name": "stdout",
          "text": [
            "desserts\n"
          ]
        }
      ]
    },
    {
      "cell_type": "code",
      "source": [
        "print(s[::-1])"
      ],
      "metadata": {
        "colab": {
          "base_uri": "https://localhost:8080/"
        },
        "id": "oltcMUzwM3BO",
        "outputId": "965c1766-0cf9-4e13-94cf-0d336b161f0f"
      },
      "execution_count": null,
      "outputs": [
        {
          "output_type": "stream",
          "name": "stdout",
          "text": [
            "desserts\n"
          ]
        }
      ]
    },
    {
      "cell_type": "code",
      "source": [
        "s=\"パタトクカシーー\"\n",
        "t=\"\"\n",
        "for i in range(len(s)):\n",
        "    if(i%2==0):\n",
        "        t+=s[i]\n",
        "print(t)"
      ],
      "metadata": {
        "colab": {
          "base_uri": "https://localhost:8080/"
        },
        "id": "cVCLmY4oMjpO",
        "outputId": "b36423ce-ab2d-479b-a67c-387413e79a40"
      },
      "execution_count": null,
      "outputs": [
        {
          "output_type": "stream",
          "name": "stdout",
          "text": [
            "パトカー\n"
          ]
        }
      ]
    },
    {
      "cell_type": "code",
      "source": [
        "print(s[::2])"
      ],
      "metadata": {
        "colab": {
          "base_uri": "https://localhost:8080/"
        },
        "id": "KJAwKpMYMjxn",
        "outputId": "6fbc2542-afae-41a6-afed-6047732b5c3c"
      },
      "execution_count": null,
      "outputs": [
        {
          "output_type": "stream",
          "name": "stdout",
          "text": [
            "パトカー\n"
          ]
        }
      ]
    },
    {
      "cell_type": "code",
      "source": [
        "s1=\"パトカー\"\n",
        "s2=\"タクシー\"\n",
        "s=\"\"\n",
        "for i in range(len(s1)):\n",
        "    s+=s1[i]+s2[i]\n",
        "print(s)"
      ],
      "metadata": {
        "colab": {
          "base_uri": "https://localhost:8080/"
        },
        "id": "uUPpIYoVMj0n",
        "outputId": "14d73181-030a-4a3e-e1eb-91a9070ff821"
      },
      "execution_count": null,
      "outputs": [
        {
          "output_type": "stream",
          "name": "stdout",
          "text": [
            "パタトクカシーー\n"
          ]
        }
      ]
    },
    {
      "cell_type": "code",
      "source": [
        "sentence= \"Now I need a drink, alcoholic of course, after the heavy lectures involving quantum mechanics.\"\n",
        "sentence=sentence.replace(',',\"\").replace('.',\"\")\n",
        "words=sentence.split()\n",
        "words_len=[]\n",
        "for word in words:\n",
        "    words_len.append(len(word))\n",
        "print(words_len)"
      ],
      "metadata": {
        "colab": {
          "base_uri": "https://localhost:8080/"
        },
        "id": "7wed2lZ9Mj4i",
        "outputId": "1b64f142-cf4c-4343-fef7-60f93403aa16"
      },
      "execution_count": null,
      "outputs": [
        {
          "output_type": "stream",
          "name": "stdout",
          "text": [
            "[3, 1, 4, 1, 5, 9, 2, 6, 5, 3, 5, 8, 9, 7, 9]\n"
          ]
        }
      ]
    },
    {
      "cell_type": "code",
      "source": [
        "sentence= \"Hi He Lied Because Boron Could Not Oxidize Fluorine. New Nations Might Also Sign Peace Security Clause. Arthur King Can.\"\n",
        "sentence=sentence.replace(',',\"\").replace('.',\"\")\n",
        "words=sentence.split()\n",
        "dic={}\n",
        "for i in range(len(words)):\n",
        "    ix=i+1\n",
        "    if ix in [1,5,6,7,8,9,15,16,19]:\n",
        "        word=words[i][:1]\n",
        "    else:\n",
        "        word = words[i][:2]\n",
        "    dic[word]=ix\n",
        "print(dic)\n",
        "print(dic[\"H\"])\n",
        "print(dic[\"Ar\"])"
      ],
      "metadata": {
        "colab": {
          "base_uri": "https://localhost:8080/"
        },
        "id": "V1YyscPmMj7z",
        "outputId": "eaf1f584-6ea8-4911-ddfd-bc68a18b8fbe"
      },
      "execution_count": null,
      "outputs": [
        {
          "output_type": "stream",
          "name": "stdout",
          "text": [
            "{'H': 1, 'He': 2, 'Li': 3, 'Be': 4, 'B': 5, 'C': 6, 'N': 7, 'O': 8, 'F': 9, 'Ne': 10, 'Na': 11, 'Mi': 12, 'Al': 13, 'Si': 14, 'P': 15, 'S': 16, 'Cl': 17, 'Ar': 18, 'K': 19, 'Ca': 20}\n",
            "1\n",
            "18\n"
          ]
        }
      ]
    },
    {
      "cell_type": "code",
      "source": [
        "def change_to_string(li):\n",
        "    s=\" \".join(li)\n",
        "    return s\n",
        "\n",
        "def ngram(s, n):\n",
        "    r = []\n",
        "    for i in range(len(s) - n + 1):\n",
        "        r.append(s[i:i+n])\n",
        "    return r\n",
        "\n",
        "# s = 'I am an NLPer'\n",
        "s=[\"I\",\"am\",\"an\",\"NLPer\"]\n",
        "if(type(s)==list):\n",
        "    s=change_to_string(s)\n",
        "print(\"n=2\")\n",
        "print (ngram(s.split(),2))\n",
        "print (ngram(s,2))\n",
        "print(\"n=3\")\n",
        "print (ngram(s.split(),3))\n",
        "print (ngram(s,3))"
      ],
      "metadata": {
        "colab": {
          "base_uri": "https://localhost:8080/"
        },
        "id": "pcEWYiatMj_N",
        "outputId": "4d9f9ca6-55b3-498f-e7e0-4633ee3dac88"
      },
      "execution_count": null,
      "outputs": [
        {
          "output_type": "stream",
          "name": "stdout",
          "text": [
            "n=2\n",
            "[['I', 'am'], ['am', 'an'], ['an', 'NLPer']]\n",
            "['I ', ' a', 'am', 'm ', ' a', 'an', 'n ', ' N', 'NL', 'LP', 'Pe', 'er']\n",
            "n=3\n",
            "[['I', 'am', 'an'], ['am', 'an', 'NLPer']]\n",
            "['I a', ' am', 'am ', 'm a', ' an', 'an ', 'n N', ' NL', 'NLP', 'LPe', 'Per']\n"
          ]
        }
      ]
    },
    {
      "cell_type": "code",
      "source": [
        "def change_to_string(li):\n",
        "    s=\" \".join(li)\n",
        "    return s\n",
        "\n",
        "def ngram(s, n):\n",
        "    r = []\n",
        "    for i in range(len(s) - n + 1):\n",
        "        r.append(s[i:i+n])\n",
        "    return r\n",
        "\n",
        "s1=\"paraparaparadise\"\n",
        "s2=\"paragraph\"\n",
        "X=set(ngram(s1,2))\n",
        "Y=set(ngram(s2,2))\n",
        "print(\"X=\",X)\n",
        "print(\"Y=\",Y)\n",
        "print(\"X|Y=\",X|Y)\n",
        "print(\"X&Y=\",X&Y)\n",
        "print(\"X-Y=\",X-Y)\n",
        "print(\"se\" in X)\n",
        "print(\"se\" in Y)"
      ],
      "metadata": {
        "colab": {
          "base_uri": "https://localhost:8080/"
        },
        "id": "EkBTfFwVMkD9",
        "outputId": "e6381df8-6e5f-4b02-9dd2-8a8463e8f33e"
      },
      "execution_count": 4,
      "outputs": [
        {
          "output_type": "stream",
          "name": "stdout",
          "text": [
            "X= {'pa', 'di', 'ap', 'ra', 'ad', 'se', 'ar', 'is'}\n",
            "Y= {'pa', 'ap', 'ph', 'ag', 'ar', 'ra', 'gr'}\n",
            "X|Y= {'pa', 'di', 'ap', 'ph', 'ag', 'ra', 'ad', 'se', 'gr', 'ar', 'is'}\n",
            "X&Y= {'pa', 'ap', 'ra', 'ar'}\n",
            "X-Y= {'se', 'is', 'di', 'ad'}\n",
            "True\n",
            "False\n"
          ]
        }
      ]
    },
    {
      "cell_type": "code",
      "source": [
        "def temperature(x,y,z):\n",
        "    return str(x)+'時の'+str(y)+'は'+str(z)\n",
        "x= int(input())\n",
        "y= str(input())\n",
        "z= float(input())\n",
        "print(temperature(x,y,z))"
      ],
      "metadata": {
        "colab": {
          "base_uri": "https://localhost:8080/"
        },
        "id": "QsC2gLmvMkHU",
        "outputId": "acb04716-5316-40ee-cefe-ab19530774bd"
      },
      "execution_count": null,
      "outputs": [
        {
          "output_type": "stream",
          "name": "stdout",
          "text": [
            "5\n",
            "気温\n",
            "2.3\n",
            "5時の気温は2.3\n"
          ]
        }
      ]
    },
    {
      "cell_type": "code",
      "source": [
        "def cipher(sentence):\n",
        "    result=\"\"\n",
        "    for c in sentence:\n",
        "        if c.islower():\n",
        "            result+=chr(219-ord(c))\n",
        "        else:\n",
        "            result+=c\n",
        "    return result\n",
        "\n",
        "print(cipher(\"Hello\"))"
      ],
      "metadata": {
        "id": "RBZmdmS2MkPh",
        "colab": {
          "base_uri": "https://localhost:8080/"
        },
        "outputId": "e5afa3ef-8419-46a4-fd27-0d786b5dc31c"
      },
      "execution_count": null,
      "outputs": [
        {
          "output_type": "stream",
          "name": "stdout",
          "text": [
            "Hvool\n"
          ]
        }
      ]
    },
    {
      "cell_type": "code",
      "source": [
        "import random\n",
        "\n",
        "def shuffle(sentence):\n",
        "    result=\"\"\n",
        "    words=sentence.split()\n",
        "    for word in words:\n",
        "        if(word==\".\"):\n",
        "            result = result[:len(sentence)-2]+\".\"\n",
        "        elif(len(word)<=4):\n",
        "            result+=word+\" \"\n",
        "        else:\n",
        "            new_word=(word[0]+\"\".join(random.sample(word[1:len(word)-1],len(word)-2))+word[len(word)-1])\n",
        "            result+=new_word+\" \"\n",
        "    return result\n",
        "\n",
        "sentence=\"I couldn’t believe that I could actually understand what I was reading : the phenomenal power of the human mind .\"\n",
        "print(shuffle(sentence))"
      ],
      "metadata": {
        "colab": {
          "base_uri": "https://localhost:8080/"
        },
        "id": "PL0-7ZRKMkal",
        "outputId": "5eba7dd5-f916-4a9a-b7e1-1fa03c687da4"
      },
      "execution_count": null,
      "outputs": [
        {
          "output_type": "stream",
          "name": "stdout",
          "text": [
            "I cnou’dlt bleviee that I colud atlcaluy unadsrnetd what I was ridenag : the pmhonnaeel pewor of the human mind.\n"
          ]
        }
      ]
    }
  ]
}